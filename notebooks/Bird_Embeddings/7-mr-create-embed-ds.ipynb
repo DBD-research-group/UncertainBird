{
 "cells": [
  {
   "cell_type": "code",
   "execution_count": 1,
   "metadata": {},
   "outputs": [],
   "source": [
    "from src.datamodule.gadme_datamodule import GADMEDataModule\n",
    "from src.datamodule.base_datamodule import DatasetConfig, LoadersConfig, LoaderConfig\n",
    "from src.datamodule.components.transforms import TransformsWrapper, PreprocessingConfig, BaseTransforms\n",
    "from src.datamodule.components.event_mapping import XCEventMapping\n",
    "from src.datamodule.components.event_decoding import EventDecoding\n",
    "from src.datamodule.components.feature_extraction import DefaultFeatureExtractor\n",
    "from omegaconf import DictConfig\n",
    "import pandas as pd\n",
    "from datasets import load_dataset, load_from_disk, Audio, DatasetDict, Dataset, IterableDataset, IterableDatasetDict\n",
    "import torch\n",
    "from tqdm import tqdm\n",
    "\n",
    "\n",
    "import src.modules.models.embedding_models.perch_tf_embedding_model as embed\n",
    "import src.modules.models.embedding_models.embedding_classifier_model as classifier"
   ]
  },
  {
   "cell_type": "code",
   "execution_count": 2,
   "metadata": {},
   "outputs": [
    {
     "name": "stderr",
     "output_type": "stream",
     "text": [
      "INFO: Created TensorFlow Lite XNNPACK delegate for CPU.\n"
     ]
    }
   ],
   "source": [
    "birdnet = embed.BirdNetTfEmbeddingModel()"
   ]
  },
  {
   "cell_type": "code",
   "execution_count": 3,
   "metadata": {},
   "outputs": [],
   "source": [
    "num_classes = 22\n",
    "sample_rate = 48000\n",
    "window_size_s = 3.0\n",
    "learning_rate = 1e-3\n",
    "num_epochs = 5"
   ]
  },
  {
   "cell_type": "code",
   "execution_count": 4,
   "metadata": {},
   "outputs": [],
   "source": [
    "from src.datamodule.base_datamodule import DatasetConfig, LoadersConfig\n",
    "from src.datamodule.components.event_mapping import XCEventMapping\n",
    "from src.datamodule.components.transforms import BaseTransforms\n",
    "\n",
    "\n",
    "class GADMEDatasetDataModule(GADMEDataModule):\n",
    "    def __init__(self, dataset: DatasetConfig = ..., loaders: LoadersConfig = ..., transforms: BaseTransforms = ..., mapper: XCEventMapping = ...):\n",
    "        super().__init__(dataset, loaders, transforms, mapper)\n",
    "    \n",
    "    def _load_data(self, decode: bool = False):\n",
    "        dataset =  super()._load_data(decode)\n",
    "        self.dataset = dataset\n",
    "        return dataset"
   ]
  },
  {
   "cell_type": "code",
   "execution_count": 5,
   "metadata": {},
   "outputs": [],
   "source": [
    "from typing import Literal\n",
    "\n",
    "\n",
    "from src.datamodule.components.event_decoding import EventDecoding\n",
    "from src.datamodule.components.feature_extraction import DefaultFeatureExtractor\n",
    "\n",
    "\n",
    "class EmbeddingTransforms(BaseTransforms):\n",
    "    def __init__(self, embedding_model: embed.TfEmbeddingModel, task: Literal['multiclass', 'multilabel'] = \"multiclass\", sampling_rate: int = 3200, max_length: int = 5, decoding: EventDecoding | None = None, feature_extractor: DefaultFeatureExtractor | None = None) -> None:\n",
    "        super().__init__(task, sampling_rate, max_length, decoding, feature_extractor)\n",
    "        self.embedding_model = embedding_model\n",
    "    \n",
    "    def augment_waveform_batch(self, waveform_batch, attention_mask, batch):\n",
    "        embeddings = self.embedding_model(waveform_batch)\n",
    "        return embeddings"
   ]
  },
  {
   "cell_type": "code",
   "execution_count": 6,
   "metadata": {},
   "outputs": [],
   "source": [
    "from typing import Any\n",
    "import lightning as L\n",
    "from lightning.pytorch.utilities.types import STEP_OUTPUT, OptimizerLRScheduler\n",
    "\n",
    "class DummyModule(L.LightningModule):\n",
    "    def __init__(self, *args: Any, **kwargs: Any) -> None:\n",
    "        super().__init__(*args, **kwargs)\n",
    "    \n",
    "    def forward(self, *args: Any, **kwargs: Any) -> Any:\n",
    "        return super().forward(*args, **kwargs)\n",
    "    \n",
    "    def training_step(self, *args: Any, **kwargs: Any) -> STEP_OUTPUT:\n",
    "        return super().training_step(*args, **kwargs)\n",
    "    \n",
    "    def configure_optimizers(self) -> OptimizerLRScheduler:\n",
    "        return super().configure_optimizers()"
   ]
  },
  {
   "cell_type": "code",
   "execution_count": 7,
   "metadata": {},
   "outputs": [],
   "source": [
    "dataset_name = \"DBD-research-group/gadme_v1\"\n",
    "cache_dir = \"/Volumes/BigChongusF/Datasets/Huggingface/gadme_v1/data\"\n",
    "dataset_config = DatasetConfig(cache_dir, \"high_sierras\", dataset_name, \"high_sierras\", 2, num_classes, 3, 0.2, \"multiclass\", None, sample_rate)\n",
    "loaders_config = LoadersConfig()\n",
    "loaders_config.train = LoaderConfig(12, True, 6, True, False, True, 2)\n",
    "loaders_config.valid = LoaderConfig(12, False)\n",
    "loaders_config.test = LoaderConfig(12, False)\n",
    "mapper = XCEventMapping(biggest_cluster=True,\n",
    "                        event_limit=5,\n",
    "                        no_call=True)\n",
    "transforms_wrapper = BaseTransforms(\n",
    "    task = \"multiclass\",\n",
    "    sampling_rate=sample_rate,\n",
    "    max_length=window_size_s)\n",
    "dm = GADMEDatasetDataModule(dataset_config, loaders_config, transforms_wrapper, mapper)"
   ]
  },
  {
   "cell_type": "code",
   "execution_count": 8,
   "metadata": {},
   "outputs": [
    {
     "data": {
      "application/vnd.jupyter.widget-view+json": {
       "model_id": "842a777822d94ba89a0f12ea5f65e4d4",
       "version_major": 2,
       "version_minor": 0
      },
      "text/plain": [
       "Saving the dataset (0/1 shards):   0%|          | 0/21650 [00:00<?, ? examples/s]"
      ]
     },
     "metadata": {},
     "output_type": "display_data"
    },
    {
     "data": {
      "application/vnd.jupyter.widget-view+json": {
       "model_id": "7e4c7cc4add449e58d938819c0348341",
       "version_major": 2,
       "version_minor": 0
      },
      "text/plain": [
       "Saving the dataset (0/1 shards):   0%|          | 0/5413 [00:00<?, ? examples/s]"
      ]
     },
     "metadata": {},
     "output_type": "display_data"
    },
    {
     "data": {
      "application/vnd.jupyter.widget-view+json": {
       "model_id": "18e4a323efc34516bd94cba904a6757c",
       "version_major": 2,
       "version_minor": 0
      },
      "text/plain": [
       "Saving the dataset (0/1 shards):   0%|          | 0/10296 [00:00<?, ? examples/s]"
      ]
     },
     "metadata": {},
     "output_type": "display_data"
    }
   ],
   "source": [
    "dm.prepare_data()\n",
    "dm.setup(\"fit\")"
   ]
  },
  {
   "cell_type": "code",
   "execution_count": 9,
   "metadata": {},
   "outputs": [],
   "source": [
    "def birdnet_forward(x):\n",
    "    input_values = x[\"input_values\"]\n",
    "    # print(input_values)\n",
    "    # print(input_values.shape)\n",
    "    x[\"input_values\"] = birdnet.forward_embed(input_values, None)\n",
    "    print(x)\n",
    "    return x"
   ]
  },
  {
   "cell_type": "code",
   "execution_count": 10,
   "metadata": {},
   "outputs": [
    {
     "data": {
      "text/plain": [
       "Dataset({\n",
       "    features: ['filepath', 'labels', 'detected_events', 'start_time', 'end_time', 'no_call_events'],\n",
       "    num_rows: 21650\n",
       "})"
      ]
     },
     "execution_count": 10,
     "metadata": {},
     "output_type": "execute_result"
    }
   ],
   "source": [
    "train_dataset = dm.train_dataset\n",
    "train_dataset"
   ]
  },
  {
   "cell_type": "code",
   "execution_count": 11,
   "metadata": {},
   "outputs": [],
   "source": [
    "def birdnet_forward(x):\n",
    "    x = x[\"input_values\"]\n",
    "    embeddings = birdnet.forward_embed(x, device=None)\n",
    "    return {\"embeddings\": embeddings}"
   ]
  },
  {
   "cell_type": "code",
   "execution_count": 19,
   "metadata": {},
   "outputs": [
    {
     "data": {
      "application/vnd.jupyter.widget-view+json": {
       "model_id": "8df3dcae7fa64cd3849e6f79d5970ec8",
       "version_major": 2,
       "version_minor": 0
      },
      "text/plain": [
       "Map:   0%|          | 0/21650 [00:00<?, ? examples/s]"
      ]
     },
     "metadata": {},
     "output_type": "display_data"
    },
    {
     "data": {
      "text/plain": [
       "Dataset({\n",
       "    features: ['filepath', 'labels', 'detected_events', 'start_time', 'end_time', 'no_call_events', 'embeddings'],\n",
       "    num_rows: 21650\n",
       "})"
      ]
     },
     "execution_count": 19,
     "metadata": {},
     "output_type": "execute_result"
    }
   ],
   "source": [
    "new_train = train_dataset.map(birdnet_forward, batch_size=100, batched=True)\n",
    "new_train"
   ]
  },
  {
   "cell_type": "code",
   "execution_count": 23,
   "metadata": {},
   "outputs": [],
   "source": [
    "new_train.set_format(\"np\")"
   ]
  },
  {
   "cell_type": "code",
   "execution_count": 24,
   "metadata": {},
   "outputs": [
    {
     "data": {
      "application/vnd.jupyter.widget-view+json": {
       "model_id": "29b9f0bbef484146be00dfe8cd18ecaa",
       "version_major": 2,
       "version_minor": 0
      },
      "text/plain": [
       "Saving the dataset (0/1 shards):   0%|          | 0/21650 [00:00<?, ? examples/s]"
      ]
     },
     "metadata": {},
     "output_type": "display_data"
    }
   ],
   "source": [
    "path = \"/Volumes/BigChongusF/Datasets/gadme_embeddings/high_sierras\"\n",
    "new_train.save_to_disk(path)"
   ]
  },
  {
   "cell_type": "code",
   "execution_count": 25,
   "metadata": {},
   "outputs": [],
   "source": [
    "new_ds = load_from_disk(path)"
   ]
  },
  {
   "cell_type": "code",
   "execution_count": 29,
   "metadata": {},
   "outputs": [
    {
     "data": {
      "text/plain": [
       "1024"
      ]
     },
     "execution_count": 29,
     "metadata": {},
     "output_type": "execute_result"
    }
   ],
   "source": [
    "len(new_ds[\"embeddings\"][0])"
   ]
  },
  {
   "cell_type": "code",
   "execution_count": 13,
   "metadata": {},
   "outputs": [],
   "source": [
    "# train_dataloader = dm.train_dataloader()\n",
    "# train_dataloader"
   ]
  },
  {
   "cell_type": "code",
   "execution_count": 14,
   "metadata": {},
   "outputs": [],
   "source": [
    "# model = birdnet"
   ]
  },
  {
   "cell_type": "code",
   "execution_count": 15,
   "metadata": {},
   "outputs": [],
   "source": [
    "# birdnet = torch.compile(birdnet)"
   ]
  },
  {
   "cell_type": "code",
   "execution_count": 16,
   "metadata": {},
   "outputs": [],
   "source": [
    "# def generate(data_loader, model):\n",
    "#     model = torch.compile(model)\n",
    "#     for batch in tqdm(data_loader):\n",
    "#         input_values = batch[\"input_values\"]\n",
    "#         with torch.no_grad():\n",
    "#             embeddings = model.forward_embed(input_values, None)\n",
    "#         for i, e in zip(input_values, embeddings):\n",
    "#             yield {\"input_values\": i, \"embeddings\": embeddings}"
   ]
  },
  {
   "cell_type": "code",
   "execution_count": 17,
   "metadata": {},
   "outputs": [],
   "source": [
    "# dss = Dataset.from_generator(generator=generate, gen_kwargs={\"data_loader\": train_dataloader, \"model\": birdnet})\n",
    "# dss"
   ]
  },
  {
   "cell_type": "code",
   "execution_count": null,
   "metadata": {},
   "outputs": [],
   "source": []
  }
 ],
 "metadata": {
  "kernelspec": {
   "display_name": "5gadme",
   "language": "python",
   "name": "python3"
  },
  "language_info": {
   "codemirror_mode": {
    "name": "ipython",
    "version": 3
   },
   "file_extension": ".py",
   "mimetype": "text/x-python",
   "name": "python",
   "nbconvert_exporter": "python",
   "pygments_lexer": "ipython3",
   "version": "3.10.13"
  }
 },
 "nbformat": 4,
 "nbformat_minor": 2
}
