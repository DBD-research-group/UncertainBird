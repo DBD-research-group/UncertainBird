{
 "cells": [
  {
   "cell_type": "code",
   "execution_count": 1,
   "metadata": {},
   "outputs": [],
   "source": [
    "from src.datamodule.offline_gadme_datamodule import OfflineGADMEDataModule\n",
    "from src.datamodule.base_datamodule import DatasetConfig, LoaderConfig, LoadersConfig"
   ]
  },
  {
   "cell_type": "code",
   "execution_count": 2,
   "metadata": {},
   "outputs": [],
   "source": [
    "from src.datamodule.components.transforms import EmbeddingTransforms\n",
    "from src.datamodule.components.event_mapping import XCEventMapping\n",
    "from src.datamodule.components.event_decoding import EventDecoding"
   ]
  },
  {
   "cell_type": "code",
   "execution_count": 3,
   "metadata": {},
   "outputs": [],
   "source": [
    "embedding_model_name = \"Embedding_BirdNet_v2_4\"\n",
    "embedding_model_name = \"Embedding_Perch_v4\"\n"
   ]
  },
  {
   "cell_type": "code",
   "execution_count": 4,
   "metadata": {},
   "outputs": [],
   "source": [
    "dataset_name = \"DBD-research-group/gadme_v1\"\n",
    "cache_dir = \"/Users/moritzrichert/Datasets/gadme_v1\"\n",
    "dataset_config = DatasetConfig(cache_dir, \"high_sierras\", dataset_name, \"high_sierras\", 1, 22, 3, 0.2, \"multilabel\")\n",
    "loaders_config = LoadersConfig()\n",
    "loaders_config.train = LoaderConfig(12, True, 6, True, False, True, 2)\n",
    "loaders_config.valid = LoaderConfig(12, False)\n",
    "loaders_config.test = LoaderConfig(12, False)\n",
    "transforms_wrapper = EmbeddingTransforms()\n",
    "# transforms_wrapper = EventDecoding(0, 10, 48000)\n",
    "mapper = XCEventMapping()\n",
    "dm = OfflineGADMEDataModule(dataset_config, loaders_config, transforms_wrapper, mapper, embedding_model_name, 32)"
   ]
  },
  {
   "cell_type": "code",
   "execution_count": 5,
   "metadata": {},
   "outputs": [
    {
     "data": {
      "application/vnd.jupyter.widget-view+json": {
       "model_id": "784fbe1548c142d0acd6bb1d3c78d41a",
       "version_major": 2,
       "version_minor": 0
      },
      "text/plain": [
       "Map (num_proc=3):   0%|          | 0/27063 [00:00<?, ? examples/s]"
      ]
     },
     "metadata": {},
     "output_type": "display_data"
    },
    {
     "data": {
      "application/vnd.jupyter.widget-view+json": {
       "model_id": "5437613191cc4eeeb85c88e28e633fef",
       "version_major": 2,
       "version_minor": 0
      },
      "text/plain": [
       "Map (num_proc=3):   0%|          | 0/12000 [00:00<?, ? examples/s]"
      ]
     },
     "metadata": {},
     "output_type": "display_data"
    },
    {
     "data": {
      "application/vnd.jupyter.widget-view+json": {
       "model_id": "c29bdf9f8bf64a03b6ed5c129de44cb1",
       "version_major": 2,
       "version_minor": 0
      },
      "text/plain": [
       "Saving the dataset (0/1 shards):   0%|          | 0/704 [00:00<?, ? examples/s]"
      ]
     },
     "metadata": {},
     "output_type": "display_data"
    },
    {
     "data": {
      "application/vnd.jupyter.widget-view+json": {
       "model_id": "750e002ca09947d89f07d03696311ad8",
       "version_major": 2,
       "version_minor": 0
      },
      "text/plain": [
       "Saving the dataset (0/1 shards):   0%|          | 0/26359 [00:00<?, ? examples/s]"
      ]
     },
     "metadata": {},
     "output_type": "display_data"
    },
    {
     "data": {
      "application/vnd.jupyter.widget-view+json": {
       "model_id": "fe42cf27ece342cc95917016e91bfb93",
       "version_major": 2,
       "version_minor": 0
      },
      "text/plain": [
       "Saving the dataset (0/1 shards):   0%|          | 0/12000 [00:00<?, ? examples/s]"
      ]
     },
     "metadata": {},
     "output_type": "display_data"
    }
   ],
   "source": [
    "dm.prepare_data()\n"
   ]
  },
  {
   "cell_type": "code",
   "execution_count": 6,
   "metadata": {},
   "outputs": [],
   "source": [
    "dm.setup(\"fit\")"
   ]
  },
  {
   "cell_type": "code",
   "execution_count": 7,
   "metadata": {},
   "outputs": [
    {
     "data": {
      "text/html": [
       "<div>\n",
       "<style scoped>\n",
       "    .dataframe tbody tr th:only-of-type {\n",
       "        vertical-align: middle;\n",
       "    }\n",
       "\n",
       "    .dataframe tbody tr th {\n",
       "        vertical-align: top;\n",
       "    }\n",
       "\n",
       "    .dataframe thead th {\n",
       "        text-align: right;\n",
       "    }\n",
       "</style>\n",
       "<table border=\"1\" class=\"dataframe\">\n",
       "  <thead>\n",
       "    <tr style=\"text-align: right;\">\n",
       "      <th></th>\n",
       "      <th>embeddings</th>\n",
       "      <th>labels</th>\n",
       "      <th>detected_events</th>\n",
       "      <th>start_time</th>\n",
       "      <th>end_time</th>\n",
       "      <th>no_call_events</th>\n",
       "    </tr>\n",
       "  </thead>\n",
       "  <tbody>\n",
       "    <tr>\n",
       "      <th>0</th>\n",
       "      <td>[0.042726785, 0.08341397, -0.027643934, 0.0112...</td>\n",
       "      <td>[1, 0, 0, 0, 0, 0, 0, 0, 0, 0, 0, 0, 0, 0, 0, ...</td>\n",
       "      <td>[2.448, 5.04]</td>\n",
       "      <td>NaN</td>\n",
       "      <td>NaN</td>\n",
       "      <td>[[0.0, 0.016], [2.448, 5.04], [6.656, 8.192], ...</td>\n",
       "    </tr>\n",
       "    <tr>\n",
       "      <th>1</th>\n",
       "      <td>[-0.04210379, -0.008447254, -0.03051186, 0.063...</td>\n",
       "      <td>[0, 0, 0, 0, 0, 0, 0, 0, 0, 0, 0, 0, 0, 0, 1, ...</td>\n",
       "      <td>[56.176, 58.48]</td>\n",
       "      <td>NaN</td>\n",
       "      <td>NaN</td>\n",
       "      <td>[[0.0, 1.584], [2.096, 4.368], [5.072, 12.096]...</td>\n",
       "    </tr>\n",
       "    <tr>\n",
       "      <th>2</th>\n",
       "      <td>[0.023483844, -0.004214216, -0.015230698, -0.0...</td>\n",
       "      <td>[1, 0, 0, 0, 0, 0, 0, 0, 0, 0, 0, 0, 0, 0, 0, ...</td>\n",
       "      <td>[0.0, 12.0]</td>\n",
       "      <td>NaN</td>\n",
       "      <td>NaN</td>\n",
       "      <td>[[0.0, 12.0]]</td>\n",
       "    </tr>\n",
       "    <tr>\n",
       "      <th>3</th>\n",
       "      <td>[0.3156037, 0.0096767, 0.011234342, -0.0467029...</td>\n",
       "      <td>[0, 0, 0, 0, 0, 0, 0, 0, 0, 0, 0, 0, 0, 0, 0, ...</td>\n",
       "      <td>[56.192, 59.184]</td>\n",
       "      <td>NaN</td>\n",
       "      <td>NaN</td>\n",
       "      <td>[[0.0, 0.288], [2.48, 3.728], [5.296, 6.0], [8...</td>\n",
       "    </tr>\n",
       "    <tr>\n",
       "      <th>4</th>\n",
       "      <td>[0.111002244, 0.11888957, 0.10605104, 0.168387...</td>\n",
       "      <td>[1, 0, 0, 0, 0, 0, 0, 0, 0, 0, 0, 0, 0, 0, 0, ...</td>\n",
       "      <td>[102.176, 102.512]</td>\n",
       "      <td>NaN</td>\n",
       "      <td>NaN</td>\n",
       "      <td>[[0.0, 0.016], [7.664, 7.856], [15.328, 15.504...</td>\n",
       "    </tr>\n",
       "    <tr>\n",
       "      <th>...</th>\n",
       "      <td>...</td>\n",
       "      <td>...</td>\n",
       "      <td>...</td>\n",
       "      <td>...</td>\n",
       "      <td>...</td>\n",
       "      <td>...</td>\n",
       "    </tr>\n",
       "    <tr>\n",
       "      <th>699</th>\n",
       "      <td>[0.094862424, 0.079510316, -0.06054882, 0.0256...</td>\n",
       "      <td>[0, 0, 0, 0, 0, 0, 0, 0, 0, 0, 1, 0, 0, 0, 0, ...</td>\n",
       "      <td>[0.0, 5.0]</td>\n",
       "      <td>NaN</td>\n",
       "      <td>NaN</td>\n",
       "      <td>[[0.0, 0.416], [1.792, 2.256], [3.072, 5.0]]</td>\n",
       "    </tr>\n",
       "    <tr>\n",
       "      <th>700</th>\n",
       "      <td>[-0.08540451, -0.04000499, -0.007191597, 0.100...</td>\n",
       "      <td>[0, 0, 0, 0, 0, 0, 0, 0, 0, 0, 1, 0, 0, 0, 0, ...</td>\n",
       "      <td>[19.568, 20.672]</td>\n",
       "      <td>NaN</td>\n",
       "      <td>NaN</td>\n",
       "      <td>[[0.0, 0.496], [2.24, 2.704], [4.864, 9.248], ...</td>\n",
       "    </tr>\n",
       "    <tr>\n",
       "      <th>701</th>\n",
       "      <td>[0.011447358, -0.010931233, 0.018055068, 0.014...</td>\n",
       "      <td>[0, 0, 0, 0, 0, 0, 0, 0, 0, 0, 1, 0, 0, 0, 0, ...</td>\n",
       "      <td>[71.872, 73.072]</td>\n",
       "      <td>NaN</td>\n",
       "      <td>NaN</td>\n",
       "      <td>[[0.0, 0.016], [1.168, 6.032], [7.328, 25.12],...</td>\n",
       "    </tr>\n",
       "    <tr>\n",
       "      <th>702</th>\n",
       "      <td>[0.03301887, -0.119832, -0.06343192, 0.0244497...</td>\n",
       "      <td>[0, 0, 0, 0, 0, 0, 0, 0, 0, 0, 1, 0, 0, 0, 0, ...</td>\n",
       "      <td>[22.304, 23.52]</td>\n",
       "      <td>NaN</td>\n",
       "      <td>NaN</td>\n",
       "      <td>[[0.0, 0.496], [2.24, 2.704], [4.864, 9.248], ...</td>\n",
       "    </tr>\n",
       "    <tr>\n",
       "      <th>703</th>\n",
       "      <td>[0.01606861, 0.08179161, 0.015116426, -0.03183...</td>\n",
       "      <td>[0, 0, 0, 0, 0, 0, 0, 0, 0, 0, 1, 0, 0, 0, 0, ...</td>\n",
       "      <td>[99.216, 101.76]</td>\n",
       "      <td>NaN</td>\n",
       "      <td>NaN</td>\n",
       "      <td>[[0.0, 8.4], [9.136, 76.672], [78.224, 96.368]...</td>\n",
       "    </tr>\n",
       "  </tbody>\n",
       "</table>\n",
       "<p>704 rows × 6 columns</p>\n",
       "</div>"
      ],
      "text/plain": [
       "                                            embeddings  \\\n",
       "0    [0.042726785, 0.08341397, -0.027643934, 0.0112...   \n",
       "1    [-0.04210379, -0.008447254, -0.03051186, 0.063...   \n",
       "2    [0.023483844, -0.004214216, -0.015230698, -0.0...   \n",
       "3    [0.3156037, 0.0096767, 0.011234342, -0.0467029...   \n",
       "4    [0.111002244, 0.11888957, 0.10605104, 0.168387...   \n",
       "..                                                 ...   \n",
       "699  [0.094862424, 0.079510316, -0.06054882, 0.0256...   \n",
       "700  [-0.08540451, -0.04000499, -0.007191597, 0.100...   \n",
       "701  [0.011447358, -0.010931233, 0.018055068, 0.014...   \n",
       "702  [0.03301887, -0.119832, -0.06343192, 0.0244497...   \n",
       "703  [0.01606861, 0.08179161, 0.015116426, -0.03183...   \n",
       "\n",
       "                                                labels     detected_events  \\\n",
       "0    [1, 0, 0, 0, 0, 0, 0, 0, 0, 0, 0, 0, 0, 0, 0, ...       [2.448, 5.04]   \n",
       "1    [0, 0, 0, 0, 0, 0, 0, 0, 0, 0, 0, 0, 0, 0, 1, ...     [56.176, 58.48]   \n",
       "2    [1, 0, 0, 0, 0, 0, 0, 0, 0, 0, 0, 0, 0, 0, 0, ...         [0.0, 12.0]   \n",
       "3    [0, 0, 0, 0, 0, 0, 0, 0, 0, 0, 0, 0, 0, 0, 0, ...    [56.192, 59.184]   \n",
       "4    [1, 0, 0, 0, 0, 0, 0, 0, 0, 0, 0, 0, 0, 0, 0, ...  [102.176, 102.512]   \n",
       "..                                                 ...                 ...   \n",
       "699  [0, 0, 0, 0, 0, 0, 0, 0, 0, 0, 1, 0, 0, 0, 0, ...          [0.0, 5.0]   \n",
       "700  [0, 0, 0, 0, 0, 0, 0, 0, 0, 0, 1, 0, 0, 0, 0, ...    [19.568, 20.672]   \n",
       "701  [0, 0, 0, 0, 0, 0, 0, 0, 0, 0, 1, 0, 0, 0, 0, ...    [71.872, 73.072]   \n",
       "702  [0, 0, 0, 0, 0, 0, 0, 0, 0, 0, 1, 0, 0, 0, 0, ...     [22.304, 23.52]   \n",
       "703  [0, 0, 0, 0, 0, 0, 0, 0, 0, 0, 1, 0, 0, 0, 0, ...    [99.216, 101.76]   \n",
       "\n",
       "     start_time  end_time                                     no_call_events  \n",
       "0           NaN       NaN  [[0.0, 0.016], [2.448, 5.04], [6.656, 8.192], ...  \n",
       "1           NaN       NaN  [[0.0, 1.584], [2.096, 4.368], [5.072, 12.096]...  \n",
       "2           NaN       NaN                                      [[0.0, 12.0]]  \n",
       "3           NaN       NaN  [[0.0, 0.288], [2.48, 3.728], [5.296, 6.0], [8...  \n",
       "4           NaN       NaN  [[0.0, 0.016], [7.664, 7.856], [15.328, 15.504...  \n",
       "..          ...       ...                                                ...  \n",
       "699         NaN       NaN       [[0.0, 0.416], [1.792, 2.256], [3.072, 5.0]]  \n",
       "700         NaN       NaN  [[0.0, 0.496], [2.24, 2.704], [4.864, 9.248], ...  \n",
       "701         NaN       NaN  [[0.0, 0.016], [1.168, 6.032], [7.328, 25.12],...  \n",
       "702         NaN       NaN  [[0.0, 0.496], [2.24, 2.704], [4.864, 9.248], ...  \n",
       "703         NaN       NaN  [[0.0, 8.4], [9.136, 76.672], [78.224, 96.368]...  \n",
       "\n",
       "[704 rows x 6 columns]"
      ]
     },
     "execution_count": 7,
     "metadata": {},
     "output_type": "execute_result"
    }
   ],
   "source": [
    "train = dm.train_dataset.to_pandas()\n",
    "train"
   ]
  },
  {
   "cell_type": "code",
   "execution_count": 8,
   "metadata": {},
   "outputs": [
    {
     "data": {
      "text/plain": [
       "labels\n",
       "[1, 0, 0, 0, 0, 0, 0, 0, 0, 0, 0, 0, 0, 0, 0, 0, 0, 0, 0, 0, 0, 0]    1\n",
       "[0, 0, 0, 0, 0, 0, 0, 0, 0, 0, 0, 0, 0, 0, 1, 0, 0, 0, 0, 0, 0, 0]    1\n",
       "[0, 0, 0, 0, 0, 0, 0, 0, 1, 0, 0, 0, 0, 0, 0, 0, 0, 0, 0, 0, 0, 0]    1\n",
       "[0, 0, 0, 0, 0, 0, 0, 0, 0, 1, 0, 0, 0, 0, 0, 0, 0, 0, 0, 0, 0, 0]    1\n",
       "[0, 0, 0, 0, 0, 0, 0, 0, 0, 1, 0, 0, 0, 0, 0, 0, 0, 0, 0, 0, 0, 0]    1\n",
       "                                                                     ..\n",
       "[0, 0, 0, 0, 0, 0, 0, 0, 0, 0, 0, 0, 0, 0, 1, 0, 0, 0, 0, 0, 0, 0]    1\n",
       "[0, 0, 0, 0, 0, 0, 0, 0, 0, 0, 0, 0, 0, 0, 0, 0, 0, 0, 1, 0, 0, 0]    1\n",
       "[0, 0, 0, 0, 0, 0, 0, 1, 0, 0, 0, 0, 0, 0, 0, 0, 0, 0, 0, 0, 0, 0]    1\n",
       "[0, 0, 1, 0, 0, 0, 0, 0, 0, 0, 0, 0, 0, 0, 0, 0, 0, 0, 0, 0, 0, 0]    1\n",
       "[0, 0, 0, 0, 0, 0, 0, 0, 0, 0, 1, 0, 0, 0, 0, 0, 0, 0, 0, 0, 0, 0]    1\n",
       "Name: count, Length: 704, dtype: int64"
      ]
     },
     "execution_count": 8,
     "metadata": {},
     "output_type": "execute_result"
    }
   ],
   "source": [
    "t_v = train[\"labels\"].value_counts()\n",
    "t_v"
   ]
  },
  {
   "cell_type": "code",
   "execution_count": 9,
   "metadata": {},
   "outputs": [],
   "source": [
    "# t_v.plot.bar()"
   ]
  },
  {
   "cell_type": "code",
   "execution_count": 10,
   "metadata": {},
   "outputs": [],
   "source": [
    "test = dm.test_dataset\n",
    "test"
   ]
  },
  {
   "cell_type": "code",
   "execution_count": 11,
   "metadata": {},
   "outputs": [
    {
     "data": {
      "text/html": [
       "<div>\n",
       "<style scoped>\n",
       "    .dataframe tbody tr th:only-of-type {\n",
       "        vertical-align: middle;\n",
       "    }\n",
       "\n",
       "    .dataframe tbody tr th {\n",
       "        vertical-align: top;\n",
       "    }\n",
       "\n",
       "    .dataframe thead th {\n",
       "        text-align: right;\n",
       "    }\n",
       "</style>\n",
       "<table border=\"1\" class=\"dataframe\">\n",
       "  <thead>\n",
       "    <tr style=\"text-align: right;\">\n",
       "      <th></th>\n",
       "      <th>embeddings</th>\n",
       "      <th>labels</th>\n",
       "      <th>detected_events</th>\n",
       "      <th>start_time</th>\n",
       "      <th>end_time</th>\n",
       "      <th>no_call_events</th>\n",
       "    </tr>\n",
       "  </thead>\n",
       "  <tbody>\n",
       "    <tr>\n",
       "      <th>0</th>\n",
       "      <td>[0.02805963, 0.074963085, 0.07736352, -0.00779...</td>\n",
       "      <td>[1, 0, 0, 0, 0, 0, 0, 0, 0, 0, 0, 0, 0, 0, 0, ...</td>\n",
       "      <td>[2.512, 9.2]</td>\n",
       "      <td>NaN</td>\n",
       "      <td>NaN</td>\n",
       "      <td>[[0.0, 1.296], [2.512, 9.2], [10.352, 20.384],...</td>\n",
       "    </tr>\n",
       "    <tr>\n",
       "      <th>1</th>\n",
       "      <td>[0.18921392, -0.038935844, -0.0060473937, 0.03...</td>\n",
       "      <td>[1, 0, 0, 0, 0, 0, 0, 0, 0, 0, 0, 0, 0, 0, 0, ...</td>\n",
       "      <td>[57.136, 60.24]</td>\n",
       "      <td>NaN</td>\n",
       "      <td>NaN</td>\n",
       "      <td>[[0.0, 0.352], [3.136, 6.288], [9.232, 12.224]...</td>\n",
       "    </tr>\n",
       "    <tr>\n",
       "      <th>2</th>\n",
       "      <td>[-0.024153372, 0.0077422196, 0.02189356, -0.01...</td>\n",
       "      <td>[1, 0, 0, 0, 0, 0, 0, 0, 0, 0, 0, 0, 0, 0, 0, ...</td>\n",
       "      <td>[4.32, 5.728]</td>\n",
       "      <td>NaN</td>\n",
       "      <td>NaN</td>\n",
       "      <td>[[0.0, 2.288], [4.32, 5.728], [7.136, 10.0]]</td>\n",
       "    </tr>\n",
       "    <tr>\n",
       "      <th>3</th>\n",
       "      <td>[-0.05600528, 0.10553505, -0.010428856, 0.2326...</td>\n",
       "      <td>[1, 0, 0, 0, 0, 0, 0, 0, 0, 0, 0, 0, 0, 0, 0, ...</td>\n",
       "      <td>[15.696, 16.464]</td>\n",
       "      <td>NaN</td>\n",
       "      <td>NaN</td>\n",
       "      <td>[[0.0, 0.784], [4.112, 5.2], [9.984, 11.328], ...</td>\n",
       "    </tr>\n",
       "    <tr>\n",
       "      <th>4</th>\n",
       "      <td>[-0.016851505, 0.08933605, -0.046993952, 0.129...</td>\n",
       "      <td>[1, 0, 0, 0, 0, 0, 0, 0, 0, 0, 0, 0, 0, 0, 0, ...</td>\n",
       "      <td>[0.0, 0.912]</td>\n",
       "      <td>NaN</td>\n",
       "      <td>NaN</td>\n",
       "      <td>[[0.0, 0.912], [1.632, 2.032], [2.896, 8.0]]</td>\n",
       "    </tr>\n",
       "    <tr>\n",
       "      <th>...</th>\n",
       "      <td>...</td>\n",
       "      <td>...</td>\n",
       "      <td>...</td>\n",
       "      <td>...</td>\n",
       "      <td>...</td>\n",
       "      <td>...</td>\n",
       "    </tr>\n",
       "    <tr>\n",
       "      <th>26354</th>\n",
       "      <td>[-0.0088566635, 0.14950016, 0.018230597, 0.022...</td>\n",
       "      <td>[1, 0, 0, 0, 0, 0, 0, 0, 0, 0, 0, 0, 0, 0, 0, ...</td>\n",
       "      <td>[3.28, 5.0]</td>\n",
       "      <td>NaN</td>\n",
       "      <td>NaN</td>\n",
       "      <td>[[0.0, 1.456], [3.28, 5.0]]</td>\n",
       "    </tr>\n",
       "    <tr>\n",
       "      <th>26355</th>\n",
       "      <td>[-0.042365767, -0.029098993, -0.0349257, 0.028...</td>\n",
       "      <td>[0, 0, 0, 0, 0, 0, 0, 0, 0, 0, 0, 0, 0, 0, 0, ...</td>\n",
       "      <td>[23.264, 25.424]</td>\n",
       "      <td>NaN</td>\n",
       "      <td>NaN</td>\n",
       "      <td>[[0.0, 1.888], [2.544, 5.2], [10.112, 14.56], ...</td>\n",
       "    </tr>\n",
       "    <tr>\n",
       "      <th>26356</th>\n",
       "      <td>[0.28282073, 0.07998581, -0.0056017274, -0.003...</td>\n",
       "      <td>[0, 0, 0, 0, 0, 0, 0, 0, 0, 0, 0, 0, 0, 0, 0, ...</td>\n",
       "      <td>[45.696, 49.44]</td>\n",
       "      <td>NaN</td>\n",
       "      <td>NaN</td>\n",
       "      <td>[[0.0, 0.72], [2.784, 5.616], [7.76, 9.552], [...</td>\n",
       "    </tr>\n",
       "    <tr>\n",
       "      <th>26357</th>\n",
       "      <td>[-0.03768613, 0.16085951, -0.008510386, 0.1871...</td>\n",
       "      <td>[0, 0, 0, 0, 0, 0, 0, 0, 0, 0, 0, 0, 0, 0, 0, ...</td>\n",
       "      <td>[12.848, 13.488]</td>\n",
       "      <td>NaN</td>\n",
       "      <td>NaN</td>\n",
       "      <td>[[0.0, 4.464], [6.768, 8.432], [10.128, 12.848...</td>\n",
       "    </tr>\n",
       "    <tr>\n",
       "      <th>26358</th>\n",
       "      <td>[-0.06478035, -0.016345521, 0.016186103, 0.033...</td>\n",
       "      <td>[0, 0, 0, 0, 0, 0, 0, 0, 0, 0, 0, 0, 0, 0, 0, ...</td>\n",
       "      <td>[17.184, 18.368]</td>\n",
       "      <td>NaN</td>\n",
       "      <td>NaN</td>\n",
       "      <td>[[0.0, 1.824], [3.504, 9.408], [10.288, 12.672...</td>\n",
       "    </tr>\n",
       "  </tbody>\n",
       "</table>\n",
       "<p>26359 rows × 6 columns</p>\n",
       "</div>"
      ],
      "text/plain": [
       "                                              embeddings  \\\n",
       "0      [0.02805963, 0.074963085, 0.07736352, -0.00779...   \n",
       "1      [0.18921392, -0.038935844, -0.0060473937, 0.03...   \n",
       "2      [-0.024153372, 0.0077422196, 0.02189356, -0.01...   \n",
       "3      [-0.05600528, 0.10553505, -0.010428856, 0.2326...   \n",
       "4      [-0.016851505, 0.08933605, -0.046993952, 0.129...   \n",
       "...                                                  ...   \n",
       "26354  [-0.0088566635, 0.14950016, 0.018230597, 0.022...   \n",
       "26355  [-0.042365767, -0.029098993, -0.0349257, 0.028...   \n",
       "26356  [0.28282073, 0.07998581, -0.0056017274, -0.003...   \n",
       "26357  [-0.03768613, 0.16085951, -0.008510386, 0.1871...   \n",
       "26358  [-0.06478035, -0.016345521, 0.016186103, 0.033...   \n",
       "\n",
       "                                                  labels   detected_events  \\\n",
       "0      [1, 0, 0, 0, 0, 0, 0, 0, 0, 0, 0, 0, 0, 0, 0, ...      [2.512, 9.2]   \n",
       "1      [1, 0, 0, 0, 0, 0, 0, 0, 0, 0, 0, 0, 0, 0, 0, ...   [57.136, 60.24]   \n",
       "2      [1, 0, 0, 0, 0, 0, 0, 0, 0, 0, 0, 0, 0, 0, 0, ...     [4.32, 5.728]   \n",
       "3      [1, 0, 0, 0, 0, 0, 0, 0, 0, 0, 0, 0, 0, 0, 0, ...  [15.696, 16.464]   \n",
       "4      [1, 0, 0, 0, 0, 0, 0, 0, 0, 0, 0, 0, 0, 0, 0, ...      [0.0, 0.912]   \n",
       "...                                                  ...               ...   \n",
       "26354  [1, 0, 0, 0, 0, 0, 0, 0, 0, 0, 0, 0, 0, 0, 0, ...       [3.28, 5.0]   \n",
       "26355  [0, 0, 0, 0, 0, 0, 0, 0, 0, 0, 0, 0, 0, 0, 0, ...  [23.264, 25.424]   \n",
       "26356  [0, 0, 0, 0, 0, 0, 0, 0, 0, 0, 0, 0, 0, 0, 0, ...   [45.696, 49.44]   \n",
       "26357  [0, 0, 0, 0, 0, 0, 0, 0, 0, 0, 0, 0, 0, 0, 0, ...  [12.848, 13.488]   \n",
       "26358  [0, 0, 0, 0, 0, 0, 0, 0, 0, 0, 0, 0, 0, 0, 0, ...  [17.184, 18.368]   \n",
       "\n",
       "       start_time  end_time                                     no_call_events  \n",
       "0             NaN       NaN  [[0.0, 1.296], [2.512, 9.2], [10.352, 20.384],...  \n",
       "1             NaN       NaN  [[0.0, 0.352], [3.136, 6.288], [9.232, 12.224]...  \n",
       "2             NaN       NaN       [[0.0, 2.288], [4.32, 5.728], [7.136, 10.0]]  \n",
       "3             NaN       NaN  [[0.0, 0.784], [4.112, 5.2], [9.984, 11.328], ...  \n",
       "4             NaN       NaN       [[0.0, 0.912], [1.632, 2.032], [2.896, 8.0]]  \n",
       "...           ...       ...                                                ...  \n",
       "26354         NaN       NaN                        [[0.0, 1.456], [3.28, 5.0]]  \n",
       "26355         NaN       NaN  [[0.0, 1.888], [2.544, 5.2], [10.112, 14.56], ...  \n",
       "26356         NaN       NaN  [[0.0, 0.72], [2.784, 5.616], [7.76, 9.552], [...  \n",
       "26357         NaN       NaN  [[0.0, 4.464], [6.768, 8.432], [10.128, 12.848...  \n",
       "26358         NaN       NaN  [[0.0, 1.824], [3.504, 9.408], [10.288, 12.672...  \n",
       "\n",
       "[26359 rows x 6 columns]"
      ]
     },
     "execution_count": 11,
     "metadata": {},
     "output_type": "execute_result"
    }
   ],
   "source": [
    "test_5s = dm.val_dataset.to_pandas()\n",
    "test_5s"
   ]
  },
  {
   "cell_type": "code",
   "execution_count": 12,
   "metadata": {},
   "outputs": [
    {
     "data": {
      "text/plain": [
       "labels\n",
       "[1, 0, 0, 0, 0, 0, 0, 0, 0, 0, 0, 0, 0, 0, 0, 0, 0, 0, 0, 0, 0, 0]    1\n",
       "[0, 0, 0, 0, 0, 0, 0, 0, 0, 0, 0, 0, 0, 0, 0, 0, 0, 0, 0, 1, 0, 0]    1\n",
       "[1, 0, 0, 0, 0, 0, 0, 0, 0, 0, 0, 0, 0, 0, 0, 0, 0, 0, 0, 0, 0, 0]    1\n",
       "[0, 0, 0, 0, 0, 0, 0, 0, 0, 0, 0, 0, 0, 0, 1, 0, 0, 0, 0, 0, 0, 0]    1\n",
       "[1, 0, 0, 0, 0, 0, 0, 0, 0, 0, 0, 0, 0, 0, 0, 0, 0, 0, 0, 0, 0, 0]    1\n",
       "                                                                     ..\n",
       "[0, 0, 0, 0, 0, 0, 0, 0, 0, 0, 0, 1, 0, 0, 0, 0, 0, 0, 0, 0, 0, 0]    1\n",
       "[0, 0, 0, 0, 0, 0, 0, 0, 0, 0, 0, 0, 0, 0, 0, 1, 0, 0, 0, 0, 0, 0]    1\n",
       "[0, 0, 0, 0, 0, 0, 0, 1, 0, 0, 0, 0, 0, 0, 0, 0, 0, 0, 0, 0, 0, 0]    1\n",
       "[0, 0, 0, 0, 0, 0, 0, 0, 0, 0, 0, 0, 0, 0, 0, 0, 0, 0, 0, 0, 1, 0]    1\n",
       "[0, 0, 0, 0, 0, 0, 0, 0, 0, 0, 0, 0, 0, 0, 0, 0, 0, 0, 1, 0, 0, 0]    1\n",
       "Name: count, Length: 26359, dtype: int64"
      ]
     },
     "execution_count": 12,
     "metadata": {},
     "output_type": "execute_result"
    }
   ],
   "source": [
    "t5_v = test_5s[\"labels\"].value_counts()\n",
    "t5_v"
   ]
  },
  {
   "cell_type": "code",
   "execution_count": 13,
   "metadata": {},
   "outputs": [],
   "source": [
    "# t5_v.plot.bar()"
   ]
  }
 ],
 "metadata": {
  "kernelspec": {
   "display_name": "5gadme",
   "language": "python",
   "name": "python3"
  },
  "language_info": {
   "codemirror_mode": {
    "name": "ipython",
    "version": 3
   },
   "file_extension": ".py",
   "mimetype": "text/x-python",
   "name": "python",
   "nbconvert_exporter": "python",
   "pygments_lexer": "ipython3",
   "version": "3.10.13"
  }
 },
 "nbformat": 4,
 "nbformat_minor": 2
}
