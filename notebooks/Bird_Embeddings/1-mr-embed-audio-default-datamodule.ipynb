{
 "cells": [
  {
   "cell_type": "code",
   "execution_count": 1,
   "metadata": {},
   "outputs": [],
   "source": [
    " #@title Imports. { vertical-output: true }\n",
    "from etils import epath\n",
    "from ml_collections import config_dict\n",
    "import numpy as np\n",
    "import tensorflow as tf\n",
    "import tqdm\n",
    "# from src.perch.inference import colab_utils\n",
    "# colab_utils.initialize(use_tf_gpu=True, disable_warnings=True)\n",
    "\n",
    "from src.perch import audio_utils\n",
    "from src.perch.inference import embed_lib\n",
    "from src.perch.inference import tf_examples\n",
    "import matplotlib.pyplot as plt\n",
    "from src.datamodule.components.event_decoding import EventDecoding\n",
    "import os"
   ]
  },
  {
   "cell_type": "code",
   "execution_count": 2,
   "metadata": {},
   "outputs": [],
   "source": [
    "from src.datamodule.gadme_datamodule import GADMEDataModule\n",
    "from src.datamodule.base_datamodule import DatasetConfig, LoadersConfig, LoaderConfig\n",
    "from src.datamodule.components.transforms import TransformsWrapper\n",
    "from src.datamodule.components.event_mapping import XCEventMapping"
   ]
  },
  {
   "cell_type": "code",
   "execution_count": 3,
   "metadata": {},
   "outputs": [],
   "source": [
    "#@title Configuration. { vertical-output: true }\n",
    "\n",
    "# Define the model\n",
    "model_choice = 'perch'  #@param\n",
    "model_choice = 'birdnet'  #@param\n",
    "\n",
    "config = config_dict.ConfigDict()\n",
    "config.embed_fn_config = config_dict.ConfigDict()\n",
    "config.embed_fn_config.model_config = config_dict.ConfigDict()\n",
    "\n",
    "# Pick the input and output targets.\n",
    "config.source_file_patterns = ['']  #@param\n",
    "config.output_dir = '/tmp/embeddings'  #@param\n",
    "\n",
    "# For Perch, the directory containing the model.\n",
    "# Alternatively, set the perch_tfhub_model_version, and the model will load\n",
    "# directly from TFHub.\n",
    "# Note that only one of perch_model_path and perch_tfhub_version should be set.\n",
    "perch_model_path = ''  #@param\n",
    "perch_tfhub_version = 2  #@param\n",
    "\n",
    "# For BirdNET, point to the specific tflite file.\n",
    "birdnet_model_path = '/Users/moritzrichert/Downloads/V2.4/BirdNET_GLOBAL_6K_V2.4_Model_FP32.tflite'  #@param\n",
    "if model_choice == 'perch':\n",
    "  config.embed_fn_config.model_key = 'taxonomy_model_tf'\n",
    "  config.embed_fn_config.model_config.window_size_s = 5.0\n",
    "  config.embed_fn_config.model_config.hop_size_s = 5.0\n",
    "  config.embed_fn_config.model_config.sample_rate = 32000\n",
    "  config.embed_fn_config.model_config.tfhub_version = perch_tfhub_version\n",
    "  config.embed_fn_config.model_config.model_path = perch_model_path\n",
    "elif model_choice == 'birdnet':\n",
    "  config.embed_fn_config.model_key = 'birdnet'\n",
    "  config.embed_fn_config.model_config.window_size_s = 3.0\n",
    "  config.embed_fn_config.model_config.hop_size_s = 3.0\n",
    "  config.embed_fn_config.model_config.sample_rate = 48000\n",
    "  config.embed_fn_config.model_config.model_path = birdnet_model_path\n",
    "  # Note: This class list is appropriate for Birdnet 2.1, 2.2, and 2.3\n",
    "  config.embed_fn_config.model_config.class_list_name = 'birdnet_v2_4'\n",
    "  config.embed_fn_config.model_config.num_tflite_threads = 4\n",
    "\n",
    "# Only write embeddings to reduce size.\n",
    "config.embed_fn_config.write_embeddings = True\n",
    "config.embed_fn_config.write_logits = False\n",
    "config.embed_fn_config.write_separated_audio = False\n",
    "config.embed_fn_config.write_raw_audio = False\n",
    "\n",
    "\n",
    "# Embedding windows are broken up into groups, typically one minute in length.\n",
    "# This lets us limit input size to the model, track progres and\n",
    "# recover from failures more easily.\n",
    "config.shard_len_s = 60  #@param\n",
    "config.num_shards_per_file = 10  #@param\n",
    "\n",
    "# Number of parent directories to include in the filename.\n",
    "config.embed_fn_config.file_id_depth = 1\n",
    "\n",
    "# Number of TF Record files to create.\n",
    "config.tf_record_shards = 10  #@param"
   ]
  },
  {
   "cell_type": "code",
   "execution_count": 4,
   "metadata": {},
   "outputs": [
    {
     "name": "stdout",
     "output_type": "stream",
     "text": [
      "\n",
      "\n",
      "Loading model(s)...\n",
      ".\n",
      "Found 10 source infos.\n",
      "[SourceInfo(filepath='.', id=0, shard_num=0, shard_len_s=60), SourceInfo(filepath='.', id=1, shard_num=1, shard_len_s=60), SourceInfo(filepath='.', id=2, shard_num=2, shard_len_s=60), SourceInfo(filepath='.', id=3, shard_num=3, shard_len_s=60), SourceInfo(filepath='.', id=4, shard_num=4, shard_len_s=60), SourceInfo(filepath='.', id=5, shard_num=5, shard_len_s=60), SourceInfo(filepath='.', id=6, shard_num=6, shard_len_s=60), SourceInfo(filepath='.', id=7, shard_num=7, shard_len_s=60), SourceInfo(filepath='.', id=8, shard_num=8, shard_len_s=60), SourceInfo(filepath='.', id=9, shard_num=9, shard_len_s=60)]\n",
      "/Users/moritzrichert/Projects/GADME-BaselineResults-BA/notebooks/Bird_Embeddings\n",
      "\n",
      "\n",
      "Test-run of model...\n"
     ]
    },
    {
     "name": "stderr",
     "output_type": "stream",
     "text": [
      "INFO: Created TensorFlow Lite XNNPACK delegate for CPU.\n"
     ]
    },
    {
     "name": "stdout",
     "output_type": "stream",
     "text": [
      "Setup complete!\n"
     ]
    }
   ],
   "source": [
    "#@title Set up. { vertical-output: true }\n",
    "\n",
    "# Set up the embedding function, including loading models.\n",
    "embed_fn = embed_lib.EmbedFn(**config.embed_fn_config)\n",
    "print('\\n\\nLoading model(s)...')\n",
    "embed_fn.setup()\n",
    "\n",
    "# Create output directory and write the configuration.\n",
    "output_dir = epath.Path(config.output_dir)\n",
    "output_dir.mkdir(exist_ok=True, parents=True)\n",
    "embed_lib.maybe_write_config(config, output_dir)\n",
    "\n",
    "# Create SourceInfos.\n",
    "source_infos = embed_lib.create_source_infos(\n",
    "    config.source_file_patterns,\n",
    "    config.num_shards_per_file,\n",
    "    config.shard_len_s)\n",
    "\n",
    "print(f'Found {len(source_infos)} source infos.')\n",
    "print(source_infos)\n",
    "print(os.getcwd())\n",
    "\n",
    "print('\\n\\nTest-run of model...')\n",
    "window_size_s = config.embed_fn_config.model_config.window_size_s\n",
    "sr = config.embed_fn_config.model_config.sample_rate\n",
    "z = np.zeros([int(sr * window_size_s)])\n",
    "test_embeds = embed_fn.embedding_model.embed(z)\n",
    "print('Setup complete!')"
   ]
  },
  {
   "cell_type": "code",
   "execution_count": 5,
   "metadata": {},
   "outputs": [],
   "source": [
    "dataset_name = \"DBD-research-group/gadme_v1\"\n",
    "cache_dir = \"/Volumes/BigChongusF/Datasets/Huggingface/gadme_v1/data\"\n",
    "dataset_config = DatasetConfig(cache_dir, \"high_sierras\", dataset_name, \"high_sierras\", 42, 22, 3, 0.2, \"multiclass\")\n",
    "loaders_config = LoadersConfig()\n",
    "loaders_config.train = LoaderConfig(12, True, 6, True, False, True, 2)\n",
    "loaders_config.valid = LoaderConfig(12, False)\n",
    "loaders_config.test = LoaderConfig(12, False)\n",
    "transforms_wrapper = TransformsWrapper(decoding=EventDecoding(0, 10, 48000))\n",
    "# transforms_wrapper = EventDecoding(0, 10, 48000)\n",
    "mapper = XCEventMapping()\n",
    "dm = GADMEDataModule(dataset_config, loaders_config, transforms_wrapper, mapper)"
   ]
  },
  {
   "cell_type": "code",
   "execution_count": 6,
   "metadata": {},
   "outputs": [
    {
     "data": {
      "application/vnd.jupyter.widget-view+json": {
       "model_id": "b9f33ff1a7024c87b2c0f9382590d9f4",
       "version_major": 2,
       "version_minor": 0
      },
      "text/plain": [
       "Saving the dataset (0/1 shards):   0%|          | 0/21650 [00:00<?, ? examples/s]"
      ]
     },
     "metadata": {},
     "output_type": "display_data"
    },
    {
     "data": {
      "application/vnd.jupyter.widget-view+json": {
       "model_id": "a924aa3fd8ea404f8390e216aae270ae",
       "version_major": 2,
       "version_minor": 0
      },
      "text/plain": [
       "Saving the dataset (0/1 shards):   0%|          | 0/5413 [00:00<?, ? examples/s]"
      ]
     },
     "metadata": {},
     "output_type": "display_data"
    },
    {
     "data": {
      "application/vnd.jupyter.widget-view+json": {
       "model_id": "8aa5ff3f3b404344b6e25884e9347426",
       "version_major": 2,
       "version_minor": 0
      },
      "text/plain": [
       "Saving the dataset (0/1 shards):   0%|          | 0/10296 [00:00<?, ? examples/s]"
      ]
     },
     "metadata": {},
     "output_type": "display_data"
    }
   ],
   "source": [
    "dm.prepare_data() "
   ]
  },
  {
   "cell_type": "code",
   "execution_count": 7,
   "metadata": {},
   "outputs": [],
   "source": [
    "dm.setup(\"fit\")"
   ]
  },
  {
   "cell_type": "code",
   "execution_count": 8,
   "metadata": {},
   "outputs": [
    {
     "data": {
      "text/plain": [
       "<torch.utils.data.dataloader.DataLoader at 0x2dfcbb880>"
      ]
     },
     "execution_count": 8,
     "metadata": {},
     "output_type": "execute_result"
    }
   ],
   "source": [
    "loader = dm.train_dataloader()\n",
    "loader"
   ]
  },
  {
   "cell_type": "code",
   "execution_count": 9,
   "metadata": {},
   "outputs": [
    {
     "data": {
      "text/plain": [
       "Dataset({\n",
       "    features: ['filepath', 'labels', 'detected_events', 'start_time', 'end_time'],\n",
       "    num_rows: 21650\n",
       "})"
      ]
     },
     "execution_count": 9,
     "metadata": {},
     "output_type": "execute_result"
    }
   ],
   "source": [
    "loader.dataset"
   ]
  },
  {
   "cell_type": "code",
   "execution_count": 10,
   "metadata": {},
   "outputs": [
    {
     "data": {
      "text/plain": [
       "{'input_values': tensor([[ 0.3405,  0.4360,  0.3235,  ...,  0.0000,  0.0000,  0.0000],\n",
       "         [-0.1178, -0.1616, -0.1750,  ...,  0.0000,  0.0000,  0.0000],\n",
       "         [-0.0486, -0.0177,  0.0320,  ...,  0.0000,  0.0000,  0.0000],\n",
       "         ...,\n",
       "         [-0.0639, -0.0542, -0.0568,  ...,  0.0000,  0.0000,  0.0000],\n",
       "         [-0.0561, -0.0559, -0.0586,  ...,  0.0000,  0.0000,  0.0000],\n",
       "         [-0.0194, -0.0139, -0.0148,  ...,  0.1223,  0.1097,  0.0698]]),\n",
       " 'labels': tensor([13,  7, 19,  0,  0,  0,  7,  0, 20,  8,  9, 14])}"
      ]
     },
     "execution_count": 10,
     "metadata": {},
     "output_type": "execute_result"
    }
   ],
   "source": [
    "x = next(iter(dm.train_dataloader()))\n",
    "x"
   ]
  },
  {
   "cell_type": "code",
   "execution_count": 14,
   "metadata": {},
   "outputs": [
    {
     "data": {
      "text/plain": [
       "array([0.3404907 , 0.43602264, 0.3235327 , ..., 0.        , 0.        ,\n",
       "       0.        ], dtype=float32)"
      ]
     },
     "execution_count": 14,
     "metadata": {},
     "output_type": "execute_result"
    }
   ],
   "source": [
    "np_input = x[\"input_values\"][0].numpy()\n",
    "np_input"
   ]
  },
  {
   "cell_type": "code",
   "execution_count": 16,
   "metadata": {},
   "outputs": [
    {
     "ename": "AttributeError",
     "evalue": "'EmbedFn' object has no attribute '_audio_to_example_slim'",
     "output_type": "error",
     "traceback": [
      "\u001b[0;31m---------------------------------------------------------------------------\u001b[0m",
      "\u001b[0;31mAttributeError\u001b[0m                            Traceback (most recent call last)",
      "Cell \u001b[0;32mIn[16], line 1\u001b[0m\n\u001b[0;32m----> 1\u001b[0m write_logits, model_output \u001b[38;5;241m=\u001b[39m \u001b[43membed_fn\u001b[49m\u001b[38;5;241;43m.\u001b[39;49m\u001b[43m_audio_to_example_slim\u001b[49m(np_input)\n",
      "\u001b[0;31mAttributeError\u001b[0m: 'EmbedFn' object has no attribute '_audio_to_example_slim'"
     ]
    }
   ],
   "source": [
    "write_logits, model_output = embed_fn._audio_to_example_slim(np_input)"
   ]
  },
  {
   "cell_type": "code",
   "execution_count": null,
   "metadata": {},
   "outputs": [],
   "source": [
    "write_logits"
   ]
  },
  {
   "cell_type": "code",
   "execution_count": null,
   "metadata": {},
   "outputs": [],
   "source": [
    "model_output"
   ]
  },
  {
   "cell_type": "code",
   "execution_count": null,
   "metadata": {},
   "outputs": [
    {
     "name": "stderr",
     "output_type": "stream",
     "text": [
      "  0%|          | 0/21650 [00:00<?, ?it/s]WARNING:absl:Audio loaded successfully.\n",
      "WARNING:absl:The audio at (/Volumes/BigChongusF/Datasets/Huggingface/gadme_v1/data/downloads/extracted/c654a2fa7284c6b9ad2b65fb7d03c399719d51032c53323567e62583eb09dd11/data/xeno-canto/north_america/catharus_guttatus/XC691469.ogg / 0) could not be loaded (audio_too_short). The exception was (no_exception)\n",
      "  0%|          | 1/21650 [00:01<7:35:00,  1.26s/it]WARNING:absl:Audio loaded successfully.\n",
      "  0%|          | 2/21650 [00:32<114:37:27, 19.06s/it]"
     ]
    },
    {
     "name": "stdout",
     "output_type": "stream",
     "text": [
      "Handling haemorhous_cassinii/XC77990.ogg\n"
     ]
    },
    {
     "name": "stderr",
     "output_type": "stream",
     "text": [
      "WARNING:absl:Audio loaded successfully.\n",
      "  0%|          | 3/21650 [00:32<62:47:14, 10.44s/it] "
     ]
    },
    {
     "name": "stdout",
     "output_type": "stream",
     "text": [
      "Handling colaptes_auratus/XC167132.ogg\n"
     ]
    },
    {
     "name": "stderr",
     "output_type": "stream",
     "text": [
      "WARNING:absl:Audio loaded successfully.\n",
      "  0%|          | 4/21650 [00:33<39:40:03,  6.60s/it]WARNING:absl:Audio loaded successfully.\n"
     ]
    },
    {
     "name": "stdout",
     "output_type": "stream",
     "text": [
      "Handling zonotrichia_leucophrys/XC294367.ogg\n"
     ]
    },
    {
     "name": "stderr",
     "output_type": "stream",
     "text": [
      "  0%|          | 5/21650 [00:34<26:33:11,  4.42s/it]WARNING:absl:Audio loaded successfully.\n"
     ]
    },
    {
     "name": "stdout",
     "output_type": "stream",
     "text": [
      "Handling catharus_guttatus/XC323240.ogg\n"
     ]
    },
    {
     "name": "stderr",
     "output_type": "stream",
     "text": [
      "  0%|          | 6/21650 [00:34<18:11:29,  3.03s/it]WARNING:absl:Audio loaded successfully.\n"
     ]
    },
    {
     "name": "stdout",
     "output_type": "stream",
     "text": [
      "Handling turdus_migratorius/XC641669.ogg\n"
     ]
    },
    {
     "name": "stderr",
     "output_type": "stream",
     "text": [
      "  0%|          | 7/21650 [00:35<13:10:27,  2.19s/it]WARNING:absl:Audio loaded successfully.\n",
      "WARNING:absl:The audio at (/Volumes/BigChongusF/Datasets/Huggingface/gadme_v1/data/downloads/extracted/50ee574c5ac7bd04862bf48084e734a9dfb53f6b0bb7e1c7ba86103dd405ec12/data/xeno-canto/north_america/junco_hyemalis/XC408652.ogg / 53) could not be loaded (audio_too_short). The exception was (no_exception)\n",
      "WARNING:absl:Audio loaded successfully.\n",
      "WARNING:absl:Audio loaded successfully.\n",
      "  0%|          | 10/21650 [00:35<5:39:05,  1.06it/s]WARNING:absl:Audio loaded successfully.\n",
      "WARNING:absl:The audio at (/Volumes/BigChongusF/Datasets/Huggingface/gadme_v1/data/downloads/extracted/c8c29167330b38826de4c1aa93e6bc223fc787ef2bb38599f8079bac7568f894/data/xeno-canto/north_america/haemorhous_cassinii/XC71836.ogg / 24) could not be loaded (audio_too_short). The exception was (no_exception)\n",
      "WARNING:absl:Audio loaded successfully.\n"
     ]
    },
    {
     "name": "stdout",
     "output_type": "stream",
     "text": [
      "Handling setophaga_coronata/XC799256.ogg\n",
      "Handling anas_platyrhynchos/XC514863.ogg\n",
      "Handling poecile_gambeli/XC368496.ogg\n"
     ]
    },
    {
     "name": "stderr",
     "output_type": "stream",
     "text": [
      "  0%|          | 12/21650 [00:35<3:50:59,  1.56it/s]WARNING:absl:Audio loaded successfully.\n"
     ]
    },
    {
     "name": "stdout",
     "output_type": "stream",
     "text": [
      "Handling zonotrichia_leucophrys/XC445845.ogg\n"
     ]
    },
    {
     "name": "stderr",
     "output_type": "stream",
     "text": [
      "  0%|          | 13/21650 [00:35<3:42:23,  1.62it/s]WARNING:absl:Audio loaded successfully.\n",
      "  0%|          | 14/21650 [00:36<3:06:27,  1.93it/s]WARNING:absl:Audio loaded successfully.\n"
     ]
    },
    {
     "name": "stdout",
     "output_type": "stream",
     "text": [
      "Handling catharus_guttatus/XC354820.ogg\n",
      "Handling turdus_migratorius/XC537999.ogg\n"
     ]
    },
    {
     "name": "stderr",
     "output_type": "stream",
     "text": [
      "  0%|          | 15/21650 [00:36<2:33:57,  2.34it/s]WARNING:absl:Audio loaded successfully.\n",
      "WARNING:absl:The audio at (/Volumes/BigChongusF/Datasets/Huggingface/gadme_v1/data/downloads/extracted/3c91bd3b848ef81521ad069a8fa6ac2fcacb937635fd0a9971a11200269ae1f7/data/xeno-canto/europe/anas_platyrhynchos/XC630108.ogg / 0) could not be loaded (audio_too_short). The exception was (no_exception)\n",
      "WARNING:absl:Audio loaded successfully.\n"
     ]
    },
    {
     "name": "stdout",
     "output_type": "stream",
     "text": [
      "Handling poecile_gambeli/XC221602.ogg\n"
     ]
    },
    {
     "name": "stderr",
     "output_type": "stream",
     "text": [
      "  0%|          | 17/21650 [00:36<1:46:00,  3.40it/s]WARNING:absl:Audio loaded successfully.\n",
      "WARNING:absl:The audio at (/Volumes/BigChongusF/Datasets/Huggingface/gadme_v1/data/downloads/extracted/ec613fac723ec2b148b37e696a540c4078e291087c8525c0be0e654266f29161/data/xeno-canto/north_america/colaptes_auratus/XC83510.ogg / 3) could not be loaded (audio_too_short). The exception was (no_exception)\n",
      "WARNING:absl:Audio loaded successfully.\n",
      "WARNING:absl:The audio at (/Volumes/BigChongusF/Datasets/Huggingface/gadme_v1/data/downloads/extracted/17216070f80a410ede3b3b9d5be7d7b46383bb2a629699cc6296c19d2a1c3e34/data/xeno-canto/north_america/turdus_migratorius/XC189808.ogg / 57) could not be loaded (audio_too_short). The exception was (no_exception)\n",
      "WARNING:absl:Audio loaded successfully.\n"
     ]
    },
    {
     "name": "stdout",
     "output_type": "stream",
     "text": [
      "Handling junco_hyemalis/XC172994.ogg\n"
     ]
    },
    {
     "name": "stderr",
     "output_type": "stream",
     "text": [
      "  0%|          | 20/21650 [00:36<1:17:54,  4.63it/s]WARNING:absl:Audio loaded successfully.\n",
      "WARNING:absl:The audio at (/Volumes/BigChongusF/Datasets/Huggingface/gadme_v1/data/downloads/extracted/c05b01b23568feda718271d2aa149124fd50d510bd99663cbd8752481054e53b/data/xeno-canto/north_america/colaptes_auratus/XC313676.ogg / 0) could not be loaded (audio_too_short). The exception was (no_exception)\n",
      "WARNING:absl:Audio loaded successfully.\n",
      "WARNING:absl:The audio at (/Volumes/BigChongusF/Datasets/Huggingface/gadme_v1/data/downloads/extracted/17216070f80a410ede3b3b9d5be7d7b46383bb2a629699cc6296c19d2a1c3e34/data/xeno-canto/north_america/turdus_migratorius/XC302644.ogg / 0) could not be loaded (audio_too_short). The exception was (no_exception)\n",
      "WARNING:absl:Audio loaded successfully.\n",
      "  0%|          | 23/21650 [00:36<53:30,  6.74it/s]  "
     ]
    },
    {
     "name": "stdout",
     "output_type": "stream",
     "text": [
      "Handling junco_hyemalis/XC445568.ogg\n",
      "Handling catharus_guttatus/XC22067.ogg\n"
     ]
    },
    {
     "name": "stderr",
     "output_type": "stream",
     "text": [
      "WARNING:absl:Audio loaded successfully.\n",
      "WARNING:absl:Audio loaded successfully.\n"
     ]
    },
    {
     "name": "stdout",
     "output_type": "stream",
     "text": [
      "Handling turdus_migratorius/XC322567.ogg\n"
     ]
    },
    {
     "name": "stderr",
     "output_type": "stream",
     "text": [
      "  0%|          | 25/21650 [00:37<1:22:45,  4.35it/s]WARNING:absl:Audio loaded successfully.\n",
      "  0%|          | 26/21650 [00:37<1:16:46,  4.69it/s]WARNING:absl:Audio loaded successfully.\n",
      "WARNING:absl:The audio at (/Volumes/BigChongusF/Datasets/Huggingface/gadme_v1/data/downloads/extracted/8dda359232b9ad0846ece0d9acaaf3b19aa81746af952a6c99bef642bdb88648/data/xeno-canto/north_america/turdus_migratorius/XC567329.ogg / 0) could not be loaded (audio_too_short). The exception was (no_exception)\n",
      "WARNING:absl:Audio loaded successfully.\n",
      "WARNING:absl:The audio at (/Volumes/BigChongusF/Datasets/Huggingface/gadme_v1/data/downloads/extracted/073c60ddd38d94c33b508dc82a0cf640bc20d68d3ed6bf2f63e35e8019957dd9/data/xeno-canto/north_america/zonotrichia_leucophrys/XC573672.ogg / 1) could not be loaded (audio_too_short). The exception was (no_exception)\n"
     ]
    },
    {
     "name": "stdout",
     "output_type": "stream",
     "text": [
      "Handling junco_hyemalis/XC149907.ogg\n",
      "Handling zonotrichia_leucophrys/XC111747.ogg\n"
     ]
    },
    {
     "name": "stderr",
     "output_type": "stream",
     "text": [
      "WARNING:absl:Audio loaded successfully.\n",
      "  0%|          | 29/21650 [00:38<1:25:40,  4.21it/s]WARNING:absl:Audio loaded successfully.\n"
     ]
    },
    {
     "name": "stdout",
     "output_type": "stream",
     "text": [
      "Handling leiothlypis_celata/XC479796.ogg\n"
     ]
    },
    {
     "name": "stderr",
     "output_type": "stream",
     "text": [
      "  0%|          | 30/21650 [00:39<1:40:18,  3.59it/s]WARNING:absl:Audio loaded successfully.\n",
      "  0%|          | 31/21650 [00:39<1:29:36,  4.02it/s]WARNING:absl:Audio loaded successfully.\n",
      "WARNING:absl:The audio at (/Volumes/BigChongusF/Datasets/Huggingface/gadme_v1/data/downloads/extracted/ada15457cc2a05bc400bb7409cbc22ad2f43c290ca6a05bf824bb875476f852c/data/xeno-canto/north_america/junco_hyemalis/XC729534.ogg / 8) could not be loaded (audio_too_short). The exception was (no_exception)\n",
      "WARNING:absl:Audio loaded successfully.\n",
      "WARNING:absl:The audio at (/Volumes/BigChongusF/Datasets/Huggingface/gadme_v1/data/downloads/extracted/ada15457cc2a05bc400bb7409cbc22ad2f43c290ca6a05bf824bb875476f852c/data/xeno-canto/north_america/junco_hyemalis/XC125073.ogg / 0) could not be loaded (audio_too_short). The exception was (no_exception)\n",
      "WARNING:absl:Audio loaded successfully.\n"
     ]
    },
    {
     "name": "stdout",
     "output_type": "stream",
     "text": [
      "Handling junco_hyemalis/XC205538.ogg\n",
      "Handling setophaga_petechia/XC488442.ogg\n"
     ]
    },
    {
     "name": "stderr",
     "output_type": "stream",
     "text": [
      "  0%|          | 34/21650 [00:39<58:51,  6.12it/s]  WARNING:absl:Audio loaded successfully.\n"
     ]
    },
    {
     "name": "stdout",
     "output_type": "stream",
     "text": [
      "Handling zonotrichia_leucophrys/XC111745.ogg\n"
     ]
    },
    {
     "name": "stderr",
     "output_type": "stream",
     "text": [
      "  0%|          | 35/21650 [00:39<1:03:42,  5.65it/s]WARNING:absl:Audio loaded successfully.\n",
      "WARNING:absl:The audio at (/Volumes/BigChongusF/Datasets/Huggingface/gadme_v1/data/downloads/extracted/7999bb6a56b81320289f187fda8208243d41e6e50dd9ca49b75ab67670f0f4cd/data/xeno-canto/north_america/junco_hyemalis/XC135546.ogg / 0) could not be loaded (audio_too_short). The exception was (no_exception)\n",
      "WARNING:absl:Audio loaded successfully.\n",
      "WARNING:absl:The audio at (/Volumes/BigChongusF/Datasets/Huggingface/gadme_v1/data/downloads/extracted/33e4b5dac1f3e336b57bc91d4b4ff764b4ae70d484a82c7bdbeb5ac37d235324/data/xeno-canto/europe/anas_platyrhynchos/XC473567.ogg / 4) could not be loaded (audio_too_short). The exception was (no_exception)\n",
      "WARNING:absl:Audio loaded successfully.\n",
      "  0%|          | 38/21650 [00:39<45:31,  7.91it/s]  WARNING:absl:Audio loaded successfully.\n",
      "WARNING:absl:The audio at (/Volumes/BigChongusF/Datasets/Huggingface/gadme_v1/data/downloads/extracted/657bb7ca7e00d187968c3a3fed754f2f43eea8c80f8b9290f46e2ef76a629ca6/data/xeno-canto/north_america/zonotrichia_leucophrys/XC160395.ogg / 0) could not be loaded (audio_too_short). The exception was (no_exception)\n"
     ]
    },
    {
     "name": "stdout",
     "output_type": "stream",
     "text": [
      "Handling turdus_migratorius/XC423450.ogg\n",
      "Handling junco_hyemalis/XC71990.ogg\n"
     ]
    },
    {
     "name": "stderr",
     "output_type": "stream",
     "text": [
      "WARNING:absl:Audio loaded successfully.\n",
      "WARNING:absl:Audio loaded successfully.\n"
     ]
    },
    {
     "name": "stdout",
     "output_type": "stream",
     "text": [
      "Handling turdus_migratorius/XC713003.ogg\n"
     ]
    },
    {
     "name": "stderr",
     "output_type": "stream",
     "text": [
      "  0%|          | 41/21650 [00:40<57:48,  6.23it/s]WARNING:absl:Audio loaded successfully.\n"
     ]
    },
    {
     "name": "stdout",
     "output_type": "stream",
     "text": [
      "Handling junco_hyemalis/XC628047.ogg\n"
     ]
    },
    {
     "name": "stderr",
     "output_type": "stream",
     "text": [
      "  0%|          | 42/21650 [00:40<1:03:10,  5.70it/s]WARNING:absl:Audio loaded successfully.\n",
      "WARNING:absl:Audio loaded successfully.\n"
     ]
    },
    {
     "name": "stdout",
     "output_type": "stream",
     "text": [
      "Handling zonotrichia_leucophrys/XC192188.ogg\n",
      "Handling zonotrichia_leucophrys/XC621441.ogg\n"
     ]
    },
    {
     "name": "stderr",
     "output_type": "stream",
     "text": [
      "  0%|          | 44/21650 [00:41<1:07:43,  5.32it/s]WARNING:absl:Audio loaded successfully.\n",
      "WARNING:absl:The audio at (/Volumes/BigChongusF/Datasets/Huggingface/gadme_v1/data/downloads/extracted/c654a2fa7284c6b9ad2b65fb7d03c399719d51032c53323567e62583eb09dd11/data/xeno-canto/north_america/catharus_guttatus/XC369852.ogg / 0) could not be loaded (audio_too_short). The exception was (no_exception)\n",
      "WARNING:absl:Audio loaded successfully.\n",
      "WARNING:absl:The audio at (/Volumes/BigChongusF/Datasets/Huggingface/gadme_v1/data/downloads/extracted/ec613fac723ec2b148b37e696a540c4078e291087c8525c0be0e654266f29161/data/xeno-canto/north_america/colaptes_auratus/XC354614.ogg / 1) could not be loaded (audio_too_short). The exception was (no_exception)\n",
      "WARNING:absl:Audio loaded successfully.\n",
      "  0%|          | 47/21650 [00:41<46:12,  7.79it/s]  WARNING:absl:Audio loaded successfully.\n",
      "WARNING:absl:The audio at (/Volumes/BigChongusF/Datasets/Huggingface/gadme_v1/data/downloads/extracted/3c91bd3b848ef81521ad069a8fa6ac2fcacb937635fd0a9971a11200269ae1f7/data/xeno-canto/asia/anas_platyrhynchos/XC466131.ogg / 0) could not be loaded (audio_too_short). The exception was (no_exception)\n",
      "WARNING:absl:Audio loaded successfully.\n",
      "WARNING:absl:The audio at (/Volumes/BigChongusF/Datasets/Huggingface/gadme_v1/data/downloads/extracted/c05b01b23568feda718271d2aa149124fd50d510bd99663cbd8752481054e53b/data/xeno-canto/north_america/actitis_macularius/XC319718.ogg / 0) could not be loaded (audio_too_short). The exception was (no_exception)\n",
      "WARNING:absl:Audio loaded successfully.\n",
      "WARNING:absl:The audio at (/Volumes/BigChongusF/Datasets/Huggingface/gadme_v1/data/downloads/extracted/33e4b5dac1f3e336b57bc91d4b4ff764b4ae70d484a82c7bdbeb5ac37d235324/data/xeno-canto/north_america/anas_platyrhynchos/XC629278.ogg / 0) could not be loaded (audio_too_short). The exception was (no_exception)\n",
      "WARNING:absl:Audio loaded successfully.\n"
     ]
    },
    {
     "name": "stdout",
     "output_type": "stream",
     "text": [
      "Handling passerella_iliaca/XC535166.ogg\n",
      "Handling junco_hyemalis/XC149907.ogg\n"
     ]
    },
    {
     "name": "stderr",
     "output_type": "stream",
     "text": [
      "  0%|          | 51/21650 [00:41<30:59, 11.62it/s]"
     ]
    },
    {
     "name": "stdout",
     "output_type": "stream",
     "text": [
      "Handling catharus_guttatus/XC779667.ogg\n"
     ]
    },
    {
     "name": "stderr",
     "output_type": "stream",
     "text": [
      "WARNING:absl:Audio loaded successfully.\n",
      "WARNING:absl:Audio loaded successfully.\n"
     ]
    },
    {
     "name": "stdout",
     "output_type": "stream",
     "text": [
      "Handling vireo_gilvus/XC323462.ogg\n"
     ]
    },
    {
     "name": "stderr",
     "output_type": "stream",
     "text": [
      "  0%|          | 53/21650 [00:44<2:19:19,  2.58it/s]WARNING:absl:Audio loaded successfully.\n"
     ]
    },
    {
     "name": "stdout",
     "output_type": "stream",
     "text": [
      "Handling setophaga_coronata/XC535227.ogg\n"
     ]
    },
    {
     "name": "stderr",
     "output_type": "stream",
     "text": [
      "WARNING:absl:Audio loaded successfully.\n"
     ]
    },
    {
     "name": "stdout",
     "output_type": "stream",
     "text": [
      "Handling colaptes_auratus/XC583816.ogg\n"
     ]
    },
    {
     "name": "stderr",
     "output_type": "stream",
     "text": [
      "  0%|          | 55/21650 [00:44<2:10:27,  2.76it/s]WARNING:absl:Audio loaded successfully.\n",
      "WARNING:absl:Audio loaded successfully.\n"
     ]
    },
    {
     "name": "stdout",
     "output_type": "stream",
     "text": [
      "Handling zonotrichia_leucophrys/XC159081.ogg\n",
      "Handling anas_platyrhynchos/XC453926.ogg\n"
     ]
    },
    {
     "name": "stderr",
     "output_type": "stream",
     "text": [
      "  0%|          | 57/21650 [00:45<1:51:09,  3.24it/s]WARNING:absl:Audio loaded successfully.\n",
      "WARNING:absl:Audio loaded successfully.\n",
      "WARNING:absl:The audio at (/Volumes/BigChongusF/Datasets/Huggingface/gadme_v1/data/downloads/extracted/3c91bd3b848ef81521ad069a8fa6ac2fcacb937635fd0a9971a11200269ae1f7/data/xeno-canto/europe/anas_platyrhynchos/XC644695.ogg / 44) could not be loaded (audio_too_short). The exception was (no_exception)\n",
      "WARNING:absl:Audio loaded successfully.\n",
      "  0%|          | 60/21650 [00:45<1:18:13,  4.60it/s]WARNING:absl:Audio loaded successfully.\n",
      "WARNING:absl:The audio at (/Volumes/BigChongusF/Datasets/Huggingface/gadme_v1/data/downloads/extracted/c05b01b23568feda718271d2aa149124fd50d510bd99663cbd8752481054e53b/data/xeno-canto/north_america/colaptes_auratus/XC354617.ogg / 1) could not be loaded (audio_too_short). The exception was (no_exception)\n",
      "WARNING:absl:Audio loaded successfully.\n"
     ]
    },
    {
     "name": "stdout",
     "output_type": "stream",
     "text": [
      "Handling poecile_gambeli/XC113828.ogg\n",
      "Handling vireo_gilvus/XC78104.ogg\n",
      "Handling zonotrichia_leucophrys/XC173161.ogg\n"
     ]
    },
    {
     "name": "stderr",
     "output_type": "stream",
     "text": [
      "  0%|          | 62/21650 [00:45<1:04:01,  5.62it/s]WARNING:absl:Audio loaded successfully.\n"
     ]
    },
    {
     "name": "stdout",
     "output_type": "stream",
     "text": [
      "Handling empidonax_oberholseri/XC561906.ogg\n",
      "Handling poecile_gambeli/XC369972.ogg\n"
     ]
    },
    {
     "name": "stderr",
     "output_type": "stream",
     "text": [
      "WARNING:absl:Audio loaded successfully.\n",
      "  0%|          | 64/21650 [00:46<1:31:06,  3.95it/s]WARNING:absl:Audio loaded successfully.\n"
     ]
    },
    {
     "name": "stdout",
     "output_type": "stream",
     "text": [
      "Handling vireo_gilvus/XC615193.ogg\n"
     ]
    },
    {
     "name": "stderr",
     "output_type": "stream",
     "text": [
      "  0%|          | 65/21650 [00:46<1:41:42,  3.54it/s]WARNING:absl:Audio loaded successfully.\n",
      "WARNING:absl:Audio loaded successfully.\n",
      "WARNING:absl:The audio at (/Volumes/BigChongusF/Datasets/Huggingface/gadme_v1/data/downloads/extracted/c05b01b23568feda718271d2aa149124fd50d510bd99663cbd8752481054e53b/data/xeno-canto/europe/anas_platyrhynchos/XC301573.ogg / 0) could not be loaded (audio_too_short). The exception was (no_exception)\n",
      "WARNING:absl:Audio loaded successfully.\n"
     ]
    },
    {
     "name": "stdout",
     "output_type": "stream",
     "text": [
      "Handling junco_hyemalis/XC628049.ogg\n",
      "Handling anas_platyrhynchos/XC464826.ogg\n"
     ]
    },
    {
     "name": "stderr",
     "output_type": "stream",
     "text": [
      "  0%|          | 68/21650 [00:47<1:15:04,  4.79it/s]WARNING:absl:Audio loaded successfully.\n",
      "WARNING:absl:Audio loaded successfully.\n"
     ]
    },
    {
     "name": "stdout",
     "output_type": "stream",
     "text": [
      "Handling zonotrichia_leucophrys/XC125776.ogg\n",
      "Handling turdus_migratorius/XC160752.ogg\n"
     ]
    },
    {
     "name": "stderr",
     "output_type": "stream",
     "text": [
      "  0%|          | 70/21650 [00:47<1:05:00,  5.53it/s]WARNING:absl:Audio loaded successfully.\n",
      "WARNING:absl:The audio at (/Volumes/BigChongusF/Datasets/Huggingface/gadme_v1/data/downloads/extracted/a96403d40c322662ebeb3491a302e2c51400c2d2021ddf36a2ee48c75eff8848/data/xeno-canto/north_america/catharus_guttatus/XC524410.ogg / 0) could not be loaded (audio_too_short). The exception was (no_exception)\n",
      "WARNING:absl:Audio loaded successfully.\n"
     ]
    },
    {
     "name": "stdout",
     "output_type": "stream",
     "text": [
      "Handling anas_platyrhynchos/XC391012.ogg\n"
     ]
    },
    {
     "name": "stderr",
     "output_type": "stream",
     "text": [
      "  0%|          | 72/21650 [00:47<1:02:34,  5.75it/s]WARNING:absl:Audio loaded successfully.\n",
      "WARNING:absl:Audio loaded successfully.\n",
      "WARNING:absl:The audio at (/Volumes/BigChongusF/Datasets/Huggingface/gadme_v1/data/downloads/extracted/cd49b3631d04d3feff17b776f29f4fc3d66002b528c452baf906c78c1580d75a/data/xeno-canto/north_america/setophaga_coronata/XC296194.ogg / 0) could not be loaded (audio_too_short). The exception was (no_exception)\n",
      "WARNING:absl:Audio loaded successfully.\n",
      "WARNING:absl:The audio at (/Volumes/BigChongusF/Datasets/Huggingface/gadme_v1/data/downloads/extracted/33e4b5dac1f3e336b57bc91d4b4ff764b4ae70d484a82c7bdbeb5ac37d235324/data/xeno-canto/europe/anas_platyrhynchos/XC682788.ogg / 0) could not be loaded (audio_too_short). The exception was (no_exception)\n",
      "WARNING:absl:Audio loaded successfully.\n",
      "WARNING:absl:The audio at (/Volumes/BigChongusF/Datasets/Huggingface/gadme_v1/data/downloads/extracted/311d741def45c8db5627f28a29fb12fae011eadb4408d855d15c5dbda8c53dd4/data/xeno-canto/south_america/setophaga_petechia/XC593347.ogg / 0) could not be loaded (audio_too_short). The exception was (no_exception)\n",
      "WARNING:absl:Audio loaded successfully.\n",
      "  0%|          | 77/21650 [00:47<35:03, 10.26it/s]  WARNING:absl:Audio loaded successfully.\n"
     ]
    },
    {
     "name": "stdout",
     "output_type": "stream",
     "text": [
      "Handling poecile_gambeli/XC102949.ogg\n",
      "Handling anas_platyrhynchos/XC776376.ogg\n",
      "Handling setophaga_petechia/XC335045.ogg\n"
     ]
    },
    {
     "name": "stderr",
     "output_type": "stream",
     "text": [
      "WARNING:absl:Audio loaded successfully.\n",
      "WARNING:absl:The audio at (/Volumes/BigChongusF/Datasets/Huggingface/gadme_v1/data/downloads/extracted/11822cb7774f0c8fc8baf7b5f803ac199e8389f4e7915de926ef11f732fc0c36/data/xeno-canto/north_america/catharus_guttatus/XC135069.ogg / 0) could not be loaded (audio_too_short). The exception was (no_exception)\n",
      "  0%|          | 79/21650 [00:47<32:44, 10.98it/s]WARNING:absl:Audio loaded successfully.\n"
     ]
    },
    {
     "name": "stdout",
     "output_type": "stream",
     "text": [
      "Handling zonotrichia_leucophrys/XC556938.ogg\n"
     ]
    },
    {
     "name": "stderr",
     "output_type": "stream",
     "text": [
      "WARNING:absl:Audio loaded successfully.\n"
     ]
    },
    {
     "name": "stdout",
     "output_type": "stream",
     "text": [
      "Handling vireo_gilvus/XC804066.ogg\n"
     ]
    },
    {
     "name": "stderr",
     "output_type": "stream",
     "text": [
      "  0%|          | 81/21650 [00:48<58:30,  6.14it/s]WARNING:absl:Audio loaded successfully.\n",
      "WARNING:absl:Audio loaded successfully.\n"
     ]
    },
    {
     "name": "stdout",
     "output_type": "stream",
     "text": [
      "Handling leiothlypis_celata/XC561073.ogg\n",
      "Handling anas_platyrhynchos/XC343370.ogg\n"
     ]
    },
    {
     "name": "stderr",
     "output_type": "stream",
     "text": [
      "  0%|          | 83/21650 [00:48<58:05,  6.19it/s]WARNING:absl:Audio loaded successfully.\n",
      "WARNING:absl:Audio loaded successfully.\n"
     ]
    },
    {
     "name": "stdout",
     "output_type": "stream",
     "text": [
      "Handling leiothlypis_celata/XC272305.ogg\n",
      "Handling zonotrichia_leucophrys/XC692530.ogg\n"
     ]
    },
    {
     "name": "stderr",
     "output_type": "stream",
     "text": [
      "  0%|          | 85/21650 [00:49<1:06:36,  5.40it/s]WARNING:absl:Audio loaded successfully.\n",
      "WARNING:absl:Audio loaded successfully.\n",
      "  0%|          | 87/21650 [00:49<57:54,  6.21it/s]  "
     ]
    },
    {
     "name": "stdout",
     "output_type": "stream",
     "text": [
      "Handling passerella_iliaca/XC713325.ogg\n",
      "Handling turdus_migratorius/XC646526.ogg\n",
      "Handling colaptes_auratus/XC622237.ogg\n"
     ]
    },
    {
     "name": "stderr",
     "output_type": "stream",
     "text": [
      "WARNING:absl:Audio loaded successfully.\n",
      "WARNING:absl:The audio at (/Volumes/BigChongusF/Datasets/Huggingface/gadme_v1/data/downloads/extracted/dacdc79178259381ae33610c1ac23ba786c77733201335d4d00617669efb593c/data/xeno-canto/north_america/vireo_gilvus/XC575828.ogg / 0) could not be loaded (audio_too_short). The exception was (no_exception)\n",
      "WARNING:absl:Audio loaded successfully.\n",
      "WARNING:absl:Audio loaded successfully.\n",
      "  0%|          | 90/21650 [00:49<44:17,  8.11it/s]WARNING:absl:Audio loaded successfully.\n"
     ]
    },
    {
     "name": "stdout",
     "output_type": "stream",
     "text": [
      "Handling passerella_iliaca/XC461342.ogg\n",
      "Handling vireo_gilvus/XC161973.ogg\n"
     ]
    },
    {
     "name": "stderr",
     "output_type": "stream",
     "text": [
      "WARNING:absl:Audio loaded successfully.\n"
     ]
    },
    {
     "name": "stdout",
     "output_type": "stream",
     "text": [
      "Handling turdus_migratorius/XC610883.ogg\n"
     ]
    },
    {
     "name": "stderr",
     "output_type": "stream",
     "text": [
      "  0%|          | 92/21650 [00:50<1:07:48,  5.30it/s]WARNING:absl:Audio loaded successfully.\n",
      "WARNING:absl:Audio loaded successfully.\n"
     ]
    },
    {
     "name": "stdout",
     "output_type": "stream",
     "text": [
      "Handling poecile_gambeli/XC221613.ogg\n",
      "Handling anthus_rubescens/XC760994.ogg\n"
     ]
    },
    {
     "name": "stderr",
     "output_type": "stream",
     "text": [
      "  0%|          | 94/21650 [00:51<1:25:42,  4.19it/s]WARNING:absl:Audio loaded successfully.\n"
     ]
    },
    {
     "name": "stdout",
     "output_type": "stream",
     "text": [
      "Handling zonotrichia_leucophrys/XC678158.ogg\n"
     ]
    },
    {
     "name": "stderr",
     "output_type": "stream",
     "text": [
      "  0%|          | 95/21650 [00:51<1:26:41,  4.14it/s]WARNING:absl:Audio loaded successfully.\n",
      "WARNING:absl:The audio at (/Volumes/BigChongusF/Datasets/Huggingface/gadme_v1/data/downloads/extracted/d145e8851ba4925920daf81a23e20f777cd5b92fd94d310de6aa4a44c03ba695/data/xeno-canto/north_america/vireo_gilvus/XC182706.ogg / 4) could not be loaded (audio_too_short). The exception was (no_exception)\n",
      "WARNING:absl:Audio loaded successfully.\n"
     ]
    },
    {
     "name": "stdout",
     "output_type": "stream",
     "text": [
      "Handling empidonax_oberholseri/XC110021.ogg\n"
     ]
    },
    {
     "name": "stderr",
     "output_type": "stream",
     "text": [
      "  0%|          | 97/21650 [00:52<1:54:20,  3.14it/s]WARNING:absl:Audio loaded successfully.\n",
      "  0%|          | 98/21650 [00:52<1:41:10,  3.55it/s]"
     ]
    },
    {
     "name": "stdout",
     "output_type": "stream",
     "text": [
      "Handling setophaga_coronata/XC188141.ogg\n",
      "Handling colaptes_auratus/XC248138.ogg\n"
     ]
    },
    {
     "name": "stderr",
     "output_type": "stream",
     "text": [
      "WARNING:absl:Audio loaded successfully.\n",
      "  0%|          | 99/21650 [00:54<3:06:10,  1.93it/s]WARNING:absl:Audio loaded successfully.\n"
     ]
    },
    {
     "name": "stdout",
     "output_type": "stream",
     "text": [
      "Handling poecile_gambeli/XC350723.ogg\n"
     ]
    },
    {
     "name": "stderr",
     "output_type": "stream",
     "text": [
      "  0%|          | 100/21650 [00:54<3:32:47,  1.69it/s]WARNING:absl:Audio loaded successfully.\n",
      "WARNING:absl:The audio at (/Volumes/BigChongusF/Datasets/Huggingface/gadme_v1/data/downloads/extracted/3944287c00a98d3d9edcb7467992ad5fbf2cebeec4c9e389027ef676be012aef/data/xeno-canto/north_america/poecile_gambeli/XC14440.ogg / 31) could not be loaded (audio_too_short). The exception was (no_exception)\n",
      "WARNING:absl:Audio loaded successfully.\n"
     ]
    },
    {
     "name": "stdout",
     "output_type": "stream",
     "text": [
      "Handling turdus_migratorius/XC294460.ogg\n"
     ]
    },
    {
     "name": "stderr",
     "output_type": "stream",
     "text": [
      "  0%|          | 102/21650 [00:55<2:36:43,  2.29it/s]WARNING:absl:Audio loaded successfully.\n"
     ]
    },
    {
     "name": "stdout",
     "output_type": "stream",
     "text": [
      "Handling turdus_migratorius/XC189056.ogg\n"
     ]
    },
    {
     "name": "stderr",
     "output_type": "stream",
     "text": [
      "  0%|          | 103/21650 [00:55<2:32:54,  2.35it/s]WARNING:absl:Audio loaded successfully.\n",
      "  0%|          | 104/21650 [00:55<2:06:54,  2.83it/s]WARNING:absl:Audio loaded successfully.\n"
     ]
    },
    {
     "name": "stdout",
     "output_type": "stream",
     "text": [
      "Handling catharus_guttatus/XC777542.ogg\n",
      "Handling turdus_migratorius/XC482331.ogg\n",
      "Handling leucosticte_tephrocotis/XC143943.ogg\n"
     ]
    },
    {
     "name": "stderr",
     "output_type": "stream",
     "text": [
      "WARNING:absl:Audio loaded successfully.\n",
      "  0%|          | 106/21650 [00:56<1:58:13,  3.04it/s]WARNING:absl:Audio loaded successfully.\n"
     ]
    },
    {
     "name": "stdout",
     "output_type": "stream",
     "text": [
      "Handling vireo_gilvus/XC733270.ogg\n"
     ]
    },
    {
     "name": "stderr",
     "output_type": "stream",
     "text": [
      "  0%|          | 107/21650 [00:56<1:57:48,  3.05it/s]WARNING:absl:Audio loaded successfully.\n",
      "  0%|          | 108/21650 [00:56<1:39:37,  3.60it/s]WARNING:absl:Audio loaded successfully.\n"
     ]
    },
    {
     "name": "stdout",
     "output_type": "stream",
     "text": [
      "Handling junco_hyemalis/XC718210.ogg\n",
      "Handling anthus_rubescens/XC451883.ogg\n"
     ]
    },
    {
     "name": "stderr",
     "output_type": "stream",
     "text": [
      "  1%|          | 109/21650 [00:57<1:29:26,  4.01it/s]WARNING:absl:Audio loaded successfully.\n",
      "WARNING:absl:Audio loaded successfully.\n",
      "WARNING:absl:The audio at (/Volumes/BigChongusF/Datasets/Huggingface/gadme_v1/data/downloads/extracted/dacdc79178259381ae33610c1ac23ba786c77733201335d4d00617669efb593c/data/xeno-canto/north_america/vireo_gilvus/XC534677.ogg / 17) could not be loaded (audio_too_short). The exception was (no_exception)\n",
      "WARNING:absl:Audio loaded successfully.\n",
      "WARNING:absl:The audio at (/Volumes/BigChongusF/Datasets/Huggingface/gadme_v1/data/downloads/extracted/311d741def45c8db5627f28a29fb12fae011eadb4408d855d15c5dbda8c53dd4/data/xeno-canto/north_america/setophaga_petechia/XC569604.ogg / 3) could not be loaded (audio_too_short). The exception was (no_exception)\n",
      "WARNING:absl:Audio loaded successfully.\n",
      "  1%|          | 113/21650 [00:57<44:16,  8.11it/s]  "
     ]
    },
    {
     "name": "stdout",
     "output_type": "stream",
     "text": [
      "Handling junco_hyemalis/XC729535.ogg\n",
      "Handling poecile_gambeli/XC224195.ogg\n",
      "Handling vireo_gilvus/XC776678.ogg\n"
     ]
    },
    {
     "name": "stderr",
     "output_type": "stream",
     "text": [
      "WARNING:absl:Audio loaded successfully.\n",
      "WARNING:absl:Audio loaded successfully.\n"
     ]
    },
    {
     "name": "stdout",
     "output_type": "stream",
     "text": [
      "Handling poecile_gambeli/XC71785.ogg\n"
     ]
    },
    {
     "name": "stderr",
     "output_type": "stream",
     "text": [
      "  1%|          | 115/21650 [00:58<1:28:27,  4.06it/s]WARNING:absl:Audio loaded successfully.\n"
     ]
    },
    {
     "name": "stdout",
     "output_type": "stream",
     "text": [
      "Handling junco_hyemalis/XC358193.ogg\n"
     ]
    },
    {
     "name": "stderr",
     "output_type": "stream",
     "text": [
      "  1%|          | 116/21650 [00:58<1:27:44,  4.09it/s]WARNING:absl:Audio loaded successfully.\n"
     ]
    },
    {
     "name": "stdout",
     "output_type": "stream",
     "text": [
      "Handling empidonax_oberholseri/XC381716.ogg\n"
     ]
    },
    {
     "name": "stderr",
     "output_type": "stream",
     "text": [
      "  1%|          | 117/21650 [00:59<2:18:38,  2.59it/s]WARNING:absl:Audio loaded successfully.\n"
     ]
    },
    {
     "name": "stdout",
     "output_type": "stream",
     "text": [
      "Handling anas_platyrhynchos/XC394597.ogg\n"
     ]
    },
    {
     "name": "stderr",
     "output_type": "stream",
     "text": [
      "  1%|          | 118/21650 [01:00<2:30:46,  2.38it/s]WARNING:absl:Audio loaded successfully.\n",
      "WARNING:absl:The audio at (/Volumes/BigChongusF/Datasets/Huggingface/gadme_v1/data/downloads/extracted/07a0b04bf9aec2ea5a8729ad6f8ea501c8a851d0f53829912550f376789b18e0/data/xeno-canto/north_america/empidonax_oberholseri/XC754273.ogg / 56) could not be loaded (audio_too_short). The exception was (no_exception)\n",
      "WARNING:absl:Audio loaded successfully.\n",
      "  1%|          | 120/21650 [01:00<1:40:46,  3.56it/s]WARNING:absl:Audio loaded successfully.\n",
      "WARNING:absl:The audio at (/Volumes/BigChongusF/Datasets/Huggingface/gadme_v1/data/downloads/extracted/073c60ddd38d94c33b508dc82a0cf640bc20d68d3ed6bf2f63e35e8019957dd9/data/xeno-canto/north_america/zonotrichia_leucophrys/XC185684.ogg / 0) could not be loaded (audio_too_short). The exception was (no_exception)\n"
     ]
    },
    {
     "name": "stdout",
     "output_type": "stream",
     "text": [
      "Handling zonotrichia_leucophrys/XC143211.ogg\n",
      "Handling vireo_gilvus/XC156191.ogg\n"
     ]
    },
    {
     "name": "stderr",
     "output_type": "stream",
     "text": [
      "WARNING:absl:Audio loaded successfully.\n",
      "  1%|          | 122/21650 [01:01<2:06:43,  2.83it/s]WARNING:absl:Audio loaded successfully.\n",
      "WARNING:absl:The audio at (/Volumes/BigChongusF/Datasets/Huggingface/gadme_v1/data/downloads/extracted/3944287c00a98d3d9edcb7467992ad5fbf2cebeec4c9e389027ef676be012aef/data/xeno-canto/north_america/poecile_gambeli/XC347949.ogg / 2) could not be loaded (audio_too_short). The exception was (no_exception)\n",
      "WARNING:absl:Audio loaded successfully.\n"
     ]
    },
    {
     "name": "stdout",
     "output_type": "stream",
     "text": [
      "Handling anas_platyrhynchos/XC394593.ogg\n"
     ]
    },
    {
     "name": "stderr",
     "output_type": "stream",
     "text": [
      "  1%|          | 124/21650 [01:01<1:40:10,  3.58it/s]WARNING:absl:Audio loaded successfully.\n",
      "WARNING:absl:Audio loaded successfully.\n",
      "  1%|          | 126/21650 [01:01<1:15:06,  4.78it/s]WARNING:absl:Audio loaded successfully.\n",
      "WARNING:absl:Audio loaded successfully.\n"
     ]
    },
    {
     "name": "stdout",
     "output_type": "stream",
     "text": [
      "Handling salpinctes_obsoletus/XC299264.ogg\n",
      "Handling zonotrichia_leucophrys/XC86105.ogg\n",
      "Handling colaptes_auratus/XC140990.ogg\n",
      "Handling vireo_gilvus/XC709999.ogg\n"
     ]
    },
    {
     "name": "stderr",
     "output_type": "stream",
     "text": [
      "  1%|          | 128/21650 [01:01<1:00:40,  5.91it/s]WARNING:absl:Audio loaded successfully.\n"
     ]
    },
    {
     "name": "stdout",
     "output_type": "stream",
     "text": [
      "Handling euphagus_cyanocephalus/XC749022.ogg\n"
     ]
    },
    {
     "name": "stderr",
     "output_type": "stream",
     "text": [
      "WARNING:absl:Audio loaded successfully.\n"
     ]
    },
    {
     "name": "stdout",
     "output_type": "stream",
     "text": [
      "Handling passerella_iliaca/XC439916.ogg\n"
     ]
    },
    {
     "name": "stderr",
     "output_type": "stream",
     "text": [
      "  1%|          | 130/21650 [01:02<1:12:25,  4.95it/s]WARNING:absl:Audio loaded successfully.\n",
      "  1%|          | 131/21650 [01:02<1:07:10,  5.34it/s]"
     ]
    },
    {
     "name": "stdout",
     "output_type": "stream",
     "text": [
      "Handling turdus_migratorius/XC660898.ogg\n",
      "Handling poecile_gambeli/XC22061.ogg\n"
     ]
    },
    {
     "name": "stderr",
     "output_type": "stream",
     "text": [
      "WARNING:absl:Audio loaded successfully.\n",
      "  1%|          | 132/21650 [01:03<2:35:54,  2.30it/s]WARNING:absl:Audio loaded successfully.\n",
      "WARNING:absl:The audio at (/Volumes/BigChongusF/Datasets/Huggingface/gadme_v1/data/downloads/extracted/17216070f80a410ede3b3b9d5be7d7b46383bb2a629699cc6296c19d2a1c3e34/data/xeno-canto/north_america/turdus_migratorius/XC165298.ogg / 0) could not be loaded (audio_too_short). The exception was (no_exception)\n",
      "WARNING:absl:Audio loaded successfully.\n",
      "  1%|          | 134/21650 [01:03<1:46:49,  3.36it/s]WARNING:absl:Audio loaded successfully.\n"
     ]
    },
    {
     "name": "stdout",
     "output_type": "stream",
     "text": [
      "Handling empidonax_oberholseri/XC593554.ogg\n",
      "Handling catharus_guttatus/XC303606.ogg\n"
     ]
    },
    {
     "name": "stderr",
     "output_type": "stream",
     "text": [
      "  1%|          | 135/21650 [01:03<1:34:02,  3.81it/s]WARNING:absl:Audio loaded successfully.\n"
     ]
    },
    {
     "name": "stdout",
     "output_type": "stream",
     "text": [
      "Handling zonotrichia_leucophrys/XC125768.ogg\n"
     ]
    },
    {
     "name": "stderr",
     "output_type": "stream",
     "text": [
      "  1%|          | 136/21650 [01:04<1:36:22,  3.72it/s]WARNING:absl:Audio loaded successfully.\n",
      "WARNING:absl:The audio at (/Volumes/BigChongusF/Datasets/Huggingface/gadme_v1/data/downloads/extracted/8dda359232b9ad0846ece0d9acaaf3b19aa81746af952a6c99bef642bdb88648/data/xeno-canto/north_america/turdus_migratorius/XC569292.ogg / 0) could not be loaded (audio_too_short). The exception was (no_exception)\n",
      "WARNING:absl:Audio loaded successfully.\n"
     ]
    },
    {
     "name": "stdout",
     "output_type": "stream",
     "text": [
      "Handling anas_platyrhynchos/XC536943.ogg\n"
     ]
    },
    {
     "name": "stderr",
     "output_type": "stream",
     "text": [
      "  1%|          | 138/21650 [01:04<1:15:53,  4.72it/s]WARNING:absl:Audio loaded successfully.\n"
     ]
    },
    {
     "name": "stdout",
     "output_type": "stream",
     "text": [
      "Handling turdus_migratorius/XC141221.ogg\n",
      "Handling junco_hyemalis/XC371883.ogg\n"
     ]
    },
    {
     "name": "stderr",
     "output_type": "stream",
     "text": [
      "  1%|          | 139/21650 [01:04<1:15:04,  4.78it/s]WARNING:absl:Audio loaded successfully.\n",
      "WARNING:absl:Audio loaded successfully.\n",
      "WARNING:absl:Audio loaded successfully.\n",
      "WARNING:absl:The audio at (/Volumes/BigChongusF/Datasets/Huggingface/gadme_v1/data/downloads/extracted/3c91bd3b848ef81521ad069a8fa6ac2fcacb937635fd0a9971a11200269ae1f7/data/xeno-canto/europe/anas_platyrhynchos/XC722544.ogg / 8) could not be loaded (audio_too_short). The exception was (no_exception)\n",
      "WARNING:absl:Audio loaded successfully.\n",
      "WARNING:absl:The audio at (/Volumes/BigChongusF/Datasets/Huggingface/gadme_v1/data/downloads/extracted/073c60ddd38d94c33b508dc82a0cf640bc20d68d3ed6bf2f63e35e8019957dd9/data/xeno-canto/north_america/zonotrichia_leucophrys/XC206127.ogg / 54) could not be loaded (audio_too_short). The exception was (no_exception)\n",
      "  1%|          | 143/21650 [01:04<38:36,  9.28it/s]  WARNING:absl:Audio loaded successfully.\n"
     ]
    },
    {
     "name": "stdout",
     "output_type": "stream",
     "text": [
      "Handling colaptes_auratus/XC236401.ogg\n",
      "Handling anas_platyrhynchos/XC633453.ogg\n",
      "Handling anas_platyrhynchos/XC25746.ogg\n"
     ]
    },
    {
     "name": "stderr",
     "output_type": "stream",
     "text": [
      "WARNING:absl:Audio loaded successfully.\n",
      "  1%|          | 145/21650 [01:05<51:15,  6.99it/s]WARNING:absl:Audio loaded successfully.\n",
      "WARNING:absl:Audio loaded successfully.\n"
     ]
    },
    {
     "name": "stdout",
     "output_type": "stream",
     "text": [
      "Handling haemorhous_cassinii/XC14230.ogg\n",
      "Handling catharus_guttatus/XC370755.ogg\n"
     ]
    },
    {
     "name": "stderr",
     "output_type": "stream",
     "text": [
      "  1%|          | 147/21650 [01:05<50:30,  7.10it/s]WARNING:absl:Audio loaded successfully.\n",
      "WARNING:absl:The audio at (/Volumes/BigChongusF/Datasets/Huggingface/gadme_v1/data/downloads/extracted/07a0b04bf9aec2ea5a8729ad6f8ea501c8a851d0f53829912550f376789b18e0/data/xeno-canto/north_america/empidonax_oberholseri/XC744271.ogg / 2) could not be loaded (audio_too_short). The exception was (no_exception)\n",
      "WARNING:absl:Audio loaded successfully.\n"
     ]
    },
    {
     "name": "stdout",
     "output_type": "stream",
     "text": [
      "Handling vireo_gilvus/XC182085.ogg\n"
     ]
    },
    {
     "name": "stderr",
     "output_type": "stream",
     "text": [
      "  1%|          | 149/21650 [01:05<52:10,  6.87it/s]WARNING:absl:Audio loaded successfully.\n",
      "  1%|          | 150/21650 [01:05<50:05,  7.15it/s]WARNING:absl:Audio loaded successfully.\n",
      "WARNING:absl:Audio loaded successfully.\n",
      "WARNING:absl:The audio at (/Volumes/BigChongusF/Datasets/Huggingface/gadme_v1/data/downloads/extracted/7999bb6a56b81320289f187fda8208243d41e6e50dd9ca49b75ab67670f0f4cd/data/xeno-canto/north_america/junco_hyemalis/XC159872.ogg / 0) could not be loaded (audio_too_short). The exception was (no_exception)\n",
      "WARNING:absl:Audio loaded successfully.\n"
     ]
    },
    {
     "name": "stdout",
     "output_type": "stream",
     "text": [
      "Handling empidonax_oberholseri/XC137558.ogg\n",
      "Handling anas_platyrhynchos/XC720205.ogg\n",
      "Handling anas_platyrhynchos/XC447481.ogg\n"
     ]
    },
    {
     "name": "stderr",
     "output_type": "stream",
     "text": [
      "  1%|          | 153/21650 [01:06<39:31,  9.07it/s]WARNING:absl:Audio loaded successfully.\n"
     ]
    },
    {
     "name": "stdout",
     "output_type": "stream",
     "text": [
      "Handling vireo_gilvus/XC157622.ogg\n"
     ]
    },
    {
     "name": "stderr",
     "output_type": "stream",
     "text": [
      "WARNING:absl:Audio loaded successfully.\n",
      "WARNING:absl:The audio at (/Volumes/BigChongusF/Datasets/Huggingface/gadme_v1/data/downloads/extracted/ada15457cc2a05bc400bb7409cbc22ad2f43c290ca6a05bf824bb875476f852c/data/xeno-canto/north_america/junco_hyemalis/XC72013.ogg / 1) could not be loaded (audio_too_short). The exception was (no_exception)\n",
      "  1%|          | 155/21650 [01:06<46:28,  7.71it/s]WARNING:absl:Audio loaded successfully.\n",
      "WARNING:absl:The audio at (/Volumes/BigChongusF/Datasets/Huggingface/gadme_v1/data/downloads/extracted/8dda359232b9ad0846ece0d9acaaf3b19aa81746af952a6c99bef642bdb88648/data/xeno-canto/north_america/turdus_migratorius/XC409609.ogg / 61) could not be loaded (audio_too_short). The exception was (no_exception)\n",
      "WARNING:absl:Audio loaded successfully.\n",
      "WARNING:absl:The audio at (/Volumes/BigChongusF/Datasets/Huggingface/gadme_v1/data/downloads/extracted/311d741def45c8db5627f28a29fb12fae011eadb4408d855d15c5dbda8c53dd4/data/xeno-canto/north_america/leiothlypis_celata/XC475290.ogg / 0) could not be loaded (audio_too_short). The exception was (no_exception)\n",
      "WARNING:absl:Audio loaded successfully.\n",
      "WARNING:absl:The audio at (/Volumes/BigChongusF/Datasets/Huggingface/gadme_v1/data/downloads/extracted/311d741def45c8db5627f28a29fb12fae011eadb4408d855d15c5dbda8c53dd4/data/xeno-canto/north_america/setophaga_petechia/XC32081.ogg / 2) could not be loaded (audio_too_short). The exception was (no_exception)\n",
      "WARNING:absl:Audio loaded successfully.\n"
     ]
    },
    {
     "name": "stdout",
     "output_type": "stream",
     "text": [
      "Handling turdus_migratorius/XC160003.ogg\n"
     ]
    },
    {
     "name": "stderr",
     "output_type": "stream",
     "text": [
      "  1%|          | 159/21650 [01:07<53:06,  6.74it/s]WARNING:absl:Audio loaded successfully.\n",
      "WARNING:absl:The audio at (/Volumes/BigChongusF/Datasets/Huggingface/gadme_v1/data/downloads/extracted/dacdc79178259381ae33610c1ac23ba786c77733201335d4d00617669efb593c/data/xeno-canto/north_america/vireo_gilvus/XC501583.ogg / 0) could not be loaded (audio_too_short). The exception was (no_exception)\n",
      "WARNING:absl:Audio loaded successfully.\n"
     ]
    },
    {
     "name": "stdout",
     "output_type": "stream",
     "text": [
      "Handling actitis_macularius/XC139722.ogg\n"
     ]
    },
    {
     "name": "stderr",
     "output_type": "stream",
     "text": [
      "  1%|          | 161/21650 [01:07<52:59,  6.76it/s]WARNING:absl:Audio loaded successfully.\n",
      "  1%|          | 162/21650 [01:07<53:31,  6.69it/s]"
     ]
    },
    {
     "name": "stdout",
     "output_type": "stream",
     "text": [
      "Handling anas_platyrhynchos/XC717928.ogg\n",
      "Handling euphagus_cyanocephalus/XC205761.ogg\n"
     ]
    },
    {
     "name": "stderr",
     "output_type": "stream",
     "text": [
      "WARNING:absl:Audio loaded successfully.\n",
      "  1%|          | 163/21650 [01:07<1:02:47,  5.70it/s]WARNING:absl:Audio loaded successfully.\n"
     ]
    },
    {
     "name": "stdout",
     "output_type": "stream",
     "text": [
      "Handling turdus_migratorius/XC253844.ogg\n"
     ]
    },
    {
     "name": "stderr",
     "output_type": "stream",
     "text": [
      "  1%|          | 164/21650 [01:08<1:06:54,  5.35it/s]WARNING:absl:Audio loaded successfully.\n"
     ]
    },
    {
     "name": "stdout",
     "output_type": "stream",
     "text": [
      "Handling junco_hyemalis/XC172408.ogg\n"
     ]
    },
    {
     "name": "stderr",
     "output_type": "stream",
     "text": [
      "  1%|          | 165/21650 [01:08<1:12:24,  4.95it/s]WARNING:absl:Audio loaded successfully.\n",
      "WARNING:absl:The audio at (/Volumes/BigChongusF/Datasets/Huggingface/gadme_v1/data/downloads/extracted/3d85f3c0a899f9d3cbe3db58b54d5391856ba30e3a4e013b856bbac6ef8521eb/data/xeno-canto/north_america/euphagus_cyanocephalus/XC358844.ogg / 35) could not be loaded (audio_too_short). The exception was (no_exception)\n",
      "WARNING:absl:Audio loaded successfully.\n"
     ]
    },
    {
     "name": "stdout",
     "output_type": "stream",
     "text": [
      "Handling colaptes_auratus/XC356605.ogg\n"
     ]
    },
    {
     "name": "stderr",
     "output_type": "stream",
     "text": [
      "  1%|          | 167/21650 [01:08<1:01:04,  5.86it/s]WARNING:absl:Audio loaded successfully.\n"
     ]
    },
    {
     "name": "stdout",
     "output_type": "stream",
     "text": [
      "Handling junco_hyemalis/XC535139.ogg\n"
     ]
    },
    {
     "name": "stderr",
     "output_type": "stream",
     "text": [
      "  1%|          | 168/21650 [01:09<1:32:05,  3.89it/s]WARNING:absl:Audio loaded successfully.\n",
      "  1%|          | 169/21650 [01:09<1:26:47,  4.12it/s]"
     ]
    },
    {
     "name": "stdout",
     "output_type": "stream",
     "text": [
      "Handling anas_platyrhynchos/XC131955.ogg\n",
      "Handling turdus_migratorius/XC160800.ogg\n"
     ]
    },
    {
     "name": "stderr",
     "output_type": "stream",
     "text": [
      "WARNING:absl:Audio loaded successfully.\n",
      "  1%|          | 170/21650 [01:09<1:16:29,  4.68it/s]WARNING:absl:Audio loaded successfully.\n",
      "WARNING:absl:The audio at (/Volumes/BigChongusF/Datasets/Huggingface/gadme_v1/data/downloads/extracted/50ee574c5ac7bd04862bf48084e734a9dfb53f6b0bb7e1c7ba86103dd405ec12/data/xeno-canto/north_america/junco_hyemalis/XC353496.ogg / 1) could not be loaded (audio_too_short). The exception was (no_exception)\n",
      "WARNING:absl:Audio loaded successfully.\n"
     ]
    },
    {
     "name": "stdout",
     "output_type": "stream",
     "text": [
      "Handling sialia_currucoides/XC420507.ogg\n"
     ]
    },
    {
     "name": "stderr",
     "output_type": "stream",
     "text": [
      "  1%|          | 172/21650 [01:10<1:56:51,  3.06it/s]WARNING:absl:Audio loaded successfully.\n"
     ]
    },
    {
     "name": "stdout",
     "output_type": "stream",
     "text": [
      "Handling passerella_iliaca/XC149321.ogg\n"
     ]
    },
    {
     "name": "stderr",
     "output_type": "stream",
     "text": [
      "  1%|          | 173/21650 [01:11<2:12:36,  2.70it/s]WARNING:absl:Audio loaded successfully.\n",
      "  1%|          | 174/21650 [01:11<1:57:25,  3.05it/s]"
     ]
    },
    {
     "name": "stdout",
     "output_type": "stream",
     "text": [
      "Handling turdus_migratorius/XC269081.ogg\n",
      "Handling catharus_guttatus/XC181478.ogg\n"
     ]
    },
    {
     "name": "stderr",
     "output_type": "stream",
     "text": [
      "WARNING:absl:Audio loaded successfully.\n",
      "WARNING:absl:The audio at (/Volumes/BigChongusF/Datasets/Huggingface/gadme_v1/data/downloads/extracted/ada15457cc2a05bc400bb7409cbc22ad2f43c290ca6a05bf824bb875476f852c/data/xeno-canto/north_america/junco_hyemalis/XC722850.ogg / 5) could not be loaded (audio_too_short). The exception was (no_exception)\n",
      "WARNING:absl:Audio loaded successfully.\n",
      "WARNING:absl:The audio at (/Volumes/BigChongusF/Datasets/Huggingface/gadme_v1/data/downloads/extracted/81e1b796790f26dbc25ae8fbe4e7b2707eea32146a66d4954952be1661457843/data/xeno-canto/north_america/leiothlypis_celata/XC756347.ogg / 63) could not be loaded (audio_too_short). The exception was (no_exception)\n",
      "WARNING:absl:Audio loaded successfully.\n",
      "  1%|          | 177/21650 [01:11<1:20:55,  4.42it/s]WARNING:absl:Audio loaded successfully.\n",
      "WARNING:absl:Audio loaded successfully.\n"
     ]
    },
    {
     "name": "stdout",
     "output_type": "stream",
     "text": [
      "Handling poecile_gambeli/XC511284.ogg\n",
      "Handling passerella_iliaca/XC406245.ogg\n"
     ]
    },
    {
     "name": "stderr",
     "output_type": "stream",
     "text": [
      "  1%|          | 179/21650 [01:12<1:20:20,  4.45it/s]WARNING:absl:Audio loaded successfully.\n"
     ]
    },
    {
     "name": "stdout",
     "output_type": "stream",
     "text": [
      "Handling zonotrichia_leucophrys/XC283379.ogg\n"
     ]
    },
    {
     "name": "stderr",
     "output_type": "stream",
     "text": [
      "  1%|          | 180/21650 [01:12<1:28:53,  4.03it/s]WARNING:absl:Audio loaded successfully.\n"
     ]
    },
    {
     "name": "stdout",
     "output_type": "stream",
     "text": [
      "Handling junco_hyemalis/XC104584.ogg\n"
     ]
    },
    {
     "name": "stderr",
     "output_type": "stream",
     "text": [
      "  1%|          | 181/21650 [01:12<1:30:34,  3.95it/s]WARNING:absl:Audio loaded successfully.\n",
      "WARNING:absl:Audio loaded successfully.\n"
     ]
    },
    {
     "name": "stdout",
     "output_type": "stream",
     "text": [
      "Handling setophaga_coronata/XC378355.ogg\n",
      "Handling junco_hyemalis/XC542391.ogg\n"
     ]
    },
    {
     "name": "stderr",
     "output_type": "stream",
     "text": [
      "  1%|          | 183/21650 [01:13<1:18:08,  4.58it/s]WARNING:absl:Audio loaded successfully.\n"
     ]
    },
    {
     "name": "stdout",
     "output_type": "stream",
     "text": [
      "Handling junco_hyemalis/XC192496.ogg\n",
      "Handling euphagus_cyanocephalus/XC408610.ogg\n"
     ]
    },
    {
     "name": "stderr",
     "output_type": "stream",
     "text": [
      "WARNING:absl:Audio loaded successfully.\n",
      "  1%|          | 185/21650 [01:14<2:19:38,  2.56it/s]WARNING:absl:Audio loaded successfully.\n"
     ]
    },
    {
     "name": "stdout",
     "output_type": "stream",
     "text": [
      "Handling colaptes_auratus/XC737159.ogg\n"
     ]
    },
    {
     "name": "stderr",
     "output_type": "stream",
     "text": [
      "  1%|          | 186/21650 [01:14<2:14:03,  2.67it/s]WARNING:absl:Audio loaded successfully.\n",
      "  1%|          | 187/21650 [01:14<1:57:40,  3.04it/s]"
     ]
    },
    {
     "name": "stdout",
     "output_type": "stream",
     "text": [
      "Handling zonotrichia_leucophrys/XC535266.ogg\n",
      "Handling setophaga_petechia/XC572425.ogg\n"
     ]
    },
    {
     "name": "stderr",
     "output_type": "stream",
     "text": [
      "WARNING:absl:Audio loaded successfully.\n",
      "  1%|          | 188/21650 [01:15<2:14:11,  2.67it/s]WARNING:absl:Audio loaded successfully.\n"
     ]
    },
    {
     "name": "stdout",
     "output_type": "stream",
     "text": [
      "Handling catharus_guttatus/XC298773.ogg\n"
     ]
    },
    {
     "name": "stderr",
     "output_type": "stream",
     "text": [
      "  1%|          | 189/21650 [01:16<2:29:35,  2.39it/s]WARNING:absl:Audio loaded successfully.\n",
      "WARNING:absl:Audio loaded successfully.\n",
      "WARNING:absl:Audio loaded successfully.\n",
      "  1%|          | 192/21650 [01:16<1:22:56,  4.31it/s]"
     ]
    },
    {
     "name": "stdout",
     "output_type": "stream",
     "text": [
      "Handling catharus_guttatus/XC152404.ogg\n",
      "Handling setophaga_coronata/XC353483.ogg\n",
      "Handling colaptes_auratus/XC313675.ogg\n",
      "Handling turdus_migratorius/XC628190.ogg\n"
     ]
    },
    {
     "name": "stderr",
     "output_type": "stream",
     "text": [
      "WARNING:absl:Audio loaded successfully.\n",
      "  1%|          | 193/21650 [01:16<1:18:08,  4.58it/s]WARNING:absl:Audio loaded successfully.\n"
     ]
    },
    {
     "name": "stdout",
     "output_type": "stream",
     "text": [
      "Handling empidonax_oberholseri/XC149347.ogg\n"
     ]
    },
    {
     "name": "stderr",
     "output_type": "stream",
     "text": [
      "  1%|          | 194/21650 [01:16<1:35:48,  3.73it/s]WARNING:absl:Audio loaded successfully.\n",
      "  1%|          | 195/21650 [01:17<1:28:49,  4.03it/s]"
     ]
    },
    {
     "name": "stdout",
     "output_type": "stream",
     "text": [
      "Handling leiothlypis_celata/XC90149.ogg\n",
      "Handling colaptes_auratus/XC159057.ogg\n"
     ]
    },
    {
     "name": "stderr",
     "output_type": "stream",
     "text": [
      "WARNING:absl:Audio loaded successfully.\n",
      "WARNING:absl:Audio loaded successfully.\n",
      "WARNING:absl:The audio at (/Volumes/BigChongusF/Datasets/Huggingface/gadme_v1/data/downloads/extracted/fac58f85f06876ff8f6cab02102aac36e733cd077a257f05b209b05f983d3ecc/data/xeno-canto/north_america/vireo_gilvus/XC170150.ogg / 0) could not be loaded (audio_too_short). The exception was (no_exception)\n",
      "WARNING:absl:Audio loaded successfully.\n",
      "  1%|          | 198/21650 [01:17<54:55,  6.51it/s]  WARNING:absl:Audio loaded successfully.\n",
      "WARNING:absl:The audio at (/Volumes/BigChongusF/Datasets/Huggingface/gadme_v1/data/downloads/extracted/d145e8851ba4925920daf81a23e20f777cd5b92fd94d310de6aa4a44c03ba695/data/xeno-canto/north_america/vireo_gilvus/XC479439.ogg / 0) could not be loaded (audio_too_short). The exception was (no_exception)\n",
      "WARNING:absl:Audio loaded successfully.\n"
     ]
    },
    {
     "name": "stdout",
     "output_type": "stream",
     "text": [
      "Handling haemorhous_cassinii/XC408589.ogg\n",
      "Handling catharus_guttatus/XC326278.ogg\n"
     ]
    },
    {
     "name": "stderr",
     "output_type": "stream",
     "text": [
      "  1%|          | 200/21650 [01:17<47:39,  7.50it/s]WARNING:absl:Audio loaded successfully.\n"
     ]
    },
    {
     "name": "stdout",
     "output_type": "stream",
     "text": [
      "Handling poecile_gambeli/XC665812.ogg\n"
     ]
    },
    {
     "name": "stderr",
     "output_type": "stream",
     "text": [
      "  1%|          | 201/21650 [01:18<1:40:30,  3.56it/s]WARNING:absl:Audio loaded successfully.\n",
      "  1%|          | 202/21650 [01:18<1:32:25,  3.87it/s]"
     ]
    },
    {
     "name": "stdout",
     "output_type": "stream",
     "text": [
      "Handling zonotrichia_leucophrys/XC535276.ogg\n",
      "Handling catharus_guttatus/XC211426.ogg\n"
     ]
    },
    {
     "name": "stderr",
     "output_type": "stream",
     "text": [
      "WARNING:absl:Audio loaded successfully.\n",
      "  1%|          | 203/21650 [01:18<1:34:28,  3.78it/s]"
     ]
    },
    {
     "name": "stdout",
     "output_type": "stream",
     "text": [
      "Handling vireo_gilvus/XC575828.ogg\n"
     ]
    },
    {
     "name": "stderr",
     "output_type": "stream",
     "text": [
      "WARNING:absl:Audio loaded successfully.\n",
      "  1%|          | 204/21650 [01:23<8:12:50,  1.38s/it]WARNING:absl:Audio loaded successfully.\n"
     ]
    },
    {
     "name": "stdout",
     "output_type": "stream",
     "text": [
      "Handling catharus_guttatus/XC653780.ogg\n"
     ]
    },
    {
     "name": "stderr",
     "output_type": "stream",
     "text": [
      "  1%|          | 205/21650 [01:23<6:22:37,  1.07s/it]WARNING:absl:Audio loaded successfully.\n"
     ]
    },
    {
     "name": "stdout",
     "output_type": "stream",
     "text": [
      "Handling catharus_guttatus/XC425118.ogg\n"
     ]
    },
    {
     "name": "stderr",
     "output_type": "stream",
     "text": [
      "  1%|          | 206/21650 [01:24<5:42:48,  1.04it/s]WARNING:absl:Audio loaded successfully.\n",
      "  1%|          | 207/21650 [01:24<4:19:08,  1.38it/s]WARNING:absl:Audio loaded successfully.\n"
     ]
    },
    {
     "name": "stdout",
     "output_type": "stream",
     "text": [
      "Handling passerella_iliaca/XC89170.ogg\n",
      "Handling catharus_guttatus/XC323230.ogg\n"
     ]
    },
    {
     "name": "stderr",
     "output_type": "stream",
     "text": [
      "WARNING:absl:Audio loaded successfully.\n"
     ]
    },
    {
     "name": "stdout",
     "output_type": "stream",
     "text": [
      "Handling empidonax_oberholseri/XC193117.ogg\n"
     ]
    },
    {
     "name": "stderr",
     "output_type": "stream",
     "text": [
      "  1%|          | 209/21650 [01:25<3:14:47,  1.83it/s]WARNING:absl:Audio loaded successfully.\n"
     ]
    },
    {
     "name": "stdout",
     "output_type": "stream",
     "text": [
      "Handling haemorhous_cassinii/XC113817.ogg\n"
     ]
    },
    {
     "name": "stderr",
     "output_type": "stream",
     "text": [
      "  1%|          | 210/21650 [01:25<3:28:25,  1.71it/s]WARNING:absl:Audio loaded successfully.\n"
     ]
    },
    {
     "name": "stdout",
     "output_type": "stream",
     "text": [
      "Handling poecile_gambeli/XC227274.ogg\n"
     ]
    },
    {
     "name": "stderr",
     "output_type": "stream",
     "text": [
      "  1%|          | 211/21650 [01:26<3:33:42,  1.67it/s]WARNING:absl:Audio loaded successfully.\n"
     ]
    },
    {
     "name": "stdout",
     "output_type": "stream",
     "text": [
      "Handling zonotrichia_leucophrys/XC535290.ogg\n"
     ]
    },
    {
     "name": "stderr",
     "output_type": "stream",
     "text": [
      "  1%|          | 212/21650 [01:26<2:58:07,  2.01it/s]WARNING:absl:Audio loaded successfully.\n"
     ]
    },
    {
     "name": "stdout",
     "output_type": "stream",
     "text": [
      "Handling leiothlypis_celata/XC124486.ogg\n"
     ]
    },
    {
     "name": "stderr",
     "output_type": "stream",
     "text": [
      "  1%|          | 213/21650 [01:26<2:29:03,  2.40it/s]WARNING:absl:Audio loaded successfully.\n",
      "WARNING:absl:The audio at (/Volumes/BigChongusF/Datasets/Huggingface/gadme_v1/data/downloads/extracted/cd49b3631d04d3feff17b776f29f4fc3d66002b528c452baf906c78c1580d75a/data/xeno-canto/north_america/setophaga_coronata/XC475039.ogg / 37) could not be loaded (audio_too_short). The exception was (no_exception)\n",
      "WARNING:absl:Audio loaded successfully.\n",
      "  1%|          | 215/21650 [01:27<1:33:11,  3.83it/s]WARNING:absl:Audio loaded successfully.\n",
      "WARNING:absl:The audio at (/Volumes/BigChongusF/Datasets/Huggingface/gadme_v1/data/downloads/extracted/fac58f85f06876ff8f6cab02102aac36e733cd077a257f05b209b05f983d3ecc/data/xeno-canto/north_america/vireo_gilvus/XC297175.ogg / 2) could not be loaded (audio_too_short). The exception was (no_exception)\n",
      "WARNING:absl:Audio loaded successfully.\n",
      "WARNING:absl:The audio at (/Volumes/BigChongusF/Datasets/Huggingface/gadme_v1/data/downloads/extracted/81e1b796790f26dbc25ae8fbe4e7b2707eea32146a66d4954952be1661457843/data/xeno-canto/north_america/leiothlypis_celata/XC94452.ogg / 0) could not be loaded (audio_too_short). The exception was (no_exception)\n",
      "WARNING:absl:Audio loaded successfully.\n"
     ]
    },
    {
     "name": "stdout",
     "output_type": "stream",
     "text": [
      "Handling catharus_guttatus/XC177502.ogg\n",
      "Handling nucifraga_columbiana/XC451197.ogg\n"
     ]
    },
    {
     "name": "stderr",
     "output_type": "stream",
     "text": [
      "  1%|          | 218/21650 [01:27<1:02:43,  5.70it/s]WARNING:absl:Audio loaded successfully.\n"
     ]
    },
    {
     "name": "stdout",
     "output_type": "stream",
     "text": [
      "Handling junco_hyemalis/XC99379.ogg\n"
     ]
    },
    {
     "name": "stderr",
     "output_type": "stream",
     "text": [
      "  1%|          | 219/21650 [01:27<1:11:21,  5.01it/s]WARNING:absl:Audio loaded successfully.\n",
      "WARNING:absl:The audio at (/Volumes/BigChongusF/Datasets/Huggingface/gadme_v1/data/downloads/extracted/2bce4b9a431bfaabea14c251131c45f38745678853f058a2b2f6b863156d4d60/data/xeno-canto/north_america/catharus_guttatus/XC89173.ogg / 0) could not be loaded (audio_too_short). The exception was (no_exception)\n",
      "WARNING:absl:Audio loaded successfully.\n",
      "  1%|          | 221/21650 [01:27<55:10,  6.47it/s]  WARNING:absl:Audio loaded successfully.\n",
      "WARNING:absl:The audio at (/Volumes/BigChongusF/Datasets/Huggingface/gadme_v1/data/downloads/extracted/3d85f3c0a899f9d3cbe3db58b54d5391856ba30e3a4e013b856bbac6ef8521eb/data/xeno-canto/north_america/euphagus_cyanocephalus/XC416140.ogg / 2) could not be loaded (audio_too_short). The exception was (no_exception)\n",
      "WARNING:absl:Audio loaded successfully.\n",
      "WARNING:absl:The audio at (/Volumes/BigChongusF/Datasets/Huggingface/gadme_v1/data/downloads/extracted/50ee574c5ac7bd04862bf48084e734a9dfb53f6b0bb7e1c7ba86103dd405ec12/data/xeno-canto/north_america/junco_hyemalis/XC381586.ogg / 0) could not be loaded (audio_too_short). The exception was (no_exception)\n",
      "WARNING:absl:Audio loaded successfully.\n"
     ]
    },
    {
     "name": "stdout",
     "output_type": "stream",
     "text": [
      "Handling colaptes_auratus/XC780172.ogg\n",
      "Handling setophaga_coronata/XC729517.ogg\n"
     ]
    },
    {
     "name": "stderr",
     "output_type": "stream",
     "text": [
      "WARNING:absl:Audio loaded successfully.\n",
      "WARNING:absl:The audio at (/Volumes/BigChongusF/Datasets/Huggingface/gadme_v1/data/downloads/extracted/2787f00abeaf0eed0548a1da772af8f8e1d065bd692ccac7a5a3940d0e41d546/data/xeno-canto/north_america/turdus_migratorius/XC421278.ogg / 19) could not be loaded (audio_too_short). The exception was (no_exception)\n",
      "  1%|          | 225/21650 [01:27<32:20, 11.04it/s]WARNING:absl:Audio loaded successfully.\n",
      "WARNING:absl:Audio loaded successfully.\n"
     ]
    },
    {
     "name": "stdout",
     "output_type": "stream",
     "text": [
      "Handling catharus_guttatus/XC777543.ogg\n",
      "Handling colaptes_auratus/XC368592.ogg\n"
     ]
    },
    {
     "name": "stderr",
     "output_type": "stream",
     "text": [
      "  1%|          | 227/21650 [01:28<33:35, 10.63it/s]WARNING:absl:Audio loaded successfully.\n",
      "WARNING:absl:The audio at (/Volumes/BigChongusF/Datasets/Huggingface/gadme_v1/data/downloads/extracted/4ab7290c70f503dcf8a7a57aec1f76e52b2b64a87cdc69bddff95b3855268e15/data/xeno-canto/north_america/turdus_migratorius/XC10199.ogg / 8) could not be loaded (audio_too_short). The exception was (no_exception)\n",
      "WARNING:absl:Audio loaded successfully.\n",
      "WARNING:absl:The audio at (/Volumes/BigChongusF/Datasets/Huggingface/gadme_v1/data/downloads/extracted/7c313317d9bce50ea88db0b3d3672870e262462cefb5c130892cba54b586da3d/data/xeno-canto/north_america/salpinctes_obsoletus/XC229178.ogg / 32) could not be loaded (audio_too_short). The exception was (no_exception)\n",
      "WARNING:absl:Audio loaded successfully.\n"
     ]
    },
    {
     "name": "stdout",
     "output_type": "stream",
     "text": [
      "Handling catharus_guttatus/XC328324.ogg\n"
     ]
    },
    {
     "name": "stderr",
     "output_type": "stream",
     "text": [
      "  1%|          | 230/21650 [01:28<31:00, 11.51it/s]WARNING:absl:Audio loaded successfully.\n"
     ]
    },
    {
     "name": "stdout",
     "output_type": "stream",
     "text": [
      "Handling zonotrichia_leucophrys/XC14295.ogg\n"
     ]
    },
    {
     "name": "stderr",
     "output_type": "stream",
     "text": [
      "WARNING:absl:Audio loaded successfully.\n",
      "  1%|          | 232/21650 [01:29<1:06:27,  5.37it/s]"
     ]
    },
    {
     "name": "stdout",
     "output_type": "stream",
     "text": [
      "Handling salpinctes_obsoletus/XC233381.ogg\n",
      "Handling zonotrichia_leucophrys/XC353606.ogg\n"
     ]
    },
    {
     "name": "stderr",
     "output_type": "stream",
     "text": [
      "WARNING:absl:Audio loaded successfully.\n",
      "WARNING:absl:Audio loaded successfully.\n",
      "WARNING:absl:The audio at (/Volumes/BigChongusF/Datasets/Huggingface/gadme_v1/data/downloads/extracted/11822cb7774f0c8fc8baf7b5f803ac199e8389f4e7915de926ef11f732fc0c36/data/xeno-canto/north_america/catharus_guttatus/XC138263.ogg / 0) could not be loaded (audio_too_short). The exception was (no_exception)\n",
      "  1%|          | 234/21650 [01:29<1:02:48,  5.68it/s]WARNING:absl:Audio loaded successfully.\n"
     ]
    },
    {
     "name": "stdout",
     "output_type": "stream",
     "text": [
      "Handling vireo_gilvus/XC107861.ogg\n"
     ]
    },
    {
     "name": "stderr",
     "output_type": "stream",
     "text": [
      "  1%|          | 235/21650 [01:29<1:05:59,  5.41it/s]WARNING:absl:Audio loaded successfully.\n",
      "WARNING:absl:The audio at (/Volumes/BigChongusF/Datasets/Huggingface/gadme_v1/data/downloads/extracted/50ee574c5ac7bd04862bf48084e734a9dfb53f6b0bb7e1c7ba86103dd405ec12/data/xeno-canto/north_america/junco_hyemalis/XC357028.ogg / 14) could not be loaded (audio_too_short). The exception was (no_exception)\n",
      "WARNING:absl:Audio loaded successfully.\n",
      "WARNING:absl:The audio at (/Volumes/BigChongusF/Datasets/Huggingface/gadme_v1/data/downloads/extracted/073c60ddd38d94c33b508dc82a0cf640bc20d68d3ed6bf2f63e35e8019957dd9/data/xeno-canto/north_america/zonotrichia_leucophrys/XC610641.ogg / 41) could not be loaded (audio_too_short). The exception was (no_exception)\n",
      "WARNING:absl:Audio loaded successfully.\n",
      "  1%|          | 238/21650 [01:29<46:00,  7.76it/s]  WARNING:absl:Audio loaded successfully.\n",
      "WARNING:absl:The audio at (/Volumes/BigChongusF/Datasets/Huggingface/gadme_v1/data/downloads/extracted/ec613fac723ec2b148b37e696a540c4078e291087c8525c0be0e654266f29161/data/xeno-canto/north_america/colaptes_auratus/XC34822.ogg / 0) could not be loaded (audio_too_short). The exception was (no_exception)\n",
      "WARNING:absl:Audio loaded successfully.\n"
     ]
    },
    {
     "name": "stdout",
     "output_type": "stream",
     "text": [
      "Handling haemorhous_cassinii/XC551539.ogg\n",
      "Handling leiothlypis_celata/XC344650.ogg\n"
     ]
    },
    {
     "name": "stderr",
     "output_type": "stream",
     "text": [
      "  1%|          | 240/21650 [01:30<43:18,  8.24it/s]WARNING:absl:Audio loaded successfully.\n"
     ]
    },
    {
     "name": "stdout",
     "output_type": "stream",
     "text": [
      "Handling catharus_guttatus/XC603651.ogg\n",
      "Handling anas_platyrhynchos/XC434854.ogg\n"
     ]
    },
    {
     "name": "stderr",
     "output_type": "stream",
     "text": [
      "WARNING:absl:Audio loaded successfully.\n",
      "  1%|          | 242/21650 [01:31<1:18:12,  4.56it/s]WARNING:absl:Audio loaded successfully.\n",
      "WARNING:absl:The audio at (/Volumes/BigChongusF/Datasets/Huggingface/gadme_v1/data/downloads/extracted/e68da0013aa2de07a892cea4436ef4f05bf18dc840e506a49e4934fad311632a/data/xeno-canto/north_america/zonotrichia_leucophrys/XC290064.ogg / 2) could not be loaded (audio_too_short). The exception was (no_exception)\n",
      "WARNING:absl:Audio loaded successfully.\n",
      "WARNING:absl:Audio loaded successfully.\n",
      "WARNING:absl:The audio at (/Volumes/BigChongusF/Datasets/Huggingface/gadme_v1/data/downloads/extracted/50ee574c5ac7bd04862bf48084e734a9dfb53f6b0bb7e1c7ba86103dd405ec12/data/xeno-canto/north_america/junco_hyemalis/XC638300.ogg / 45) could not be loaded (audio_too_short). The exception was (no_exception)\n",
      "WARNING:absl:Audio loaded successfully.\n"
     ]
    },
    {
     "name": "stdout",
     "output_type": "stream",
     "text": [
      "Handling zonotrichia_leucophrys/XC535275.ogg\n",
      "Handling junco_hyemalis/XC313196.ogg\n"
     ]
    },
    {
     "name": "stderr",
     "output_type": "stream",
     "text": [
      "  1%|          | 246/21650 [01:31<1:05:31,  5.44it/s]WARNING:absl:Audio loaded successfully.\n",
      "WARNING:absl:Audio loaded successfully.\n"
     ]
    },
    {
     "name": "stdout",
     "output_type": "stream",
     "text": [
      "Handling haemorhous_cassinii/XC71835.ogg\n",
      "Handling junco_hyemalis/XC669690.ogg\n"
     ]
    },
    {
     "name": "stderr",
     "output_type": "stream",
     "text": [
      "  1%|          | 248/21650 [01:32<1:11:49,  4.97it/s]WARNING:absl:Audio loaded successfully.\n",
      "WARNING:absl:The audio at (/Volumes/BigChongusF/Datasets/Huggingface/gadme_v1/data/downloads/extracted/3c91bd3b848ef81521ad069a8fa6ac2fcacb937635fd0a9971a11200269ae1f7/data/xeno-canto/europe/anas_platyrhynchos/XC455728.ogg / 0) could not be loaded (audio_too_short). The exception was (no_exception)\n",
      "WARNING:absl:Audio loaded successfully.\n",
      "  1%|          | 250/21650 [01:32<58:55,  6.05it/s]  WARNING:absl:Audio loaded successfully.\n",
      "WARNING:absl:Audio loaded successfully.\n"
     ]
    },
    {
     "name": "stdout",
     "output_type": "stream",
     "text": [
      "Handling zonotrichia_leucophrys/XC373771.ogg\n",
      "Handling anas_platyrhynchos/XC358493.ogg\n",
      "Handling anas_platyrhynchos/XC297303.ogg\n"
     ]
    },
    {
     "name": "stderr",
     "output_type": "stream",
     "text": [
      "  1%|          | 252/21650 [01:32<54:17,  6.57it/s]WARNING:absl:Audio loaded successfully.\n",
      "WARNING:absl:Audio loaded successfully.\n",
      "WARNING:absl:The audio at (/Volumes/BigChongusF/Datasets/Huggingface/gadme_v1/data/downloads/extracted/7999bb6a56b81320289f187fda8208243d41e6e50dd9ca49b75ab67670f0f4cd/data/xeno-canto/north_america/junco_hyemalis/XC653063.ogg / 24) could not be loaded (audio_too_short). The exception was (no_exception)\n",
      "WARNING:absl:Audio loaded successfully.\n",
      "  1%|          | 255/21650 [01:32<42:24,  8.41it/s]"
     ]
    },
    {
     "name": "stdout",
     "output_type": "stream",
     "text": [
      "Handling leiothlypis_celata/XC747206.ogg\n",
      "Handling anas_platyrhynchos/XC297305.ogg\n",
      "Handling catharus_guttatus/XC323231.ogg\n"
     ]
    },
    {
     "name": "stderr",
     "output_type": "stream",
     "text": [
      "WARNING:absl:Audio loaded successfully.\n",
      "WARNING:absl:Audio loaded successfully.\n"
     ]
    },
    {
     "name": "stdout",
     "output_type": "stream",
     "text": [
      "Handling turdus_migratorius/XC406163.ogg\n"
     ]
    },
    {
     "name": "stderr",
     "output_type": "stream",
     "text": [
      "  1%|          | 257/21650 [01:33<54:33,  6.54it/s]WARNING:absl:Audio loaded successfully.\n",
      "WARNING:absl:Audio loaded successfully.\n",
      "  1%|          | 259/21650 [01:33<46:06,  7.73it/s]WARNING:absl:Audio loaded successfully.\n",
      "WARNING:absl:The audio at (/Volumes/BigChongusF/Datasets/Huggingface/gadme_v1/data/downloads/extracted/3c91bd3b848ef81521ad069a8fa6ac2fcacb937635fd0a9971a11200269ae1f7/data/xeno-canto/north_america/anas_platyrhynchos/XC527676.ogg / 17) could not be loaded (audio_too_short). The exception was (no_exception)\n",
      "WARNING:absl:Audio loaded successfully.\n"
     ]
    },
    {
     "name": "stdout",
     "output_type": "stream",
     "text": [
      "Handling vireo_gilvus/XC804242.ogg\n",
      "Handling colaptes_auratus/XC638937.ogg\n",
      "Handling junco_hyemalis/XC309041.ogg\n",
      "Handling passerella_iliaca/XC188500.ogg\n"
     ]
    },
    {
     "name": "stderr",
     "output_type": "stream",
     "text": [
      "WARNING:absl:Audio loaded successfully.\n",
      "  1%|          | 262/21650 [01:35<1:53:11,  3.15it/s]WARNING:absl:Audio loaded successfully.\n"
     ]
    },
    {
     "name": "stdout",
     "output_type": "stream",
     "text": [
      "Handling nucifraga_columbiana/XC629536.ogg\n"
     ]
    },
    {
     "name": "stderr",
     "output_type": "stream",
     "text": [
      "  1%|          | 263/21650 [01:35<1:48:00,  3.30it/s]WARNING:absl:Audio loaded successfully.\n",
      "WARNING:absl:Audio loaded successfully.\n"
     ]
    },
    {
     "name": "stdout",
     "output_type": "stream",
     "text": [
      "Handling vireo_gilvus/XC680492.ogg\n",
      "Handling anas_platyrhynchos/XC436930.ogg\n"
     ]
    },
    {
     "name": "stderr",
     "output_type": "stream",
     "text": [
      "  1%|          | 265/21650 [01:35<1:43:07,  3.46it/s]WARNING:absl:Audio loaded successfully.\n"
     ]
    },
    {
     "name": "stdout",
     "output_type": "stream",
     "text": [
      "Handling setophaga_coronata/XC469599.ogg\n"
     ]
    },
    {
     "name": "stderr",
     "output_type": "stream",
     "text": [
      "  1%|          | 266/21650 [01:36<1:51:35,  3.19it/s]WARNING:absl:Audio loaded successfully.\n",
      "  1%|          | 267/21650 [01:36<1:37:19,  3.66it/s]WARNING:absl:Audio loaded successfully.\n"
     ]
    },
    {
     "name": "stdout",
     "output_type": "stream",
     "text": [
      "Handling catharus_guttatus/XC379158.ogg\n",
      "Handling vireo_gilvus/XC323458.ogg\n"
     ]
    },
    {
     "name": "stderr",
     "output_type": "stream",
     "text": [
      "  1%|          | 268/21650 [01:36<1:31:47,  3.88it/s]WARNING:absl:Audio loaded successfully.\n",
      "  1%|          | 269/21650 [01:36<1:19:48,  4.46it/s]WARNING:absl:Audio loaded successfully.\n",
      "WARNING:absl:The audio at (/Volumes/BigChongusF/Datasets/Huggingface/gadme_v1/data/downloads/extracted/7999bb6a56b81320289f187fda8208243d41e6e50dd9ca49b75ab67670f0f4cd/data/xeno-canto/north_america/junco_hyemalis/XC349616.ogg / 0) could not be loaded (audio_too_short). The exception was (no_exception)\n"
     ]
    },
    {
     "name": "stdout",
     "output_type": "stream",
     "text": [
      "Handling turdus_migratorius/XC729485.ogg\n",
      "Handling salpinctes_obsoletus/XC315322.ogg\n"
     ]
    },
    {
     "name": "stderr",
     "output_type": "stream",
     "text": [
      "WARNING:absl:Audio loaded successfully.\n",
      "  1%|▏         | 271/21650 [01:37<1:15:18,  4.73it/s]WARNING:absl:Audio loaded successfully.\n",
      "  1%|▏         | 272/21650 [01:37<1:14:26,  4.79it/s]"
     ]
    },
    {
     "name": "stdout",
     "output_type": "stream",
     "text": [
      "Handling catharus_guttatus/XC488923.ogg\n",
      "Handling catharus_guttatus/XC149586.ogg\n"
     ]
    },
    {
     "name": "stderr",
     "output_type": "stream",
     "text": [
      "WARNING:absl:Audio loaded successfully.\n",
      "WARNING:absl:The audio at (/Volumes/BigChongusF/Datasets/Huggingface/gadme_v1/data/downloads/extracted/fac58f85f06876ff8f6cab02102aac36e733cd077a257f05b209b05f983d3ecc/data/xeno-canto/north_america/vireo_gilvus/XC322268.ogg / 18) could not be loaded (audio_too_short). The exception was (no_exception)\n",
      "WARNING:absl:Audio loaded successfully.\n",
      "WARNING:absl:The audio at (/Volumes/BigChongusF/Datasets/Huggingface/gadme_v1/data/downloads/extracted/fac58f85f06876ff8f6cab02102aac36e733cd077a257f05b209b05f983d3ecc/data/xeno-canto/north_america/vireo_gilvus/XC370391.ogg / 0) could not be loaded (audio_too_short). The exception was (no_exception)\n",
      "WARNING:absl:Audio loaded successfully.\n",
      "  1%|▏         | 275/21650 [01:37<52:24,  6.80it/s]  WARNING:absl:Audio loaded successfully.\n",
      "WARNING:absl:The audio at (/Volumes/BigChongusF/Datasets/Huggingface/gadme_v1/data/downloads/extracted/4fb52febc9ddf975fdb63222180f988dd27c8c7cb7b968eda935c6020ef0e853/data/xeno-canto/north_america/anthus_rubescens/XC778434.ogg / 0) could not be loaded (audio_too_short). The exception was (no_exception)\n",
      "WARNING:absl:Audio loaded successfully.\n"
     ]
    },
    {
     "name": "stdout",
     "output_type": "stream",
     "text": [
      "Handling vireo_gilvus/XC22036.ogg\n"
     ]
    },
    {
     "name": "stderr",
     "output_type": "stream",
     "text": [
      "  1%|▏         | 277/21650 [01:37<51:16,  6.95it/s]WARNING:absl:Audio loaded successfully.\n",
      "WARNING:absl:Audio loaded successfully.\n",
      "  1%|▏         | 279/21650 [01:38<42:25,  8.40it/s]WARNING:absl:Audio loaded successfully.\n",
      "WARNING:absl:The audio at (/Volumes/BigChongusF/Datasets/Huggingface/gadme_v1/data/downloads/extracted/3944287c00a98d3d9edcb7467992ad5fbf2cebeec4c9e389027ef676be012aef/data/xeno-canto/north_america/poecile_gambeli/XC71780.ogg / 35) could not be loaded (audio_too_short). The exception was (no_exception)\n",
      "WARNING:absl:Audio loaded successfully.\n"
     ]
    },
    {
     "name": "stdout",
     "output_type": "stream",
     "text": [
      "Handling colaptes_auratus/XC780172.ogg\n",
      "Handling anas_platyrhynchos/XC464827.ogg\n",
      "Handling turdus_migratorius/XC452609.ogg\n"
     ]
    },
    {
     "name": "stderr",
     "output_type": "stream",
     "text": [
      "  1%|▏         | 281/21650 [01:38<38:34,  9.23it/s]WARNING:absl:Audio loaded successfully.\n",
      "WARNING:absl:The audio at (/Volumes/BigChongusF/Datasets/Huggingface/gadme_v1/data/downloads/extracted/17216070f80a410ede3b3b9d5be7d7b46383bb2a629699cc6296c19d2a1c3e34/data/xeno-canto/north_america/turdus_migratorius/XC394835.ogg / 0) could not be loaded (audio_too_short). The exception was (no_exception)\n",
      "WARNING:absl:Audio loaded successfully.\n",
      "  1%|▏         | 283/21650 [01:38<36:25,  9.78it/s]"
     ]
    },
    {
     "name": "stdout",
     "output_type": "stream",
     "text": [
      "Handling passerella_iliaca/XC420222.ogg\n",
      "Handling zonotrichia_leucophrys/XC558354.ogg\n"
     ]
    },
    {
     "name": "stderr",
     "output_type": "stream",
     "text": [
      "WARNING:absl:Audio loaded successfully.\n",
      "WARNING:absl:Audio loaded successfully.\n",
      "WARNING:absl:The audio at (/Volumes/BigChongusF/Datasets/Huggingface/gadme_v1/data/downloads/extracted/98abf88c43673ba8815287f519e7fd3afff386504e64afb04778689c24fd08c9/data/xeno-canto/north_america/vireo_gilvus/XC160698.ogg / 36) could not be loaded (audio_too_short). The exception was (no_exception)\n",
      "  1%|▏         | 285/21650 [01:38<36:56,  9.64it/s]WARNING:absl:Audio loaded successfully.\n",
      "WARNING:absl:The audio at (/Volumes/BigChongusF/Datasets/Huggingface/gadme_v1/data/downloads/extracted/cd49b3631d04d3feff17b776f29f4fc3d66002b528c452baf906c78c1580d75a/data/xeno-canto/north_america/setophaga_coronata/XC247849.ogg / 28) could not be loaded (audio_too_short). The exception was (no_exception)\n",
      "WARNING:absl:Audio loaded successfully.\n",
      "  1%|▏         | 287/21650 [01:38<31:30, 11.30it/s]WARNING:absl:Audio loaded successfully.\n"
     ]
    },
    {
     "name": "stdout",
     "output_type": "stream",
     "text": [
      "Handling junco_hyemalis/XC743168.ogg\n",
      "Handling vireo_gilvus/XC481120.ogg\n"
     ]
    },
    {
     "name": "stderr",
     "output_type": "stream",
     "text": [
      "WARNING:absl:Audio loaded successfully.\n"
     ]
    },
    {
     "name": "stdout",
     "output_type": "stream",
     "text": [
      "Handling vireo_gilvus/XC672702.ogg\n"
     ]
    },
    {
     "name": "stderr",
     "output_type": "stream",
     "text": [
      "  1%|▏         | 289/21650 [01:39<41:58,  8.48it/s]WARNING:absl:Audio loaded successfully.\n",
      "WARNING:absl:Audio loaded successfully.\n",
      "WARNING:absl:The audio at (/Volumes/BigChongusF/Datasets/Huggingface/gadme_v1/data/downloads/extracted/3944287c00a98d3d9edcb7467992ad5fbf2cebeec4c9e389027ef676be012aef/data/xeno-canto/north_america/poecile_gambeli/XC224196.ogg / 1) could not be loaded (audio_too_short). The exception was (no_exception)\n",
      "WARNING:absl:Audio loaded successfully.\n"
     ]
    },
    {
     "name": "stdout",
     "output_type": "stream",
     "text": [
      "Handling zonotrichia_leucophrys/XC125772.ogg\n",
      "Handling passerella_iliaca/XC426064.ogg\n"
     ]
    },
    {
     "name": "stderr",
     "output_type": "stream",
     "text": [
      "  1%|▏         | 292/21650 [01:39<35:19, 10.08it/s]WARNING:absl:Audio loaded successfully.\n"
     ]
    },
    {
     "name": "stdout",
     "output_type": "stream",
     "text": [
      "Handling salpinctes_obsoletus/XC620784.ogg\n",
      "Handling vireo_gilvus/XC159382.ogg\n"
     ]
    },
    {
     "name": "stderr",
     "output_type": "stream",
     "text": [
      "WARNING:absl:Audio loaded successfully.\n",
      "  1%|▏         | 294/21650 [01:39<55:31,  6.41it/s]WARNING:absl:Audio loaded successfully.\n",
      "WARNING:absl:Audio loaded successfully.\n"
     ]
    },
    {
     "name": "stdout",
     "output_type": "stream",
     "text": [
      "Handling colaptes_auratus/XC404744.ogg\n",
      "Handling junco_hyemalis/XC487484.ogg\n"
     ]
    },
    {
     "name": "stderr",
     "output_type": "stream",
     "text": [
      "  1%|▏         | 296/21650 [01:40<1:18:52,  4.51it/s]WARNING:absl:Audio loaded successfully.\n",
      "  1%|▏         | 297/21650 [01:40<1:16:38,  4.64it/s]"
     ]
    },
    {
     "name": "stdout",
     "output_type": "stream",
     "text": [
      "Handling vireo_gilvus/XC672702.ogg\n",
      "Handling vireo_gilvus/XC103099.ogg\n"
     ]
    },
    {
     "name": "stderr",
     "output_type": "stream",
     "text": [
      "WARNING:absl:Audio loaded successfully.\n",
      "  1%|▏         | 298/21650 [01:41<1:26:45,  4.10it/s]WARNING:absl:Audio loaded successfully.\n"
     ]
    },
    {
     "name": "stdout",
     "output_type": "stream",
     "text": [
      "Handling vireo_gilvus/XC727745.ogg\n"
     ]
    },
    {
     "name": "stderr",
     "output_type": "stream",
     "text": [
      "  1%|▏         | 299/21650 [01:41<1:46:42,  3.33it/s]WARNING:absl:Audio loaded successfully.\n"
     ]
    },
    {
     "name": "stdout",
     "output_type": "stream",
     "text": [
      "Handling anas_platyrhynchos/XC26966.ogg\n"
     ]
    },
    {
     "name": "stderr",
     "output_type": "stream",
     "text": [
      "  1%|▏         | 300/21650 [01:42<1:53:49,  3.13it/s]WARNING:absl:Audio loaded successfully.\n"
     ]
    },
    {
     "name": "stdout",
     "output_type": "stream",
     "text": [
      "Handling catharus_guttatus/XC605589.ogg\n",
      "Handling poecile_gambeli/XC256763.ogg\n"
     ]
    },
    {
     "name": "stderr",
     "output_type": "stream",
     "text": [
      "WARNING:absl:Audio loaded successfully.\n",
      "  1%|▏         | 302/21650 [01:43<3:20:35,  1.77it/s]WARNING:absl:Audio loaded successfully.\n",
      "  1%|▏         | 303/21650 [01:44<2:47:31,  2.12it/s]"
     ]
    },
    {
     "name": "stdout",
     "output_type": "stream",
     "text": [
      "Handling anthus_rubescens/XC277562.ogg\n",
      "Handling colaptes_auratus/XC292299.ogg\n"
     ]
    },
    {
     "name": "stderr",
     "output_type": "stream",
     "text": [
      "WARNING:absl:Audio loaded successfully.\n",
      "  1%|▏         | 304/21650 [01:48<7:55:33,  1.34s/it]WARNING:absl:Audio loaded successfully.\n",
      "  1%|▏         | 305/21650 [01:48<6:08:29,  1.04s/it]WARNING:absl:Audio loaded successfully.\n"
     ]
    },
    {
     "name": "stdout",
     "output_type": "stream",
     "text": [
      "Handling vireo_gilvus/XC566394.ogg\n",
      "Handling setophaga_petechia/XC332397.ogg\n"
     ]
    },
    {
     "name": "stderr",
     "output_type": "stream",
     "text": [
      "WARNING:absl:Audio loaded successfully.\n",
      "  1%|▏         | 307/21650 [01:48<3:42:15,  1.60it/s]WARNING:absl:Audio loaded successfully.\n",
      "WARNING:absl:Audio loaded successfully.\n",
      "WARNING:absl:Audio loaded successfully.\n"
     ]
    },
    {
     "name": "stdout",
     "output_type": "stream",
     "text": [
      "Handling anas_platyrhynchos/XC735578.ogg\n",
      "Handling turdus_migratorius/XC686190.ogg\n",
      "Handling colaptes_auratus/XC292299.ogg\n",
      "Handling actitis_macularius/XC88799.ogg\n"
     ]
    },
    {
     "name": "stderr",
     "output_type": "stream",
     "text": [
      "  1%|▏         | 310/21650 [01:48<2:06:24,  2.81it/s]WARNING:absl:Audio loaded successfully.\n",
      "WARNING:absl:Audio loaded successfully.\n"
     ]
    },
    {
     "name": "stdout",
     "output_type": "stream",
     "text": [
      "Handling zonotrichia_leucophrys/XC533315.ogg\n",
      "Handling colaptes_auratus/XC31518.ogg\n"
     ]
    },
    {
     "name": "stderr",
     "output_type": "stream",
     "text": [
      "  1%|▏         | 312/21650 [01:48<1:45:11,  3.38it/s]WARNING:absl:Audio loaded successfully.\n"
     ]
    },
    {
     "name": "stdout",
     "output_type": "stream",
     "text": [
      "Handling junco_hyemalis/XC629681.ogg\n"
     ]
    },
    {
     "name": "stderr",
     "output_type": "stream",
     "text": [
      "  1%|▏         | 313/21650 [01:49<2:12:01,  2.69it/s]WARNING:absl:Audio loaded successfully.\n"
     ]
    },
    {
     "name": "stdout",
     "output_type": "stream",
     "text": [
      "Handling junco_hyemalis/XC253586.ogg\n"
     ]
    },
    {
     "name": "stderr",
     "output_type": "stream",
     "text": [
      "  1%|▏         | 314/21650 [01:49<2:03:30,  2.88it/s]WARNING:absl:Audio loaded successfully.\n",
      "WARNING:absl:Audio loaded successfully.\n"
     ]
    },
    {
     "name": "stdout",
     "output_type": "stream",
     "text": [
      "Handling vireo_gilvus/XC803999.ogg\n",
      "Handling setophaga_coronata/XC309929.ogg\n"
     ]
    },
    {
     "name": "stderr",
     "output_type": "stream",
     "text": [
      "  1%|▏         | 316/21650 [01:50<1:40:43,  3.53it/s]WARNING:absl:Audio loaded successfully.\n",
      "  1%|▏         | 317/21650 [01:50<1:29:51,  3.96it/s]WARNING:absl:Audio loaded successfully.\n"
     ]
    },
    {
     "name": "stdout",
     "output_type": "stream",
     "text": [
      "Handling zonotrichia_leucophrys/XC21286.ogg\n",
      "Handling vireo_gilvus/XC151606.ogg\n",
      "Handling colaptes_auratus/XC122615.ogg\n"
     ]
    },
    {
     "name": "stderr",
     "output_type": "stream",
     "text": [
      "WARNING:absl:Audio loaded successfully.\n",
      "  1%|▏         | 319/21650 [01:50<1:12:29,  4.90it/s]WARNING:absl:Audio loaded successfully.\n",
      "  1%|▏         | 320/21650 [01:50<1:07:13,  5.29it/s]WARNING:absl:Audio loaded successfully.\n"
     ]
    },
    {
     "name": "stdout",
     "output_type": "stream",
     "text": [
      "Handling haemorhous_cassinii/XC71812.ogg\n",
      "Handling catharus_guttatus/XC495506.ogg\n"
     ]
    },
    {
     "name": "stderr",
     "output_type": "stream",
     "text": [
      "WARNING:absl:Audio loaded successfully.\n",
      "  1%|▏         | 322/21650 [01:50<51:18,  6.93it/s]  WARNING:absl:Audio loaded successfully.\n"
     ]
    },
    {
     "name": "stdout",
     "output_type": "stream",
     "text": [
      "Handling leiothlypis_celata/XC225578.ogg\n",
      "Handling turdus_migratorius/XC492775.ogg\n"
     ]
    },
    {
     "name": "stderr",
     "output_type": "stream",
     "text": [
      "  1%|▏         | 323/21650 [01:51<59:30,  5.97it/s]WARNING:absl:Audio loaded successfully.\n",
      "  1%|▏         | 324/21650 [01:51<56:20,  6.31it/s]WARNING:absl:Audio loaded successfully.\n",
      "WARNING:absl:Audio loaded successfully.\n"
     ]
    },
    {
     "name": "stdout",
     "output_type": "stream",
     "text": [
      "Handling colaptes_auratus/XC34823.ogg\n",
      "Handling catharus_guttatus/XC348962.ogg\n",
      "Handling colaptes_auratus/XC410727.ogg\n"
     ]
    },
    {
     "name": "stderr",
     "output_type": "stream",
     "text": [
      "WARNING:absl:Audio loaded successfully.\n"
     ]
    },
    {
     "name": "stdout",
     "output_type": "stream",
     "text": [
      "Handling leiothlypis_celata/XC289370.ogg\n"
     ]
    },
    {
     "name": "stderr",
     "output_type": "stream",
     "text": [
      "  2%|▏         | 327/21650 [01:51<1:05:34,  5.42it/s]WARNING:absl:Audio loaded successfully.\n",
      "WARNING:absl:The audio at (/Volumes/BigChongusF/Datasets/Huggingface/gadme_v1/data/downloads/extracted/e68da0013aa2de07a892cea4436ef4f05bf18dc840e506a49e4934fad311632a/data/xeno-canto/north_america/zonotrichia_leucophrys/XC420274.ogg / 0) could not be loaded (audio_too_short). The exception was (no_exception)\n",
      "WARNING:absl:Audio loaded successfully.\n"
     ]
    },
    {
     "name": "stdout",
     "output_type": "stream",
     "text": [
      "Handling passerella_iliaca/XC467695.ogg\n"
     ]
    },
    {
     "name": "stderr",
     "output_type": "stream",
     "text": [
      "  2%|▏         | 329/21650 [01:52<1:02:40,  5.67it/s]WARNING:absl:Audio loaded successfully.\n",
      "  2%|▏         | 330/21650 [01:52<58:12,  6.10it/s]  WARNING:absl:Audio loaded successfully.\n",
      "WARNING:absl:The audio at (/Volumes/BigChongusF/Datasets/Huggingface/gadme_v1/data/downloads/extracted/cd49b3631d04d3feff17b776f29f4fc3d66002b528c452baf906c78c1580d75a/data/xeno-canto/north_america/setophaga_coronata/XC475039.ogg / 2) could not be loaded (audio_too_short). The exception was (no_exception)\n",
      "WARNING:absl:Audio loaded successfully.\n"
     ]
    },
    {
     "name": "stdout",
     "output_type": "stream",
     "text": [
      "Handling empidonax_oberholseri/XC325009.ogg\n",
      "Handling setophaga_coronata/XC78029.ogg\n"
     ]
    },
    {
     "name": "stderr",
     "output_type": "stream",
     "text": [
      "  2%|▏         | 332/21650 [01:52<46:10,  7.69it/s]WARNING:absl:Audio loaded successfully.\n",
      "  2%|▏         | 333/21650 [01:52<45:34,  7.79it/s]WARNING:absl:Audio loaded successfully.\n"
     ]
    },
    {
     "name": "stdout",
     "output_type": "stream",
     "text": [
      "Handling vireo_gilvus/XC733271.ogg\n",
      "Handling zonotrichia_leucophrys/XC611728.ogg\n",
      "Handling vireo_gilvus/XC232123.ogg\n"
     ]
    },
    {
     "name": "stderr",
     "output_type": "stream",
     "text": [
      "WARNING:absl:Audio loaded successfully.\n",
      "  2%|▏         | 335/21650 [01:52<51:50,  6.85it/s]WARNING:absl:Audio loaded successfully.\n",
      "WARNING:absl:The audio at (/Volumes/BigChongusF/Datasets/Huggingface/gadme_v1/data/downloads/extracted/3c91bd3b848ef81521ad069a8fa6ac2fcacb937635fd0a9971a11200269ae1f7/data/xeno-canto/europe/anas_platyrhynchos/XC757451.ogg / 0) could not be loaded (audio_too_short). The exception was (no_exception)\n",
      "WARNING:absl:Audio loaded successfully.\n"
     ]
    },
    {
     "name": "stdout",
     "output_type": "stream",
     "text": [
      "Handling turdus_migratorius/XC729486.ogg\n"
     ]
    },
    {
     "name": "stderr",
     "output_type": "stream",
     "text": [
      "  2%|▏         | 337/21650 [01:53<1:07:46,  5.24it/s]WARNING:absl:Audio loaded successfully.\n",
      "WARNING:absl:The audio at (/Volumes/BigChongusF/Datasets/Huggingface/gadme_v1/data/downloads/extracted/fac58f85f06876ff8f6cab02102aac36e733cd077a257f05b209b05f983d3ecc/data/xeno-canto/north_america/vireo_gilvus/XC66083.ogg / 4) could not be loaded (audio_too_short). The exception was (no_exception)\n",
      "WARNING:absl:Audio loaded successfully.\n",
      "WARNING:absl:The audio at (/Volumes/BigChongusF/Datasets/Huggingface/gadme_v1/data/downloads/extracted/3944287c00a98d3d9edcb7467992ad5fbf2cebeec4c9e389027ef676be012aef/data/xeno-canto/north_america/poecile_gambeli/XC224193.ogg / 2) could not be loaded (audio_too_short). The exception was (no_exception)\n",
      "WARNING:absl:Audio loaded successfully.\n"
     ]
    },
    {
     "name": "stdout",
     "output_type": "stream",
     "text": [
      "Handling passerella_iliaca/XC175239.ogg\n"
     ]
    },
    {
     "name": "stderr",
     "output_type": "stream",
     "text": [
      "  2%|▏         | 340/21650 [01:53<55:35,  6.39it/s]  WARNING:absl:Audio loaded successfully.\n"
     ]
    },
    {
     "name": "stdout",
     "output_type": "stream",
     "text": [
      "Handling zonotrichia_leucophrys/XC158956.ogg\n"
     ]
    },
    {
     "name": "stderr",
     "output_type": "stream",
     "text": [
      "  2%|▏         | 341/21650 [01:54<1:00:19,  5.89it/s]WARNING:absl:Audio loaded successfully.\n",
      "  2%|▏         | 342/21650 [01:54<1:02:15,  5.70it/s]"
     ]
    },
    {
     "name": "stdout",
     "output_type": "stream",
     "text": [
      "Handling leiothlypis_celata/XC302646.ogg\n",
      "Handling anthus_rubescens/XC448720.ogg\n"
     ]
    },
    {
     "name": "stderr",
     "output_type": "stream",
     "text": [
      "WARNING:absl:Audio loaded successfully.\n",
      "  2%|▏         | 343/21650 [01:54<1:08:46,  5.16it/s]WARNING:absl:Audio loaded successfully.\n"
     ]
    },
    {
     "name": "stdout",
     "output_type": "stream",
     "text": [
      "Handling catharus_guttatus/XC777542.ogg\n"
     ]
    },
    {
     "name": "stderr",
     "output_type": "stream",
     "text": [
      "  2%|▏         | 344/21650 [01:55<1:43:38,  3.43it/s]WARNING:absl:Audio loaded successfully.\n",
      "  2%|▏         | 345/21650 [01:55<1:28:39,  4.01it/s]WARNING:absl:Audio loaded successfully.\n"
     ]
    },
    {
     "name": "stdout",
     "output_type": "stream",
     "text": [
      "Handling colaptes_auratus/XC792210.ogg\n",
      "Handling junco_hyemalis/XC567901.ogg\n"
     ]
    },
    {
     "name": "stderr",
     "output_type": "stream",
     "text": [
      "  2%|▏         | 346/21650 [01:55<1:32:26,  3.84it/s]WARNING:absl:Audio loaded successfully.\n",
      "WARNING:absl:The audio at (/Volumes/BigChongusF/Datasets/Huggingface/gadme_v1/data/downloads/extracted/c05b01b23568feda718271d2aa149124fd50d510bd99663cbd8752481054e53b/data/xeno-canto/north_america/colaptes_auratus/XC267750.ogg / 9) could not be loaded (audio_too_short). The exception was (no_exception)\n",
      "WARNING:absl:Audio loaded successfully.\n"
     ]
    },
    {
     "name": "stdout",
     "output_type": "stream",
     "text": [
      "Handling anas_platyrhynchos/XC774434.ogg\n"
     ]
    },
    {
     "name": "stderr",
     "output_type": "stream",
     "text": [
      "  2%|▏         | 348/21650 [01:56<1:26:28,  4.11it/s]WARNING:absl:Audio loaded successfully.\n",
      "WARNING:absl:Audio loaded successfully.\n"
     ]
    },
    {
     "name": "stdout",
     "output_type": "stream",
     "text": [
      "Handling junco_hyemalis/XC149906.ogg\n",
      "Handling turdus_migratorius/XC459052.ogg\n"
     ]
    },
    {
     "name": "stderr",
     "output_type": "stream",
     "text": [
      "  2%|▏         | 350/21650 [01:56<1:25:31,  4.15it/s]WARNING:absl:Audio loaded successfully.\n",
      "WARNING:absl:The audio at (/Volumes/BigChongusF/Datasets/Huggingface/gadme_v1/data/downloads/extracted/07a0b04bf9aec2ea5a8729ad6f8ea501c8a851d0f53829912550f376789b18e0/data/xeno-canto/north_america/empidonax_oberholseri/XC12206.ogg / 19) could not be loaded (audio_too_short). The exception was (no_exception)\n",
      "WARNING:absl:Audio loaded successfully.\n"
     ]
    },
    {
     "name": "stdout",
     "output_type": "stream",
     "text": [
      "Handling catharus_guttatus/XC421273.ogg\n"
     ]
    },
    {
     "name": "stderr",
     "output_type": "stream",
     "text": [
      "  2%|▏         | 352/21650 [01:56<1:08:28,  5.18it/s]WARNING:absl:Audio loaded successfully.\n",
      "WARNING:absl:The audio at (/Volumes/BigChongusF/Datasets/Huggingface/gadme_v1/data/downloads/extracted/33e4b5dac1f3e336b57bc91d4b4ff764b4ae70d484a82c7bdbeb5ac37d235324/data/xeno-canto/europe/anas_platyrhynchos/XC610913.ogg / 0) could not be loaded (audio_too_short). The exception was (no_exception)\n",
      "WARNING:absl:Audio loaded successfully.\n"
     ]
    },
    {
     "name": "stdout",
     "output_type": "stream",
     "text": [
      "Handling catharus_guttatus/XC285315.ogg\n"
     ]
    },
    {
     "name": "stderr",
     "output_type": "stream",
     "text": [
      "  2%|▏         | 354/21650 [01:57<1:44:15,  3.40it/s]WARNING:absl:Audio loaded successfully.\n"
     ]
    },
    {
     "name": "stdout",
     "output_type": "stream",
     "text": [
      "Handling passerella_iliaca/XC89170.ogg\n"
     ]
    },
    {
     "name": "stderr",
     "output_type": "stream",
     "text": [
      "  2%|▏         | 355/21650 [01:57<1:42:22,  3.47it/s]WARNING:absl:Audio loaded successfully.\n"
     ]
    },
    {
     "name": "stdout",
     "output_type": "stream",
     "text": [
      "Handling passerella_iliaca/XC573271.ogg\n"
     ]
    },
    {
     "name": "stderr",
     "output_type": "stream",
     "text": [
      "  2%|▏         | 356/21650 [01:58<1:54:49,  3.09it/s]WARNING:absl:Audio loaded successfully.\n"
     ]
    },
    {
     "name": "stdout",
     "output_type": "stream",
     "text": [
      "Handling zonotrichia_leucophrys/XC535286.ogg\n"
     ]
    },
    {
     "name": "stderr",
     "output_type": "stream",
     "text": [
      "  2%|▏         | 357/21650 [01:58<2:12:39,  2.68it/s]WARNING:absl:Audio loaded successfully.\n",
      "  2%|▏         | 358/21650 [01:59<1:53:43,  3.12it/s]"
     ]
    },
    {
     "name": "stdout",
     "output_type": "stream",
     "text": [
      "Handling anas_platyrhynchos/XC609373.ogg\n",
      "Handling junco_hyemalis/XC582574.ogg\n"
     ]
    },
    {
     "name": "stderr",
     "output_type": "stream",
     "text": [
      "WARNING:absl:Audio loaded successfully.\n",
      "  2%|▏         | 359/21650 [01:59<2:29:17,  2.38it/s]WARNING:absl:Audio loaded successfully.\n",
      "  2%|▏         | 360/21650 [01:59<2:00:18,  2.95it/s]WARNING:absl:Audio loaded successfully.\n",
      "WARNING:absl:The audio at (/Volumes/BigChongusF/Datasets/Huggingface/gadme_v1/data/downloads/extracted/98abf88c43673ba8815287f519e7fd3afff386504e64afb04778689c24fd08c9/data/xeno-canto/north_america/nucifraga_columbiana/XC121020.ogg / 10) could not be loaded (audio_too_short). The exception was (no_exception)\n",
      "WARNING:absl:Audio loaded successfully.\n"
     ]
    },
    {
     "name": "stdout",
     "output_type": "stream",
     "text": [
      "Handling salpinctes_obsoletus/XC351164.ogg\n",
      "Handling junco_hyemalis/XC171280.ogg\n"
     ]
    },
    {
     "name": "stderr",
     "output_type": "stream",
     "text": [
      "  2%|▏         | 362/21650 [02:00<1:19:34,  4.46it/s]WARNING:absl:Audio loaded successfully.\n",
      "  2%|▏         | 363/21650 [02:00<1:14:13,  4.78it/s]"
     ]
    },
    {
     "name": "stdout",
     "output_type": "stream",
     "text": [
      "Handling actitis_macularius/XC371207.ogg\n",
      "Handling turdus_migratorius/XC302644.ogg\n"
     ]
    },
    {
     "name": "stderr",
     "output_type": "stream",
     "text": [
      "WARNING:absl:Audio loaded successfully.\n",
      "  2%|▏         | 364/21650 [02:00<1:33:13,  3.81it/s]WARNING:absl:Audio loaded successfully.\n",
      "WARNING:absl:The audio at (/Volumes/BigChongusF/Datasets/Huggingface/gadme_v1/data/downloads/extracted/ec613fac723ec2b148b37e696a540c4078e291087c8525c0be0e654266f29161/data/xeno-canto/north_america/colaptes_auratus/XC755487.ogg / 0) could not be loaded (audio_too_short). The exception was (no_exception)\n",
      "WARNING:absl:Audio loaded successfully.\n",
      "WARNING:absl:Audio loaded successfully.\n",
      "  2%|▏         | 367/21650 [02:00<53:17,  6.66it/s]  WARNING:absl:Audio loaded successfully.\n",
      "WARNING:absl:The audio at (/Volumes/BigChongusF/Datasets/Huggingface/gadme_v1/data/downloads/extracted/ec613fac723ec2b148b37e696a540c4078e291087c8525c0be0e654266f29161/data/xeno-canto/north_america/colaptes_auratus/XC126884.ogg / 0) could not be loaded (audio_too_short). The exception was (no_exception)\n",
      "WARNING:absl:Audio loaded successfully.\n"
     ]
    },
    {
     "name": "stdout",
     "output_type": "stream",
     "text": [
      "Handling junco_hyemalis/XC415746.ogg\n",
      "Handling euphagus_cyanocephalus/XC585732.ogg\n",
      "Handling leiothlypis_celata/XC561363.ogg\n"
     ]
    },
    {
     "name": "stderr",
     "output_type": "stream",
     "text": [
      "  2%|▏         | 369/21650 [02:00<43:01,  8.24it/s]WARNING:absl:Audio loaded successfully.\n",
      "WARNING:absl:The audio at (/Volumes/BigChongusF/Datasets/Huggingface/gadme_v1/data/downloads/extracted/325835456a8f001ee2744ae1ed11bf9ada9af130981030ef2b1da7cae54cbffe/data/xeno-canto/north_america/passerella_iliaca/XC756215.ogg / 0) could not be loaded (audio_too_short). The exception was (no_exception)\n",
      "WARNING:absl:Audio loaded successfully.\n"
     ]
    },
    {
     "name": "stdout",
     "output_type": "stream",
     "text": [
      "Handling junco_hyemalis/XC373781.ogg\n"
     ]
    },
    {
     "name": "stderr",
     "output_type": "stream",
     "text": [
      "  2%|▏         | 371/21650 [02:01<41:05,  8.63it/s]WARNING:absl:Audio loaded successfully.\n",
      "WARNING:absl:Audio loaded successfully.\n",
      "WARNING:absl:The audio at (/Volumes/BigChongusF/Datasets/Huggingface/gadme_v1/data/downloads/extracted/cd49b3631d04d3feff17b776f29f4fc3d66002b528c452baf906c78c1580d75a/data/xeno-canto/north_america/setophaga_coronata/XC177338.ogg / 0) could not be loaded (audio_too_short). The exception was (no_exception)\n",
      "WARNING:absl:Audio loaded successfully.\n"
     ]
    },
    {
     "name": "stdout",
     "output_type": "stream",
     "text": [
      "Handling catharus_guttatus/XC449507.ogg\n",
      "Handling nucifraga_columbiana/XC538964.ogg\n"
     ]
    },
    {
     "name": "stderr",
     "output_type": "stream",
     "text": [
      "  2%|▏         | 374/21650 [02:01<44:47,  7.92it/s]WARNING:absl:Audio loaded successfully.\n",
      "WARNING:absl:Audio loaded successfully.\n",
      "WARNING:absl:Audio loaded successfully.\n"
     ]
    },
    {
     "name": "stdout",
     "output_type": "stream",
     "text": [
      "Handling nucifraga_columbiana/XC417735.ogg\n",
      "Handling anas_platyrhynchos/XC666547.ogg\n",
      "Handling anthus_rubescens/XC620542.ogg\n"
     ]
    },
    {
     "name": "stderr",
     "output_type": "stream",
     "text": [
      "  2%|▏         | 377/21650 [02:01<42:07,  8.42it/s]WARNING:absl:Audio loaded successfully.\n",
      "WARNING:absl:The audio at (/Volumes/BigChongusF/Datasets/Huggingface/gadme_v1/data/downloads/extracted/cd49b3631d04d3feff17b776f29f4fc3d66002b528c452baf906c78c1580d75a/data/xeno-canto/north_america/setophaga_coronata/XC137662.ogg / 1) could not be loaded (audio_too_short). The exception was (no_exception)\n",
      "WARNING:absl:Audio loaded successfully.\n",
      "WARNING:absl:The audio at (/Volumes/BigChongusF/Datasets/Huggingface/gadme_v1/data/downloads/extracted/c8c29167330b38826de4c1aa93e6bc223fc787ef2bb38599f8079bac7568f894/data/xeno-canto/north_america/anthus_rubescens/XC406161.ogg / 11) could not be loaded (audio_too_short). The exception was (no_exception)\n",
      "WARNING:absl:Audio loaded successfully.\n"
     ]
    },
    {
     "name": "stdout",
     "output_type": "stream",
     "text": [
      "Handling salpinctes_obsoletus/XC517454.ogg\n"
     ]
    },
    {
     "name": "stderr",
     "output_type": "stream",
     "text": [
      "  2%|▏         | 380/21650 [02:02<49:07,  7.22it/s]WARNING:absl:Audio loaded successfully.\n"
     ]
    },
    {
     "name": "stdout",
     "output_type": "stream",
     "text": [
      "Handling turdus_migratorius/XC630758.ogg\n"
     ]
    },
    {
     "name": "stderr",
     "output_type": "stream",
     "text": [
      "  2%|▏         | 381/21650 [02:02<1:03:19,  5.60it/s]WARNING:absl:Audio loaded successfully.\n",
      "WARNING:absl:Audio loaded successfully.\n",
      "  2%|▏         | 383/21650 [02:02<50:22,  7.04it/s]  WARNING:absl:Audio loaded successfully.\n"
     ]
    },
    {
     "name": "stdout",
     "output_type": "stream",
     "text": [
      "Handling junco_hyemalis/XC104584.ogg\n",
      "Handling vireo_gilvus/XC661363.ogg\n",
      "Handling anas_platyrhynchos/XC373788.ogg\n",
      "Handling catharus_guttatus/XC14210.ogg\n"
     ]
    },
    {
     "name": "stderr",
     "output_type": "stream",
     "text": [
      "WARNING:absl:Audio loaded successfully.\n",
      "  2%|▏         | 385/21650 [02:03<45:51,  7.73it/s]WARNING:absl:Audio loaded successfully.\n",
      "WARNING:absl:The audio at (/Volumes/BigChongusF/Datasets/Huggingface/gadme_v1/data/downloads/extracted/4ab7290c70f503dcf8a7a57aec1f76e52b2b64a87cdc69bddff95b3855268e15/data/xeno-canto/north_america/turdus_migratorius/XC158927.ogg / 2) could not be loaded (audio_too_short). The exception was (no_exception)\n",
      "WARNING:absl:Audio loaded successfully.\n",
      "WARNING:absl:Audio loaded successfully.\n"
     ]
    },
    {
     "name": "stdout",
     "output_type": "stream",
     "text": [
      "Handling turdus_migratorius/XC729934.ogg\n",
      "Handling turdus_migratorius/XC738573.ogg\n"
     ]
    },
    {
     "name": "stderr",
     "output_type": "stream",
     "text": [
      "  2%|▏         | 388/21650 [02:03<43:38,  8.12it/s]WARNING:absl:Audio loaded successfully.\n",
      "WARNING:absl:The audio at (/Volumes/BigChongusF/Datasets/Huggingface/gadme_v1/data/downloads/extracted/8dda359232b9ad0846ece0d9acaaf3b19aa81746af952a6c99bef642bdb88648/data/xeno-canto/north_america/turdus_migratorius/XC686190.ogg / 0) could not be loaded (audio_too_short). The exception was (no_exception)\n",
      "WARNING:absl:Audio loaded successfully.\n",
      "  2%|▏         | 390/21650 [02:03<40:13,  8.81it/s]"
     ]
    },
    {
     "name": "stdout",
     "output_type": "stream",
     "text": [
      "Handling zonotrichia_leucophrys/XC111735.ogg\n",
      "Handling junco_hyemalis/XC606100.ogg\n"
     ]
    },
    {
     "name": "stderr",
     "output_type": "stream",
     "text": [
      "WARNING:absl:Audio loaded successfully.\n",
      "WARNING:absl:Audio loaded successfully.\n",
      "  2%|▏         | 392/21650 [02:03<39:33,  8.96it/s]WARNING:absl:Audio loaded successfully.\n"
     ]
    },
    {
     "name": "stdout",
     "output_type": "stream",
     "text": [
      "Handling setophaga_coronata/XC244402.ogg\n",
      "Handling salpinctes_obsoletus/XC229181.ogg\n"
     ]
    },
    {
     "name": "stderr",
     "output_type": "stream",
     "text": [
      "WARNING:absl:Audio loaded successfully.\n",
      "  2%|▏         | 394/21650 [02:04<41:00,  8.64it/s]WARNING:absl:Audio loaded successfully.\n"
     ]
    },
    {
     "name": "stdout",
     "output_type": "stream",
     "text": [
      "Handling setophaga_coronata/XC644168.ogg\n",
      "Handling turdus_migratorius/XC803375.ogg\n"
     ]
    },
    {
     "name": "stderr",
     "output_type": "stream",
     "text": [
      "  2%|▏         | 395/21650 [02:04<44:07,  8.03it/s]WARNING:absl:Audio loaded successfully.\n"
     ]
    },
    {
     "name": "stdout",
     "output_type": "stream",
     "text": [
      "Handling catharus_guttatus/XC351974.ogg\n"
     ]
    },
    {
     "name": "stderr",
     "output_type": "stream",
     "text": [
      "  2%|▏         | 396/21650 [02:04<51:54,  6.82it/s]WARNING:absl:Audio loaded successfully.\n",
      "  2%|▏         | 397/21650 [02:04<50:07,  7.07it/s]WARNING:absl:Audio loaded successfully.\n",
      "WARNING:absl:The audio at (/Volumes/BigChongusF/Datasets/Huggingface/gadme_v1/data/downloads/extracted/fac58f85f06876ff8f6cab02102aac36e733cd077a257f05b209b05f983d3ecc/data/xeno-canto/north_america/vireo_gilvus/XC377366.ogg / 0) could not be loaded (audio_too_short). The exception was (no_exception)\n",
      "WARNING:absl:Audio loaded successfully.\n"
     ]
    },
    {
     "name": "stdout",
     "output_type": "stream",
     "text": [
      "Handling leiothlypis_celata/XC542618.ogg\n",
      "Handling sialia_currucoides/XC77995.ogg\n",
      "Handling anas_platyrhynchos/XC613584.ogg\n"
     ]
    },
    {
     "name": "stderr",
     "output_type": "stream",
     "text": [
      "WARNING:absl:Audio loaded successfully.\n",
      "  2%|▏         | 400/21650 [02:04<41:31,  8.53it/s]WARNING:absl:Audio loaded successfully.\n",
      "WARNING:absl:Audio loaded successfully.\n"
     ]
    },
    {
     "name": "stdout",
     "output_type": "stream",
     "text": [
      "Handling vireo_gilvus/XC323681.ogg\n",
      "Handling junco_hyemalis/XC368608.ogg\n"
     ]
    },
    {
     "name": "stderr",
     "output_type": "stream",
     "text": [
      "  2%|▏         | 402/21650 [02:05<42:31,  8.33it/s]WARNING:absl:Audio loaded successfully.\n"
     ]
    },
    {
     "name": "stdout",
     "output_type": "stream",
     "text": [
      "Handling poecile_gambeli/XC365736.ogg\n"
     ]
    },
    {
     "name": "stderr",
     "output_type": "stream",
     "text": [
      "  2%|▏         | 403/21650 [02:05<55:06,  6.43it/s]WARNING:absl:Audio loaded successfully.\n",
      "  2%|▏         | 404/21650 [02:05<55:43,  6.35it/s]"
     ]
    },
    {
     "name": "stdout",
     "output_type": "stream",
     "text": [
      "Handling junco_hyemalis/XC76620.ogg\n",
      "Handling catharus_guttatus/XC144107.ogg\n"
     ]
    },
    {
     "name": "stderr",
     "output_type": "stream",
     "text": [
      "WARNING:absl:Audio loaded successfully.\n",
      "  2%|▏         | 405/21650 [02:06<1:30:17,  3.92it/s]WARNING:absl:Audio loaded successfully.\n",
      "  2%|▏         | 406/21650 [02:06<1:22:17,  4.30it/s]"
     ]
    },
    {
     "name": "stdout",
     "output_type": "stream",
     "text": [
      "Handling haemorhous_cassinii/XC551536.ogg\n",
      "Handling haemorhous_cassinii/XC71809.ogg\n"
     ]
    },
    {
     "name": "stderr",
     "output_type": "stream",
     "text": [
      "WARNING:absl:Audio loaded successfully.\n",
      "  2%|▏         | 407/21650 [02:06<1:37:45,  3.62it/s]WARNING:absl:Audio loaded successfully.\n"
     ]
    },
    {
     "name": "stdout",
     "output_type": "stream",
     "text": [
      "Handling leiothlypis_celata/XC636627.ogg\n"
     ]
    },
    {
     "name": "stderr",
     "output_type": "stream",
     "text": [
      "  2%|▏         | 408/21650 [02:07<1:35:27,  3.71it/s]WARNING:absl:Audio loaded successfully.\n"
     ]
    },
    {
     "name": "stdout",
     "output_type": "stream",
     "text": [
      "Handling poecile_gambeli/XC494197.ogg\n"
     ]
    },
    {
     "name": "stderr",
     "output_type": "stream",
     "text": [
      "  2%|▏         | 409/21650 [02:07<1:47:38,  3.29it/s]WARNING:absl:Audio loaded successfully.\n"
     ]
    },
    {
     "name": "stdout",
     "output_type": "stream",
     "text": [
      "Handling turdus_migratorius/XC165295.ogg\n"
     ]
    },
    {
     "name": "stderr",
     "output_type": "stream",
     "text": [
      "  2%|▏         | 410/21650 [02:07<1:58:13,  2.99it/s]WARNING:absl:Audio loaded successfully.\n",
      "WARNING:absl:The audio at (/Volumes/BigChongusF/Datasets/Huggingface/gadme_v1/data/downloads/extracted/8dda359232b9ad0846ece0d9acaaf3b19aa81746af952a6c99bef642bdb88648/data/xeno-canto/north_america/turdus_migratorius/XC424786.ogg / 41) could not be loaded (audio_too_short). The exception was (no_exception)\n",
      "WARNING:absl:Audio loaded successfully.\n",
      "WARNING:absl:Audio loaded successfully.\n",
      "WARNING:absl:The audio at (/Volumes/BigChongusF/Datasets/Huggingface/gadme_v1/data/downloads/extracted/17216070f80a410ede3b3b9d5be7d7b46383bb2a629699cc6296c19d2a1c3e34/data/xeno-canto/north_america/turdus_migratorius/XC32571.ogg / 14) could not be loaded (audio_too_short). The exception was (no_exception)\n",
      "WARNING:absl:Audio loaded successfully.\n",
      "  2%|▏         | 414/21650 [02:07<50:51,  6.96it/s]  WARNING:absl:Audio loaded successfully.\n",
      "WARNING:absl:The audio at (/Volumes/BigChongusF/Datasets/Huggingface/gadme_v1/data/downloads/extracted/4ab7290c70f503dcf8a7a57aec1f76e52b2b64a87cdc69bddff95b3855268e15/data/xeno-canto/north_america/turdus_migratorius/XC1231.ogg / 2) could not be loaded (audio_too_short). The exception was (no_exception)\n",
      "WARNING:absl:Audio loaded successfully.\n"
     ]
    },
    {
     "name": "stdout",
     "output_type": "stream",
     "text": [
      "Handling salpinctes_obsoletus/XC482696.ogg\n",
      "Handling anas_platyrhynchos/XC495824.ogg\n",
      "Handling anas_platyrhynchos/XC717931.ogg\n"
     ]
    },
    {
     "name": "stderr",
     "output_type": "stream",
     "text": [
      "  2%|▏         | 416/21650 [02:08<48:23,  7.31it/s]WARNING:absl:Audio loaded successfully.\n",
      "WARNING:absl:The audio at (/Volumes/BigChongusF/Datasets/Huggingface/gadme_v1/data/downloads/extracted/98abf88c43673ba8815287f519e7fd3afff386504e64afb04778689c24fd08c9/data/xeno-canto/north_america/nucifraga_columbiana/XC105319.ogg / 42) could not be loaded (audio_too_short). The exception was (no_exception)\n",
      "WARNING:absl:Audio loaded successfully.\n",
      "WARNING:absl:Audio loaded successfully.\n",
      "WARNING:absl:The audio at (/Volumes/BigChongusF/Datasets/Huggingface/gadme_v1/data/downloads/extracted/81e1b796790f26dbc25ae8fbe4e7b2707eea32146a66d4954952be1661457843/data/xeno-canto/north_america/leiothlypis_celata/XC408281.ogg / 87) could not be loaded (audio_too_short). The exception was (no_exception)\n",
      "WARNING:absl:Audio loaded successfully.\n"
     ]
    },
    {
     "name": "stdout",
     "output_type": "stream",
     "text": [
      "Handling junco_hyemalis/XC206101.ogg\n",
      "Handling junco_hyemalis/XC199215.ogg\n"
     ]
    },
    {
     "name": "stderr",
     "output_type": "stream",
     "text": [
      "  2%|▏         | 420/21650 [02:08<43:59,  8.04it/s]WARNING:absl:Audio loaded successfully.\n",
      "WARNING:absl:Audio loaded successfully.\n",
      "WARNING:absl:The audio at (/Volumes/BigChongusF/Datasets/Huggingface/gadme_v1/data/downloads/extracted/3c91bd3b848ef81521ad069a8fa6ac2fcacb937635fd0a9971a11200269ae1f7/data/xeno-canto/north_america/anas_platyrhynchos/XC62258.ogg / 0) could not be loaded (audio_too_short). The exception was (no_exception)\n",
      "WARNING:absl:Audio loaded successfully.\n"
     ]
    },
    {
     "name": "stdout",
     "output_type": "stream",
     "text": [
      "Handling leiothlypis_celata/XC582728.ogg\n",
      "Handling actitis_macularius/XC422425.ogg\n"
     ]
    },
    {
     "name": "stderr",
     "output_type": "stream",
     "text": [
      "  2%|▏         | 423/21650 [02:08<37:36,  9.41it/s]WARNING:absl:Audio loaded successfully.\n"
     ]
    },
    {
     "name": "stdout",
     "output_type": "stream",
     "text": [
      "Handling junco_hyemalis/XC720920.ogg\n"
     ]
    },
    {
     "name": "stderr",
     "output_type": "stream",
     "text": [
      "WARNING:absl:Audio loaded successfully.\n"
     ]
    },
    {
     "name": "stdout",
     "output_type": "stream",
     "text": [
      "Handling turdus_migratorius/XC172823.ogg\n"
     ]
    },
    {
     "name": "stderr",
     "output_type": "stream",
     "text": [
      "  2%|▏         | 425/21650 [02:09<59:58,  5.90it/s]WARNING:absl:Audio loaded successfully.\n",
      "WARNING:absl:The audio at (/Volumes/BigChongusF/Datasets/Huggingface/gadme_v1/data/downloads/extracted/dacdc79178259381ae33610c1ac23ba786c77733201335d4d00617669efb593c/data/xeno-canto/north_america/vireo_gilvus/XC777683.ogg / 1) could not be loaded (audio_too_short). The exception was (no_exception)\n",
      "WARNING:absl:Audio loaded successfully.\n"
     ]
    },
    {
     "name": "stdout",
     "output_type": "stream",
     "text": [
      "Handling colaptes_auratus/XC777433.ogg\n"
     ]
    },
    {
     "name": "stderr",
     "output_type": "stream",
     "text": [
      "  2%|▏         | 427/21650 [02:09<59:43,  5.92it/s]WARNING:absl:Audio loaded successfully.\n",
      "WARNING:absl:The audio at (/Volumes/BigChongusF/Datasets/Huggingface/gadme_v1/data/downloads/extracted/3d85f3c0a899f9d3cbe3db58b54d5391856ba30e3a4e013b856bbac6ef8521eb/data/xeno-canto/north_america/euphagus_cyanocephalus/XC160095.ogg / 0) could not be loaded (audio_too_short). The exception was (no_exception)\n",
      "WARNING:absl:Audio loaded successfully.\n",
      "  2%|▏         | 429/21650 [02:10<51:57,  6.81it/s]WARNING:absl:Audio loaded successfully.\n"
     ]
    },
    {
     "name": "stdout",
     "output_type": "stream",
     "text": [
      "Handling catharus_guttatus/XC700539.ogg\n",
      "Handling zonotrichia_leucophrys/XC114666.ogg\n"
     ]
    },
    {
     "name": "stderr",
     "output_type": "stream",
     "text": [
      "WARNING:absl:Audio loaded successfully.\n",
      "  2%|▏         | 431/21650 [02:10<49:50,  7.10it/s]"
     ]
    },
    {
     "name": "stdout",
     "output_type": "stream",
     "text": [
      "Handling turdus_migratorius/XC626745.ogg\n",
      "Handling setophaga_petechia/XC407127.ogg\n"
     ]
    },
    {
     "name": "stderr",
     "output_type": "stream",
     "text": [
      "WARNING:absl:Audio loaded successfully.\n",
      "  2%|▏         | 432/21650 [02:11<1:24:26,  4.19it/s]WARNING:absl:Audio loaded successfully.\n"
     ]
    },
    {
     "name": "stdout",
     "output_type": "stream",
     "text": [
      "Handling anas_platyrhynchos/XC540531.ogg\n"
     ]
    },
    {
     "name": "stderr",
     "output_type": "stream",
     "text": [
      "  2%|▏         | 433/21650 [02:11<1:29:35,  3.95it/s]WARNING:absl:Audio loaded successfully.\n"
     ]
    },
    {
     "name": "stdout",
     "output_type": "stream",
     "text": [
      "Handling turdus_migratorius/XC134500.ogg\n"
     ]
    },
    {
     "name": "stderr",
     "output_type": "stream",
     "text": [
      "  2%|▏         | 434/21650 [02:11<1:40:00,  3.54it/s]WARNING:absl:Audio loaded successfully.\n",
      "WARNING:absl:The audio at (/Volumes/BigChongusF/Datasets/Huggingface/gadme_v1/data/downloads/extracted/3c91bd3b848ef81521ad069a8fa6ac2fcacb937635fd0a9971a11200269ae1f7/data/xeno-canto/north_america/anas_platyrhynchos/XC656801.ogg / 0) could not be loaded (audio_too_short). The exception was (no_exception)\n",
      "WARNING:absl:Audio loaded successfully.\n",
      "WARNING:absl:The audio at (/Volumes/BigChongusF/Datasets/Huggingface/gadme_v1/data/downloads/extracted/cd49b3631d04d3feff17b776f29f4fc3d66002b528c452baf906c78c1580d75a/data/xeno-canto/north_america/setophaga_coronata/XC30790.ogg / 31) could not be loaded (audio_too_short). The exception was (no_exception)\n",
      "WARNING:absl:Audio loaded successfully.\n"
     ]
    },
    {
     "name": "stdout",
     "output_type": "stream",
     "text": [
      "Handling setophaga_coronata/XC640361.ogg\n"
     ]
    },
    {
     "name": "stderr",
     "output_type": "stream",
     "text": [
      "  2%|▏         | 437/21650 [02:12<1:18:20,  4.51it/s]WARNING:absl:Audio loaded successfully.\n",
      "WARNING:absl:Audio loaded successfully.\n",
      "WARNING:absl:The audio at (/Volumes/BigChongusF/Datasets/Huggingface/gadme_v1/data/downloads/extracted/c05b01b23568feda718271d2aa149124fd50d510bd99663cbd8752481054e53b/data/xeno-canto/north_america/actitis_macularius/XC322582.ogg / 1) could not be loaded (audio_too_short). The exception was (no_exception)\n",
      "WARNING:absl:Audio loaded successfully.\n"
     ]
    },
    {
     "name": "stdout",
     "output_type": "stream",
     "text": [
      "Handling zonotrichia_leucophrys/XC110573.ogg\n",
      "Handling turdus_migratorius/XC377115.ogg\n"
     ]
    },
    {
     "name": "stderr",
     "output_type": "stream",
     "text": [
      "  2%|▏         | 440/21650 [02:12<1:00:55,  5.80it/s]WARNING:absl:Audio loaded successfully.\n",
      "WARNING:absl:Audio loaded successfully.\n",
      "  2%|▏         | 442/21650 [02:12<50:07,  7.05it/s]  WARNING:absl:Audio loaded successfully.\n"
     ]
    },
    {
     "name": "stdout",
     "output_type": "stream",
     "text": [
      "Handling turdus_migratorius/XC558332.ogg\n",
      "Handling anas_platyrhynchos/XC560160.ogg\n",
      "Handling leiothlypis_celata/XC683408.ogg\n"
     ]
    },
    {
     "name": "stderr",
     "output_type": "stream",
     "text": [
      "  2%|▏         | 443/21650 [02:12<50:40,  6.97it/s]WARNING:absl:Audio loaded successfully.\n",
      "WARNING:absl:The audio at (/Volumes/BigChongusF/Datasets/Huggingface/gadme_v1/data/downloads/extracted/81e1b796790f26dbc25ae8fbe4e7b2707eea32146a66d4954952be1661457843/data/xeno-canto/north_america/leiothlypis_celata/XC159087.ogg / 13) could not be loaded (audio_too_short). The exception was (no_exception)\n",
      "WARNING:absl:Audio loaded successfully.\n",
      "WARNING:absl:Audio loaded successfully.\n"
     ]
    },
    {
     "name": "stdout",
     "output_type": "stream",
     "text": [
      "Handling colaptes_auratus/XC199950.ogg\n",
      "Handling colaptes_auratus/XC79670.ogg\n"
     ]
    },
    {
     "name": "stderr",
     "output_type": "stream",
     "text": [
      "  2%|▏         | 446/21650 [02:13<41:56,  8.43it/s]WARNING:absl:Audio loaded successfully.\n",
      "WARNING:absl:The audio at (/Volumes/BigChongusF/Datasets/Huggingface/gadme_v1/data/downloads/extracted/2bce4b9a431bfaabea14c251131c45f38745678853f058a2b2f6b863156d4d60/data/xeno-canto/north_america/catharus_guttatus/XC157655.ogg / 64) could not be loaded (audio_too_short). The exception was (no_exception)\n",
      "WARNING:absl:Audio loaded successfully.\n",
      "  2%|▏         | 448/21650 [02:13<35:26,  9.97it/s]WARNING:absl:Audio loaded successfully.\n"
     ]
    },
    {
     "name": "stdout",
     "output_type": "stream",
     "text": [
      "Handling turdus_migratorius/XC599316.ogg\n",
      "Handling turdus_migratorius/XC322884.ogg\n",
      "Handling vireo_gilvus/XC733271.ogg\n"
     ]
    },
    {
     "name": "stderr",
     "output_type": "stream",
     "text": [
      "WARNING:absl:Audio loaded successfully.\n",
      "  2%|▏         | 450/21650 [02:14<1:36:41,  3.65it/s]WARNING:absl:Audio loaded successfully.\n"
     ]
    },
    {
     "name": "stdout",
     "output_type": "stream",
     "text": [
      "Handling anas_platyrhynchos/XC262842.ogg\n"
     ]
    },
    {
     "name": "stderr",
     "output_type": "stream",
     "text": [
      "  2%|▏         | 451/21650 [02:15<2:06:23,  2.80it/s]WARNING:absl:Audio loaded successfully.\n"
     ]
    },
    {
     "name": "stdout",
     "output_type": "stream",
     "text": [
      "Handling catharus_guttatus/XC299732.ogg\n"
     ]
    },
    {
     "name": "stderr",
     "output_type": "stream",
     "text": [
      "  2%|▏         | 452/21650 [02:16<2:26:41,  2.41it/s]WARNING:absl:Audio loaded successfully.\n",
      "  2%|▏         | 453/21650 [02:16<2:06:43,  2.79it/s]WARNING:absl:Audio loaded successfully.\n"
     ]
    },
    {
     "name": "stdout",
     "output_type": "stream",
     "text": [
      "Handling empidonax_oberholseri/XC123850.ogg\n",
      "Handling leiothlypis_celata/XC683408.ogg\n"
     ]
    },
    {
     "name": "stderr",
     "output_type": "stream",
     "text": [
      "WARNING:absl:Audio loaded successfully.\n"
     ]
    },
    {
     "name": "stdout",
     "output_type": "stream",
     "text": [
      "Handling catharus_guttatus/XC138247.ogg\n"
     ]
    },
    {
     "name": "stderr",
     "output_type": "stream",
     "text": [
      "  2%|▏         | 455/21650 [02:16<1:36:19,  3.67it/s]WARNING:absl:Audio loaded successfully.\n",
      "WARNING:absl:The audio at (/Volumes/BigChongusF/Datasets/Huggingface/gadme_v1/data/downloads/extracted/cd49b3631d04d3feff17b776f29f4fc3d66002b528c452baf906c78c1580d75a/data/xeno-canto/north_america/setophaga_coronata/XC644169.ogg / 0) could not be loaded (audio_too_short). The exception was (no_exception)\n",
      "WARNING:absl:Audio loaded successfully.\n",
      "WARNING:absl:The audio at (/Volumes/BigChongusF/Datasets/Huggingface/gadme_v1/data/downloads/extracted/3d85f3c0a899f9d3cbe3db58b54d5391856ba30e3a4e013b856bbac6ef8521eb/data/xeno-canto/north_america/leiothlypis_celata/XC354834.ogg / 1) could not be loaded (audio_too_short). The exception was (no_exception)\n",
      "WARNING:absl:Audio loaded successfully.\n",
      "  2%|▏         | 458/21650 [02:16<1:00:23,  5.85it/s]WARNING:absl:Audio loaded successfully.\n",
      "WARNING:absl:The audio at (/Volumes/BigChongusF/Datasets/Huggingface/gadme_v1/data/downloads/extracted/33e4b5dac1f3e336b57bc91d4b4ff764b4ae70d484a82c7bdbeb5ac37d235324/data/xeno-canto/europe/anas_platyrhynchos/XC658853.ogg / 0) could not be loaded (audio_too_short). The exception was (no_exception)\n",
      "WARNING:absl:Audio loaded successfully.\n"
     ]
    },
    {
     "name": "stdout",
     "output_type": "stream",
     "text": [
      "Handling anas_platyrhynchos/XC351834.ogg\n",
      "Handling turdus_migratorius/XC159905.ogg\n"
     ]
    },
    {
     "name": "stderr",
     "output_type": "stream",
     "text": [
      "  2%|▏         | 460/21650 [02:16<49:28,  7.14it/s]  WARNING:absl:Audio loaded successfully.\n",
      "WARNING:absl:The audio at (/Volumes/BigChongusF/Datasets/Huggingface/gadme_v1/data/downloads/extracted/657bb7ca7e00d187968c3a3fed754f2f43eea8c80f8b9290f46e2ef76a629ca6/data/xeno-canto/north_america/zonotrichia_leucophrys/XC160206.ogg / 1) could not be loaded (audio_too_short). The exception was (no_exception)\n",
      "WARNING:absl:Audio loaded successfully.\n",
      "WARNING:absl:Audio loaded successfully.\n"
     ]
    },
    {
     "name": "stdout",
     "output_type": "stream",
     "text": [
      "Handling leucosticte_tephrocotis/XC352925.ogg\n",
      "Handling colaptes_auratus/XC337472.ogg\n"
     ]
    },
    {
     "name": "stderr",
     "output_type": "stream",
     "text": [
      "  2%|▏         | 463/21650 [02:17<53:14,  6.63it/s]WARNING:absl:Audio loaded successfully.\n"
     ]
    },
    {
     "name": "stdout",
     "output_type": "stream",
     "text": [
      "Handling turdus_migratorius/XC771919.ogg\n"
     ]
    },
    {
     "name": "stderr",
     "output_type": "stream",
     "text": [
      "WARNING:absl:Audio loaded successfully.\n",
      "  2%|▏         | 465/21650 [02:17<1:01:31,  5.74it/s]WARNING:absl:Audio loaded successfully.\n",
      "WARNING:absl:The audio at (/Volumes/BigChongusF/Datasets/Huggingface/gadme_v1/data/downloads/extracted/311d741def45c8db5627f28a29fb12fae011eadb4408d855d15c5dbda8c53dd4/data/xeno-canto/south_america/setophaga_petechia/XC259452.ogg / 7) could not be loaded (audio_too_short). The exception was (no_exception)\n",
      "WARNING:absl:Audio loaded successfully.\n"
     ]
    },
    {
     "name": "stdout",
     "output_type": "stream",
     "text": [
      "Handling poecile_gambeli/XC224196.ogg\n",
      "Handling junco_hyemalis/XC269463.ogg\n"
     ]
    },
    {
     "name": "stderr",
     "output_type": "stream",
     "text": [
      "WARNING:absl:Audio loaded successfully.\n"
     ]
    },
    {
     "name": "stdout",
     "output_type": "stream",
     "text": [
      "Handling actitis_macularius/XC480225.ogg\n"
     ]
    },
    {
     "name": "stderr",
     "output_type": "stream",
     "text": [
      "  2%|▏         | 468/21650 [02:18<1:08:37,  5.14it/s]WARNING:absl:Audio loaded successfully.\n",
      "WARNING:absl:The audio at (/Volumes/BigChongusF/Datasets/Huggingface/gadme_v1/data/downloads/extracted/3d85f3c0a899f9d3cbe3db58b54d5391856ba30e3a4e013b856bbac6ef8521eb/data/xeno-canto/north_america/leiothlypis_celata/XC808325.ogg / 0) could not be loaded (audio_too_short). The exception was (no_exception)\n",
      "WARNING:absl:Audio loaded successfully.\n",
      "WARNING:absl:The audio at (/Volumes/BigChongusF/Datasets/Huggingface/gadme_v1/data/downloads/extracted/11822cb7774f0c8fc8baf7b5f803ac199e8389f4e7915de926ef11f732fc0c36/data/xeno-canto/north_america/catharus_guttatus/XC328324.ogg / 45) could not be loaded (audio_too_short). The exception was (no_exception)\n",
      "WARNING:absl:Audio loaded successfully.\n",
      "  2%|▏         | 471/21650 [02:18<49:21,  7.15it/s]  WARNING:absl:Audio loaded successfully.\n",
      "WARNING:absl:Audio loaded successfully.\n",
      "WARNING:absl:The audio at (/Volumes/BigChongusF/Datasets/Huggingface/gadme_v1/data/downloads/extracted/33e4b5dac1f3e336b57bc91d4b4ff764b4ae70d484a82c7bdbeb5ac37d235324/data/xeno-canto/europe/anas_platyrhynchos/XC789597.ogg / 0) could not be loaded (audio_too_short). The exception was (no_exception)\n"
     ]
    },
    {
     "name": "stdout",
     "output_type": "stream",
     "text": [
      "Handling catharus_guttatus/XC53784.ogg\n",
      "Handling nucifraga_columbiana/XC105326.ogg\n",
      "Handling turdus_migratorius/XC476984.ogg\n"
     ]
    },
    {
     "name": "stderr",
     "output_type": "stream",
     "text": [
      "WARNING:absl:Audio loaded successfully.\n",
      "WARNING:absl:The audio at (/Volumes/BigChongusF/Datasets/Huggingface/gadme_v1/data/downloads/extracted/fac58f85f06876ff8f6cab02102aac36e733cd077a257f05b209b05f983d3ecc/data/xeno-canto/north_america/vireo_gilvus/XC142119.ogg / 3) could not be loaded (audio_too_short). The exception was (no_exception)\n",
      "WARNING:absl:Audio loaded successfully.\n",
      "  2%|▏         | 475/21650 [02:19<50:42,  6.96it/s]WARNING:absl:Audio loaded successfully.\n",
      "WARNING:absl:The audio at (/Volumes/BigChongusF/Datasets/Huggingface/gadme_v1/data/downloads/extracted/3d85f3c0a899f9d3cbe3db58b54d5391856ba30e3a4e013b856bbac6ef8521eb/data/xeno-canto/north_america/euphagus_cyanocephalus/XC205757.ogg / 7) could not be loaded (audio_too_short). The exception was (no_exception)\n",
      "WARNING:absl:Audio loaded successfully.\n",
      "WARNING:absl:The audio at (/Volumes/BigChongusF/Datasets/Huggingface/gadme_v1/data/downloads/extracted/657bb7ca7e00d187968c3a3fed754f2f43eea8c80f8b9290f46e2ef76a629ca6/data/xeno-canto/north_america/zonotrichia_leucophrys/XC570394.ogg / 3) could not be loaded (audio_too_short). The exception was (no_exception)\n",
      "WARNING:absl:Audio loaded successfully.\n"
     ]
    },
    {
     "name": "stdout",
     "output_type": "stream",
     "text": [
      "Handling empidonax_oberholseri/XC571045.ogg\n"
     ]
    },
    {
     "name": "stderr",
     "output_type": "stream",
     "text": [
      "  2%|▏         | 478/21650 [02:19<51:30,  6.85it/s]WARNING:absl:Audio loaded successfully.\n"
     ]
    },
    {
     "name": "stdout",
     "output_type": "stream",
     "text": [
      "Handling poecile_gambeli/XC224196.ogg\n"
     ]
    },
    {
     "name": "stderr",
     "output_type": "stream",
     "text": [
      "  2%|▏         | 479/21650 [02:19<57:52,  6.10it/s]WARNING:absl:Audio loaded successfully.\n"
     ]
    },
    {
     "name": "stdout",
     "output_type": "stream",
     "text": [
      "Handling passerella_iliaca/XC322798.ogg\n"
     ]
    },
    {
     "name": "stderr",
     "output_type": "stream",
     "text": [
      "  2%|▏         | 480/21650 [02:20<1:05:26,  5.39it/s]WARNING:absl:Audio loaded successfully.\n",
      "WARNING:absl:Audio loaded successfully.\n",
      "  2%|▏         | 482/21650 [02:20<53:02,  6.65it/s]  WARNING:absl:Audio loaded successfully.\n"
     ]
    },
    {
     "name": "stdout",
     "output_type": "stream",
     "text": [
      "Handling zonotrichia_leucophrys/XC535282.ogg\n",
      "Handling haemorhous_cassinii/XC551515.ogg\n",
      "Handling turdus_migratorius/XC131093.ogg\n",
      "Handling catharus_guttatus/XC187622.ogg\n"
     ]
    },
    {
     "name": "stderr",
     "output_type": "stream",
     "text": [
      "WARNING:absl:Audio loaded successfully.\n",
      "  2%|▏         | 484/21650 [02:20<1:10:22,  5.01it/s]WARNING:absl:Audio loaded successfully.\n"
     ]
    },
    {
     "name": "stdout",
     "output_type": "stream",
     "text": [
      "Handling junco_hyemalis/XC192496.ogg\n"
     ]
    },
    {
     "name": "stderr",
     "output_type": "stream",
     "text": [
      "  2%|▏         | 485/21650 [02:21<1:51:25,  3.17it/s]WARNING:absl:Audio loaded successfully.\n",
      "  2%|▏         | 486/21650 [02:21<1:37:03,  3.63it/s]WARNING:absl:Audio loaded successfully.\n",
      "WARNING:absl:Audio loaded successfully.\n"
     ]
    },
    {
     "name": "stdout",
     "output_type": "stream",
     "text": [
      "Handling turdus_migratorius/XC172996.ogg\n",
      "Handling vireo_gilvus/XC501583.ogg\n",
      "Handling colaptes_auratus/XC661731.ogg\n"
     ]
    },
    {
     "name": "stderr",
     "output_type": "stream",
     "text": [
      "  2%|▏         | 488/21650 [02:22<1:19:29,  4.44it/s]WARNING:absl:Audio loaded successfully.\n"
     ]
    },
    {
     "name": "stdout",
     "output_type": "stream",
     "text": [
      "Handling vireo_gilvus/XC80751.ogg\n"
     ]
    },
    {
     "name": "stderr",
     "output_type": "stream",
     "text": [
      "  2%|▏         | 489/21650 [02:22<1:20:34,  4.38it/s]WARNING:absl:Audio loaded successfully.\n",
      "WARNING:absl:Audio loaded successfully.\n",
      "  2%|▏         | 491/21650 [02:22<1:03:07,  5.59it/s]"
     ]
    },
    {
     "name": "stdout",
     "output_type": "stream",
     "text": [
      "Handling junco_hyemalis/XC125078.ogg\n",
      "Handling actitis_macularius/XC31323.ogg\n",
      "Handling setophaga_petechia/XC32085.ogg\n"
     ]
    },
    {
     "name": "stderr",
     "output_type": "stream",
     "text": [
      "WARNING:absl:Audio loaded successfully.\n",
      "  2%|▏         | 492/21650 [02:22<1:05:02,  5.42it/s]WARNING:absl:Audio loaded successfully.\n",
      "  2%|▏         | 493/21650 [02:22<1:05:25,  5.39it/s]"
     ]
    },
    {
     "name": "stdout",
     "output_type": "stream",
     "text": [
      "Handling junco_hyemalis/XC561763.ogg\n",
      "Handling turdus_migratorius/XC785958.ogg\n"
     ]
    },
    {
     "name": "stderr",
     "output_type": "stream",
     "text": [
      "WARNING:absl:Audio loaded successfully.\n",
      "  2%|▏         | 494/21650 [02:23<1:00:09,  5.86it/s]WARNING:absl:Audio loaded successfully.\n",
      "WARNING:absl:Audio loaded successfully.\n",
      "  2%|▏         | 496/21650 [02:23<44:45,  7.88it/s]  WARNING:absl:Audio loaded successfully.\n",
      "WARNING:absl:The audio at (/Volumes/BigChongusF/Datasets/Huggingface/gadme_v1/data/downloads/extracted/311d741def45c8db5627f28a29fb12fae011eadb4408d855d15c5dbda8c53dd4/data/xeno-canto/north_america/setophaga_petechia/XC632196.ogg / 16) could not be loaded (audio_too_short). The exception was (no_exception)\n",
      "WARNING:absl:Audio loaded successfully.\n"
     ]
    },
    {
     "name": "stdout",
     "output_type": "stream",
     "text": [
      "Handling salpinctes_obsoletus/XC146165.ogg\n",
      "Handling junco_hyemalis/XC104586.ogg\n",
      "Handling junco_hyemalis/XC135547.ogg\n",
      "Handling setophaga_coronata/XC504133.ogg\n"
     ]
    },
    {
     "name": "stderr",
     "output_type": "stream",
     "text": [
      "WARNING:absl:Audio loaded successfully.\n",
      "  2%|▏         | 499/21650 [02:23<31:31, 11.18it/s]WARNING:absl:Audio loaded successfully.\n"
     ]
    },
    {
     "name": "stdout",
     "output_type": "stream",
     "text": [
      "Handling haemorhous_cassinii/XC369900.ogg\n",
      "Handling junco_hyemalis/XC473419.ogg\n"
     ]
    },
    {
     "name": "stderr",
     "output_type": "stream",
     "text": [
      "WARNING:absl:Audio loaded successfully.\n",
      "  2%|▏         | 501/21650 [02:24<1:36:50,  3.64it/s]WARNING:absl:Audio loaded successfully.\n",
      "WARNING:absl:Audio loaded successfully.\n"
     ]
    },
    {
     "name": "stdout",
     "output_type": "stream",
     "text": [
      "Handling turdus_migratorius/XC234171.ogg\n",
      "Handling turdus_migratorius/XC114083.ogg\n"
     ]
    },
    {
     "name": "stderr",
     "output_type": "stream",
     "text": [
      "  2%|▏         | 503/21650 [02:25<1:20:22,  4.38it/s]WARNING:absl:Audio loaded successfully.\n",
      "WARNING:absl:The audio at (/Volumes/BigChongusF/Datasets/Huggingface/gadme_v1/data/downloads/extracted/ada15457cc2a05bc400bb7409cbc22ad2f43c290ca6a05bf824bb875476f852c/data/xeno-canto/north_america/junco_hyemalis/XC683445.ogg / 0) could not be loaded (audio_too_short). The exception was (no_exception)\n",
      "WARNING:absl:Audio loaded successfully.\n",
      "WARNING:absl:The audio at (/Volumes/BigChongusF/Datasets/Huggingface/gadme_v1/data/downloads/extracted/4fb52febc9ddf975fdb63222180f988dd27c8c7cb7b968eda935c6020ef0e853/data/xeno-canto/europe/anthus_rubescens/XC113724.ogg / 0) could not be loaded (audio_too_short). The exception was (no_exception)\n",
      "WARNING:absl:Audio loaded successfully.\n",
      "  2%|▏         | 506/21650 [02:25<55:59,  6.29it/s]  "
     ]
    },
    {
     "name": "stdout",
     "output_type": "stream",
     "text": [
      "Handling colaptes_auratus/XC141866.ogg\n",
      "Handling leiothlypis_celata/XC178855.ogg\n"
     ]
    },
    {
     "name": "stderr",
     "output_type": "stream",
     "text": [
      "WARNING:absl:Audio loaded successfully.\n",
      "WARNING:absl:Audio loaded successfully.\n",
      "WARNING:absl:The audio at (/Volumes/BigChongusF/Datasets/Huggingface/gadme_v1/data/downloads/extracted/325835456a8f001ee2744ae1ed11bf9ada9af130981030ef2b1da7cae54cbffe/data/xeno-canto/north_america/passerella_iliaca/XC54718.ogg / 1) could not be loaded (audio_too_short). The exception was (no_exception)\n",
      "  2%|▏         | 508/21650 [02:25<1:08:07,  5.17it/s]WARNING:absl:Audio loaded successfully.\n",
      "WARNING:absl:The audio at (/Volumes/BigChongusF/Datasets/Huggingface/gadme_v1/data/downloads/extracted/fac58f85f06876ff8f6cab02102aac36e733cd077a257f05b209b05f983d3ecc/data/xeno-canto/north_america/vireo_gilvus/XC232121.ogg / 1) could not be loaded (audio_too_short). The exception was (no_exception)\n",
      "WARNING:absl:Audio loaded successfully.\n",
      "WARNING:absl:The audio at (/Volumes/BigChongusF/Datasets/Huggingface/gadme_v1/data/downloads/extracted/7c313317d9bce50ea88db0b3d3672870e262462cefb5c130892cba54b586da3d/data/xeno-canto/north_america/salpinctes_obsoletus/XC701244.ogg / 0) could not be loaded (audio_too_short). The exception was (no_exception)\n",
      "WARNING:absl:Audio loaded successfully.\n",
      "WARNING:absl:The audio at (/Volumes/BigChongusF/Datasets/Huggingface/gadme_v1/data/downloads/extracted/fac58f85f06876ff8f6cab02102aac36e733cd077a257f05b209b05f983d3ecc/data/xeno-canto/north_america/vireo_gilvus/XC101648.ogg / 5) could not be loaded (audio_too_short). The exception was (no_exception)\n",
      "WARNING:absl:Audio loaded successfully.\n",
      "  2%|▏         | 512/21650 [02:25<42:08,  8.36it/s]  "
     ]
    },
    {
     "name": "stdout",
     "output_type": "stream",
     "text": [
      "Handling anas_platyrhynchos/XC601748.ogg\n",
      "Handling anas_platyrhynchos/XC123501.ogg\n"
     ]
    },
    {
     "name": "stderr",
     "output_type": "stream",
     "text": [
      "WARNING:absl:Audio loaded successfully.\n",
      "WARNING:absl:Audio loaded successfully.\n"
     ]
    },
    {
     "name": "stdout",
     "output_type": "stream",
     "text": [
      "Handling zonotrichia_leucophrys/XC725965.ogg\n"
     ]
    },
    {
     "name": "stderr",
     "output_type": "stream",
     "text": [
      "  2%|▏         | 514/21650 [02:26<1:19:37,  4.42it/s]WARNING:absl:Audio loaded successfully.\n"
     ]
    },
    {
     "name": "stdout",
     "output_type": "stream",
     "text": [
      "Handling junco_hyemalis/XC703742.ogg\n"
     ]
    },
    {
     "name": "stderr",
     "output_type": "stream",
     "text": [
      "WARNING:absl:Audio loaded successfully.\n",
      "  2%|▏         | 516/21650 [02:27<1:19:14,  4.44it/s]WARNING:absl:Audio loaded successfully.\n"
     ]
    },
    {
     "name": "stdout",
     "output_type": "stream",
     "text": [
      "Handling haemorhous_cassinii/XC413534.ogg\n",
      "Handling junco_hyemalis/XC477131.ogg\n"
     ]
    },
    {
     "name": "stderr",
     "output_type": "stream",
     "text": [
      "WARNING:absl:Audio loaded successfully.\n",
      "  2%|▏         | 518/21650 [02:28<1:46:29,  3.31it/s]"
     ]
    },
    {
     "name": "stdout",
     "output_type": "stream",
     "text": [
      "Handling catharus_guttatus/XC298746.ogg\n",
      "Handling zonotrichia_leucophrys/XC184231.ogg\n"
     ]
    },
    {
     "name": "stderr",
     "output_type": "stream",
     "text": [
      "WARNING:absl:Audio loaded successfully.\n",
      "WARNING:absl:The audio at (/Volumes/BigChongusF/Datasets/Huggingface/gadme_v1/data/downloads/extracted/17216070f80a410ede3b3b9d5be7d7b46383bb2a629699cc6296c19d2a1c3e34/data/xeno-canto/north_america/turdus_migratorius/XC375006.ogg / 39) could not be loaded (audio_too_short). The exception was (no_exception)\n",
      "WARNING:absl:Audio loaded successfully.\n",
      "  2%|▏         | 520/21650 [02:28<1:26:27,  4.07it/s]WARNING:absl:Audio loaded successfully.\n",
      "  2%|▏         | 521/21650 [02:28<1:22:01,  4.29it/s]WARNING:absl:Audio loaded successfully.\n"
     ]
    },
    {
     "name": "stdout",
     "output_type": "stream",
     "text": [
      "Handling junco_hyemalis/XC785275.ogg\n",
      "Handling zonotrichia_leucophrys/XC353606.ogg\n"
     ]
    },
    {
     "name": "stderr",
     "output_type": "stream",
     "text": [
      "WARNING:absl:Audio loaded successfully.\n"
     ]
    },
    {
     "name": "stdout",
     "output_type": "stream",
     "text": [
      "Handling actitis_macularius/XC322582.ogg\n"
     ]
    },
    {
     "name": "stderr",
     "output_type": "stream",
     "text": [
      "  2%|▏         | 523/21650 [02:29<1:22:30,  4.27it/s]WARNING:absl:Audio loaded successfully.\n",
      "  2%|▏         | 524/21650 [02:29<1:15:33,  4.66it/s]WARNING:absl:Audio loaded successfully.\n",
      "WARNING:absl:The audio at (/Volumes/BigChongusF/Datasets/Huggingface/gadme_v1/data/downloads/extracted/3944287c00a98d3d9edcb7467992ad5fbf2cebeec4c9e389027ef676be012aef/data/xeno-canto/north_america/poecile_gambeli/XC76625.ogg / 1) could not be loaded (audio_too_short). The exception was (no_exception)\n",
      "WARNING:absl:Audio loaded successfully.\n",
      "WARNING:absl:The audio at (/Volumes/BigChongusF/Datasets/Huggingface/gadme_v1/data/downloads/extracted/3c91bd3b848ef81521ad069a8fa6ac2fcacb937635fd0a9971a11200269ae1f7/data/xeno-canto/europe/anas_platyrhynchos/XC56301.ogg / 0) could not be loaded (audio_too_short). The exception was (no_exception)\n",
      "WARNING:absl:Audio loaded successfully.\n"
     ]
    },
    {
     "name": "stdout",
     "output_type": "stream",
     "text": [
      "Handling salpinctes_obsoletus/XC196938.ogg\n",
      "Handling colaptes_auratus/XC768332.ogg\n"
     ]
    },
    {
     "name": "stderr",
     "output_type": "stream",
     "text": [
      "  2%|▏         | 527/21650 [02:29<55:23,  6.36it/s]  WARNING:absl:Audio loaded successfully.\n",
      "WARNING:absl:The audio at (/Volumes/BigChongusF/Datasets/Huggingface/gadme_v1/data/downloads/extracted/311d741def45c8db5627f28a29fb12fae011eadb4408d855d15c5dbda8c53dd4/data/xeno-canto/north_america/setophaga_petechia/XC571035.ogg / 2) could not be loaded (audio_too_short). The exception was (no_exception)\n",
      "WARNING:absl:Audio loaded successfully.\n",
      "WARNING:absl:The audio at (/Volumes/BigChongusF/Datasets/Huggingface/gadme_v1/data/downloads/extracted/3c91bd3b848ef81521ad069a8fa6ac2fcacb937635fd0a9971a11200269ae1f7/data/xeno-canto/north_america/anas_platyrhynchos/XC630773.ogg / 2) could not be loaded (audio_too_short). The exception was (no_exception)\n",
      "WARNING:absl:Audio loaded successfully.\n"
     ]
    },
    {
     "name": "stdout",
     "output_type": "stream",
     "text": [
      "Handling euphagus_cyanocephalus/XC764037.ogg\n"
     ]
    },
    {
     "name": "stderr",
     "output_type": "stream",
     "text": [
      "  2%|▏         | 530/21650 [02:30<57:03,  6.17it/s]WARNING:absl:Audio loaded successfully.\n",
      "  2%|▏         | 531/21650 [02:30<57:20,  6.14it/s]"
     ]
    },
    {
     "name": "stdout",
     "output_type": "stream",
     "text": [
      "Handling passerella_iliaca/XC157764.ogg\n",
      "Handling salpinctes_obsoletus/XC554608.ogg\n"
     ]
    },
    {
     "name": "stderr",
     "output_type": "stream",
     "text": [
      "WARNING:absl:Audio loaded successfully.\n",
      "  2%|▏         | 532/21650 [02:30<1:12:15,  4.87it/s]WARNING:absl:Audio loaded successfully.\n",
      "WARNING:absl:The audio at (/Volumes/BigChongusF/Datasets/Huggingface/gadme_v1/data/downloads/extracted/3944287c00a98d3d9edcb7467992ad5fbf2cebeec4c9e389027ef676be012aef/data/xeno-canto/north_america/poecile_gambeli/XC304670.ogg / 16) could not be loaded (audio_too_short). The exception was (no_exception)\n",
      "WARNING:absl:Audio loaded successfully.\n",
      "  2%|▏         | 534/21650 [02:30<55:46,  6.31it/s]  WARNING:absl:Audio loaded successfully.\n"
     ]
    },
    {
     "name": "stdout",
     "output_type": "stream",
     "text": [
      "Handling junco_hyemalis/XC571054.ogg\n",
      "Handling turdus_migratorius/XC779497.ogg\n",
      "Handling actitis_macularius/XC453000.ogg\n"
     ]
    },
    {
     "name": "stderr",
     "output_type": "stream",
     "text": [
      "WARNING:absl:Audio loaded successfully.\n",
      "  2%|▏         | 536/21650 [02:31<1:02:34,  5.62it/s]WARNING:absl:Audio loaded successfully.\n",
      "WARNING:absl:Audio loaded successfully.\n",
      "WARNING:absl:The audio at (/Volumes/BigChongusF/Datasets/Huggingface/gadme_v1/data/downloads/extracted/dacdc79178259381ae33610c1ac23ba786c77733201335d4d00617669efb593c/data/xeno-canto/north_america/vireo_gilvus/XC73038.ogg / 0) could not be loaded (audio_too_short). The exception was (no_exception)\n",
      "WARNING:absl:Audio loaded successfully.\n"
     ]
    },
    {
     "name": "stdout",
     "output_type": "stream",
     "text": [
      "Handling leiothlypis_celata/XC157770.ogg\n",
      "Handling anas_platyrhynchos/XC217664.ogg\n"
     ]
    },
    {
     "name": "stderr",
     "output_type": "stream",
     "text": [
      "  2%|▏         | 539/21650 [02:32<1:12:28,  4.85it/s]WARNING:absl:Audio loaded successfully.\n",
      "WARNING:absl:The audio at (/Volumes/BigChongusF/Datasets/Huggingface/gadme_v1/data/downloads/extracted/325835456a8f001ee2744ae1ed11bf9ada9af130981030ef2b1da7cae54cbffe/data/xeno-canto/north_america/passerella_iliaca/XC147526.ogg / 0) could not be loaded (audio_too_short). The exception was (no_exception)\n",
      "WARNING:absl:Audio loaded successfully.\n"
     ]
    },
    {
     "name": "stdout",
     "output_type": "stream",
     "text": [
      "Handling zonotrichia_leucophrys/XC160197.ogg\n"
     ]
    },
    {
     "name": "stderr",
     "output_type": "stream",
     "text": [
      "  2%|▏         | 541/21650 [02:32<1:21:29,  4.32it/s]WARNING:absl:Audio loaded successfully.\n",
      "  3%|▎         | 542/21650 [02:32<1:16:42,  4.59it/s]WARNING:absl:Audio loaded successfully.\n"
     ]
    },
    {
     "name": "stdout",
     "output_type": "stream",
     "text": [
      "Handling junco_hyemalis/XC381590.ogg\n",
      "Handling nucifraga_columbiana/XC451196.ogg\n"
     ]
    },
    {
     "name": "stderr",
     "output_type": "stream",
     "text": [
      "  3%|▎         | 543/21650 [02:32<1:13:30,  4.79it/s]WARNING:absl:Audio loaded successfully.\n",
      "WARNING:absl:The audio at (/Volumes/BigChongusF/Datasets/Huggingface/gadme_v1/data/downloads/extracted/ec613fac723ec2b148b37e696a540c4078e291087c8525c0be0e654266f29161/data/xeno-canto/north_america/colaptes_auratus/XC425099.ogg / 3) could not be loaded (audio_too_short). The exception was (no_exception)\n",
      "WARNING:absl:Audio loaded successfully.\n",
      "WARNING:absl:The audio at (/Volumes/BigChongusF/Datasets/Huggingface/gadme_v1/data/downloads/extracted/c05b01b23568feda718271d2aa149124fd50d510bd99663cbd8752481054e53b/data/xeno-canto/south_america/actitis_macularius/XC694087.ogg / 5) could not be loaded (audio_too_short). The exception was (no_exception)\n",
      "WARNING:absl:Audio loaded successfully.\n",
      "  3%|▎         | 546/21650 [02:33<47:47,  7.36it/s]  WARNING:absl:Audio loaded successfully.\n",
      "WARNING:absl:The audio at (/Volumes/BigChongusF/Datasets/Huggingface/gadme_v1/data/downloads/extracted/2787f00abeaf0eed0548a1da772af8f8e1d065bd692ccac7a5a3940d0e41d546/data/xeno-canto/north_america/turdus_migratorius/XC322619.ogg / 23) could not be loaded (audio_too_short). The exception was (no_exception)\n",
      "WARNING:absl:Audio loaded successfully.\n"
     ]
    },
    {
     "name": "stdout",
     "output_type": "stream",
     "text": [
      "Handling empidonax_oberholseri/XC124643.ogg\n",
      "Handling zonotrichia_leucophrys/XC54713.ogg\n"
     ]
    },
    {
     "name": "stderr",
     "output_type": "stream",
     "text": [
      "  3%|▎         | 548/21650 [02:33<45:19,  7.76it/s]WARNING:absl:Audio loaded successfully.\n"
     ]
    },
    {
     "name": "stdout",
     "output_type": "stream",
     "text": [
      "Handling leiothlypis_celata/XC323637.ogg\n"
     ]
    },
    {
     "name": "stderr",
     "output_type": "stream",
     "text": [
      "  3%|▎         | 549/21650 [02:33<1:01:56,  5.68it/s]WARNING:absl:Audio loaded successfully.\n"
     ]
    },
    {
     "name": "stdout",
     "output_type": "stream",
     "text": [
      "Handling junco_hyemalis/XC449495.ogg\n"
     ]
    },
    {
     "name": "stderr",
     "output_type": "stream",
     "text": [
      "  3%|▎         | 550/21650 [02:33<1:05:21,  5.38it/s]WARNING:absl:Audio loaded successfully.\n",
      "WARNING:absl:The audio at (/Volumes/BigChongusF/Datasets/Huggingface/gadme_v1/data/downloads/extracted/c654a2fa7284c6b9ad2b65fb7d03c399719d51032c53323567e62583eb09dd11/data/xeno-canto/north_america/setophaga_coronata/XC355557.ogg / 29) could not be loaded (audio_too_short). The exception was (no_exception)\n",
      "WARNING:absl:Audio loaded successfully.\n"
     ]
    },
    {
     "name": "stdout",
     "output_type": "stream",
     "text": [
      "Handling poecile_gambeli/XC71773.ogg\n"
     ]
    },
    {
     "name": "stderr",
     "output_type": "stream",
     "text": [
      "  3%|▎         | 552/21650 [02:34<1:12:39,  4.84it/s]WARNING:absl:Audio loaded successfully.\n",
      "  3%|▎         | 553/21650 [02:34<1:08:55,  5.10it/s]"
     ]
    },
    {
     "name": "stdout",
     "output_type": "stream",
     "text": [
      "Handling vireo_gilvus/XC749756.ogg\n",
      "Handling zonotrichia_leucophrys/XC678160.ogg\n"
     ]
    },
    {
     "name": "stderr",
     "output_type": "stream",
     "text": [
      "WARNING:absl:Audio loaded successfully.\n",
      "  3%|▎         | 554/21650 [02:34<1:16:04,  4.62it/s]WARNING:absl:Audio loaded successfully.\n",
      "WARNING:absl:The audio at (/Volumes/BigChongusF/Datasets/Huggingface/gadme_v1/data/downloads/extracted/4fb52febc9ddf975fdb63222180f988dd27c8c7cb7b968eda935c6020ef0e853/data/xeno-canto/north_america/anthus_rubescens/XC218657.ogg / 4) could not be loaded (audio_too_short). The exception was (no_exception)\n",
      "WARNING:absl:Audio loaded successfully.\n"
     ]
    },
    {
     "name": "stdout",
     "output_type": "stream",
     "text": [
      "Handling turdus_migratorius/XC165287.ogg\n"
     ]
    },
    {
     "name": "stderr",
     "output_type": "stream",
     "text": [
      "  3%|▎         | 556/21650 [02:35<1:01:02,  5.76it/s]WARNING:absl:Audio loaded successfully.\n",
      "WARNING:absl:The audio at (/Volumes/BigChongusF/Datasets/Huggingface/gadme_v1/data/downloads/extracted/dacdc79178259381ae33610c1ac23ba786c77733201335d4d00617669efb593c/data/xeno-canto/north_america/vireo_gilvus/XC426267.ogg / 1) could not be loaded (audio_too_short). The exception was (no_exception)\n"
     ]
    },
    {
     "name": "stdout",
     "output_type": "stream",
     "text": [
      "Handling turdus_migratorius/XC729933.ogg\n"
     ]
    },
    {
     "name": "stderr",
     "output_type": "stream",
     "text": [
      "WARNING:absl:Audio loaded successfully.\n",
      "  3%|▎         | 558/21650 [02:38<4:23:15,  1.34it/s]WARNING:absl:Audio loaded successfully.\n",
      "WARNING:absl:Audio loaded successfully.\n"
     ]
    },
    {
     "name": "stdout",
     "output_type": "stream",
     "text": [
      "Handling anas_platyrhynchos/XC495822.ogg\n",
      "Handling anas_platyrhynchos/XC635041.ogg\n"
     ]
    },
    {
     "name": "stderr",
     "output_type": "stream",
     "text": [
      "  3%|▎         | 560/21650 [02:38<3:09:08,  1.86it/s]WARNING:absl:Audio loaded successfully.\n"
     ]
    },
    {
     "name": "stdout",
     "output_type": "stream",
     "text": [
      "Handling turdus_migratorius/XC72964.ogg\n"
     ]
    },
    {
     "name": "stderr",
     "output_type": "stream",
     "text": [
      "  3%|▎         | 561/21650 [02:39<2:51:37,  2.05it/s]WARNING:absl:Audio loaded successfully.\n",
      "WARNING:absl:The audio at (/Volumes/BigChongusF/Datasets/Huggingface/gadme_v1/data/downloads/extracted/ada15457cc2a05bc400bb7409cbc22ad2f43c290ca6a05bf824bb875476f852c/data/xeno-canto/north_america/junco_hyemalis/XC20829.ogg / 41) could not be loaded (audio_too_short). The exception was (no_exception)\n",
      "WARNING:absl:Audio loaded successfully.\n",
      "WARNING:absl:The audio at (/Volumes/BigChongusF/Datasets/Huggingface/gadme_v1/data/downloads/extracted/3944287c00a98d3d9edcb7467992ad5fbf2cebeec4c9e389027ef676be012aef/data/xeno-canto/north_america/poecile_gambeli/XC109936.ogg / 1) could not be loaded (audio_too_short). The exception was (no_exception)\n",
      "WARNING:absl:Audio loaded successfully.\n"
     ]
    },
    {
     "name": "stdout",
     "output_type": "stream",
     "text": [
      "Handling leiothlypis_celata/XC225409.ogg\n"
     ]
    },
    {
     "name": "stderr",
     "output_type": "stream",
     "text": [
      "  3%|▎         | 564/21650 [02:39<1:44:44,  3.36it/s]WARNING:absl:Audio loaded successfully.\n",
      "WARNING:absl:The audio at (/Volumes/BigChongusF/Datasets/Huggingface/gadme_v1/data/downloads/extracted/3944287c00a98d3d9edcb7467992ad5fbf2cebeec4c9e389027ef676be012aef/data/xeno-canto/north_america/poecile_gambeli/XC135677.ogg / 2) could not be loaded (audio_too_short). The exception was (no_exception)\n",
      "WARNING:absl:Audio loaded successfully.\n"
     ]
    },
    {
     "name": "stdout",
     "output_type": "stream",
     "text": [
      "Handling junco_hyemalis/XC309639.ogg\n"
     ]
    },
    {
     "name": "stderr",
     "output_type": "stream",
     "text": [
      "  3%|▎         | 566/21650 [02:39<1:24:04,  4.18it/s]WARNING:absl:Audio loaded successfully.\n",
      "  3%|▎         | 567/21650 [02:39<1:21:18,  4.32it/s]"
     ]
    },
    {
     "name": "stdout",
     "output_type": "stream",
     "text": [
      "Handling salpinctes_obsoletus/XC139877.ogg\n",
      "Handling junco_hyemalis/XC727505.ogg\n"
     ]
    },
    {
     "name": "stderr",
     "output_type": "stream",
     "text": [
      "WARNING:absl:Audio loaded successfully.\n",
      "WARNING:absl:Audio loaded successfully.\n",
      "  3%|▎         | 569/21650 [02:39<1:03:13,  5.56it/s]WARNING:absl:Audio loaded successfully.\n"
     ]
    },
    {
     "name": "stdout",
     "output_type": "stream",
     "text": [
      "Handling sialia_currucoides/XC453336.ogg\n",
      "Handling turdus_migratorius/XC172423.ogg\n"
     ]
    },
    {
     "name": "stderr",
     "output_type": "stream",
     "text": [
      "  3%|▎         | 570/21650 [02:40<1:01:17,  5.73it/s]WARNING:absl:Audio loaded successfully.\n",
      "WARNING:absl:Audio loaded successfully.\n"
     ]
    },
    {
     "name": "stdout",
     "output_type": "stream",
     "text": [
      "Handling vireo_gilvus/XC325252.ogg\n",
      "Handling haemorhous_cassinii/XC408589.ogg\n"
     ]
    },
    {
     "name": "stderr",
     "output_type": "stream",
     "text": [
      "  3%|▎         | 572/21650 [02:40<55:01,  6.38it/s]  WARNING:absl:Audio loaded successfully.\n",
      "WARNING:absl:The audio at (/Volumes/BigChongusF/Datasets/Huggingface/gadme_v1/data/downloads/extracted/c654a2fa7284c6b9ad2b65fb7d03c399719d51032c53323567e62583eb09dd11/data/xeno-canto/north_america/catharus_guttatus/XC381117.ogg / 82) could not be loaded (audio_too_short). The exception was (no_exception)\n",
      "WARNING:absl:Audio loaded successfully.\n",
      "  3%|▎         | 574/21650 [02:40<44:09,  7.95it/s]WARNING:absl:Audio loaded successfully.\n",
      "WARNING:absl:The audio at (/Volumes/BigChongusF/Datasets/Huggingface/gadme_v1/data/downloads/extracted/ada15457cc2a05bc400bb7409cbc22ad2f43c290ca6a05bf824bb875476f852c/data/xeno-canto/north_america/junco_hyemalis/XC110975.ogg / 46) could not be loaded (audio_too_short). The exception was (no_exception)\n",
      "WARNING:absl:Audio loaded successfully.\n",
      "WARNING:absl:The audio at (/Volumes/BigChongusF/Datasets/Huggingface/gadme_v1/data/downloads/extracted/7c313317d9bce50ea88db0b3d3672870e262462cefb5c130892cba54b586da3d/data/xeno-canto/north_america/salpinctes_obsoletus/XC179855.ogg / 21) could not be loaded (audio_too_short). The exception was (no_exception)\n",
      "WARNING:absl:Audio loaded successfully.\n"
     ]
    },
    {
     "name": "stdout",
     "output_type": "stream",
     "text": [
      "Handling catharus_guttatus/XC599651.ogg\n",
      "Handling zonotrichia_leucophrys/XC313078.ogg\n"
     ]
    },
    {
     "name": "stderr",
     "output_type": "stream",
     "text": [
      "  3%|▎         | 577/21650 [02:40<31:33, 11.13it/s]WARNING:absl:Audio loaded successfully.\n",
      "WARNING:absl:Audio loaded successfully.\n"
     ]
    },
    {
     "name": "stdout",
     "output_type": "stream",
     "text": [
      "Handling passerella_iliaca/XC135136.ogg\n",
      "Handling leiothlypis_celata/XC54118.ogg\n"
     ]
    },
    {
     "name": "stderr",
     "output_type": "stream",
     "text": [
      "  3%|▎         | 579/21650 [02:40<38:46,  9.06it/s]WARNING:absl:Audio loaded successfully.\n",
      "WARNING:absl:Audio loaded successfully.\n",
      "  3%|▎         | 581/21650 [02:41<34:39, 10.13it/s]WARNING:absl:Audio loaded successfully.\n"
     ]
    },
    {
     "name": "stdout",
     "output_type": "stream",
     "text": [
      "Handling salpinctes_obsoletus/XC554608.ogg\n",
      "Handling anas_platyrhynchos/XC693028.ogg\n",
      "Handling poecile_gambeli/XC350737.ogg\n"
     ]
    },
    {
     "name": "stderr",
     "output_type": "stream",
     "text": [
      "WARNING:absl:Audio loaded successfully.\n",
      "  3%|▎         | 583/21650 [02:41<45:15,  7.76it/s]WARNING:absl:Audio loaded successfully.\n"
     ]
    },
    {
     "name": "stdout",
     "output_type": "stream",
     "text": [
      "Handling turdus_migratorius/XC164441.ogg\n",
      "Handling vireo_gilvus/XC181169.ogg\n"
     ]
    },
    {
     "name": "stderr",
     "output_type": "stream",
     "text": [
      "WARNING:absl:Audio loaded successfully.\n",
      "WARNING:absl:The audio at (/Volumes/BigChongusF/Datasets/Huggingface/gadme_v1/data/downloads/extracted/3d85f3c0a899f9d3cbe3db58b54d5391856ba30e3a4e013b856bbac6ef8521eb/data/xeno-canto/north_america/leiothlypis_celata/XC322935.ogg / 1) could not be loaded (audio_too_short). The exception was (no_exception)\n",
      "  3%|▎         | 585/21650 [02:41<37:15,  9.42it/s]WARNING:absl:Audio loaded successfully.\n",
      "WARNING:absl:Audio loaded successfully.\n"
     ]
    },
    {
     "name": "stdout",
     "output_type": "stream",
     "text": [
      "Handling salpinctes_obsoletus/XC451709.ogg\n",
      "Handling leiothlypis_celata/XC636627.ogg\n"
     ]
    },
    {
     "name": "stderr",
     "output_type": "stream",
     "text": [
      "  3%|▎         | 587/21650 [02:41<38:39,  9.08it/s]WARNING:absl:Audio loaded successfully.\n"
     ]
    },
    {
     "name": "stdout",
     "output_type": "stream",
     "text": [
      "Handling passerella_iliaca/XC157764.ogg\n",
      "Handling haemorhous_cassinii/XC14420.ogg\n"
     ]
    },
    {
     "name": "stderr",
     "output_type": "stream",
     "text": [
      "WARNING:absl:Audio loaded successfully.\n",
      "WARNING:absl:The audio at (/Volumes/BigChongusF/Datasets/Huggingface/gadme_v1/data/downloads/extracted/d145e8851ba4925920daf81a23e20f777cd5b92fd94d310de6aa4a44c03ba695/data/xeno-canto/north_america/vireo_gilvus/XC189075.ogg / 108) could not be loaded (audio_too_short). The exception was (no_exception)\n",
      "  3%|▎         | 589/21650 [02:42<38:00,  9.24it/s]WARNING:absl:Audio loaded successfully.\n",
      "WARNING:absl:The audio at (/Volumes/BigChongusF/Datasets/Huggingface/gadme_v1/data/downloads/extracted/e68da0013aa2de07a892cea4436ef4f05bf18dc840e506a49e4934fad311632a/data/xeno-canto/north_america/junco_hyemalis/XC159751.ogg / 0) could not be loaded (audio_too_short). The exception was (no_exception)\n",
      "WARNING:absl:Audio loaded successfully.\n",
      "  3%|▎         | 591/21650 [02:42<41:10,  8.52it/s]WARNING:absl:Audio loaded successfully.\n",
      "WARNING:absl:Audio loaded successfully.\n",
      "WARNING:absl:The audio at (/Volumes/BigChongusF/Datasets/Huggingface/gadme_v1/data/downloads/extracted/4ab7290c70f503dcf8a7a57aec1f76e52b2b64a87cdc69bddff95b3855268e15/data/xeno-canto/north_america/turdus_migratorius/XC567613.ogg / 3) could not be loaded (audio_too_short). The exception was (no_exception)\n",
      "WARNING:absl:Audio loaded successfully.\n",
      "  3%|▎         | 594/21650 [02:42<30:58, 11.33it/s]WARNING:absl:Audio loaded successfully.\n"
     ]
    },
    {
     "name": "stdout",
     "output_type": "stream",
     "text": [
      "Handling leiothlypis_celata/XC182397.ogg\n",
      "Handling poecile_gambeli/XC390195.ogg\n",
      "Handling sialia_currucoides/XC254429.ogg\n"
     ]
    },
    {
     "name": "stderr",
     "output_type": "stream",
     "text": [
      "WARNING:absl:Audio loaded successfully.\n",
      "  3%|▎         | 596/21650 [02:42<37:39,  9.32it/s]"
     ]
    },
    {
     "name": "stdout",
     "output_type": "stream",
     "text": [
      "Handling euphagus_cyanocephalus/XC30587.ogg\n",
      "Handling junco_hyemalis/XC628056.ogg\n"
     ]
    },
    {
     "name": "stderr",
     "output_type": "stream",
     "text": [
      "WARNING:absl:Audio loaded successfully.\n",
      "WARNING:absl:Audio loaded successfully.\n",
      "  3%|▎         | 598/21650 [02:42<34:39, 10.12it/s]WARNING:absl:Audio loaded successfully.\n"
     ]
    },
    {
     "name": "stdout",
     "output_type": "stream",
     "text": [
      "Handling setophaga_coronata/XC551319.ogg\n",
      "Handling anas_platyrhynchos/XC628151.ogg\n"
     ]
    },
    {
     "name": "stderr",
     "output_type": "stream",
     "text": [
      "WARNING:absl:Audio loaded successfully.\n"
     ]
    },
    {
     "name": "stdout",
     "output_type": "stream",
     "text": [
      "Handling junco_hyemalis/XC71998.ogg\n"
     ]
    },
    {
     "name": "stderr",
     "output_type": "stream",
     "text": [
      "  3%|▎         | 600/21650 [02:43<51:18,  6.84it/s]WARNING:absl:Audio loaded successfully.\n",
      "WARNING:absl:The audio at (/Volumes/BigChongusF/Datasets/Huggingface/gadme_v1/data/downloads/extracted/325835456a8f001ee2744ae1ed11bf9ada9af130981030ef2b1da7cae54cbffe/data/xeno-canto/north_america/passerella_iliaca/XC707926.ogg / 0) could not be loaded (audio_too_short). The exception was (no_exception)\n",
      "WARNING:absl:Audio loaded successfully.\n",
      "WARNING:absl:Audio loaded successfully.\n",
      "WARNING:absl:The audio at (/Volumes/BigChongusF/Datasets/Huggingface/gadme_v1/data/downloads/extracted/3944287c00a98d3d9edcb7467992ad5fbf2cebeec4c9e389027ef676be012aef/data/xeno-canto/north_america/poecile_gambeli/XC333523.ogg / 6) could not be loaded (audio_too_short). The exception was (no_exception)\n",
      "WARNING:absl:Audio loaded successfully.\n",
      "WARNING:absl:The audio at (/Volumes/BigChongusF/Datasets/Huggingface/gadme_v1/data/downloads/extracted/657bb7ca7e00d187968c3a3fed754f2f43eea8c80f8b9290f46e2ef76a629ca6/data/xeno-canto/north_america/zonotrichia_leucophrys/XC159310.ogg / 3) could not be loaded (audio_too_short). The exception was (no_exception)\n",
      "  3%|▎         | 604/21650 [02:43<32:35, 10.76it/s]WARNING:absl:Audio loaded successfully.\n"
     ]
    },
    {
     "name": "stdout",
     "output_type": "stream",
     "text": [
      "Handling poecile_gambeli/XC494197.ogg\n",
      "Handling poecile_gambeli/XC402984.ogg\n"
     ]
    },
    {
     "name": "stderr",
     "output_type": "stream",
     "text": [
      "WARNING:absl:Audio loaded successfully.\n"
     ]
    },
    {
     "name": "stdout",
     "output_type": "stream",
     "text": [
      "Handling setophaga_coronata/XC164304.ogg\n"
     ]
    },
    {
     "name": "stderr",
     "output_type": "stream",
     "text": [
      "  3%|▎         | 606/21650 [02:44<48:19,  7.26it/s]WARNING:absl:Audio loaded successfully.\n"
     ]
    },
    {
     "name": "stdout",
     "output_type": "stream",
     "text": [
      "Handling leiothlypis_celata/XC731832.ogg\n"
     ]
    },
    {
     "name": "stderr",
     "output_type": "stream",
     "text": [
      "WARNING:absl:Audio loaded successfully.\n"
     ]
    },
    {
     "name": "stdout",
     "output_type": "stream",
     "text": [
      "Handling vireo_gilvus/XC323442.ogg\n"
     ]
    },
    {
     "name": "stderr",
     "output_type": "stream",
     "text": [
      "  3%|▎         | 608/21650 [02:45<1:32:51,  3.78it/s]WARNING:absl:Audio loaded successfully.\n",
      "WARNING:absl:The audio at (/Volumes/BigChongusF/Datasets/Huggingface/gadme_v1/data/downloads/extracted/3944287c00a98d3d9edcb7467992ad5fbf2cebeec4c9e389027ef676be012aef/data/xeno-canto/north_america/poecile_gambeli/XC362896.ogg / 1) could not be loaded (audio_too_short). The exception was (no_exception)\n",
      "WARNING:absl:Audio loaded successfully.\n",
      "  3%|▎         | 610/21650 [02:45<1:13:33,  4.77it/s]WARNING:absl:Audio loaded successfully.\n"
     ]
    },
    {
     "name": "stdout",
     "output_type": "stream",
     "text": [
      "Handling zonotrichia_leucophrys/XC535268.ogg\n",
      "Handling turdus_migratorius/XC110565.ogg\n"
     ]
    },
    {
     "name": "stderr",
     "output_type": "stream",
     "text": [
      "WARNING:absl:Audio loaded successfully.\n",
      "  3%|▎         | 612/21650 [02:45<1:04:17,  5.45it/s]WARNING:absl:Audio loaded successfully.\n"
     ]
    },
    {
     "name": "stdout",
     "output_type": "stream",
     "text": [
      "Handling poecile_gambeli/XC208945.ogg\n",
      "Handling vireo_gilvus/XC501581.ogg\n",
      "Handling poecile_gambeli/XC38011.ogg\n"
     ]
    },
    {
     "name": "stderr",
     "output_type": "stream",
     "text": [
      "WARNING:absl:Audio loaded successfully.\n",
      "  3%|▎         | 614/21650 [02:46<1:07:56,  5.16it/s]WARNING:absl:Audio loaded successfully.\n",
      "WARNING:absl:Audio loaded successfully.\n"
     ]
    },
    {
     "name": "stdout",
     "output_type": "stream",
     "text": [
      "Handling passerella_iliaca/XC521582.ogg\n",
      "Handling zonotrichia_leucophrys/XC159016.ogg\n"
     ]
    },
    {
     "name": "stderr",
     "output_type": "stream",
     "text": [
      "  3%|▎         | 616/21650 [02:46<1:13:07,  4.79it/s]WARNING:absl:Audio loaded successfully.\n",
      "  3%|▎         | 617/21650 [02:46<1:10:12,  4.99it/s]WARNING:absl:Audio loaded successfully.\n"
     ]
    },
    {
     "name": "stdout",
     "output_type": "stream",
     "text": [
      "Handling turdus_migratorius/XC190473.ogg\n",
      "Handling vireo_gilvus/XC421861.ogg\n"
     ]
    },
    {
     "name": "stderr",
     "output_type": "stream",
     "text": [
      "WARNING:absl:Audio loaded successfully.\n",
      "WARNING:absl:The audio at (/Volumes/BigChongusF/Datasets/Huggingface/gadme_v1/data/downloads/extracted/a96403d40c322662ebeb3491a302e2c51400c2d2021ddf36a2ee48c75eff8848/data/xeno-canto/north_america/catharus_guttatus/XC268596.ogg / 0) could not be loaded (audio_too_short). The exception was (no_exception)\n",
      "WARNING:absl:Audio loaded successfully.\n"
     ]
    },
    {
     "name": "stdout",
     "output_type": "stream",
     "text": [
      "Handling leiothlypis_celata/XC159087.ogg\n"
     ]
    },
    {
     "name": "stderr",
     "output_type": "stream",
     "text": [
      "  3%|▎         | 620/21650 [02:47<1:08:52,  5.09it/s]WARNING:absl:Audio loaded successfully.\n",
      "WARNING:absl:The audio at (/Volumes/BigChongusF/Datasets/Huggingface/gadme_v1/data/downloads/extracted/ec613fac723ec2b148b37e696a540c4078e291087c8525c0be0e654266f29161/data/xeno-canto/north_america/colaptes_auratus/XC503106.ogg / 0) could not be loaded (audio_too_short). The exception was (no_exception)\n",
      "WARNING:absl:Audio loaded successfully.\n"
     ]
    },
    {
     "name": "stdout",
     "output_type": "stream",
     "text": [
      "Handling zonotrichia_leucophrys/XC452956.ogg\n"
     ]
    },
    {
     "name": "stderr",
     "output_type": "stream",
     "text": [
      "  3%|▎         | 622/21650 [02:47<1:01:25,  5.71it/s]WARNING:absl:Audio loaded successfully.\n"
     ]
    },
    {
     "name": "stdout",
     "output_type": "stream",
     "text": [
      "Handling zonotrichia_leucophrys/XC111743.ogg\n"
     ]
    },
    {
     "name": "stderr",
     "output_type": "stream",
     "text": [
      "  3%|▎         | 623/21650 [02:47<1:05:06,  5.38it/s]WARNING:absl:Audio loaded successfully.\n",
      "  3%|▎         | 624/21650 [02:48<1:04:20,  5.45it/s]"
     ]
    },
    {
     "name": "stdout",
     "output_type": "stream",
     "text": [
      "Handling vireo_gilvus/XC323454.ogg\n",
      "Handling colaptes_auratus/XC31177.ogg\n"
     ]
    },
    {
     "name": "stderr",
     "output_type": "stream",
     "text": [
      "WARNING:absl:Audio loaded successfully.\n",
      "  3%|▎         | 625/21650 [02:48<1:00:30,  5.79it/s]WARNING:absl:Audio loaded successfully.\n",
      "  3%|▎         | 626/21650 [02:48<55:48,  6.28it/s]  WARNING:absl:Audio loaded successfully.\n",
      "WARNING:absl:The audio at (/Volumes/BigChongusF/Datasets/Huggingface/gadme_v1/data/downloads/extracted/3c91bd3b848ef81521ad069a8fa6ac2fcacb937635fd0a9971a11200269ae1f7/data/xeno-canto/europe/anas_platyrhynchos/XC750363.ogg / 0) could not be loaded (audio_too_short). The exception was (no_exception)\n",
      "WARNING:absl:Audio loaded successfully.\n"
     ]
    },
    {
     "name": "stdout",
     "output_type": "stream",
     "text": [
      "Handling turdus_migratorius/XC326838.ogg\n",
      "Handling vireo_gilvus/XC177838.ogg\n"
     ]
    },
    {
     "name": "stderr",
     "output_type": "stream",
     "text": [
      "  3%|▎         | 628/21650 [02:48<49:27,  7.09it/s]WARNING:absl:Audio loaded successfully.\n"
     ]
    },
    {
     "name": "stdout",
     "output_type": "stream",
     "text": [
      "Handling empidonax_oberholseri/XC680003.ogg\n"
     ]
    },
    {
     "name": "stderr",
     "output_type": "stream",
     "text": [
      "  3%|▎         | 629/21650 [02:48<1:09:29,  5.04it/s]WARNING:absl:Audio loaded successfully.\n",
      "WARNING:absl:The audio at (/Volumes/BigChongusF/Datasets/Huggingface/gadme_v1/data/downloads/extracted/ada15457cc2a05bc400bb7409cbc22ad2f43c290ca6a05bf824bb875476f852c/data/xeno-canto/north_america/junco_hyemalis/XC172401.ogg / 2) could not be loaded (audio_too_short). The exception was (no_exception)\n",
      "WARNING:absl:Audio loaded successfully.\n",
      "  3%|▎         | 631/21650 [02:49<53:32,  6.54it/s]  WARNING:absl:Audio loaded successfully.\n",
      "WARNING:absl:The audio at (/Volumes/BigChongusF/Datasets/Huggingface/gadme_v1/data/downloads/extracted/33e4b5dac1f3e336b57bc91d4b4ff764b4ae70d484a82c7bdbeb5ac37d235324/data/xeno-canto/europe/anas_platyrhynchos/XC505439.ogg / 1) could not be loaded (audio_too_short). The exception was (no_exception)\n"
     ]
    },
    {
     "name": "stdout",
     "output_type": "stream",
     "text": [
      "Handling colaptes_auratus/XC777433.ogg\n",
      "Handling colaptes_auratus/XC495961.ogg\n"
     ]
    },
    {
     "name": "stderr",
     "output_type": "stream",
     "text": [
      "WARNING:absl:Audio loaded successfully.\n",
      "  3%|▎         | 633/21650 [02:49<51:33,  6.79it/s]WARNING:absl:Audio loaded successfully.\n"
     ]
    },
    {
     "name": "stdout",
     "output_type": "stream",
     "text": [
      "Handling zonotrichia_leucophrys/XC721103.ogg\n"
     ]
    },
    {
     "name": "stderr",
     "output_type": "stream",
     "text": [
      "  3%|▎         | 634/21650 [02:49<1:28:48,  3.94it/s]WARNING:absl:Audio loaded successfully.\n",
      "  3%|▎         | 635/21650 [02:50<1:24:33,  4.14it/s]"
     ]
    },
    {
     "name": "stdout",
     "output_type": "stream",
     "text": [
      "Handling turdus_migratorius/XC752950.ogg\n",
      "Handling catharus_guttatus/XC135069.ogg\n"
     ]
    },
    {
     "name": "stderr",
     "output_type": "stream",
     "text": [
      "WARNING:absl:Audio loaded successfully.\n",
      "  3%|▎         | 636/21650 [02:50<2:01:11,  2.89it/s]WARNING:absl:Audio loaded successfully.\n",
      "  3%|▎         | 637/21650 [02:51<1:42:37,  3.41it/s]"
     ]
    },
    {
     "name": "stdout",
     "output_type": "stream",
     "text": [
      "Handling vireo_gilvus/XC484140.ogg\n",
      "Handling nucifraga_columbiana/XC422415.ogg\n"
     ]
    },
    {
     "name": "stderr",
     "output_type": "stream",
     "text": [
      "WARNING:absl:Audio loaded successfully.\n",
      "  3%|▎         | 638/21650 [02:51<1:50:12,  3.18it/s]WARNING:absl:Audio loaded successfully.\n"
     ]
    },
    {
     "name": "stdout",
     "output_type": "stream",
     "text": [
      "Handling vireo_gilvus/XC323250.ogg\n"
     ]
    },
    {
     "name": "stderr",
     "output_type": "stream",
     "text": [
      "  3%|▎         | 639/21650 [02:52<3:01:13,  1.93it/s]WARNING:absl:Audio loaded successfully.\n"
     ]
    },
    {
     "name": "stdout",
     "output_type": "stream",
     "text": [
      "Handling passerella_iliaca/XC189063.ogg\n"
     ]
    },
    {
     "name": "stderr",
     "output_type": "stream",
     "text": [
      "  3%|▎         | 640/21650 [02:52<2:41:19,  2.17it/s]WARNING:absl:Audio loaded successfully.\n",
      "  3%|▎         | 641/21650 [02:52<2:11:48,  2.66it/s]WARNING:absl:Audio loaded successfully.\n",
      "WARNING:absl:The audio at (/Volumes/BigChongusF/Datasets/Huggingface/gadme_v1/data/downloads/extracted/311d741def45c8db5627f28a29fb12fae011eadb4408d855d15c5dbda8c53dd4/data/xeno-canto/north_america/leiothlypis_celata/XC405020.ogg / 35) could not be loaded (audio_too_short). The exception was (no_exception)\n"
     ]
    },
    {
     "name": "stdout",
     "output_type": "stream",
     "text": [
      "Handling catharus_guttatus/XC612894.ogg\n",
      "Handling nucifraga_columbiana/XC570306.ogg\n"
     ]
    },
    {
     "name": "stderr",
     "output_type": "stream",
     "text": [
      "WARNING:absl:Audio loaded successfully.\n",
      "  3%|▎         | 643/21650 [02:53<1:22:53,  4.22it/s]WARNING:absl:Audio loaded successfully.\n",
      "WARNING:absl:The audio at (/Volumes/BigChongusF/Datasets/Huggingface/gadme_v1/data/downloads/extracted/81e1b796790f26dbc25ae8fbe4e7b2707eea32146a66d4954952be1661457843/data/xeno-canto/north_america/leiothlypis_celata/XC713867.ogg / 0) could not be loaded (audio_too_short). The exception was (no_exception)\n",
      "WARNING:absl:Audio loaded successfully.\n"
     ]
    },
    {
     "name": "stdout",
     "output_type": "stream",
     "text": [
      "Handling junco_hyemalis/XC358196.ogg\n"
     ]
    },
    {
     "name": "stderr",
     "output_type": "stream",
     "text": [
      "  3%|▎         | 645/21650 [02:53<1:08:42,  5.10it/s]WARNING:absl:Audio loaded successfully.\n"
     ]
    },
    {
     "name": "stdout",
     "output_type": "stream",
     "text": [
      "Handling vireo_gilvus/XC160571.ogg\n"
     ]
    },
    {
     "name": "stderr",
     "output_type": "stream",
     "text": [
      "  3%|▎         | 646/21650 [02:53<1:12:51,  4.80it/s]WARNING:absl:Audio loaded successfully.\n",
      "  3%|▎         | 647/21650 [02:53<1:11:46,  4.88it/s]"
     ]
    },
    {
     "name": "stdout",
     "output_type": "stream",
     "text": [
      "Handling turdus_migratorius/XC205803.ogg\n",
      "Handling passerella_iliaca/XC535177.ogg\n"
     ]
    },
    {
     "name": "stderr",
     "output_type": "stream",
     "text": [
      "WARNING:absl:Audio loaded successfully.\n",
      "  3%|▎         | 648/21650 [02:54<1:53:55,  3.07it/s]WARNING:absl:Audio loaded successfully.\n",
      "WARNING:absl:Audio loaded successfully.\n"
     ]
    },
    {
     "name": "stdout",
     "output_type": "stream",
     "text": [
      "Handling vireo_gilvus/XC159442.ogg\n",
      "Handling turdus_migratorius/XC158960.ogg\n"
     ]
    },
    {
     "name": "stderr",
     "output_type": "stream",
     "text": [
      "  3%|▎         | 650/21650 [02:54<1:37:53,  3.58it/s]WARNING:absl:Audio loaded successfully.\n",
      "  3%|▎         | 651/21650 [02:55<1:28:35,  3.95it/s]"
     ]
    },
    {
     "name": "stdout",
     "output_type": "stream",
     "text": [
      "Handling actitis_macularius/XC637899.ogg\n",
      "Handling vireo_gilvus/XC349070.ogg\n"
     ]
    },
    {
     "name": "stderr",
     "output_type": "stream",
     "text": [
      "WARNING:absl:Audio loaded successfully.\n",
      "  3%|▎         | 652/21650 [02:55<1:34:02,  3.72it/s]"
     ]
    },
    {
     "name": "stdout",
     "output_type": "stream",
     "text": [
      "Handling junco_hyemalis/XC628049.ogg\n"
     ]
    },
    {
     "name": "stderr",
     "output_type": "stream",
     "text": [
      "WARNING:absl:Audio loaded successfully.\n",
      "  3%|▎         | 653/21650 [02:56<3:08:35,  1.86it/s]WARNING:absl:Audio loaded successfully.\n",
      "WARNING:absl:The audio at (/Volumes/BigChongusF/Datasets/Huggingface/gadme_v1/data/downloads/extracted/3d85f3c0a899f9d3cbe3db58b54d5391856ba30e3a4e013b856bbac6ef8521eb/data/xeno-canto/north_america/leiothlypis_celata/XC358544.ogg / 2) could not be loaded (audio_too_short). The exception was (no_exception)\n",
      "WARNING:absl:Audio loaded successfully.\n"
     ]
    },
    {
     "name": "stdout",
     "output_type": "stream",
     "text": [
      "Handling turdus_migratorius/XC574479.ogg\n"
     ]
    },
    {
     "name": "stderr",
     "output_type": "stream",
     "text": [
      "  3%|▎         | 655/21650 [02:56<2:10:07,  2.69it/s]WARNING:absl:Audio loaded successfully.\n"
     ]
    },
    {
     "name": "stdout",
     "output_type": "stream",
     "text": [
      "Handling nucifraga_columbiana/XC294244.ogg\n"
     ]
    },
    {
     "name": "stderr",
     "output_type": "stream",
     "text": [
      "  3%|▎         | 656/21650 [02:57<1:57:54,  2.97it/s]WARNING:absl:Audio loaded successfully.\n"
     ]
    },
    {
     "name": "stdout",
     "output_type": "stream",
     "text": [
      "Handling anas_platyrhynchos/XC464841.ogg\n"
     ]
    },
    {
     "name": "stderr",
     "output_type": "stream",
     "text": [
      "  3%|▎         | 657/21650 [02:57<2:13:42,  2.62it/s]WARNING:absl:Audio loaded successfully.\n"
     ]
    },
    {
     "name": "stdout",
     "output_type": "stream",
     "text": [
      "Handling nucifraga_columbiana/XC102879.ogg\n"
     ]
    },
    {
     "name": "stderr",
     "output_type": "stream",
     "text": [
      "  3%|▎         | 658/21650 [02:58<2:08:21,  2.73it/s]WARNING:absl:Audio loaded successfully.\n"
     ]
    },
    {
     "name": "stdout",
     "output_type": "stream",
     "text": [
      "Handling salpinctes_obsoletus/XC13624.ogg\n"
     ]
    },
    {
     "name": "stderr",
     "output_type": "stream",
     "text": [
      "  3%|▎         | 659/21650 [02:58<2:34:11,  2.27it/s]WARNING:absl:Audio loaded successfully.\n",
      "WARNING:absl:The audio at (/Volumes/BigChongusF/Datasets/Huggingface/gadme_v1/data/downloads/extracted/325835456a8f001ee2744ae1ed11bf9ada9af130981030ef2b1da7cae54cbffe/data/xeno-canto/north_america/passerella_iliaca/XC89164.ogg / 102) could not be loaded (audio_too_short). The exception was (no_exception)\n",
      "WARNING:absl:Audio loaded successfully.\n",
      "WARNING:absl:The audio at (/Volumes/BigChongusF/Datasets/Huggingface/gadme_v1/data/downloads/extracted/3944287c00a98d3d9edcb7467992ad5fbf2cebeec4c9e389027ef676be012aef/data/xeno-canto/north_america/poecile_gambeli/XC381390.ogg / 72) could not be loaded (audio_too_short). The exception was (no_exception)\n",
      "WARNING:absl:Audio loaded successfully.\n"
     ]
    },
    {
     "name": "stdout",
     "output_type": "stream",
     "text": [
      "Handling poecile_gambeli/XC113828.ogg\n"
     ]
    },
    {
     "name": "stderr",
     "output_type": "stream",
     "text": [
      "  3%|▎         | 662/21650 [02:59<2:09:48,  2.69it/s]WARNING:absl:Audio loaded successfully.\n"
     ]
    },
    {
     "name": "stdout",
     "output_type": "stream",
     "text": [
      "Handling vireo_gilvus/XC72287.ogg\n"
     ]
    },
    {
     "name": "stderr",
     "output_type": "stream",
     "text": [
      "  3%|▎         | 663/21650 [03:00<2:21:27,  2.47it/s]WARNING:absl:Audio loaded successfully.\n"
     ]
    },
    {
     "name": "stdout",
     "output_type": "stream",
     "text": [
      "Handling vireo_gilvus/XC253538.ogg\n"
     ]
    },
    {
     "name": "stderr",
     "output_type": "stream",
     "text": [
      "  3%|▎         | 664/21650 [03:00<2:14:16,  2.60it/s]WARNING:absl:Audio loaded successfully.\n",
      "  3%|▎         | 665/21650 [03:00<1:52:21,  3.11it/s]WARNING:absl:Audio loaded successfully.\n"
     ]
    },
    {
     "name": "stdout",
     "output_type": "stream",
     "text": [
      "Handling turdus_migratorius/XC322572.ogg\n",
      "Handling poecile_gambeli/XC221616.ogg\n"
     ]
    },
    {
     "name": "stderr",
     "output_type": "stream",
     "text": [
      "  3%|▎         | 666/21650 [03:00<1:47:20,  3.26it/s]WARNING:absl:Audio loaded successfully.\n",
      "  3%|▎         | 667/21650 [03:00<1:30:05,  3.88it/s]WARNING:absl:Audio loaded successfully.\n"
     ]
    },
    {
     "name": "stdout",
     "output_type": "stream",
     "text": [
      "Handling nucifraga_columbiana/XC578100.ogg\n",
      "Handling setophaga_coronata/XC135646.ogg\n"
     ]
    },
    {
     "name": "stderr",
     "output_type": "stream",
     "text": [
      "WARNING:absl:Audio loaded successfully.\n",
      "  3%|▎         | 669/21650 [03:01<1:07:24,  5.19it/s]WARNING:absl:Audio loaded successfully.\n"
     ]
    },
    {
     "name": "stdout",
     "output_type": "stream",
     "text": [
      "Handling junco_hyemalis/XC424298.ogg\n",
      "Handling passerella_iliaca/XC253955.ogg\n"
     ]
    },
    {
     "name": "stderr",
     "output_type": "stream",
     "text": [
      "  3%|▎         | 670/21650 [03:01<1:04:09,  5.45it/s]WARNING:absl:Audio loaded successfully.\n"
     ]
    },
    {
     "name": "stdout",
     "output_type": "stream",
     "text": [
      "Handling poecile_gambeli/XC224192.ogg\n"
     ]
    },
    {
     "name": "stderr",
     "output_type": "stream",
     "text": [
      "  3%|▎         | 671/21650 [03:01<1:12:44,  4.81it/s]WARNING:absl:Audio loaded successfully.\n",
      "WARNING:absl:The audio at (/Volumes/BigChongusF/Datasets/Huggingface/gadme_v1/data/downloads/extracted/ada15457cc2a05bc400bb7409cbc22ad2f43c290ca6a05bf824bb875476f852c/data/xeno-canto/north_america/junco_hyemalis/XC14232.ogg / 28) could not be loaded (audio_too_short). The exception was (no_exception)\n",
      "WARNING:absl:Audio loaded successfully.\n",
      "WARNING:absl:The audio at (/Volumes/BigChongusF/Datasets/Huggingface/gadme_v1/data/downloads/extracted/657bb7ca7e00d187968c3a3fed754f2f43eea8c80f8b9290f46e2ef76a629ca6/data/xeno-canto/north_america/zonotrichia_leucophrys/XC65373.ogg / 0) could not be loaded (audio_too_short). The exception was (no_exception)\n",
      "WARNING:absl:Audio loaded successfully.\n",
      "  3%|▎         | 674/21650 [03:01<45:16,  7.72it/s]  "
     ]
    },
    {
     "name": "stdout",
     "output_type": "stream",
     "text": [
      "Handling setophaga_coronata/XC135917.ogg\n",
      "Handling colaptes_auratus/XC465729.ogg\n"
     ]
    },
    {
     "name": "stderr",
     "output_type": "stream",
     "text": [
      "WARNING:absl:Audio loaded successfully.\n",
      "  3%|▎         | 675/21650 [03:02<1:10:07,  4.98it/s]WARNING:absl:Audio loaded successfully.\n",
      "  3%|▎         | 676/21650 [03:02<1:04:05,  5.45it/s]WARNING:absl:Audio loaded successfully.\n"
     ]
    },
    {
     "name": "stdout",
     "output_type": "stream",
     "text": [
      "Handling nucifraga_columbiana/XC105324.ogg\n",
      "Handling turdus_migratorius/XC362515.ogg\n"
     ]
    },
    {
     "name": "stderr",
     "output_type": "stream",
     "text": [
      "  3%|▎         | 677/21650 [03:02<1:05:34,  5.33it/s]WARNING:absl:Audio loaded successfully.\n",
      "WARNING:absl:Audio loaded successfully.\n",
      "WARNING:absl:The audio at (/Volumes/BigChongusF/Datasets/Huggingface/gadme_v1/data/downloads/extracted/3c91bd3b848ef81521ad069a8fa6ac2fcacb937635fd0a9971a11200269ae1f7/data/xeno-canto/europe/anas_platyrhynchos/XC422654.ogg / 0) could not be loaded (audio_too_short). The exception was (no_exception)\n",
      "WARNING:absl:Audio loaded successfully.\n",
      "WARNING:absl:Audio loaded successfully.\n"
     ]
    },
    {
     "name": "stdout",
     "output_type": "stream",
     "text": [
      "Handling euphagus_cyanocephalus/XC752807.ogg\n",
      "Handling anas_platyrhynchos/XC750475.ogg\n",
      "Handling nucifraga_columbiana/XC182587.ogg\n"
     ]
    },
    {
     "name": "stderr",
     "output_type": "stream",
     "text": [
      "  3%|▎         | 681/21650 [03:02<47:28,  7.36it/s]  WARNING:absl:Audio loaded successfully.\n",
      "  3%|▎         | 682/21650 [03:03<46:08,  7.57it/s]WARNING:absl:Audio loaded successfully.\n",
      "WARNING:absl:The audio at (/Volumes/BigChongusF/Datasets/Huggingface/gadme_v1/data/downloads/extracted/3d85f3c0a899f9d3cbe3db58b54d5391856ba30e3a4e013b856bbac6ef8521eb/data/xeno-canto/north_america/leiothlypis_celata/XC518557.ogg / 0) could not be loaded (audio_too_short). The exception was (no_exception)\n",
      "WARNING:absl:Audio loaded successfully.\n"
     ]
    },
    {
     "name": "stdout",
     "output_type": "stream",
     "text": [
      "Handling leiothlypis_celata/XC177469.ogg\n",
      "Handling colaptes_auratus/XC618043.ogg\n"
     ]
    },
    {
     "name": "stderr",
     "output_type": "stream",
     "text": [
      "  3%|▎         | 684/21650 [03:03<42:56,  8.14it/s]WARNING:absl:Audio loaded successfully.\n",
      "WARNING:absl:The audio at (/Volumes/BigChongusF/Datasets/Huggingface/gadme_v1/data/downloads/extracted/311d741def45c8db5627f28a29fb12fae011eadb4408d855d15c5dbda8c53dd4/data/xeno-canto/south_america/setophaga_petechia/XC688344.ogg / 9) could not be loaded (audio_too_short). The exception was (no_exception)\n",
      "WARNING:absl:Audio loaded successfully.\n",
      "WARNING:absl:Audio loaded successfully.\n",
      "WARNING:absl:The audio at (/Volumes/BigChongusF/Datasets/Huggingface/gadme_v1/data/downloads/extracted/cd49b3631d04d3feff17b776f29f4fc3d66002b528c452baf906c78c1580d75a/data/xeno-canto/north_america/setophaga_coronata/XC324477.ogg / 0) could not be loaded (audio_too_short). The exception was (no_exception)\n",
      "WARNING:absl:Audio loaded successfully.\n",
      "WARNING:absl:The audio at (/Volumes/BigChongusF/Datasets/Huggingface/gadme_v1/data/downloads/extracted/fe7299e15948488b29d8dce00dd9046e4485a0408a2ac57eab49bb5b0d7b39e2/data/xeno-canto/north_america/haemorhous_cassinii/XC347969.ogg / 59) could not be loaded (audio_too_short). The exception was (no_exception)\n",
      "WARNING:absl:Audio loaded successfully.\n",
      "WARNING:absl:The audio at (/Volumes/BigChongusF/Datasets/Huggingface/gadme_v1/data/downloads/extracted/ada15457cc2a05bc400bb7409cbc22ad2f43c290ca6a05bf824bb875476f852c/data/xeno-canto/north_america/junco_hyemalis/XC104512.ogg / 1) could not be loaded (audio_too_short). The exception was (no_exception)\n",
      "  3%|▎         | 689/21650 [03:03<23:49, 14.67it/s]WARNING:absl:Audio loaded successfully.\n",
      "WARNING:absl:Audio loaded successfully.\n"
     ]
    },
    {
     "name": "stdout",
     "output_type": "stream",
     "text": [
      "Handling junco_hyemalis/XC379007.ogg\n",
      "Handling anas_platyrhynchos/XC122883.ogg\n",
      "Handling leiothlypis_celata/XC349484.ogg\n"
     ]
    },
    {
     "name": "stderr",
     "output_type": "stream",
     "text": [
      "  3%|▎         | 691/21650 [03:03<25:06, 13.91it/s]WARNING:absl:Audio loaded successfully.\n",
      "WARNING:absl:Audio loaded successfully.\n",
      "  3%|▎         | 693/21650 [03:03<27:32, 12.68it/s]"
     ]
    },
    {
     "name": "stdout",
     "output_type": "stream",
     "text": [
      "Handling poecile_gambeli/XC350719.ogg\n",
      "Handling junco_hyemalis/XC125074.ogg\n",
      "Handling haemorhous_cassinii/XC220514.ogg\n"
     ]
    },
    {
     "name": "stderr",
     "output_type": "stream",
     "text": [
      "WARNING:absl:Audio loaded successfully.\n",
      "WARNING:absl:Audio loaded successfully.\n",
      "  3%|▎         | 695/21650 [03:03<27:30, 12.70it/s]WARNING:absl:Audio loaded successfully.\n",
      "WARNING:absl:Audio loaded successfully.\n",
      "WARNING:absl:The audio at (/Volumes/BigChongusF/Datasets/Huggingface/gadme_v1/data/downloads/extracted/98abf88c43673ba8815287f519e7fd3afff386504e64afb04778689c24fd08c9/data/xeno-canto/north_america/vireo_gilvus/XC321950.ogg / 20) could not be loaded (audio_too_short). The exception was (no_exception)\n"
     ]
    },
    {
     "name": "stdout",
     "output_type": "stream",
     "text": [
      "Handling poecile_gambeli/XC76625.ogg\n",
      "Handling vireo_gilvus/XC383037.ogg\n",
      "Handling turdus_migratorius/XC253216.ogg\n"
     ]
    },
    {
     "name": "stderr",
     "output_type": "stream",
     "text": [
      "WARNING:absl:Audio loaded successfully.\n",
      "  3%|▎         | 698/21650 [03:04<25:30, 13.69it/s]WARNING:absl:Audio loaded successfully.\n",
      "WARNING:absl:The audio at (/Volumes/BigChongusF/Datasets/Huggingface/gadme_v1/data/downloads/extracted/3c91bd3b848ef81521ad069a8fa6ac2fcacb937635fd0a9971a11200269ae1f7/data/xeno-canto/europe/anas_platyrhynchos/XC303962.ogg / 2) could not be loaded (audio_too_short). The exception was (no_exception)\n",
      "WARNING:absl:Audio loaded successfully.\n"
     ]
    },
    {
     "name": "stdout",
     "output_type": "stream",
     "text": [
      "Handling turdus_migratorius/XC139086.ogg\n"
     ]
    },
    {
     "name": "stderr",
     "output_type": "stream",
     "text": [
      "  3%|▎         | 700/21650 [03:05<59:16,  5.89it/s]WARNING:absl:Audio loaded successfully.\n",
      "WARNING:absl:The audio at (/Volumes/BigChongusF/Datasets/Huggingface/gadme_v1/data/downloads/extracted/311d741def45c8db5627f28a29fb12fae011eadb4408d855d15c5dbda8c53dd4/data/xeno-canto/north_america/setophaga_petechia/XC112968.ogg / 0) could not be loaded (audio_too_short). The exception was (no_exception)\n",
      "WARNING:absl:Audio loaded successfully.\n",
      "WARNING:absl:The audio at (/Volumes/BigChongusF/Datasets/Huggingface/gadme_v1/data/downloads/extracted/ec613fac723ec2b148b37e696a540c4078e291087c8525c0be0e654266f29161/data/xeno-canto/north_america/colaptes_auratus/XC138070.ogg / 28) could not be loaded (audio_too_short). The exception was (no_exception)\n",
      "WARNING:absl:Audio loaded successfully.\n",
      "  3%|▎         | 703/21650 [03:05<42:53,  8.14it/s]WARNING:absl:Audio loaded successfully.\n"
     ]
    },
    {
     "name": "stdout",
     "output_type": "stream",
     "text": [
      "Handling passerella_iliaca/XC787153.ogg\n",
      "Handling turdus_migratorius/XC729486.ogg\n"
     ]
    },
    {
     "name": "stderr",
     "output_type": "stream",
     "text": [
      "WARNING:absl:Audio loaded successfully.\n"
     ]
    },
    {
     "name": "stdout",
     "output_type": "stream",
     "text": [
      "Handling leiothlypis_celata/XC323042.ogg\n"
     ]
    },
    {
     "name": "stderr",
     "output_type": "stream",
     "text": [
      "  3%|▎         | 705/21650 [03:06<1:15:09,  4.65it/s]WARNING:absl:Audio loaded successfully.\n",
      "WARNING:absl:Audio loaded successfully.\n",
      "WARNING:absl:The audio at (/Volumes/BigChongusF/Datasets/Huggingface/gadme_v1/data/downloads/extracted/cd49b3631d04d3feff17b776f29f4fc3d66002b528c452baf906c78c1580d75a/data/xeno-canto/north_america/setophaga_coronata/XC30789.ogg / 0) could not be loaded (audio_too_short). The exception was (no_exception)\n",
      "WARNING:absl:Audio loaded successfully.\n"
     ]
    },
    {
     "name": "stdout",
     "output_type": "stream",
     "text": [
      "Handling turdus_migratorius/XC175222.ogg\n",
      "Handling empidonax_oberholseri/XC110022.ogg\n"
     ]
    },
    {
     "name": "stderr",
     "output_type": "stream",
     "text": [
      "  3%|▎         | 708/21650 [03:06<1:09:03,  5.05it/s]WARNING:absl:Audio loaded successfully.\n"
     ]
    },
    {
     "name": "stdout",
     "output_type": "stream",
     "text": [
      "Handling empidonax_oberholseri/XC124625.ogg\n"
     ]
    },
    {
     "name": "stderr",
     "output_type": "stream",
     "text": [
      "  3%|▎         | 709/21650 [03:07<1:31:54,  3.80it/s]WARNING:absl:Audio loaded successfully.\n",
      "WARNING:absl:The audio at (/Volumes/BigChongusF/Datasets/Huggingface/gadme_v1/data/downloads/extracted/c05b01b23568feda718271d2aa149124fd50d510bd99663cbd8752481054e53b/data/xeno-canto/north_america/colaptes_auratus/XC603653.ogg / 0) could not be loaded (audio_too_short). The exception was (no_exception)\n",
      "WARNING:absl:Audio loaded successfully.\n",
      "  3%|▎         | 711/21650 [03:07<1:11:13,  4.90it/s]WARNING:absl:Audio loaded successfully.\n"
     ]
    },
    {
     "name": "stdout",
     "output_type": "stream",
     "text": [
      "Handling turdus_migratorius/XC269454.ogg\n",
      "Handling vireo_gilvus/XC321950.ogg\n"
     ]
    },
    {
     "name": "stderr",
     "output_type": "stream",
     "text": [
      "WARNING:absl:Audio loaded successfully.\n",
      "WARNING:absl:The audio at (/Volumes/BigChongusF/Datasets/Huggingface/gadme_v1/data/downloads/extracted/311d741def45c8db5627f28a29fb12fae011eadb4408d855d15c5dbda8c53dd4/data/xeno-canto/north_america/setophaga_petechia/XC73193.ogg / 28) could not be loaded (audio_too_short). The exception was (no_exception)\n",
      "  3%|▎         | 713/21650 [03:07<1:01:25,  5.68it/s]WARNING:absl:Audio loaded successfully.\n"
     ]
    },
    {
     "name": "stdout",
     "output_type": "stream",
     "text": [
      "Handling catharus_guttatus/XC612894.ogg\n"
     ]
    },
    {
     "name": "stderr",
     "output_type": "stream",
     "text": [
      "  3%|▎         | 714/21650 [03:07<1:08:30,  5.09it/s]WARNING:absl:Audio loaded successfully.\n",
      "WARNING:absl:The audio at (/Volumes/BigChongusF/Datasets/Huggingface/gadme_v1/data/downloads/extracted/c05b01b23568feda718271d2aa149124fd50d510bd99663cbd8752481054e53b/data/xeno-canto/north_america/anas_platyrhynchos/XC153857.ogg / 0) could not be loaded (audio_too_short). The exception was (no_exception)\n",
      "WARNING:absl:Audio loaded successfully.\n"
     ]
    },
    {
     "name": "stdout",
     "output_type": "stream",
     "text": [
      "Handling poecile_gambeli/XC135816.ogg\n"
     ]
    },
    {
     "name": "stderr",
     "output_type": "stream",
     "text": [
      "  3%|▎         | 716/21650 [03:08<1:29:47,  3.89it/s]WARNING:absl:Audio loaded successfully.\n",
      "WARNING:absl:The audio at (/Volumes/BigChongusF/Datasets/Huggingface/gadme_v1/data/downloads/extracted/98abf88c43673ba8815287f519e7fd3afff386504e64afb04778689c24fd08c9/data/xeno-canto/north_america/nucifraga_columbiana/XC711123.ogg / 8) could not be loaded (audio_too_short). The exception was (no_exception)\n",
      "WARNING:absl:Audio loaded successfully.\n"
     ]
    },
    {
     "name": "stdout",
     "output_type": "stream",
     "text": [
      "Handling leiothlypis_celata/XC141868.ogg\n"
     ]
    },
    {
     "name": "stderr",
     "output_type": "stream",
     "text": [
      "  3%|▎         | 718/21650 [03:09<2:04:04,  2.81it/s]"
     ]
    },
    {
     "name": "stdout",
     "output_type": "stream",
     "text": [
      "Handling passerella_iliaca/XC188504.ogg\n"
     ]
    },
    {
     "name": "stderr",
     "output_type": "stream",
     "text": [
      "WARNING:absl:Audio loaded successfully.\n",
      "  3%|▎         | 719/21650 [03:11<3:41:30,  1.57it/s]WARNING:absl:Audio loaded successfully.\n",
      "WARNING:absl:Audio loaded successfully.\n"
     ]
    },
    {
     "name": "stdout",
     "output_type": "stream",
     "text": [
      "Handling zonotrichia_leucophrys/XC445847.ogg\n",
      "Handling anas_platyrhynchos/XC25717.ogg\n"
     ]
    },
    {
     "name": "stderr",
     "output_type": "stream",
     "text": [
      "  3%|▎         | 721/21650 [03:12<3:22:56,  1.72it/s]WARNING:absl:Audio loaded successfully.\n",
      "WARNING:absl:The audio at (/Volumes/BigChongusF/Datasets/Huggingface/gadme_v1/data/downloads/extracted/311d741def45c8db5627f28a29fb12fae011eadb4408d855d15c5dbda8c53dd4/data/xeno-canto/north_america/setophaga_petechia/XC568813.ogg / 0) could not be loaded (audio_too_short). The exception was (no_exception)\n",
      "WARNING:absl:Audio loaded successfully.\n"
     ]
    },
    {
     "name": "stdout",
     "output_type": "stream",
     "text": [
      "Handling nucifraga_columbiana/XC294270.ogg\n"
     ]
    },
    {
     "name": "stderr",
     "output_type": "stream",
     "text": [
      "  3%|▎         | 723/21650 [03:12<2:32:18,  2.29it/s]"
     ]
    },
    {
     "name": "stdout",
     "output_type": "stream",
     "text": [
      "Handling turdus_migratorius/XC158033.ogg\n"
     ]
    },
    {
     "name": "stderr",
     "output_type": "stream",
     "text": [
      "WARNING:absl:Audio loaded successfully.\n",
      "  3%|▎         | 724/21650 [03:14<3:31:20,  1.65it/s]WARNING:absl:Audio loaded successfully.\n",
      "  3%|▎         | 725/21650 [03:14<2:53:33,  2.01it/s]WARNING:absl:Audio loaded successfully.\n"
     ]
    },
    {
     "name": "stdout",
     "output_type": "stream",
     "text": [
      "Handling anas_platyrhynchos/XC394596.ogg\n",
      "Handling poecile_gambeli/XC647144.ogg\n"
     ]
    },
    {
     "name": "stderr",
     "output_type": "stream",
     "text": [
      "  3%|▎         | 726/21650 [03:14<2:29:20,  2.34it/s]WARNING:absl:Audio loaded successfully.\n"
     ]
    },
    {
     "name": "stdout",
     "output_type": "stream",
     "text": [
      "Handling setophaga_coronata/XC364122.ogg\n"
     ]
    },
    {
     "name": "stderr",
     "output_type": "stream",
     "text": [
      "  3%|▎         | 727/21650 [03:14<2:12:45,  2.63it/s]WARNING:absl:Audio loaded successfully.\n",
      "WARNING:absl:The audio at (/Volumes/BigChongusF/Datasets/Huggingface/gadme_v1/data/downloads/extracted/2787f00abeaf0eed0548a1da772af8f8e1d065bd692ccac7a5a3940d0e41d546/data/xeno-canto/north_america/turdus_migratorius/XC329905.ogg / 1) could not be loaded (audio_too_short). The exception was (no_exception)\n",
      "WARNING:absl:Audio loaded successfully.\n"
     ]
    },
    {
     "name": "stdout",
     "output_type": "stream",
     "text": [
      "Handling catharus_guttatus/XC601482.ogg\n"
     ]
    },
    {
     "name": "stderr",
     "output_type": "stream",
     "text": [
      "  3%|▎         | 729/21650 [03:14<1:33:15,  3.74it/s]WARNING:absl:Audio loaded successfully.\n"
     ]
    },
    {
     "name": "stdout",
     "output_type": "stream",
     "text": [
      "Handling anthus_rubescens/XC14085.ogg\n"
     ]
    },
    {
     "name": "stderr",
     "output_type": "stream",
     "text": [
      "  3%|▎         | 730/21650 [03:15<1:28:26,  3.94it/s]WARNING:absl:Audio loaded successfully.\n",
      "  3%|▎         | 731/21650 [03:15<1:15:18,  4.63it/s]WARNING:absl:Audio loaded successfully.\n",
      "WARNING:absl:The audio at (/Volumes/BigChongusF/Datasets/Huggingface/gadme_v1/data/downloads/extracted/2787f00abeaf0eed0548a1da772af8f8e1d065bd692ccac7a5a3940d0e41d546/data/xeno-canto/north_america/turdus_migratorius/XC448275.ogg / 0) could not be loaded (audio_too_short). The exception was (no_exception)\n",
      "WARNING:absl:Audio loaded successfully.\n"
     ]
    },
    {
     "name": "stdout",
     "output_type": "stream",
     "text": [
      "Handling turdus_migratorius/XC184972.ogg\n",
      "Handling zonotrichia_leucophrys/XC535277.ogg\n"
     ]
    },
    {
     "name": "stderr",
     "output_type": "stream",
     "text": [
      "  3%|▎         | 733/21650 [03:15<53:34,  6.51it/s]  "
     ]
    },
    {
     "name": "stdout",
     "output_type": "stream",
     "text": [
      "Handling turdus_migratorius/XC103199.ogg\n"
     ]
    },
    {
     "name": "stderr",
     "output_type": "stream",
     "text": [
      "WARNING:absl:Audio loaded successfully.\n",
      "  3%|▎         | 734/21650 [03:16<2:35:32,  2.24it/s]WARNING:absl:Audio loaded successfully.\n",
      "  3%|▎         | 735/21650 [03:16<2:09:49,  2.68it/s]WARNING:absl:Audio loaded successfully.\n",
      "WARNING:absl:The audio at (/Volumes/BigChongusF/Datasets/Huggingface/gadme_v1/data/downloads/extracted/4fb52febc9ddf975fdb63222180f988dd27c8c7cb7b968eda935c6020ef0e853/data/xeno-canto/north_america/turdus_migratorius/XC75499.ogg / 0) could not be loaded (audio_too_short). The exception was (no_exception)\n",
      "WARNING:absl:Audio loaded successfully.\n"
     ]
    },
    {
     "name": "stdout",
     "output_type": "stream",
     "text": [
      "Handling passerella_iliaca/XC188503.ogg\n",
      "Handling leucosticte_tephrocotis/XC101456.ogg\n"
     ]
    },
    {
     "name": "stderr",
     "output_type": "stream",
     "text": [
      "WARNING:absl:Audio loaded successfully.\n"
     ]
    },
    {
     "name": "stdout",
     "output_type": "stream",
     "text": [
      "Handling anas_platyrhynchos/XC646375.ogg\n"
     ]
    },
    {
     "name": "stderr",
     "output_type": "stream",
     "text": [
      "  3%|▎         | 738/21650 [03:17<1:40:57,  3.45it/s]WARNING:absl:Audio loaded successfully.\n",
      "  3%|▎         | 739/21650 [03:17<1:34:22,  3.69it/s]"
     ]
    },
    {
     "name": "stdout",
     "output_type": "stream",
     "text": [
      "Handling euphagus_cyanocephalus/XC377880.ogg\n",
      "Handling junco_hyemalis/XC172994.ogg\n"
     ]
    },
    {
     "name": "stderr",
     "output_type": "stream",
     "text": [
      "WARNING:absl:Audio loaded successfully.\n",
      "WARNING:absl:Audio loaded successfully.\n"
     ]
    },
    {
     "name": "stdout",
     "output_type": "stream",
     "text": [
      "Handling vireo_gilvus/XC195841.ogg\n"
     ]
    },
    {
     "name": "stderr",
     "output_type": "stream",
     "text": [
      "  3%|▎         | 741/21650 [03:18<1:41:19,  3.44it/s]WARNING:absl:Audio loaded successfully.\n",
      "WARNING:absl:The audio at (/Volumes/BigChongusF/Datasets/Huggingface/gadme_v1/data/downloads/extracted/98abf88c43673ba8815287f519e7fd3afff386504e64afb04778689c24fd08c9/data/xeno-canto/north_america/nucifraga_columbiana/XC12207.ogg / 0) could not be loaded (audio_too_short). The exception was (no_exception)\n",
      "WARNING:absl:Audio loaded successfully.\n",
      "WARNING:absl:Audio loaded successfully.\n",
      "  3%|▎         | 744/21650 [03:18<1:04:06,  5.43it/s]WARNING:absl:Audio loaded successfully.\n"
     ]
    },
    {
     "name": "stdout",
     "output_type": "stream",
     "text": [
      "Handling turdus_migratorius/XC190473.ogg\n",
      "Handling turdus_migratorius/XC252953.ogg\n",
      "Handling colaptes_auratus/XC253572.ogg\n"
     ]
    },
    {
     "name": "stderr",
     "output_type": "stream",
     "text": [
      "WARNING:absl:Audio loaded successfully.\n"
     ]
    },
    {
     "name": "stdout",
     "output_type": "stream",
     "text": [
      "Handling turdus_migratorius/XC160752.ogg\n"
     ]
    },
    {
     "name": "stderr",
     "output_type": "stream",
     "text": [
      "  3%|▎         | 746/21650 [03:19<1:07:07,  5.19it/s]WARNING:absl:Audio loaded successfully.\n",
      "WARNING:absl:Audio loaded successfully.\n",
      "  3%|▎         | 748/21650 [03:19<56:57,  6.12it/s]  "
     ]
    },
    {
     "name": "stdout",
     "output_type": "stream",
     "text": [
      "Handling turdus_migratorius/XC642934.ogg\n",
      "Handling poecile_gambeli/XC634928.ogg\n",
      "Handling poecile_gambeli/XC368496.ogg\n"
     ]
    },
    {
     "name": "stderr",
     "output_type": "stream",
     "text": [
      "WARNING:absl:Audio loaded successfully.\n",
      "  3%|▎         | 749/21650 [03:19<1:22:12,  4.24it/s]WARNING:absl:Audio loaded successfully.\n"
     ]
    },
    {
     "name": "stdout",
     "output_type": "stream",
     "text": [
      "Handling junco_hyemalis/XC368608.ogg\n"
     ]
    },
    {
     "name": "stderr",
     "output_type": "stream",
     "text": [
      "  3%|▎         | 750/21650 [03:20<1:25:45,  4.06it/s]WARNING:absl:Audio loaded successfully.\n",
      "WARNING:absl:The audio at (/Volumes/BigChongusF/Datasets/Huggingface/gadme_v1/data/downloads/extracted/50ee574c5ac7bd04862bf48084e734a9dfb53f6b0bb7e1c7ba86103dd405ec12/data/xeno-canto/north_america/junco_hyemalis/XC606101.ogg / 54) could not be loaded (audio_too_short). The exception was (no_exception)\n",
      "WARNING:absl:Audio loaded successfully.\n"
     ]
    },
    {
     "name": "stdout",
     "output_type": "stream",
     "text": [
      "Handling turdus_migratorius/XC160326.ogg\n"
     ]
    },
    {
     "name": "stderr",
     "output_type": "stream",
     "text": [
      "  3%|▎         | 752/21650 [03:20<1:22:40,  4.21it/s]WARNING:absl:Audio loaded successfully.\n",
      "  3%|▎         | 753/21650 [03:20<1:19:50,  4.36it/s]"
     ]
    },
    {
     "name": "stdout",
     "output_type": "stream",
     "text": [
      "Handling passerella_iliaca/XC508242.ogg\n",
      "Handling catharus_guttatus/XC571860.ogg\n"
     ]
    },
    {
     "name": "stderr",
     "output_type": "stream",
     "text": [
      "WARNING:absl:Audio loaded successfully.\n",
      "  3%|▎         | 754/21650 [03:21<2:01:31,  2.87it/s]WARNING:absl:Audio loaded successfully.\n"
     ]
    },
    {
     "name": "stdout",
     "output_type": "stream",
     "text": [
      "Handling anas_platyrhynchos/XC278273.ogg\n"
     ]
    },
    {
     "name": "stderr",
     "output_type": "stream",
     "text": [
      "  3%|▎         | 755/21650 [03:21<1:56:41,  2.98it/s]WARNING:absl:Audio loaded successfully.\n",
      "  3%|▎         | 756/21650 [03:21<1:37:34,  3.57it/s]WARNING:absl:Audio loaded successfully.\n"
     ]
    },
    {
     "name": "stdout",
     "output_type": "stream",
     "text": [
      "Handling vireo_gilvus/XC160599.ogg\n",
      "Handling zonotrichia_leucophrys/XC721103.ogg\n"
     ]
    },
    {
     "name": "stderr",
     "output_type": "stream",
     "text": [
      "  3%|▎         | 757/21650 [03:22<1:33:49,  3.71it/s]WARNING:absl:Audio loaded successfully.\n",
      "  4%|▎         | 758/21650 [03:22<1:21:54,  4.25it/s]WARNING:absl:Audio loaded successfully.\n",
      "WARNING:absl:The audio at (/Volumes/BigChongusF/Datasets/Huggingface/gadme_v1/data/downloads/extracted/3c91bd3b848ef81521ad069a8fa6ac2fcacb937635fd0a9971a11200269ae1f7/data/xeno-canto/europe/anas_platyrhynchos/XC588654.ogg / 25) could not be loaded (audio_too_short). The exception was (no_exception)\n"
     ]
    },
    {
     "name": "stdout",
     "output_type": "stream",
     "text": [
      "Handling vireo_gilvus/XC575614.ogg\n",
      "Handling junco_hyemalis/XC147747.ogg\n"
     ]
    },
    {
     "name": "stderr",
     "output_type": "stream",
     "text": [
      "WARNING:absl:Audio loaded successfully.\n",
      "  4%|▎         | 760/21650 [03:22<1:25:08,  4.09it/s]WARNING:absl:Audio loaded successfully.\n",
      "WARNING:absl:Audio loaded successfully.\n",
      "WARNING:absl:The audio at (/Volumes/BigChongusF/Datasets/Huggingface/gadme_v1/data/downloads/extracted/3c91bd3b848ef81521ad069a8fa6ac2fcacb937635fd0a9971a11200269ae1f7/data/xeno-canto/europe/anas_platyrhynchos/XC585461.ogg / 10) could not be loaded (audio_too_short). The exception was (no_exception)\n",
      "  4%|▎         | 762/21650 [03:22<59:03,  5.89it/s]  WARNING:absl:Audio loaded successfully.\n"
     ]
    },
    {
     "name": "stdout",
     "output_type": "stream",
     "text": [
      "Handling euphagus_cyanocephalus/XC30587.ogg\n",
      "Handling setophaga_coronata/XC69913.ogg\n"
     ]
    },
    {
     "name": "stderr",
     "output_type": "stream",
     "text": [
      "  4%|▎         | 763/21650 [03:23<1:11:35,  4.86it/s]WARNING:absl:Audio loaded successfully.\n",
      "  4%|▎         | 764/21650 [03:23<1:10:46,  4.92it/s]"
     ]
    },
    {
     "name": "stdout",
     "output_type": "stream",
     "text": [
      "Handling haemorhous_cassinii/XC798954.ogg\n",
      "Handling haemorhous_cassinii/XC21834.ogg\n"
     ]
    },
    {
     "name": "stderr",
     "output_type": "stream",
     "text": [
      "WARNING:absl:Audio loaded successfully.\n",
      "  4%|▎         | 765/21650 [03:24<2:54:10,  2.00it/s]WARNING:absl:Audio loaded successfully.\n",
      "  4%|▎         | 766/21650 [03:24<2:17:28,  2.53it/s]WARNING:absl:Audio loaded successfully.\n",
      "WARNING:absl:The audio at (/Volumes/BigChongusF/Datasets/Huggingface/gadme_v1/data/downloads/extracted/ec613fac723ec2b148b37e696a540c4078e291087c8525c0be0e654266f29161/data/xeno-canto/north_america/colaptes_auratus/XC477322.ogg / 0) could not be loaded (audio_too_short). The exception was (no_exception)\n",
      "WARNING:absl:Audio loaded successfully.\n",
      "WARNING:absl:Audio loaded successfully.\n"
     ]
    },
    {
     "name": "stdout",
     "output_type": "stream",
     "text": [
      "Handling anas_platyrhynchos/XC394594.ogg\n",
      "Handling turdus_migratorius/XC323246.ogg\n",
      "Handling poecile_gambeli/XC350704.ogg\n"
     ]
    },
    {
     "name": "stderr",
     "output_type": "stream",
     "text": [
      "  4%|▎         | 769/21650 [03:25<1:12:29,  4.80it/s]WARNING:absl:Audio loaded successfully.\n",
      "WARNING:absl:The audio at (/Volumes/BigChongusF/Datasets/Huggingface/gadme_v1/data/downloads/extracted/17216070f80a410ede3b3b9d5be7d7b46383bb2a629699cc6296c19d2a1c3e34/data/xeno-canto/north_america/turdus_migratorius/XC14442.ogg / 0) could not be loaded (audio_too_short). The exception was (no_exception)\n",
      "WARNING:absl:Audio loaded successfully.\n",
      "WARNING:absl:The audio at (/Volumes/BigChongusF/Datasets/Huggingface/gadme_v1/data/downloads/extracted/311d741def45c8db5627f28a29fb12fae011eadb4408d855d15c5dbda8c53dd4/data/xeno-canto/north_america/leiothlypis_celata/XC159309.ogg / 0) could not be loaded (audio_too_short). The exception was (no_exception)\n",
      "WARNING:absl:Audio loaded successfully.\n",
      "WARNING:absl:The audio at (/Volumes/BigChongusF/Datasets/Huggingface/gadme_v1/data/downloads/extracted/7999bb6a56b81320289f187fda8208243d41e6e50dd9ca49b75ab67670f0f4cd/data/xeno-canto/north_america/junco_hyemalis/XC216187.ogg / 0) could not be loaded (audio_too_short). The exception was (no_exception)\n",
      "WARNING:absl:Audio loaded successfully.\n",
      "WARNING:absl:The audio at (/Volumes/BigChongusF/Datasets/Huggingface/gadme_v1/data/downloads/extracted/7c313317d9bce50ea88db0b3d3672870e262462cefb5c130892cba54b586da3d/data/xeno-canto/north_america/salpinctes_obsoletus/XC312611.ogg / 0) could not be loaded (audio_too_short). The exception was (no_exception)\n",
      "WARNING:absl:Audio loaded successfully.\n",
      "  4%|▎         | 774/21650 [03:25<38:02,  9.14it/s]  "
     ]
    },
    {
     "name": "stdout",
     "output_type": "stream",
     "text": [
      "Handling zonotrichia_leucophrys/XC159170.ogg\n",
      "Handling zonotrichia_leucophrys/XC558111.ogg\n"
     ]
    },
    {
     "name": "stderr",
     "output_type": "stream",
     "text": [
      "WARNING:absl:Audio loaded successfully.\n",
      "WARNING:absl:Audio loaded successfully.\n"
     ]
    },
    {
     "name": "stdout",
     "output_type": "stream",
     "text": [
      "Handling setophaga_coronata/XC535215.ogg\n"
     ]
    },
    {
     "name": "stderr",
     "output_type": "stream",
     "text": [
      "  4%|▎         | 776/21650 [03:26<1:44:02,  3.34it/s]WARNING:absl:Audio loaded successfully.\n",
      "WARNING:absl:Audio loaded successfully.\n"
     ]
    },
    {
     "name": "stdout",
     "output_type": "stream",
     "text": [
      "Handling vireo_gilvus/XC564489.ogg\n",
      "Handling actitis_macularius/XC531820.ogg\n"
     ]
    },
    {
     "name": "stderr",
     "output_type": "stream",
     "text": [
      "  4%|▎         | 778/21650 [03:27<1:32:15,  3.77it/s]WARNING:absl:Audio loaded successfully.\n",
      "WARNING:absl:Audio loaded successfully.\n",
      "WARNING:absl:The audio at (/Volumes/BigChongusF/Datasets/Huggingface/gadme_v1/data/downloads/extracted/ec613fac723ec2b148b37e696a540c4078e291087c8525c0be0e654266f29161/data/xeno-canto/north_america/colaptes_auratus/XC287876.ogg / 2) could not be loaded (audio_too_short). The exception was (no_exception)\n",
      "WARNING:absl:Audio loaded successfully.\n",
      "WARNING:absl:The audio at (/Volumes/BigChongusF/Datasets/Huggingface/gadme_v1/data/downloads/extracted/3c91bd3b848ef81521ad069a8fa6ac2fcacb937635fd0a9971a11200269ae1f7/data/xeno-canto/europe/anas_platyrhynchos/XC303987.ogg / 0) could not be loaded (audio_too_short). The exception was (no_exception)\n",
      "WARNING:absl:Audio loaded successfully.\n"
     ]
    },
    {
     "name": "stdout",
     "output_type": "stream",
     "text": [
      "Handling setophaga_coronata/XC798976.ogg\n",
      "Handling turdus_migratorius/XC729486.ogg\n"
     ]
    },
    {
     "name": "stderr",
     "output_type": "stream",
     "text": [
      "  4%|▎         | 782/21650 [03:27<1:11:26,  4.87it/s]WARNING:absl:Audio loaded successfully.\n",
      "WARNING:absl:Audio loaded successfully.\n",
      "WARNING:absl:The audio at (/Volumes/BigChongusF/Datasets/Huggingface/gadme_v1/data/downloads/extracted/657bb7ca7e00d187968c3a3fed754f2f43eea8c80f8b9290f46e2ef76a629ca6/data/xeno-canto/north_america/zonotrichia_leucophrys/XC156739.ogg / 1) could not be loaded (audio_too_short). The exception was (no_exception)\n",
      "WARNING:absl:Audio loaded successfully.\n"
     ]
    },
    {
     "name": "stdout",
     "output_type": "stream",
     "text": [
      "Handling catharus_guttatus/XC375901.ogg\n",
      "Handling catharus_guttatus/XC130244.ogg\n"
     ]
    },
    {
     "name": "stderr",
     "output_type": "stream",
     "text": [
      "  4%|▎         | 785/21650 [03:28<59:45,  5.82it/s]  WARNING:absl:Audio loaded successfully.\n"
     ]
    },
    {
     "name": "stdout",
     "output_type": "stream",
     "text": [
      "Handling catharus_guttatus/XC601507.ogg\n"
     ]
    },
    {
     "name": "stderr",
     "output_type": "stream",
     "text": [
      "  4%|▎         | 786/21650 [03:28<1:03:28,  5.48it/s]WARNING:absl:Audio loaded successfully.\n",
      "  4%|▎         | 787/21650 [03:28<1:03:40,  5.46it/s]"
     ]
    },
    {
     "name": "stdout",
     "output_type": "stream",
     "text": [
      "Handling turdus_migratorius/XC468353.ogg\n",
      "Handling vireo_gilvus/XC500121.ogg\n"
     ]
    },
    {
     "name": "stderr",
     "output_type": "stream",
     "text": [
      "WARNING:absl:Audio loaded successfully.\n",
      "WARNING:absl:The audio at (/Volumes/BigChongusF/Datasets/Huggingface/gadme_v1/data/downloads/extracted/4ab7290c70f503dcf8a7a57aec1f76e52b2b64a87cdc69bddff95b3855268e15/data/xeno-canto/north_america/turdus_migratorius/XC244567.ogg / 0) could not be loaded (audio_too_short). The exception was (no_exception)\n",
      "WARNING:absl:Audio loaded successfully.\n",
      "WARNING:absl:Audio loaded successfully.\n",
      "WARNING:absl:The audio at (/Volumes/BigChongusF/Datasets/Huggingface/gadme_v1/data/downloads/extracted/2787f00abeaf0eed0548a1da772af8f8e1d065bd692ccac7a5a3940d0e41d546/data/xeno-canto/north_america/turdus_migratorius/XC609729.ogg / 4) could not be loaded (audio_too_short). The exception was (no_exception)\n",
      "WARNING:absl:Audio loaded successfully.\n",
      "  4%|▎         | 791/21650 [03:28<41:43,  8.33it/s]  WARNING:absl:Audio loaded successfully.\n"
     ]
    },
    {
     "name": "stdout",
     "output_type": "stream",
     "text": [
      "Handling colaptes_auratus/XC356605.ogg\n",
      "Handling sialia_currucoides/XC477814.ogg\n"
     ]
    },
    {
     "name": "stderr",
     "output_type": "stream",
     "text": [
      "WARNING:absl:Audio loaded successfully.\n"
     ]
    },
    {
     "name": "stdout",
     "output_type": "stream",
     "text": [
      "Handling poecile_gambeli/XC221604.ogg\n"
     ]
    },
    {
     "name": "stderr",
     "output_type": "stream",
     "text": [
      "  4%|▎         | 793/21650 [03:29<1:19:34,  4.37it/s]WARNING:absl:Audio loaded successfully.\n",
      "  4%|▎         | 794/21650 [03:30<1:16:19,  4.55it/s]"
     ]
    },
    {
     "name": "stdout",
     "output_type": "stream",
     "text": [
      "Handling junco_hyemalis/XC373791.ogg\n",
      "Handling turdus_migratorius/XC325909.ogg\n"
     ]
    },
    {
     "name": "stderr",
     "output_type": "stream",
     "text": [
      "WARNING:absl:Audio loaded successfully.\n",
      "  4%|▎         | 795/21650 [03:30<1:17:35,  4.48it/s]WARNING:absl:Audio loaded successfully.\n",
      "  4%|▎         | 796/21650 [03:30<1:12:27,  4.80it/s]WARNING:absl:Audio loaded successfully.\n",
      "WARNING:absl:The audio at (/Volumes/BigChongusF/Datasets/Huggingface/gadme_v1/data/downloads/extracted/e68da0013aa2de07a892cea4436ef4f05bf18dc840e506a49e4934fad311632a/data/xeno-canto/north_america/zonotrichia_leucophrys/XC378376.ogg / 0) could not be loaded (audio_too_short). The exception was (no_exception)\n"
     ]
    },
    {
     "name": "stdout",
     "output_type": "stream",
     "text": [
      "Handling turdus_migratorius/XC14080.ogg\n",
      "Handling vireo_gilvus/XC189078.ogg\n"
     ]
    },
    {
     "name": "stderr",
     "output_type": "stream",
     "text": [
      "WARNING:absl:Audio loaded successfully.\n",
      "  4%|▎         | 798/21650 [03:31<1:31:52,  3.78it/s]WARNING:absl:Audio loaded successfully.\n",
      "WARNING:absl:The audio at (/Volumes/BigChongusF/Datasets/Huggingface/gadme_v1/data/downloads/extracted/e68da0013aa2de07a892cea4436ef4f05bf18dc840e506a49e4934fad311632a/data/xeno-canto/north_america/junco_hyemalis/XC128241.ogg / 0) could not be loaded (audio_too_short). The exception was (no_exception)\n",
      "WARNING:absl:Audio loaded successfully.\n",
      "  4%|▎         | 800/21650 [03:31<1:10:35,  4.92it/s]WARNING:absl:Audio loaded successfully.\n",
      "WARNING:absl:The audio at (/Volumes/BigChongusF/Datasets/Huggingface/gadme_v1/data/downloads/extracted/657bb7ca7e00d187968c3a3fed754f2f43eea8c80f8b9290f46e2ef76a629ca6/data/xeno-canto/north_america/zonotrichia_leucophrys/XC161649.ogg / 0) could not be loaded (audio_too_short). The exception was (no_exception)\n"
     ]
    },
    {
     "name": "stdout",
     "output_type": "stream",
     "text": [
      "Handling zonotrichia_leucophrys/XC236243.ogg\n",
      "Handling turdus_migratorius/XC472299.ogg\n"
     ]
    },
    {
     "name": "stderr",
     "output_type": "stream",
     "text": [
      "WARNING:absl:Audio loaded successfully.\n",
      "  4%|▎         | 802/21650 [03:31<1:04:38,  5.38it/s]WARNING:absl:Audio loaded successfully.\n",
      "WARNING:absl:Audio loaded successfully.\n",
      "  4%|▎         | 804/21650 [03:31<51:06,  6.80it/s]  WARNING:absl:Audio loaded successfully.\n"
     ]
    },
    {
     "name": "stdout",
     "output_type": "stream",
     "text": [
      "Handling vireo_gilvus/XC293630.ogg\n",
      "Handling empidonax_oberholseri/XC124639.ogg\n",
      "Handling setophaga_coronata/XC254320.ogg\n"
     ]
    },
    {
     "name": "stderr",
     "output_type": "stream",
     "text": [
      "  4%|▎         | 805/21650 [03:31<57:03,  6.09it/s]WARNING:absl:Audio loaded successfully.\n"
     ]
    },
    {
     "name": "stdout",
     "output_type": "stream",
     "text": [
      "Handling empidonax_oberholseri/XC769225.ogg\n",
      "Handling colaptes_auratus/XC636522.ogg\n"
     ]
    },
    {
     "name": "stderr",
     "output_type": "stream",
     "text": [
      "WARNING:absl:Audio loaded successfully.\n",
      "  4%|▎         | 807/21650 [03:33<1:43:12,  3.37it/s]WARNING:absl:Audio loaded successfully.\n",
      "WARNING:absl:Audio loaded successfully.\n",
      "  4%|▎         | 809/21650 [03:33<1:18:36,  4.42it/s]"
     ]
    },
    {
     "name": "stdout",
     "output_type": "stream",
     "text": [
      "Handling turdus_migratorius/XC165312.ogg\n",
      "Handling actitis_macularius/XC157635.ogg\n",
      "Handling vireo_gilvus/XC157622.ogg\n"
     ]
    },
    {
     "name": "stderr",
     "output_type": "stream",
     "text": [
      "WARNING:absl:Audio loaded successfully.\n",
      "  4%|▎         | 810/21650 [03:33<1:47:48,  3.22it/s]WARNING:absl:Audio loaded successfully.\n",
      "  4%|▎         | 811/21650 [03:34<1:35:53,  3.62it/s]"
     ]
    },
    {
     "name": "stdout",
     "output_type": "stream",
     "text": [
      "Handling zonotrichia_leucophrys/XC575062.ogg\n",
      "Handling vireo_gilvus/XC729477.ogg\n"
     ]
    },
    {
     "name": "stderr",
     "output_type": "stream",
     "text": [
      "WARNING:absl:Audio loaded successfully.\n",
      "  4%|▍         | 812/21650 [03:34<1:37:28,  3.56it/s]WARNING:absl:Audio loaded successfully.\n",
      "WARNING:absl:Audio loaded successfully.\n"
     ]
    },
    {
     "name": "stdout",
     "output_type": "stream",
     "text": [
      "Handling junco_hyemalis/XC125078.ogg\n",
      "Handling colaptes_auratus/XC92958.ogg\n"
     ]
    },
    {
     "name": "stderr",
     "output_type": "stream",
     "text": [
      "  4%|▍         | 814/21650 [03:34<1:17:48,  4.46it/s]WARNING:absl:Audio loaded successfully.\n",
      "  4%|▍         | 815/21650 [03:34<1:12:02,  4.82it/s]WARNING:absl:Audio loaded successfully.\n",
      "WARNING:absl:The audio at (/Volumes/BigChongusF/Datasets/Huggingface/gadme_v1/data/downloads/extracted/073c60ddd38d94c33b508dc82a0cf640bc20d68d3ed6bf2f63e35e8019957dd9/data/xeno-canto/north_america/zonotrichia_leucophrys/XC610641.ogg / 40) could not be loaded (audio_too_short). The exception was (no_exception)\n"
     ]
    },
    {
     "name": "stdout",
     "output_type": "stream",
     "text": [
      "Handling haemorhous_cassinii/XC374629.ogg\n",
      "Handling empidonax_oberholseri/XC33848.ogg\n"
     ]
    },
    {
     "name": "stderr",
     "output_type": "stream",
     "text": [
      "WARNING:absl:Audio loaded successfully.\n",
      "  4%|▍         | 817/21650 [03:35<1:04:44,  5.36it/s]WARNING:absl:Audio loaded successfully.\n"
     ]
    },
    {
     "name": "stdout",
     "output_type": "stream",
     "text": [
      "Handling empidonax_oberholseri/XC110017.ogg\n"
     ]
    },
    {
     "name": "stderr",
     "output_type": "stream",
     "text": [
      "  4%|▍         | 818/21650 [03:35<1:11:50,  4.83it/s]WARNING:absl:Audio loaded successfully.\n"
     ]
    },
    {
     "name": "stdout",
     "output_type": "stream",
     "text": [
      "Handling junco_hyemalis/XC111222.ogg\n"
     ]
    },
    {
     "name": "stderr",
     "output_type": "stream",
     "text": [
      "  4%|▍         | 819/21650 [03:35<1:36:26,  3.60it/s]WARNING:absl:Audio loaded successfully.\n",
      "  4%|▍         | 820/21650 [03:36<1:26:13,  4.03it/s]WARNING:absl:Audio loaded successfully.\n"
     ]
    },
    {
     "name": "stdout",
     "output_type": "stream",
     "text": [
      "Handling turdus_migratorius/XC574482.ogg\n",
      "Handling haemorhous_cassinii/XC369970.ogg\n"
     ]
    },
    {
     "name": "stderr",
     "output_type": "stream",
     "text": [
      "  4%|▍         | 821/21650 [03:36<1:19:52,  4.35it/s]WARNING:absl:Audio loaded successfully.\n",
      "WARNING:absl:The audio at (/Volumes/BigChongusF/Datasets/Huggingface/gadme_v1/data/downloads/extracted/7999bb6a56b81320289f187fda8208243d41e6e50dd9ca49b75ab67670f0f4cd/data/xeno-canto/north_america/junco_hyemalis/XC72003.ogg / 0) could not be loaded (audio_too_short). The exception was (no_exception)\n",
      "WARNING:absl:Audio loaded successfully.\n",
      "  4%|▍         | 823/21650 [03:36<55:25,  6.26it/s]  WARNING:absl:Audio loaded successfully.\n",
      "WARNING:absl:The audio at (/Volumes/BigChongusF/Datasets/Huggingface/gadme_v1/data/downloads/extracted/4fb52febc9ddf975fdb63222180f988dd27c8c7cb7b968eda935c6020ef0e853/data/xeno-canto/north_america/turdus_migratorius/XC231866.ogg / 0) could not be loaded (audio_too_short). The exception was (no_exception)\n",
      "WARNING:absl:Audio loaded successfully.\n",
      "WARNING:absl:The audio at (/Volumes/BigChongusF/Datasets/Huggingface/gadme_v1/data/downloads/extracted/4ab7290c70f503dcf8a7a57aec1f76e52b2b64a87cdc69bddff95b3855268e15/data/xeno-canto/north_america/turdus_migratorius/XC103199.ogg / 0) could not be loaded (audio_too_short). The exception was (no_exception)\n",
      "WARNING:absl:Audio loaded successfully.\n"
     ]
    },
    {
     "name": "stdout",
     "output_type": "stream",
     "text": [
      "Handling euphagus_cyanocephalus/XC585732.ogg\n",
      "Handling salpinctes_obsoletus/XC109272.ogg\n"
     ]
    },
    {
     "name": "stderr",
     "output_type": "stream",
     "text": [
      "  4%|▍         | 826/21650 [03:36<42:50,  8.10it/s]WARNING:absl:Audio loaded successfully.\n"
     ]
    },
    {
     "name": "stdout",
     "output_type": "stream",
     "text": [
      "Handling passerella_iliaca/XC785409.ogg\n"
     ]
    },
    {
     "name": "stderr",
     "output_type": "stream",
     "text": [
      "  4%|▍         | 827/21650 [03:37<1:08:16,  5.08it/s]WARNING:absl:Audio loaded successfully.\n",
      "WARNING:absl:Audio loaded successfully.\n",
      "  4%|▍         | 829/21650 [03:37<56:35,  6.13it/s]  "
     ]
    },
    {
     "name": "stdout",
     "output_type": "stream",
     "text": [
      "Handling vireo_gilvus/XC191065.ogg\n",
      "Handling poecile_gambeli/XC71774.ogg\n",
      "Handling vireo_gilvus/XC568593.ogg\n"
     ]
    },
    {
     "name": "stderr",
     "output_type": "stream",
     "text": [
      "WARNING:absl:Audio loaded successfully.\n",
      "  4%|▍         | 830/21650 [03:37<1:14:58,  4.63it/s]WARNING:absl:Audio loaded successfully.\n",
      "WARNING:absl:The audio at (/Volumes/BigChongusF/Datasets/Huggingface/gadme_v1/data/downloads/extracted/7c313317d9bce50ea88db0b3d3672870e262462cefb5c130892cba54b586da3d/data/xeno-canto/north_america/salpinctes_obsoletus/XC315328.ogg / 32) could not be loaded (audio_too_short). The exception was (no_exception)\n",
      "WARNING:absl:Audio loaded successfully.\n",
      "  4%|▍         | 832/21650 [03:37<57:26,  6.04it/s]  WARNING:absl:Audio loaded successfully.\n",
      "WARNING:absl:The audio at (/Volumes/BigChongusF/Datasets/Huggingface/gadme_v1/data/downloads/extracted/07a0b04bf9aec2ea5a8729ad6f8ea501c8a851d0f53829912550f376789b18e0/data/xeno-canto/north_america/empidonax_oberholseri/XC123838.ogg / 0) could not be loaded (audio_too_short). The exception was (no_exception)\n",
      "WARNING:absl:Audio loaded successfully.\n",
      "WARNING:absl:The audio at (/Volumes/BigChongusF/Datasets/Huggingface/gadme_v1/data/downloads/extracted/dacdc79178259381ae33610c1ac23ba786c77733201335d4d00617669efb593c/data/xeno-canto/north_america/vireo_gilvus/XC647168.ogg / 25) could not be loaded (audio_too_short). The exception was (no_exception)\n"
     ]
    },
    {
     "name": "stdout",
     "output_type": "stream",
     "text": [
      "Handling haemorhous_cassinii/XC218070.ogg\n",
      "Handling zonotrichia_leucophrys/XC135685.ogg\n"
     ]
    },
    {
     "name": "stderr",
     "output_type": "stream",
     "text": [
      "WARNING:absl:Audio loaded successfully.\n",
      "  4%|▍         | 835/21650 [03:38<1:00:29,  5.73it/s]WARNING:absl:Audio loaded successfully.\n",
      "WARNING:absl:The audio at (/Volumes/BigChongusF/Datasets/Huggingface/gadme_v1/data/downloads/extracted/50ee574c5ac7bd04862bf48084e734a9dfb53f6b0bb7e1c7ba86103dd405ec12/data/xeno-canto/north_america/junco_hyemalis/XC497023.ogg / 0) could not be loaded (audio_too_short). The exception was (no_exception)\n",
      "WARNING:absl:Audio loaded successfully.\n"
     ]
    },
    {
     "name": "stdout",
     "output_type": "stream",
     "text": [
      "Handling turdus_migratorius/XC165310.ogg\n"
     ]
    },
    {
     "name": "stderr",
     "output_type": "stream",
     "text": [
      "  4%|▍         | 837/21650 [03:38<1:00:41,  5.72it/s]WARNING:absl:Audio loaded successfully.\n",
      "  4%|▍         | 838/21650 [03:38<57:27,  6.04it/s]  WARNING:absl:Audio loaded successfully.\n"
     ]
    },
    {
     "name": "stdout",
     "output_type": "stream",
     "text": [
      "Handling catharus_guttatus/XC187620.ogg\n",
      "Handling turdus_migratorius/XC462677.ogg\n"
     ]
    },
    {
     "name": "stderr",
     "output_type": "stream",
     "text": [
      "  4%|▍         | 839/21650 [03:39<1:05:19,  5.31it/s]WARNING:absl:Audio loaded successfully.\n",
      "  4%|▍         | 840/21650 [03:39<1:05:02,  5.33it/s]"
     ]
    },
    {
     "name": "stdout",
     "output_type": "stream",
     "text": [
      "Handling junco_hyemalis/XC72004.ogg\n",
      "Handling anas_platyrhynchos/XC297304.ogg\n"
     ]
    },
    {
     "name": "stderr",
     "output_type": "stream",
     "text": [
      "WARNING:absl:Audio loaded successfully.\n",
      "  4%|▍         | 841/21650 [03:41<3:33:10,  1.63it/s]WARNING:absl:Audio loaded successfully.\n"
     ]
    },
    {
     "name": "stdout",
     "output_type": "stream",
     "text": [
      "Handling zonotrichia_leucophrys/XC535274.ogg\n",
      "Handling turdus_migratorius/XC160805.ogg\n"
     ]
    },
    {
     "name": "stderr",
     "output_type": "stream",
     "text": [
      "WARNING:absl:Audio loaded successfully.\n",
      "  4%|▍         | 843/21650 [03:43<4:10:51,  1.38it/s]WARNING:absl:Audio loaded successfully.\n",
      "  4%|▍         | 844/21650 [03:43<3:26:52,  1.68it/s]WARNING:absl:Audio loaded successfully.\n"
     ]
    },
    {
     "name": "stdout",
     "output_type": "stream",
     "text": [
      "Handling turdus_migratorius/XC441339.ogg\n",
      "Handling setophaga_coronata/XC78057.ogg\n"
     ]
    },
    {
     "name": "stderr",
     "output_type": "stream",
     "text": [
      "WARNING:absl:Audio loaded successfully.\n",
      "  4%|▍         | 846/21650 [03:43<2:17:50,  2.52it/s]WARNING:absl:Audio loaded successfully.\n"
     ]
    },
    {
     "name": "stdout",
     "output_type": "stream",
     "text": [
      "Handling leiothlypis_celata/XC253335.ogg\n",
      "Handling haemorhous_cassinii/XC551542.ogg\n"
     ]
    },
    {
     "name": "stderr",
     "output_type": "stream",
     "text": [
      "  4%|▍         | 847/21650 [03:43<2:04:36,  2.78it/s]WARNING:absl:Audio loaded successfully.\n",
      "  4%|▍         | 848/21650 [03:43<1:43:47,  3.34it/s]"
     ]
    },
    {
     "name": "stdout",
     "output_type": "stream",
     "text": [
      "Handling poecile_gambeli/XC578078.ogg\n",
      "Handling junco_hyemalis/XC474561.ogg\n"
     ]
    },
    {
     "name": "stderr",
     "output_type": "stream",
     "text": [
      "WARNING:absl:Audio loaded successfully.\n",
      "  4%|▍         | 849/21650 [03:44<2:48:10,  2.06it/s]WARNING:absl:Audio loaded successfully.\n",
      "WARNING:absl:The audio at (/Volumes/BigChongusF/Datasets/Huggingface/gadme_v1/data/downloads/extracted/3944287c00a98d3d9edcb7467992ad5fbf2cebeec4c9e389027ef676be012aef/data/xeno-canto/north_america/poecile_gambeli/XC510858.ogg / 4) could not be loaded (audio_too_short). The exception was (no_exception)\n",
      "WARNING:absl:Audio loaded successfully.\n",
      "WARNING:absl:The audio at (/Volumes/BigChongusF/Datasets/Huggingface/gadme_v1/data/downloads/extracted/17216070f80a410ede3b3b9d5be7d7b46383bb2a629699cc6296c19d2a1c3e34/data/xeno-canto/north_america/turdus_migratorius/XC282428.ogg / 0) could not be loaded (audio_too_short). The exception was (no_exception)\n",
      "WARNING:absl:Audio loaded successfully.\n"
     ]
    },
    {
     "name": "stdout",
     "output_type": "stream",
     "text": [
      "Handling catharus_guttatus/XC323235.ogg\n"
     ]
    },
    {
     "name": "stderr",
     "output_type": "stream",
     "text": [
      "  4%|▍         | 852/21650 [03:45<1:41:01,  3.43it/s]WARNING:absl:Audio loaded successfully.\n"
     ]
    },
    {
     "name": "stdout",
     "output_type": "stream",
     "text": [
      "Handling zonotrichia_leucophrys/XC137067.ogg\n"
     ]
    },
    {
     "name": "stderr",
     "output_type": "stream",
     "text": [
      "  4%|▍         | 853/21650 [03:45<1:40:19,  3.45it/s]WARNING:absl:Audio loaded successfully.\n",
      "WARNING:absl:The audio at (/Volumes/BigChongusF/Datasets/Huggingface/gadme_v1/data/downloads/extracted/c05b01b23568feda718271d2aa149124fd50d510bd99663cbd8752481054e53b/data/xeno-canto/north_america/colaptes_auratus/XC354617.ogg / 1) could not be loaded (audio_too_short). The exception was (no_exception)\n",
      "WARNING:absl:Audio loaded successfully.\n"
     ]
    },
    {
     "name": "stdout",
     "output_type": "stream",
     "text": [
      "Handling haemorhous_cassinii/XC256088.ogg\n"
     ]
    },
    {
     "name": "stderr",
     "output_type": "stream",
     "text": [
      "  4%|▍         | 855/21650 [03:45<1:17:01,  4.50it/s]WARNING:absl:Audio loaded successfully.\n"
     ]
    },
    {
     "name": "stdout",
     "output_type": "stream",
     "text": [
      "Handling leucosticte_tephrocotis/XC143942.ogg\n"
     ]
    },
    {
     "name": "stderr",
     "output_type": "stream",
     "text": [
      "  4%|▍         | 856/21650 [03:46<1:42:26,  3.38it/s]WARNING:absl:Audio loaded successfully.\n",
      "WARNING:absl:The audio at (/Volumes/BigChongusF/Datasets/Huggingface/gadme_v1/data/downloads/extracted/cd49b3631d04d3feff17b776f29f4fc3d66002b528c452baf906c78c1580d75a/data/xeno-canto/north_america/setophaga_coronata/XC135646.ogg / 21) could not be loaded (audio_too_short). The exception was (no_exception)\n",
      "WARNING:absl:Audio loaded successfully.\n"
     ]
    },
    {
     "name": "stdout",
     "output_type": "stream",
     "text": [
      "Handling passerella_iliaca/XC535172.ogg\n"
     ]
    },
    {
     "name": "stderr",
     "output_type": "stream",
     "text": [
      "  4%|▍         | 858/21650 [03:46<1:30:07,  3.85it/s]WARNING:absl:Audio loaded successfully.\n",
      "  4%|▍         | 859/21650 [03:46<1:19:29,  4.36it/s]WARNING:absl:Audio loaded successfully.\n",
      "WARNING:absl:Audio loaded successfully.\n"
     ]
    },
    {
     "name": "stdout",
     "output_type": "stream",
     "text": [
      "Handling haemorhous_cassinii/XC71818.ogg\n",
      "Handling anas_platyrhynchos/XC550748.ogg\n",
      "Handling passerella_iliaca/XC216728.ogg\n"
     ]
    },
    {
     "name": "stderr",
     "output_type": "stream",
     "text": [
      "  4%|▍         | 861/21650 [03:46<1:01:25,  5.64it/s]WARNING:absl:Audio loaded successfully.\n"
     ]
    },
    {
     "name": "stdout",
     "output_type": "stream",
     "text": [
      "Handling haemorhous_cassinii/XC71834.ogg\n"
     ]
    },
    {
     "name": "stderr",
     "output_type": "stream",
     "text": [
      "  4%|▍         | 862/21650 [03:47<2:03:50,  2.80it/s]WARNING:absl:Audio loaded successfully.\n",
      "WARNING:absl:Audio loaded successfully.\n"
     ]
    },
    {
     "name": "stdout",
     "output_type": "stream",
     "text": [
      "Handling catharus_guttatus/XC700531.ogg\n",
      "Handling euphagus_cyanocephalus/XC348979.ogg\n"
     ]
    },
    {
     "name": "stderr",
     "output_type": "stream",
     "text": [
      "  4%|▍         | 864/21650 [03:48<1:35:54,  3.61it/s]WARNING:absl:Audio loaded successfully.\n"
     ]
    },
    {
     "name": "stdout",
     "output_type": "stream",
     "text": [
      "Handling vireo_gilvus/XC550438.ogg\n"
     ]
    },
    {
     "name": "stderr",
     "output_type": "stream",
     "text": [
      "  4%|▍         | 865/21650 [03:48<1:52:35,  3.08it/s]"
     ]
    },
    {
     "name": "stdout",
     "output_type": "stream",
     "text": [
      "Handling anas_platyrhynchos/XC701580.ogg\n"
     ]
    },
    {
     "name": "stderr",
     "output_type": "stream",
     "text": [
      "WARNING:absl:Audio loaded successfully.\n",
      "  4%|▍         | 866/21650 [03:50<3:07:05,  1.85it/s]WARNING:absl:Audio loaded successfully.\n",
      "  4%|▍         | 867/21650 [03:50<2:31:50,  2.28it/s]WARNING:absl:Audio loaded successfully.\n"
     ]
    },
    {
     "name": "stdout",
     "output_type": "stream",
     "text": [
      "Handling nucifraga_columbiana/XC743105.ogg\n",
      "Handling anas_platyrhynchos/XC774997.ogg\n"
     ]
    },
    {
     "name": "stderr",
     "output_type": "stream",
     "text": [
      "  4%|▍         | 868/21650 [03:50<2:03:13,  2.81it/s]"
     ]
    },
    {
     "name": "stdout",
     "output_type": "stream",
     "text": [
      "Handling anas_platyrhynchos/XC777648.ogg\n"
     ]
    },
    {
     "name": "stderr",
     "output_type": "stream",
     "text": [
      "WARNING:absl:Audio loaded successfully.\n",
      "  4%|▍         | 869/21650 [03:51<3:28:56,  1.66it/s]WARNING:absl:Audio loaded successfully.\n",
      "WARNING:absl:The audio at (/Volumes/BigChongusF/Datasets/Huggingface/gadme_v1/data/downloads/extracted/ec613fac723ec2b148b37e696a540c4078e291087c8525c0be0e654266f29161/data/xeno-canto/north_america/colaptes_auratus/XC13696.ogg / 4) could not be loaded (audio_too_short). The exception was (no_exception)\n",
      "WARNING:absl:Audio loaded successfully.\n"
     ]
    },
    {
     "name": "stdout",
     "output_type": "stream",
     "text": [
      "Handling vireo_gilvus/XC193152.ogg\n"
     ]
    },
    {
     "name": "stderr",
     "output_type": "stream",
     "text": [
      "  4%|▍         | 871/21650 [03:52<2:36:48,  2.21it/s]WARNING:absl:Audio loaded successfully.\n",
      "WARNING:absl:The audio at (/Volumes/BigChongusF/Datasets/Huggingface/gadme_v1/data/downloads/extracted/657bb7ca7e00d187968c3a3fed754f2f43eea8c80f8b9290f46e2ef76a629ca6/data/xeno-canto/north_america/zonotrichia_leucophrys/XC572078.ogg / 0) could not be loaded (audio_too_short). The exception was (no_exception)\n",
      "WARNING:absl:Audio loaded successfully.\n",
      "  4%|▍         | 873/21650 [03:52<1:45:46,  3.27it/s]WARNING:absl:Audio loaded successfully.\n",
      "WARNING:absl:The audio at (/Volumes/BigChongusF/Datasets/Huggingface/gadme_v1/data/downloads/extracted/325835456a8f001ee2744ae1ed11bf9ada9af130981030ef2b1da7cae54cbffe/data/xeno-canto/north_america/junco_hyemalis/XC801708.ogg / 19) could not be loaded (audio_too_short). The exception was (no_exception)\n",
      "WARNING:absl:Audio loaded successfully.\n"
     ]
    },
    {
     "name": "stdout",
     "output_type": "stream",
     "text": [
      "Handling colaptes_auratus/XC71847.ogg\n",
      "Handling nucifraga_columbiana/XC408597.ogg\n"
     ]
    },
    {
     "name": "stderr",
     "output_type": "stream",
     "text": [
      "  4%|▍         | 875/21650 [03:52<1:26:40,  3.99it/s]WARNING:absl:Audio loaded successfully.\n"
     ]
    },
    {
     "name": "stdout",
     "output_type": "stream",
     "text": [
      "Handling poecile_gambeli/XC637875.ogg\n"
     ]
    },
    {
     "name": "stderr",
     "output_type": "stream",
     "text": [
      "  4%|▍         | 876/21650 [03:52<1:25:41,  4.04it/s]WARNING:absl:Audio loaded successfully.\n",
      "  4%|▍         | 877/21650 [03:52<1:16:12,  4.54it/s]"
     ]
    },
    {
     "name": "stdout",
     "output_type": "stream",
     "text": [
      "Handling leiothlypis_celata/XC314849.ogg\n",
      "Handling colaptes_auratus/XC347999.ogg\n"
     ]
    },
    {
     "name": "stderr",
     "output_type": "stream",
     "text": [
      "WARNING:absl:Audio loaded successfully.\n",
      "  4%|▍         | 878/21650 [03:53<1:49:33,  3.16it/s]WARNING:absl:Audio loaded successfully.\n",
      "  4%|▍         | 879/21650 [03:53<1:38:29,  3.51it/s]"
     ]
    },
    {
     "name": "stdout",
     "output_type": "stream",
     "text": [
      "Handling turdus_migratorius/XC663100.ogg\n",
      "Handling leucosticte_tephrocotis/XC432028.ogg\n"
     ]
    },
    {
     "name": "stderr",
     "output_type": "stream",
     "text": [
      "WARNING:absl:Audio loaded successfully.\n",
      "WARNING:absl:Audio loaded successfully.\n"
     ]
    },
    {
     "name": "stdout",
     "output_type": "stream",
     "text": [
      "Handling zonotrichia_leucophrys/XC432599.ogg\n"
     ]
    },
    {
     "name": "stderr",
     "output_type": "stream",
     "text": [
      "  4%|▍         | 881/21650 [03:54<1:28:34,  3.91it/s]WARNING:absl:Audio loaded successfully.\n",
      "WARNING:absl:The audio at (/Volumes/BigChongusF/Datasets/Huggingface/gadme_v1/data/downloads/extracted/fac58f85f06876ff8f6cab02102aac36e733cd077a257f05b209b05f983d3ecc/data/xeno-canto/north_america/vireo_gilvus/XC255912.ogg / 54) could not be loaded (audio_too_short). The exception was (no_exception)\n",
      "WARNING:absl:Audio loaded successfully.\n"
     ]
    },
    {
     "name": "stdout",
     "output_type": "stream",
     "text": [
      "Handling catharus_guttatus/XC31169.ogg\n"
     ]
    },
    {
     "name": "stderr",
     "output_type": "stream",
     "text": [
      "  4%|▍         | 883/21650 [03:54<1:16:27,  4.53it/s]WARNING:absl:Audio loaded successfully.\n"
     ]
    },
    {
     "name": "stdout",
     "output_type": "stream",
     "text": [
      "Handling catharus_guttatus/XC95321.ogg\n"
     ]
    },
    {
     "name": "stderr",
     "output_type": "stream",
     "text": [
      "  4%|▍         | 884/21650 [03:54<1:28:37,  3.90it/s]WARNING:absl:Audio loaded successfully.\n",
      "WARNING:absl:Audio loaded successfully.\n",
      "  4%|▍         | 886/21650 [03:54<1:05:46,  5.26it/s]WARNING:absl:Audio loaded successfully.\n"
     ]
    },
    {
     "name": "stdout",
     "output_type": "stream",
     "text": [
      "Handling catharus_guttatus/XC393131.ogg\n",
      "Handling vireo_gilvus/XC381167.ogg\n",
      "Handling passerella_iliaca/XC291255.ogg\n"
     ]
    },
    {
     "name": "stderr",
     "output_type": "stream",
     "text": [
      "WARNING:absl:Audio loaded successfully.\n",
      "  4%|▍         | 888/21650 [03:55<54:51,  6.31it/s]  WARNING:absl:Audio loaded successfully.\n",
      "WARNING:absl:The audio at (/Volumes/BigChongusF/Datasets/Huggingface/gadme_v1/data/downloads/extracted/07a0b04bf9aec2ea5a8729ad6f8ea501c8a851d0f53829912550f376789b18e0/data/xeno-canto/north_america/empidonax_oberholseri/XC408299.ogg / 83) could not be loaded (audio_too_short). The exception was (no_exception)\n",
      "WARNING:absl:Audio loaded successfully.\n"
     ]
    },
    {
     "name": "stdout",
     "output_type": "stream",
     "text": [
      "Handling anas_platyrhynchos/XC292066.ogg\n",
      "Handling junco_hyemalis/XC206101.ogg\n"
     ]
    },
    {
     "name": "stderr",
     "output_type": "stream",
     "text": [
      "WARNING:absl:Audio loaded successfully.\n"
     ]
    },
    {
     "name": "stdout",
     "output_type": "stream",
     "text": [
      "Handling junco_hyemalis/XC138151.ogg\n"
     ]
    },
    {
     "name": "stderr",
     "output_type": "stream",
     "text": [
      "  4%|▍         | 891/21650 [03:55<1:02:11,  5.56it/s]WARNING:absl:Audio loaded successfully.\n",
      "WARNING:absl:The audio at (/Volumes/BigChongusF/Datasets/Huggingface/gadme_v1/data/downloads/extracted/3c91bd3b848ef81521ad069a8fa6ac2fcacb937635fd0a9971a11200269ae1f7/data/xeno-canto/europe/anas_platyrhynchos/XC380220.ogg / 0) could not be loaded (audio_too_short). The exception was (no_exception)\n",
      "WARNING:absl:Audio loaded successfully.\n",
      "WARNING:absl:Audio loaded successfully.\n",
      "WARNING:absl:Audio loaded successfully.\n",
      "WARNING:absl:The audio at (/Volumes/BigChongusF/Datasets/Huggingface/gadme_v1/data/downloads/extracted/4fb52febc9ddf975fdb63222180f988dd27c8c7cb7b968eda935c6020ef0e853/data/xeno-canto/north_america/turdus_migratorius/XC16916.ogg / 16) could not be loaded (audio_too_short). The exception was (no_exception)\n",
      "  4%|▍         | 895/21650 [03:55<38:29,  8.99it/s]  WARNING:absl:Audio loaded successfully.\n"
     ]
    },
    {
     "name": "stdout",
     "output_type": "stream",
     "text": [
      "Handling catharus_guttatus/XC423448.ogg\n",
      "Handling anas_platyrhynchos/XC534730.ogg\n",
      "Handling anas_platyrhynchos/XC706430.ogg\n"
     ]
    },
    {
     "name": "stderr",
     "output_type": "stream",
     "text": [
      "WARNING:absl:Audio loaded successfully.\n"
     ]
    },
    {
     "name": "stdout",
     "output_type": "stream",
     "text": [
      "Handling catharus_guttatus/XC691467.ogg\n"
     ]
    },
    {
     "name": "stderr",
     "output_type": "stream",
     "text": [
      "  4%|▍         | 897/21650 [03:56<59:27,  5.82it/s]WARNING:absl:Audio loaded successfully.\n",
      "WARNING:absl:Audio loaded successfully.\n",
      "  4%|▍         | 899/21650 [03:56<51:45,  6.68it/s]WARNING:absl:Audio loaded successfully.\n"
     ]
    },
    {
     "name": "stdout",
     "output_type": "stream",
     "text": [
      "Handling anas_platyrhynchos/XC542843.ogg\n",
      "Handling anas_platyrhynchos/XC90579.ogg\n",
      "Handling turdus_migratorius/XC710116.ogg\n"
     ]
    },
    {
     "name": "stderr",
     "output_type": "stream",
     "text": [
      "WARNING:absl:Audio loaded successfully.\n"
     ]
    },
    {
     "name": "stdout",
     "output_type": "stream",
     "text": [
      "Handling anas_platyrhynchos/XC437738.ogg\n"
     ]
    },
    {
     "name": "stderr",
     "output_type": "stream",
     "text": [
      "  4%|▍         | 901/21650 [03:57<49:41,  6.96it/s]WARNING:absl:Audio loaded successfully.\n",
      "WARNING:absl:The audio at (/Volumes/BigChongusF/Datasets/Huggingface/gadme_v1/data/downloads/extracted/c05b01b23568feda718271d2aa149124fd50d510bd99663cbd8752481054e53b/data/xeno-canto/north_america/actitis_macularius/XC278363.ogg / 0) could not be loaded (audio_too_short). The exception was (no_exception)\n",
      "WARNING:absl:Audio loaded successfully.\n"
     ]
    },
    {
     "name": "stdout",
     "output_type": "stream",
     "text": [
      "Handling poecile_gambeli/XC362897.ogg\n"
     ]
    },
    {
     "name": "stderr",
     "output_type": "stream",
     "text": [
      "  4%|▍         | 903/21650 [03:58<1:22:19,  4.20it/s]WARNING:absl:Audio loaded successfully.\n",
      "WARNING:absl:The audio at (/Volumes/BigChongusF/Datasets/Huggingface/gadme_v1/data/downloads/extracted/2787f00abeaf0eed0548a1da772af8f8e1d065bd692ccac7a5a3940d0e41d546/data/xeno-canto/north_america/turdus_migratorius/XC729486.ogg / 45) could not be loaded (audio_too_short). The exception was (no_exception)\n",
      "WARNING:absl:Audio loaded successfully.\n"
     ]
    },
    {
     "name": "stdout",
     "output_type": "stream",
     "text": [
      "Handling zonotrichia_leucophrys/XC649654.ogg\n"
     ]
    },
    {
     "name": "stderr",
     "output_type": "stream",
     "text": [
      "  4%|▍         | 905/21650 [03:58<1:19:57,  4.32it/s]WARNING:absl:Audio loaded successfully.\n",
      "WARNING:absl:Audio loaded successfully.\n",
      "  4%|▍         | 907/21650 [03:58<1:05:09,  5.31it/s]WARNING:absl:Audio loaded successfully.\n"
     ]
    },
    {
     "name": "stdout",
     "output_type": "stream",
     "text": [
      "Handling anas_platyrhynchos/XC534402.ogg\n",
      "Handling vireo_gilvus/XC483712.ogg\n",
      "Handling empidonax_oberholseri/XC124643.ogg\n"
     ]
    },
    {
     "name": "stderr",
     "output_type": "stream",
     "text": [
      "  4%|▍         | 908/21650 [03:58<1:01:14,  5.65it/s]WARNING:absl:Audio loaded successfully.\n",
      "  4%|▍         | 909/21650 [03:58<57:31,  6.01it/s]  WARNING:absl:Audio loaded successfully.\n"
     ]
    },
    {
     "name": "stdout",
     "output_type": "stream",
     "text": [
      "Handling zonotrichia_leucophrys/XC478421.ogg\n",
      "Handling vireo_gilvus/XC700129.ogg\n"
     ]
    },
    {
     "name": "stderr",
     "output_type": "stream",
     "text": [
      "  4%|▍         | 910/21650 [03:58<55:56,  6.18it/s]"
     ]
    },
    {
     "name": "stdout",
     "output_type": "stream",
     "text": [
      "Handling turdus_migratorius/XC734182.ogg\n"
     ]
    },
    {
     "name": "stderr",
     "output_type": "stream",
     "text": [
      "WARNING:absl:Audio loaded successfully.\n",
      "  4%|▍         | 911/21650 [04:00<2:44:38,  2.10it/s]WARNING:absl:Audio loaded successfully.\n"
     ]
    },
    {
     "name": "stdout",
     "output_type": "stream",
     "text": [
      "Handling catharus_guttatus/XC323235.ogg\n"
     ]
    },
    {
     "name": "stderr",
     "output_type": "stream",
     "text": [
      "  4%|▍         | 912/21650 [04:00<2:28:58,  2.32it/s]WARNING:absl:Audio loaded successfully.\n",
      "  4%|▍         | 913/21650 [04:00<2:00:38,  2.86it/s]WARNING:absl:Audio loaded successfully.\n"
     ]
    },
    {
     "name": "stdout",
     "output_type": "stream",
     "text": [
      "Handling colaptes_auratus/XC305129.ogg\n",
      "Handling junco_hyemalis/XC362895.ogg\n"
     ]
    },
    {
     "name": "stderr",
     "output_type": "stream",
     "text": [
      "  4%|▍         | 914/21650 [04:01<1:46:19,  3.25it/s]WARNING:absl:Audio loaded successfully.\n"
     ]
    },
    {
     "name": "stdout",
     "output_type": "stream",
     "text": [
      "Handling euphagus_cyanocephalus/XC159782.ogg\n"
     ]
    },
    {
     "name": "stderr",
     "output_type": "stream",
     "text": [
      "  4%|▍         | 915/21650 [04:01<1:48:30,  3.18it/s]WARNING:absl:Audio loaded successfully.\n",
      "WARNING:absl:The audio at (/Volumes/BigChongusF/Datasets/Huggingface/gadme_v1/data/downloads/extracted/2bce4b9a431bfaabea14c251131c45f38745678853f058a2b2f6b863156d4d60/data/xeno-canto/north_america/catharus_guttatus/XC144121.ogg / 78) could not be loaded (audio_too_short). The exception was (no_exception)\n",
      "WARNING:absl:Audio loaded successfully.\n",
      "WARNING:absl:The audio at (/Volumes/BigChongusF/Datasets/Huggingface/gadme_v1/data/downloads/extracted/8dda359232b9ad0846ece0d9acaaf3b19aa81746af952a6c99bef642bdb88648/data/xeno-canto/north_america/turdus_migratorius/XC476494.ogg / 23) could not be loaded (audio_too_short). The exception was (no_exception)\n",
      "WARNING:absl:Audio loaded successfully.\n"
     ]
    },
    {
     "name": "stdout",
     "output_type": "stream",
     "text": [
      "Handling junco_hyemalis/XC169594.ogg\n"
     ]
    },
    {
     "name": "stderr",
     "output_type": "stream",
     "text": [
      "  4%|▍         | 918/21650 [04:01<1:05:38,  5.26it/s]WARNING:absl:Audio loaded successfully.\n"
     ]
    },
    {
     "name": "stdout",
     "output_type": "stream",
     "text": [
      "Handling turdus_migratorius/XC69996.ogg\n"
     ]
    },
    {
     "name": "stderr",
     "output_type": "stream",
     "text": [
      "  4%|▍         | 919/21650 [04:01<1:11:36,  4.83it/s]WARNING:absl:Audio loaded successfully.\n"
     ]
    },
    {
     "name": "stdout",
     "output_type": "stream",
     "text": [
      "Handling leiothlypis_celata/XC90149.ogg\n"
     ]
    },
    {
     "name": "stderr",
     "output_type": "stream",
     "text": [
      "  4%|▍         | 920/21650 [04:02<1:16:47,  4.50it/s]WARNING:absl:Audio loaded successfully.\n",
      "  4%|▍         | 921/21650 [04:02<1:07:34,  5.11it/s]"
     ]
    },
    {
     "name": "stdout",
     "output_type": "stream",
     "text": [
      "Handling colaptes_auratus/XC323227.ogg\n",
      "Handling anas_platyrhynchos/XC557184.ogg\n"
     ]
    },
    {
     "name": "stderr",
     "output_type": "stream",
     "text": [
      "WARNING:absl:Audio loaded successfully.\n",
      "  4%|▍         | 922/21650 [04:02<1:42:10,  3.38it/s]WARNING:absl:Audio loaded successfully.\n"
     ]
    },
    {
     "name": "stdout",
     "output_type": "stream",
     "text": [
      "Handling anas_platyrhynchos/XC639716.ogg\n"
     ]
    },
    {
     "name": "stderr",
     "output_type": "stream",
     "text": [
      "  4%|▍         | 923/21650 [04:03<1:52:38,  3.07it/s]WARNING:absl:Audio loaded successfully.\n"
     ]
    },
    {
     "name": "stdout",
     "output_type": "stream",
     "text": [
      "Handling junco_hyemalis/XC489339.ogg\n"
     ]
    },
    {
     "name": "stderr",
     "output_type": "stream",
     "text": [
      "  4%|▍         | 924/21650 [04:03<2:21:03,  2.45it/s]WARNING:absl:Audio loaded successfully.\n",
      "WARNING:absl:Audio loaded successfully.\n",
      "  4%|▍         | 926/21650 [04:04<1:28:58,  3.88it/s]"
     ]
    },
    {
     "name": "stdout",
     "output_type": "stream",
     "text": [
      "Handling catharus_guttatus/XC122005.ogg\n",
      "Handling anthus_rubescens/XC674783.ogg\n",
      "Handling junco_hyemalis/XC363228.ogg\n"
     ]
    },
    {
     "name": "stderr",
     "output_type": "stream",
     "text": [
      "WARNING:absl:Audio loaded successfully.\n",
      "  4%|▍         | 927/21650 [04:04<1:34:54,  3.64it/s]WARNING:absl:Audio loaded successfully.\n",
      "  4%|▍         | 928/21650 [04:04<1:20:06,  4.31it/s]WARNING:absl:Audio loaded successfully.\n",
      "WARNING:absl:The audio at (/Volumes/BigChongusF/Datasets/Huggingface/gadme_v1/data/downloads/extracted/7999bb6a56b81320289f187fda8208243d41e6e50dd9ca49b75ab67670f0f4cd/data/xeno-canto/north_america/junco_hyemalis/XC104511.ogg / 17) could not be loaded (audio_too_short). The exception was (no_exception)\n",
      "WARNING:absl:Audio loaded successfully.\n",
      "WARNING:absl:The audio at (/Volumes/BigChongusF/Datasets/Huggingface/gadme_v1/data/downloads/extracted/4ab7290c70f503dcf8a7a57aec1f76e52b2b64a87cdc69bddff95b3855268e15/data/xeno-canto/north_america/turdus_migratorius/XC285089.ogg / 0) could not be loaded (audio_too_short). The exception was (no_exception)\n",
      "WARNING:absl:Audio loaded successfully.\n"
     ]
    },
    {
     "name": "stdout",
     "output_type": "stream",
     "text": [
      "Handling leiothlypis_celata/XC322918.ogg\n",
      "Handling leiothlypis_celata/XC448943.ogg\n"
     ]
    },
    {
     "name": "stderr",
     "output_type": "stream",
     "text": [
      "  4%|▍         | 931/21650 [04:04<51:54,  6.65it/s]  WARNING:absl:Audio loaded successfully.\n",
      "WARNING:absl:Audio loaded successfully.\n",
      "WARNING:absl:The audio at (/Volumes/BigChongusF/Datasets/Huggingface/gadme_v1/data/downloads/extracted/11822cb7774f0c8fc8baf7b5f803ac199e8389f4e7915de926ef11f732fc0c36/data/xeno-canto/north_america/catharus_guttatus/XC135069.ogg / 1) could not be loaded (audio_too_short). The exception was (no_exception)\n",
      "WARNING:absl:Audio loaded successfully.\n",
      "WARNING:absl:The audio at (/Volumes/BigChongusF/Datasets/Huggingface/gadme_v1/data/downloads/extracted/81e1b796790f26dbc25ae8fbe4e7b2707eea32146a66d4954952be1661457843/data/xeno-canto/north_america/leiothlypis_celata/XC706081.ogg / 0) could not be loaded (audio_too_short). The exception was (no_exception)\n",
      "WARNING:absl:Audio loaded successfully.\n",
      "WARNING:absl:The audio at (/Volumes/BigChongusF/Datasets/Huggingface/gadme_v1/data/downloads/extracted/2787f00abeaf0eed0548a1da772af8f8e1d065bd692ccac7a5a3940d0e41d546/data/xeno-canto/north_america/turdus_migratorius/XC398607.ogg / 40) could not be loaded (audio_too_short). The exception was (no_exception)\n",
      "WARNING:absl:Audio loaded successfully.\n",
      "WARNING:absl:The audio at (/Volumes/BigChongusF/Datasets/Huggingface/gadme_v1/data/downloads/extracted/cd49b3631d04d3feff17b776f29f4fc3d66002b528c452baf906c78c1580d75a/data/xeno-canto/north_america/setophaga_coronata/XC322986.ogg / 0) could not be loaded (audio_too_short). The exception was (no_exception)\n",
      "  4%|▍         | 936/21650 [04:04<26:59, 12.79it/s]WARNING:absl:Audio loaded successfully.\n"
     ]
    },
    {
     "name": "stdout",
     "output_type": "stream",
     "text": [
      "Handling haemorhous_cassinii/XC265053.ogg\n",
      "Handling leiothlypis_celata/XC808323.ogg\n"
     ]
    },
    {
     "name": "stderr",
     "output_type": "stream",
     "text": [
      "WARNING:absl:Audio loaded successfully.\n",
      "WARNING:absl:The audio at (/Volumes/BigChongusF/Datasets/Huggingface/gadme_v1/data/downloads/extracted/3c91bd3b848ef81521ad069a8fa6ac2fcacb937635fd0a9971a11200269ae1f7/data/xeno-canto/north_america/anas_platyrhynchos/XC451854.ogg / 12) could not be loaded (audio_too_short). The exception was (no_exception)\n"
     ]
    },
    {
     "name": "stdout",
     "output_type": "stream",
     "text": [
      "Handling poecile_gambeli/XC381389.ogg\n"
     ]
    },
    {
     "name": "stderr",
     "output_type": "stream",
     "text": [
      "WARNING:absl:Audio loaded successfully.\n",
      "  4%|▍         | 939/21650 [04:06<1:09:25,  4.97it/s]WARNING:absl:Audio loaded successfully.\n"
     ]
    },
    {
     "name": "stdout",
     "output_type": "stream",
     "text": [
      "Handling haemorhous_cassinii/XC551000.ogg\n"
     ]
    },
    {
     "name": "stderr",
     "output_type": "stream",
     "text": [
      "WARNING:absl:Audio loaded successfully.\n",
      "  4%|▍         | 941/21650 [04:06<1:15:07,  4.59it/s]WARNING:absl:Audio loaded successfully.\n"
     ]
    },
    {
     "name": "stdout",
     "output_type": "stream",
     "text": [
      "Handling vireo_gilvus/XC323459.ogg\n",
      "Handling poecile_gambeli/XC570965.ogg\n"
     ]
    },
    {
     "name": "stderr",
     "output_type": "stream",
     "text": [
      "WARNING:absl:Audio loaded successfully.\n",
      "  4%|▍         | 943/21650 [04:07<1:11:56,  4.80it/s]WARNING:absl:Audio loaded successfully.\n"
     ]
    },
    {
     "name": "stdout",
     "output_type": "stream",
     "text": [
      "Handling zonotrichia_leucophrys/XC125765.ogg\n",
      "Handling leiothlypis_celata/XC291616.ogg\n"
     ]
    },
    {
     "name": "stderr",
     "output_type": "stream",
     "text": [
      "  4%|▍         | 944/21650 [04:07<1:14:19,  4.64it/s]WARNING:absl:Audio loaded successfully.\n"
     ]
    },
    {
     "name": "stdout",
     "output_type": "stream",
     "text": [
      "Handling turdus_migratorius/XC323031.ogg\n"
     ]
    },
    {
     "name": "stderr",
     "output_type": "stream",
     "text": [
      "  4%|▍         | 945/21650 [04:07<1:17:59,  4.42it/s]WARNING:absl:Audio loaded successfully.\n"
     ]
    },
    {
     "name": "stdout",
     "output_type": "stream",
     "text": [
      "Handling turdus_migratorius/XC97494.ogg\n"
     ]
    },
    {
     "name": "stderr",
     "output_type": "stream",
     "text": [
      "  4%|▍         | 946/21650 [04:07<1:19:38,  4.33it/s]WARNING:absl:Audio loaded successfully.\n"
     ]
    },
    {
     "name": "stdout",
     "output_type": "stream",
     "text": [
      "Handling turdus_migratorius/XC663096.ogg\n"
     ]
    },
    {
     "name": "stderr",
     "output_type": "stream",
     "text": [
      "  4%|▍         | 947/21650 [04:08<1:37:10,  3.55it/s]WARNING:absl:Audio loaded successfully.\n"
     ]
    },
    {
     "name": "stdout",
     "output_type": "stream",
     "text": [
      "Handling turdus_migratorius/XC163135.ogg\n"
     ]
    },
    {
     "name": "stderr",
     "output_type": "stream",
     "text": [
      "  4%|▍         | 948/21650 [04:08<1:32:15,  3.74it/s]WARNING:absl:Audio loaded successfully.\n",
      "WARNING:absl:The audio at (/Volumes/BigChongusF/Datasets/Huggingface/gadme_v1/data/downloads/extracted/311d741def45c8db5627f28a29fb12fae011eadb4408d855d15c5dbda8c53dd4/data/xeno-canto/north_america/setophaga_petechia/XC568813.ogg / 0) could not be loaded (audio_too_short). The exception was (no_exception)\n",
      "WARNING:absl:Audio loaded successfully.\n",
      "  4%|▍         | 950/21650 [04:08<1:05:05,  5.30it/s]WARNING:absl:Audio loaded successfully.\n"
     ]
    },
    {
     "name": "stdout",
     "output_type": "stream",
     "text": [
      "Handling vireo_gilvus/XC419787.ogg\n",
      "Handling vireo_gilvus/XC426270.ogg\n"
     ]
    },
    {
     "name": "stderr",
     "output_type": "stream",
     "text": [
      "  4%|▍         | 951/21650 [04:08<1:00:16,  5.72it/s]WARNING:absl:Audio loaded successfully.\n"
     ]
    },
    {
     "name": "stdout",
     "output_type": "stream",
     "text": [
      "Handling salpinctes_obsoletus/XC781684.ogg\n"
     ]
    },
    {
     "name": "stderr",
     "output_type": "stream",
     "text": [
      "  4%|▍         | 952/21650 [04:09<1:04:13,  5.37it/s]WARNING:absl:Audio loaded successfully.\n",
      "WARNING:absl:The audio at (/Volumes/BigChongusF/Datasets/Huggingface/gadme_v1/data/downloads/extracted/325835456a8f001ee2744ae1ed11bf9ada9af130981030ef2b1da7cae54cbffe/data/xeno-canto/north_america/passerella_iliaca/XC89168.ogg / 0) could not be loaded (audio_too_short). The exception was (no_exception)\n",
      "WARNING:absl:Audio loaded successfully.\n",
      "WARNING:absl:The audio at (/Volumes/BigChongusF/Datasets/Huggingface/gadme_v1/data/downloads/extracted/657bb7ca7e00d187968c3a3fed754f2f43eea8c80f8b9290f46e2ef76a629ca6/data/xeno-canto/north_america/zonotrichia_leucophrys/XC157771.ogg / 0) could not be loaded (audio_too_short). The exception was (no_exception)\n",
      "WARNING:absl:Audio loaded successfully.\n",
      "  4%|▍         | 955/21650 [04:09<40:46,  8.46it/s]  WARNING:absl:Audio loaded successfully.\n"
     ]
    },
    {
     "name": "stdout",
     "output_type": "stream",
     "text": [
      "Handling vireo_gilvus/XC727744.ogg\n",
      "Handling passerella_iliaca/XC416063.ogg\n"
     ]
    },
    {
     "name": "stderr",
     "output_type": "stream",
     "text": [
      "WARNING:absl:Audio loaded successfully.\n",
      "  4%|▍         | 957/21650 [04:09<41:35,  8.29it/s]WARNING:absl:Audio loaded successfully.\n",
      "  4%|▍         | 958/21650 [04:09<41:45,  8.26it/s]WARNING:absl:Audio loaded successfully.\n",
      "WARNING:absl:The audio at (/Volumes/BigChongusF/Datasets/Huggingface/gadme_v1/data/downloads/extracted/33e4b5dac1f3e336b57bc91d4b4ff764b4ae70d484a82c7bdbeb5ac37d235324/data/xeno-canto/europe/anas_platyrhynchos/XC490130.ogg / 0) could not be loaded (audio_too_short). The exception was (no_exception)\n"
     ]
    },
    {
     "name": "stdout",
     "output_type": "stream",
     "text": [
      "Handling leiothlypis_celata/XC129801.ogg\n",
      "Handling junco_hyemalis/XC104587.ogg\n",
      "Handling leiothlypis_celata/XC408280.ogg\n"
     ]
    },
    {
     "name": "stderr",
     "output_type": "stream",
     "text": [
      "WARNING:absl:Audio loaded successfully.\n",
      "  4%|▍         | 960/21650 [04:09<43:14,  7.97it/s]WARNING:absl:Audio loaded successfully.\n"
     ]
    },
    {
     "name": "stdout",
     "output_type": "stream",
     "text": [
      "Handling vireo_gilvus/XC575613.ogg\n",
      "Handling vireo_gilvus/XC69966.ogg\n"
     ]
    },
    {
     "name": "stderr",
     "output_type": "stream",
     "text": [
      "WARNING:absl:Audio loaded successfully.\n",
      "  4%|▍         | 962/21650 [04:12<2:53:15,  1.99it/s]WARNING:absl:Audio loaded successfully.\n",
      "WARNING:absl:The audio at (/Volumes/BigChongusF/Datasets/Huggingface/gadme_v1/data/downloads/extracted/cd49b3631d04d3feff17b776f29f4fc3d66002b528c452baf906c78c1580d75a/data/xeno-canto/north_america/setophaga_coronata/XC324477.ogg / 9) could not be loaded (audio_too_short). The exception was (no_exception)\n",
      "WARNING:absl:Audio loaded successfully.\n",
      "WARNING:absl:The audio at (/Volumes/BigChongusF/Datasets/Huggingface/gadme_v1/data/downloads/extracted/81e1b796790f26dbc25ae8fbe4e7b2707eea32146a66d4954952be1661457843/data/xeno-canto/north_america/leiothlypis_celata/XC225409.ogg / 1) could not be loaded (audio_too_short). The exception was (no_exception)\n",
      "WARNING:absl:Audio loaded successfully.\n",
      "WARNING:absl:The audio at (/Volumes/BigChongusF/Datasets/Huggingface/gadme_v1/data/downloads/extracted/fac58f85f06876ff8f6cab02102aac36e733cd077a257f05b209b05f983d3ecc/data/xeno-canto/north_america/vireo_gilvus/XC180360.ogg / 0) could not be loaded (audio_too_short). The exception was (no_exception)\n",
      "WARNING:absl:Audio loaded successfully.\n"
     ]
    },
    {
     "name": "stdout",
     "output_type": "stream",
     "text": [
      "Handling catharus_guttatus/XC139633.ogg\n"
     ]
    },
    {
     "name": "stderr",
     "output_type": "stream",
     "text": [
      "  4%|▍         | 966/21650 [04:12<1:45:29,  3.27it/s]WARNING:absl:Audio loaded successfully.\n"
     ]
    },
    {
     "name": "stdout",
     "output_type": "stream",
     "text": [
      "Handling anas_platyrhynchos/XC160324.ogg\n"
     ]
    },
    {
     "name": "stderr",
     "output_type": "stream",
     "text": [
      "  4%|▍         | 967/21650 [04:13<1:47:56,  3.19it/s]WARNING:absl:Audio loaded successfully.\n",
      "  4%|▍         | 968/21650 [04:13<1:35:45,  3.60it/s]WARNING:absl:Audio loaded successfully.\n",
      "WARNING:absl:The audio at (/Volumes/BigChongusF/Datasets/Huggingface/gadme_v1/data/downloads/extracted/c654a2fa7284c6b9ad2b65fb7d03c399719d51032c53323567e62583eb09dd11/data/xeno-canto/north_america/setophaga_coronata/XC254321.ogg / 2) could not be loaded (audio_too_short). The exception was (no_exception)\n",
      "WARNING:absl:Audio loaded successfully.\n"
     ]
    },
    {
     "name": "stdout",
     "output_type": "stream",
     "text": [
      "Handling junco_hyemalis/XC606101.ogg\n",
      "Handling anas_platyrhynchos/XC768200.ogg\n"
     ]
    },
    {
     "name": "stderr",
     "output_type": "stream",
     "text": [
      "  4%|▍         | 970/21650 [04:13<1:16:50,  4.49it/s]WARNING:absl:Audio loaded successfully.\n",
      "WARNING:absl:The audio at (/Volumes/BigChongusF/Datasets/Huggingface/gadme_v1/data/downloads/extracted/a96403d40c322662ebeb3491a302e2c51400c2d2021ddf36a2ee48c75eff8848/data/xeno-canto/north_america/catharus_guttatus/XC748364.ogg / 14) could not be loaded (audio_too_short). The exception was (no_exception)\n",
      "WARNING:absl:Audio loaded successfully.\n",
      "WARNING:absl:The audio at (/Volumes/BigChongusF/Datasets/Huggingface/gadme_v1/data/downloads/extracted/fac58f85f06876ff8f6cab02102aac36e733cd077a257f05b209b05f983d3ecc/data/xeno-canto/north_america/vireo_gilvus/XC232119.ogg / 0) could not be loaded (audio_too_short). The exception was (no_exception)\n",
      "WARNING:absl:Audio loaded successfully.\n",
      "  4%|▍         | 973/21650 [04:13<50:02,  6.89it/s]  "
     ]
    },
    {
     "name": "stdout",
     "output_type": "stream",
     "text": [
      "Handling vireo_gilvus/XC72283.ogg\n",
      "Handling junco_hyemalis/XC319370.ogg\n"
     ]
    },
    {
     "name": "stderr",
     "output_type": "stream",
     "text": [
      "WARNING:absl:Audio loaded successfully.\n",
      "WARNING:absl:Audio loaded successfully.\n",
      "  5%|▍         | 975/21650 [04:14<1:12:53,  4.73it/s]WARNING:absl:Audio loaded successfully.\n",
      "WARNING:absl:The audio at (/Volumes/BigChongusF/Datasets/Huggingface/gadme_v1/data/downloads/extracted/ec613fac723ec2b148b37e696a540c4078e291087c8525c0be0e654266f29161/data/xeno-canto/north_america/colaptes_auratus/XC155581.ogg / 0) could not be loaded (audio_too_short). The exception was (no_exception)\n"
     ]
    },
    {
     "name": "stdout",
     "output_type": "stream",
     "text": [
      "Handling colaptes_auratus/XC622240.ogg\n",
      "Handling turdus_migratorius/XC83722.ogg\n"
     ]
    },
    {
     "name": "stderr",
     "output_type": "stream",
     "text": [
      "WARNING:absl:Audio loaded successfully.\n",
      "  5%|▍         | 977/21650 [04:14<1:02:13,  5.54it/s]WARNING:absl:Audio loaded successfully.\n"
     ]
    },
    {
     "name": "stdout",
     "output_type": "stream",
     "text": [
      "Handling euphagus_cyanocephalus/XC319246.ogg\n"
     ]
    },
    {
     "name": "stderr",
     "output_type": "stream",
     "text": [
      "WARNING:absl:Audio loaded successfully.\n"
     ]
    },
    {
     "name": "stdout",
     "output_type": "stream",
     "text": [
      "Handling junco_hyemalis/XC408653.ogg\n"
     ]
    },
    {
     "name": "stderr",
     "output_type": "stream",
     "text": [
      "  5%|▍         | 979/21650 [04:15<1:18:52,  4.37it/s]WARNING:absl:Audio loaded successfully.\n",
      "  5%|▍         | 980/21650 [04:15<1:16:12,  4.52it/s]"
     ]
    },
    {
     "name": "stdout",
     "output_type": "stream",
     "text": [
      "Handling anas_platyrhynchos/XC734953.ogg\n",
      "Handling empidonax_oberholseri/XC190996.ogg\n"
     ]
    },
    {
     "name": "stderr",
     "output_type": "stream",
     "text": [
      "WARNING:absl:Audio loaded successfully.\n",
      "  5%|▍         | 981/21650 [04:15<1:23:17,  4.14it/s]WARNING:absl:Audio loaded successfully.\n",
      "  5%|▍         | 982/21650 [04:15<1:15:40,  4.55it/s]WARNING:absl:Audio loaded successfully.\n"
     ]
    },
    {
     "name": "stdout",
     "output_type": "stream",
     "text": [
      "Handling vireo_gilvus/XC375894.ogg\n",
      "Handling turdus_migratorius/XC67401.ogg\n",
      "Handling anas_platyrhynchos/XC390377.ogg\n"
     ]
    },
    {
     "name": "stderr",
     "output_type": "stream",
     "text": [
      "WARNING:absl:Audio loaded successfully.\n",
      "  5%|▍         | 984/21650 [04:16<55:02,  6.26it/s]  WARNING:absl:Audio loaded successfully.\n",
      "WARNING:absl:The audio at (/Volumes/BigChongusF/Datasets/Huggingface/gadme_v1/data/downloads/extracted/c654a2fa7284c6b9ad2b65fb7d03c399719d51032c53323567e62583eb09dd11/data/xeno-canto/north_america/catharus_guttatus/XC360347.ogg / 0) could not be loaded (audio_too_short). The exception was (no_exception)\n",
      "WARNING:absl:Audio loaded successfully.\n",
      "  5%|▍         | 986/21650 [04:16<43:45,  7.87it/s]WARNING:absl:Audio loaded successfully.\n",
      "WARNING:absl:The audio at (/Volumes/BigChongusF/Datasets/Huggingface/gadme_v1/data/downloads/extracted/11822cb7774f0c8fc8baf7b5f803ac199e8389f4e7915de926ef11f732fc0c36/data/xeno-canto/north_america/catharus_guttatus/XC65362.ogg / 24) could not be loaded (audio_too_short). The exception was (no_exception)\n",
      "WARNING:absl:Audio loaded successfully.\n",
      "WARNING:absl:The audio at (/Volumes/BigChongusF/Datasets/Huggingface/gadme_v1/data/downloads/extracted/e68da0013aa2de07a892cea4436ef4f05bf18dc840e506a49e4934fad311632a/data/xeno-canto/north_america/zonotrichia_leucophrys/XC325008.ogg / 0) could not be loaded (audio_too_short). The exception was (no_exception)\n",
      "WARNING:absl:Audio loaded successfully.\n"
     ]
    },
    {
     "name": "stdout",
     "output_type": "stream",
     "text": [
      "Handling poecile_gambeli/XC71773.ogg\n",
      "Handling setophaga_coronata/XC364595.ogg\n"
     ]
    },
    {
     "name": "stderr",
     "output_type": "stream",
     "text": [
      "WARNING:absl:Audio loaded successfully.\n",
      "WARNING:absl:The audio at (/Volumes/BigChongusF/Datasets/Huggingface/gadme_v1/data/downloads/extracted/3c91bd3b848ef81521ad069a8fa6ac2fcacb937635fd0a9971a11200269ae1f7/data/xeno-canto/europe/anas_platyrhynchos/XC772671.ogg / 1) could not be loaded (audio_too_short). The exception was (no_exception)\n",
      "WARNING:absl:Audio loaded successfully.\n"
     ]
    },
    {
     "name": "stdout",
     "output_type": "stream",
     "text": [
      "Handling anas_platyrhynchos/XC755991.ogg\n"
     ]
    },
    {
     "name": "stderr",
     "output_type": "stream",
     "text": [
      "  5%|▍         | 991/21650 [04:17<58:07,  5.92it/s]WARNING:absl:Audio loaded successfully.\n"
     ]
    },
    {
     "name": "stdout",
     "output_type": "stream",
     "text": [
      "Handling vireo_gilvus/XC321994.ogg\n"
     ]
    },
    {
     "name": "stderr",
     "output_type": "stream",
     "text": [
      "  5%|▍         | 992/21650 [04:17<1:01:52,  5.56it/s]WARNING:absl:Audio loaded successfully.\n",
      "  5%|▍         | 993/21650 [04:17<1:00:06,  5.73it/s]WARNING:absl:Audio loaded successfully.\n",
      "WARNING:absl:The audio at (/Volumes/BigChongusF/Datasets/Huggingface/gadme_v1/data/downloads/extracted/657bb7ca7e00d187968c3a3fed754f2f43eea8c80f8b9290f46e2ef76a629ca6/data/xeno-canto/north_america/zonotrichia_leucophrys/XC159317.ogg / 0) could not be loaded (audio_too_short). The exception was (no_exception)\n"
     ]
    },
    {
     "name": "stdout",
     "output_type": "stream",
     "text": [
      "Handling leiothlypis_celata/XC553413.ogg\n",
      "Handling anas_platyrhynchos/XC431624.ogg\n"
     ]
    },
    {
     "name": "stderr",
     "output_type": "stream",
     "text": [
      "WARNING:absl:Audio loaded successfully.\n",
      "  5%|▍         | 995/21650 [04:18<1:36:19,  3.57it/s]WARNING:absl:Audio loaded successfully.\n",
      "WARNING:absl:Audio loaded successfully.\n"
     ]
    },
    {
     "name": "stdout",
     "output_type": "stream",
     "text": [
      "Handling vireo_gilvus/XC322037.ogg\n",
      "Handling junco_hyemalis/XC146596.ogg\n"
     ]
    },
    {
     "name": "stderr",
     "output_type": "stream",
     "text": [
      "  5%|▍         | 997/21650 [04:18<1:17:38,  4.43it/s]WARNING:absl:Audio loaded successfully.\n",
      "WARNING:absl:Audio loaded successfully.\n"
     ]
    },
    {
     "name": "stdout",
     "output_type": "stream",
     "text": [
      "Handling passerella_iliaca/XC177478.ogg\n",
      "Handling vireo_gilvus/XC611814.ogg\n"
     ]
    },
    {
     "name": "stderr",
     "output_type": "stream",
     "text": [
      "  5%|▍         | 999/21650 [04:19<1:06:30,  5.18it/s]WARNING:absl:Audio loaded successfully.\n"
     ]
    },
    {
     "name": "stdout",
     "output_type": "stream",
     "text": [
      "Handling salpinctes_obsoletus/XC13624.ogg\n"
     ]
    },
    {
     "name": "stderr",
     "output_type": "stream",
     "text": [
      "  5%|▍         | 1000/21650 [04:19<1:37:42,  3.52it/s]WARNING:absl:Audio loaded successfully.\n"
     ]
    },
    {
     "name": "stdout",
     "output_type": "stream",
     "text": [
      "Handling junco_hyemalis/XC121434.ogg\n"
     ]
    },
    {
     "name": "stderr",
     "output_type": "stream",
     "text": [
      "  5%|▍         | 1001/21650 [04:20<1:55:38,  2.98it/s]WARNING:absl:Audio loaded successfully.\n"
     ]
    },
    {
     "name": "stdout",
     "output_type": "stream",
     "text": [
      "Handling junco_hyemalis/XC72002.ogg\n"
     ]
    },
    {
     "name": "stderr",
     "output_type": "stream",
     "text": [
      "  5%|▍         | 1002/21650 [04:20<1:48:37,  3.17it/s]WARNING:absl:Audio loaded successfully.\n",
      "WARNING:absl:The audio at (/Volumes/BigChongusF/Datasets/Huggingface/gadme_v1/data/downloads/extracted/2bce4b9a431bfaabea14c251131c45f38745678853f058a2b2f6b863156d4d60/data/xeno-canto/north_america/catharus_guttatus/XC70485.ogg / 0) could not be loaded (audio_too_short). The exception was (no_exception)\n",
      "WARNING:absl:Audio loaded successfully.\n"
     ]
    },
    {
     "name": "stdout",
     "output_type": "stream",
     "text": [
      "Handling anthus_rubescens/XC387537.ogg\n"
     ]
    },
    {
     "name": "stderr",
     "output_type": "stream",
     "text": [
      "  5%|▍         | 1004/21650 [04:20<1:26:13,  3.99it/s]WARNING:absl:Audio loaded successfully.\n"
     ]
    },
    {
     "name": "stdout",
     "output_type": "stream",
     "text": [
      "Handling setophaga_coronata/XC13585.ogg\n"
     ]
    },
    {
     "name": "stderr",
     "output_type": "stream",
     "text": [
      "  5%|▍         | 1005/21650 [04:21<1:45:56,  3.25it/s]WARNING:absl:Audio loaded successfully.\n",
      "WARNING:absl:Audio loaded successfully.\n",
      "WARNING:absl:The audio at (/Volumes/BigChongusF/Datasets/Huggingface/gadme_v1/data/downloads/extracted/c654a2fa7284c6b9ad2b65fb7d03c399719d51032c53323567e62583eb09dd11/data/xeno-canto/north_america/setophaga_coronata/XC254785.ogg / 2) could not be loaded (audio_too_short). The exception was (no_exception)\n"
     ]
    },
    {
     "name": "stdout",
     "output_type": "stream",
     "text": [
      "Handling catharus_guttatus/XC211201.ogg\n",
      "Handling junco_hyemalis/XC321210.ogg\n"
     ]
    },
    {
     "name": "stderr",
     "output_type": "stream",
     "text": [
      "WARNING:absl:Audio loaded successfully.\n",
      "  5%|▍         | 1008/21650 [04:22<1:43:23,  3.33it/s]WARNING:absl:Audio loaded successfully.\n"
     ]
    },
    {
     "name": "stdout",
     "output_type": "stream",
     "text": [
      "Handling setophaga_coronata/XC644169.ogg\n"
     ]
    },
    {
     "name": "stderr",
     "output_type": "stream",
     "text": [
      "  5%|▍         | 1009/21650 [04:22<2:06:39,  2.72it/s]WARNING:absl:Audio loaded successfully.\n",
      "WARNING:absl:The audio at (/Volumes/BigChongusF/Datasets/Huggingface/gadme_v1/data/downloads/extracted/81e1b796790f26dbc25ae8fbe4e7b2707eea32146a66d4954952be1661457843/data/xeno-canto/north_america/leiothlypis_celata/XC177469.ogg / 0) could not be loaded (audio_too_short). The exception was (no_exception)\n",
      "WARNING:absl:Audio loaded successfully.\n"
     ]
    },
    {
     "name": "stdout",
     "output_type": "stream",
     "text": [
      "Handling leiothlypis_celata/XC790939.ogg\n"
     ]
    },
    {
     "name": "stderr",
     "output_type": "stream",
     "text": [
      "  5%|▍         | 1011/21650 [04:23<1:37:06,  3.54it/s]WARNING:absl:Audio loaded successfully.\n"
     ]
    },
    {
     "name": "stdout",
     "output_type": "stream",
     "text": [
      "Handling leiothlypis_celata/XC416083.ogg\n"
     ]
    },
    {
     "name": "stderr",
     "output_type": "stream",
     "text": [
      "  5%|▍         | 1012/21650 [04:23<1:41:06,  3.40it/s]WARNING:absl:Audio loaded successfully.\n",
      "WARNING:absl:The audio at (/Volumes/BigChongusF/Datasets/Huggingface/gadme_v1/data/downloads/extracted/cd49b3631d04d3feff17b776f29f4fc3d66002b528c452baf906c78c1580d75a/data/xeno-canto/north_america/setophaga_coronata/XC795442.ogg / 0) could not be loaded (audio_too_short). The exception was (no_exception)\n",
      "WARNING:absl:Audio loaded successfully.\n",
      "  5%|▍         | 1014/21650 [04:23<1:15:17,  4.57it/s]WARNING:absl:Audio loaded successfully.\n"
     ]
    },
    {
     "name": "stdout",
     "output_type": "stream",
     "text": [
      "Handling catharus_guttatus/XC323230.ogg\n",
      "Handling setophaga_coronata/XC70999.ogg\n"
     ]
    },
    {
     "name": "stderr",
     "output_type": "stream",
     "text": [
      "  5%|▍         | 1015/21650 [04:23<1:08:06,  5.05it/s]WARNING:absl:Audio loaded successfully.\n"
     ]
    },
    {
     "name": "stdout",
     "output_type": "stream",
     "text": [
      "Handling nucifraga_columbiana/XC422415.ogg\n"
     ]
    },
    {
     "name": "stderr",
     "output_type": "stream",
     "text": [
      "  5%|▍         | 1016/21650 [04:24<1:11:38,  4.80it/s]WARNING:absl:Audio loaded successfully.\n",
      "  5%|▍         | 1017/21650 [04:24<1:04:45,  5.31it/s]WARNING:absl:Audio loaded successfully.\n"
     ]
    },
    {
     "name": "stdout",
     "output_type": "stream",
     "text": [
      "Handling empidonax_oberholseri/XC146200.ogg\n",
      "Handling vireo_gilvus/XC107861.ogg\n"
     ]
    },
    {
     "name": "stderr",
     "output_type": "stream",
     "text": [
      "  5%|▍         | 1018/21650 [04:24<1:02:36,  5.49it/s]WARNING:absl:Audio loaded successfully.\n",
      "WARNING:absl:The audio at (/Volumes/BigChongusF/Datasets/Huggingface/gadme_v1/data/downloads/extracted/c8c29167330b38826de4c1aa93e6bc223fc787ef2bb38599f8079bac7568f894/data/xeno-canto/north_america/leucosticte_tephrocotis/XC352929.ogg / 0) could not be loaded (audio_too_short). The exception was (no_exception)\n",
      "WARNING:absl:Audio loaded successfully.\n"
     ]
    },
    {
     "name": "stdout",
     "output_type": "stream",
     "text": [
      "Handling colaptes_auratus/XC793410.ogg\n"
     ]
    },
    {
     "name": "stderr",
     "output_type": "stream",
     "text": [
      "  5%|▍         | 1020/21650 [04:25<1:30:32,  3.80it/s]WARNING:absl:Audio loaded successfully.\n"
     ]
    },
    {
     "name": "stdout",
     "output_type": "stream",
     "text": [
      "Handling junco_hyemalis/XC714328.ogg\n"
     ]
    },
    {
     "name": "stderr",
     "output_type": "stream",
     "text": [
      "  5%|▍         | 1021/21650 [04:25<1:53:10,  3.04it/s]WARNING:absl:Audio loaded successfully.\n",
      "WARNING:absl:The audio at (/Volumes/BigChongusF/Datasets/Huggingface/gadme_v1/data/downloads/extracted/3d85f3c0a899f9d3cbe3db58b54d5391856ba30e3a4e013b856bbac6ef8521eb/data/xeno-canto/north_america/euphagus_cyanocephalus/XC104521.ogg / 1) could not be loaded (audio_too_short). The exception was (no_exception)\n",
      "WARNING:absl:Audio loaded successfully.\n"
     ]
    },
    {
     "name": "stdout",
     "output_type": "stream",
     "text": [
      "Handling catharus_guttatus/XC351969.ogg\n"
     ]
    },
    {
     "name": "stderr",
     "output_type": "stream",
     "text": [
      "  5%|▍         | 1023/21650 [04:26<1:58:51,  2.89it/s]WARNING:absl:Audio loaded successfully.\n"
     ]
    },
    {
     "name": "stdout",
     "output_type": "stream",
     "text": [
      "Handling salpinctes_obsoletus/XC104639.ogg\n"
     ]
    },
    {
     "name": "stderr",
     "output_type": "stream",
     "text": [
      "  5%|▍         | 1024/21650 [04:26<2:02:06,  2.82it/s]WARNING:absl:Audio loaded successfully.\n",
      "WARNING:absl:The audio at (/Volumes/BigChongusF/Datasets/Huggingface/gadme_v1/data/downloads/extracted/3944287c00a98d3d9edcb7467992ad5fbf2cebeec4c9e389027ef676be012aef/data/xeno-canto/north_america/poecile_gambeli/XC112576.ogg / 92) could not be loaded (audio_too_short). The exception was (no_exception)\n",
      "WARNING:absl:Audio loaded successfully.\n"
     ]
    },
    {
     "name": "stdout",
     "output_type": "stream",
     "text": [
      "Handling passerella_iliaca/XC322838.ogg\n"
     ]
    },
    {
     "name": "stderr",
     "output_type": "stream",
     "text": [
      "  5%|▍         | 1026/21650 [04:26<1:28:58,  3.86it/s]WARNING:absl:Audio loaded successfully.\n",
      "  5%|▍         | 1027/21650 [04:27<1:18:50,  4.36it/s]WARNING:absl:Audio loaded successfully.\n"
     ]
    },
    {
     "name": "stdout",
     "output_type": "stream",
     "text": [
      "Handling leiothlypis_celata/XC405020.ogg\n",
      "Handling turdus_migratorius/XC171881.ogg\n"
     ]
    },
    {
     "name": "stderr",
     "output_type": "stream",
     "text": [
      "  5%|▍         | 1028/21650 [04:27<1:22:00,  4.19it/s]WARNING:absl:Audio loaded successfully.\n",
      "  5%|▍         | 1029/21650 [04:27<1:18:19,  4.39it/s]"
     ]
    },
    {
     "name": "stdout",
     "output_type": "stream",
     "text": [
      "Handling setophaga_petechia/XC661440.ogg\n",
      "Handling turdus_migratorius/XC375006.ogg\n"
     ]
    },
    {
     "name": "stderr",
     "output_type": "stream",
     "text": [
      "WARNING:absl:Audio loaded successfully.\n",
      "  5%|▍         | 1030/21650 [04:28<2:43:42,  2.10it/s]WARNING:absl:Audio loaded successfully.\n"
     ]
    },
    {
     "name": "stdout",
     "output_type": "stream",
     "text": [
      "Handling vireo_gilvus/XC804223.ogg\n"
     ]
    },
    {
     "name": "stderr",
     "output_type": "stream",
     "text": [
      "  5%|▍         | 1031/21650 [04:29<2:46:41,  2.06it/s]WARNING:absl:Audio loaded successfully.\n",
      "  5%|▍         | 1032/21650 [04:29<2:16:09,  2.52it/s]WARNING:absl:Audio loaded successfully.\n",
      "WARNING:absl:The audio at (/Volumes/BigChongusF/Datasets/Huggingface/gadme_v1/data/downloads/extracted/33e4b5dac1f3e336b57bc91d4b4ff764b4ae70d484a82c7bdbeb5ac37d235324/data/xeno-canto/europe/anas_platyrhynchos/XC556901.ogg / 33) could not be loaded (audio_too_short). The exception was (no_exception)\n"
     ]
    },
    {
     "name": "stdout",
     "output_type": "stream",
     "text": [
      "Handling salpinctes_obsoletus/XC374032.ogg\n",
      "Handling vireo_gilvus/XC321776.ogg\n"
     ]
    },
    {
     "name": "stderr",
     "output_type": "stream",
     "text": [
      "WARNING:absl:Audio loaded successfully.\n",
      "  5%|▍         | 1034/21650 [04:29<1:28:24,  3.89it/s]WARNING:absl:Audio loaded successfully.\n",
      "WARNING:absl:Audio loaded successfully.\n"
     ]
    },
    {
     "name": "stdout",
     "output_type": "stream",
     "text": [
      "Handling haemorhous_cassinii/XC114090.ogg\n",
      "Handling junco_hyemalis/XC554504.ogg\n"
     ]
    },
    {
     "name": "stderr",
     "output_type": "stream",
     "text": [
      "  5%|▍         | 1036/21650 [04:30<1:39:14,  3.46it/s]WARNING:absl:Audio loaded successfully.\n"
     ]
    },
    {
     "name": "stdout",
     "output_type": "stream",
     "text": [
      "Handling turdus_migratorius/XC165272.ogg\n"
     ]
    },
    {
     "name": "stderr",
     "output_type": "stream",
     "text": [
      "  5%|▍         | 1037/21650 [04:30<1:44:41,  3.28it/s]WARNING:absl:Audio loaded successfully.\n",
      "WARNING:absl:Audio loaded successfully.\n"
     ]
    },
    {
     "name": "stdout",
     "output_type": "stream",
     "text": [
      "Handling zonotrichia_leucophrys/XC179098.ogg\n",
      "Handling anas_platyrhynchos/XC678785.ogg\n"
     ]
    },
    {
     "name": "stderr",
     "output_type": "stream",
     "text": [
      "  5%|▍         | 1039/21650 [04:30<1:19:37,  4.31it/s]WARNING:absl:Audio loaded successfully.\n"
     ]
    },
    {
     "name": "stdout",
     "output_type": "stream",
     "text": [
      "Handling vireo_gilvus/XC66261.ogg\n"
     ]
    },
    {
     "name": "stderr",
     "output_type": "stream",
     "text": [
      "  5%|▍         | 1040/21650 [04:31<1:39:43,  3.44it/s]WARNING:absl:Audio loaded successfully.\n",
      "  5%|▍         | 1041/21650 [04:31<1:31:06,  3.77it/s]WARNING:absl:Audio loaded successfully.\n"
     ]
    },
    {
     "name": "stdout",
     "output_type": "stream",
     "text": [
      "Handling vireo_gilvus/XC138136.ogg\n",
      "Handling haemorhous_cassinii/XC71827.ogg\n"
     ]
    },
    {
     "name": "stderr",
     "output_type": "stream",
     "text": [
      "WARNING:absl:Audio loaded successfully.\n",
      "  5%|▍         | 1043/21650 [04:31<1:05:51,  5.21it/s]WARNING:absl:Audio loaded successfully.\n",
      "WARNING:absl:The audio at (/Volumes/BigChongusF/Datasets/Huggingface/gadme_v1/data/downloads/extracted/7999bb6a56b81320289f187fda8208243d41e6e50dd9ca49b75ab67670f0f4cd/data/xeno-canto/north_america/junco_hyemalis/XC445586.ogg / 2) could not be loaded (audio_too_short). The exception was (no_exception)\n",
      "WARNING:absl:Audio loaded successfully.\n"
     ]
    },
    {
     "name": "stdout",
     "output_type": "stream",
     "text": [
      "Handling anas_platyrhynchos/XC601607.ogg\n",
      "Handling turdus_migratorius/XC306932.ogg\n"
     ]
    },
    {
     "name": "stderr",
     "output_type": "stream",
     "text": [
      "  5%|▍         | 1045/21650 [04:32<1:05:02,  5.28it/s]WARNING:absl:Audio loaded successfully.\n"
     ]
    },
    {
     "name": "stdout",
     "output_type": "stream",
     "text": [
      "Handling vireo_gilvus/XC195597.ogg\n"
     ]
    },
    {
     "name": "stderr",
     "output_type": "stream",
     "text": [
      "  5%|▍         | 1046/21650 [04:32<1:07:08,  5.11it/s]WARNING:absl:Audio loaded successfully.\n"
     ]
    },
    {
     "name": "stdout",
     "output_type": "stream",
     "text": [
      "Handling haemorhous_cassinii/XC71822.ogg\n"
     ]
    },
    {
     "name": "stderr",
     "output_type": "stream",
     "text": [
      "  5%|▍         | 1047/21650 [04:32<1:07:37,  5.08it/s]WARNING:absl:Audio loaded successfully.\n"
     ]
    },
    {
     "name": "stdout",
     "output_type": "stream",
     "text": [
      "Handling junco_hyemalis/XC72000.ogg\n"
     ]
    },
    {
     "name": "stderr",
     "output_type": "stream",
     "text": [
      "  5%|▍         | 1048/21650 [04:32<1:33:38,  3.67it/s]WARNING:absl:Audio loaded successfully.\n",
      "  5%|▍         | 1049/21650 [04:33<1:20:33,  4.26it/s]WARNING:absl:Audio loaded successfully.\n"
     ]
    },
    {
     "name": "stdout",
     "output_type": "stream",
     "text": [
      "Handling colaptes_auratus/XC165347.ogg\n",
      "Handling junco_hyemalis/XC408768.ogg\n"
     ]
    },
    {
     "name": "stderr",
     "output_type": "stream",
     "text": [
      "  5%|▍         | 1050/21650 [04:33<1:20:21,  4.27it/s]WARNING:absl:Audio loaded successfully.\n"
     ]
    },
    {
     "name": "stdout",
     "output_type": "stream",
     "text": [
      "Handling colaptes_auratus/XC624993.ogg\n"
     ]
    },
    {
     "name": "stderr",
     "output_type": "stream",
     "text": [
      "  5%|▍         | 1051/21650 [04:33<1:41:45,  3.37it/s]WARNING:absl:Audio loaded successfully.\n"
     ]
    },
    {
     "name": "stdout",
     "output_type": "stream",
     "text": [
      "Handling actitis_macularius/XC183591.ogg\n"
     ]
    },
    {
     "name": "stderr",
     "output_type": "stream",
     "text": [
      "  5%|▍         | 1052/21650 [04:34<3:02:03,  1.89it/s]WARNING:absl:Audio loaded successfully.\n"
     ]
    },
    {
     "name": "stdout",
     "output_type": "stream",
     "text": [
      "Handling haemorhous_cassinii/XC550996.ogg\n"
     ]
    },
    {
     "name": "stderr",
     "output_type": "stream",
     "text": [
      "  5%|▍         | 1053/21650 [04:35<2:40:06,  2.14it/s]WARNING:absl:Audio loaded successfully.\n"
     ]
    },
    {
     "name": "stdout",
     "output_type": "stream",
     "text": [
      "Handling turdus_migratorius/XC465001.ogg\n"
     ]
    },
    {
     "name": "stderr",
     "output_type": "stream",
     "text": [
      "  5%|▍         | 1054/21650 [04:36<3:33:43,  1.61it/s]WARNING:absl:Audio loaded successfully.\n"
     ]
    },
    {
     "name": "stdout",
     "output_type": "stream",
     "text": [
      "Handling turdus_migratorius/XC135092.ogg\n"
     ]
    },
    {
     "name": "stderr",
     "output_type": "stream",
     "text": [
      "  5%|▍         | 1055/21650 [04:37<4:22:09,  1.31it/s]WARNING:absl:Audio loaded successfully.\n",
      "WARNING:absl:The audio at (/Volumes/BigChongusF/Datasets/Huggingface/gadme_v1/data/downloads/extracted/3c91bd3b848ef81521ad069a8fa6ac2fcacb937635fd0a9971a11200269ae1f7/data/xeno-canto/europe/anas_platyrhynchos/XC127564.ogg / 31) could not be loaded (audio_too_short). The exception was (no_exception)\n",
      "WARNING:absl:Audio loaded successfully.\n",
      "  5%|▍         | 1057/21650 [04:37<2:34:42,  2.22it/s]"
     ]
    },
    {
     "name": "stdout",
     "output_type": "stream",
     "text": [
      "Handling vireo_gilvus/XC321964.ogg\n",
      "Handling junco_hyemalis/XC371883.ogg\n"
     ]
    },
    {
     "name": "stderr",
     "output_type": "stream",
     "text": [
      "WARNING:absl:Audio loaded successfully.\n",
      "  5%|▍         | 1058/21650 [04:37<2:35:43,  2.20it/s]WARNING:absl:Audio loaded successfully.\n",
      "WARNING:absl:The audio at (/Volumes/BigChongusF/Datasets/Huggingface/gadme_v1/data/downloads/extracted/7c313317d9bce50ea88db0b3d3672870e262462cefb5c130892cba54b586da3d/data/xeno-canto/north_america/salpinctes_obsoletus/XC322733.ogg / 23) could not be loaded (audio_too_short). The exception was (no_exception)\n",
      "WARNING:absl:Audio loaded successfully.\n"
     ]
    },
    {
     "name": "stdout",
     "output_type": "stream",
     "text": [
      "Handling turdus_migratorius/XC163653.ogg\n"
     ]
    },
    {
     "name": "stderr",
     "output_type": "stream",
     "text": [
      "  5%|▍         | 1060/21650 [04:38<1:51:10,  3.09it/s]WARNING:absl:Audio loaded successfully.\n",
      "WARNING:absl:The audio at (/Volumes/BigChongusF/Datasets/Huggingface/gadme_v1/data/downloads/extracted/657bb7ca7e00d187968c3a3fed754f2f43eea8c80f8b9290f46e2ef76a629ca6/data/xeno-canto/north_america/zonotrichia_leucophrys/XC160395.ogg / 3) could not be loaded (audio_too_short). The exception was (no_exception)\n",
      "WARNING:absl:Audio loaded successfully.\n",
      "WARNING:absl:The audio at (/Volumes/BigChongusF/Datasets/Huggingface/gadme_v1/data/downloads/extracted/cd49b3631d04d3feff17b776f29f4fc3d66002b528c452baf906c78c1580d75a/data/xeno-canto/north_america/setophaga_coronata/XC699487.ogg / 0) could not be loaded (audio_too_short). The exception was (no_exception)\n",
      "WARNING:absl:Audio loaded successfully.\n"
     ]
    },
    {
     "name": "stdout",
     "output_type": "stream",
     "text": [
      "Handling turdus_migratorius/XC78015.ogg\n"
     ]
    },
    {
     "name": "stderr",
     "output_type": "stream",
     "text": [
      "  5%|▍         | 1063/21650 [04:38<1:11:21,  4.81it/s]WARNING:absl:Audio loaded successfully.\n"
     ]
    },
    {
     "name": "stdout",
     "output_type": "stream",
     "text": [
      "Handling anas_platyrhynchos/XC579973.ogg\n"
     ]
    },
    {
     "name": "stderr",
     "output_type": "stream",
     "text": [
      "  5%|▍         | 1064/21650 [04:38<1:27:51,  3.90it/s]WARNING:absl:Audio loaded successfully.\n",
      "WARNING:absl:The audio at (/Volumes/BigChongusF/Datasets/Huggingface/gadme_v1/data/downloads/extracted/3d85f3c0a899f9d3cbe3db58b54d5391856ba30e3a4e013b856bbac6ef8521eb/data/xeno-canto/north_america/leiothlypis_celata/XC657981.ogg / 32) could not be loaded (audio_too_short). The exception was (no_exception)\n",
      "WARNING:absl:Audio loaded successfully.\n",
      "WARNING:absl:Audio loaded successfully.\n"
     ]
    },
    {
     "name": "stdout",
     "output_type": "stream",
     "text": [
      "Handling leiothlypis_celata/XC192886.ogg\n",
      "Handling actitis_macularius/XC255373.ogg\n"
     ]
    },
    {
     "name": "stderr",
     "output_type": "stream",
     "text": [
      "  5%|▍         | 1067/21650 [04:39<1:04:16,  5.34it/s]WARNING:absl:Audio loaded successfully.\n",
      "WARNING:absl:The audio at (/Volumes/BigChongusF/Datasets/Huggingface/gadme_v1/data/downloads/extracted/07a0b04bf9aec2ea5a8729ad6f8ea501c8a851d0f53829912550f376789b18e0/data/xeno-canto/north_america/empidonax_oberholseri/XC656732.ogg / 3) could not be loaded (audio_too_short). The exception was (no_exception)\n",
      "WARNING:absl:Audio loaded successfully.\n",
      "WARNING:absl:Audio loaded successfully.\n",
      "  5%|▍         | 1070/21650 [04:39<45:26,  7.55it/s]  "
     ]
    },
    {
     "name": "stdout",
     "output_type": "stream",
     "text": [
      "Handling vireo_gilvus/XC662193.ogg\n",
      "Handling anas_platyrhynchos/XC360300.ogg\n",
      "Handling anas_platyrhynchos/XC775321.ogg\n"
     ]
    },
    {
     "name": "stderr",
     "output_type": "stream",
     "text": [
      "WARNING:absl:Audio loaded successfully.\n",
      "WARNING:absl:Audio loaded successfully.\n"
     ]
    },
    {
     "name": "stdout",
     "output_type": "stream",
     "text": [
      "Handling vireo_gilvus/XC323680.ogg\n"
     ]
    },
    {
     "name": "stderr",
     "output_type": "stream",
     "text": [
      "  5%|▍         | 1072/21650 [04:40<1:18:21,  4.38it/s]WARNING:absl:Audio loaded successfully.\n",
      "WARNING:absl:The audio at (/Volumes/BigChongusF/Datasets/Huggingface/gadme_v1/data/downloads/extracted/33e4b5dac1f3e336b57bc91d4b4ff764b4ae70d484a82c7bdbeb5ac37d235324/data/xeno-canto/europe/anas_platyrhynchos/XC541822.ogg / 7) could not be loaded (audio_too_short). The exception was (no_exception)\n",
      "WARNING:absl:Audio loaded successfully.\n"
     ]
    },
    {
     "name": "stdout",
     "output_type": "stream",
     "text": [
      "Handling vireo_gilvus/XC322033.ogg\n"
     ]
    },
    {
     "name": "stderr",
     "output_type": "stream",
     "text": [
      "  5%|▍         | 1074/21650 [04:40<1:10:53,  4.84it/s]WARNING:absl:Audio loaded successfully.\n"
     ]
    },
    {
     "name": "stdout",
     "output_type": "stream",
     "text": [
      "Handling haemorhous_cassinii/XC220515.ogg\n"
     ]
    },
    {
     "name": "stderr",
     "output_type": "stream",
     "text": [
      "  5%|▍         | 1075/21650 [04:40<1:12:22,  4.74it/s]WARNING:absl:Audio loaded successfully.\n"
     ]
    },
    {
     "name": "stdout",
     "output_type": "stream",
     "text": [
      "Handling setophaga_coronata/XC692222.ogg\n"
     ]
    },
    {
     "name": "stderr",
     "output_type": "stream",
     "text": [
      "  5%|▍         | 1076/21650 [04:41<1:31:50,  3.73it/s]WARNING:absl:Audio loaded successfully.\n"
     ]
    },
    {
     "name": "stdout",
     "output_type": "stream",
     "text": [
      "Handling setophaga_petechia/XC451089.ogg\n"
     ]
    },
    {
     "name": "stderr",
     "output_type": "stream",
     "text": [
      "  5%|▍         | 1077/21650 [04:41<1:54:41,  2.99it/s]WARNING:absl:Audio loaded successfully.\n"
     ]
    },
    {
     "name": "stdout",
     "output_type": "stream",
     "text": [
      "Handling turdus_migratorius/XC269455.ogg\n"
     ]
    },
    {
     "name": "stderr",
     "output_type": "stream",
     "text": [
      "  5%|▍         | 1078/21650 [04:42<1:47:20,  3.19it/s]WARNING:absl:Audio loaded successfully.\n",
      "WARNING:absl:Audio loaded successfully.\n",
      "  5%|▍         | 1080/21650 [04:42<1:13:04,  4.69it/s]WARNING:absl:Audio loaded successfully.\n",
      "WARNING:absl:The audio at (/Volumes/BigChongusF/Datasets/Huggingface/gadme_v1/data/downloads/extracted/7c313317d9bce50ea88db0b3d3672870e262462cefb5c130892cba54b586da3d/data/xeno-canto/north_america/salpinctes_obsoletus/XC172815.ogg / 99) could not be loaded (audio_too_short). The exception was (no_exception)\n"
     ]
    },
    {
     "name": "stdout",
     "output_type": "stream",
     "text": [
      "Handling leiothlypis_celata/XC315611.ogg\n",
      "Handling anas_platyrhynchos/XC25746.ogg\n",
      "Handling zonotrichia_leucophrys/XC129781.ogg\n"
     ]
    },
    {
     "name": "stderr",
     "output_type": "stream",
     "text": [
      "WARNING:absl:Audio loaded successfully.\n",
      "  5%|▍         | 1082/21650 [04:43<1:53:28,  3.02it/s]WARNING:absl:Audio loaded successfully.\n",
      "WARNING:absl:Audio loaded successfully.\n"
     ]
    },
    {
     "name": "stdout",
     "output_type": "stream",
     "text": [
      "Handling setophaga_coronata/XC269066.ogg\n",
      "Handling turdus_migratorius/XC322973.ogg\n"
     ]
    },
    {
     "name": "stderr",
     "output_type": "stream",
     "text": [
      "  5%|▌         | 1084/21650 [04:43<1:48:41,  3.15it/s]WARNING:absl:Audio loaded successfully.\n"
     ]
    },
    {
     "name": "stdout",
     "output_type": "stream",
     "text": [
      "Handling turdus_migratorius/XC157883.ogg\n"
     ]
    },
    {
     "name": "stderr",
     "output_type": "stream",
     "text": [
      "  5%|▌         | 1085/21650 [04:44<1:48:09,  3.17it/s]WARNING:absl:Audio loaded successfully.\n",
      "WARNING:absl:The audio at (/Volumes/BigChongusF/Datasets/Huggingface/gadme_v1/data/downloads/extracted/4fb52febc9ddf975fdb63222180f988dd27c8c7cb7b968eda935c6020ef0e853/data/xeno-canto/europe/anthus_rubescens/XC674781.ogg / 1) could not be loaded (audio_too_short). The exception was (no_exception)\n",
      "WARNING:absl:Audio loaded successfully.\n"
     ]
    },
    {
     "name": "stdout",
     "output_type": "stream",
     "text": [
      "Handling colaptes_auratus/XC248138.ogg\n"
     ]
    },
    {
     "name": "stderr",
     "output_type": "stream",
     "text": [
      "  5%|▌         | 1087/21650 [04:44<1:29:23,  3.83it/s]WARNING:absl:Audio loaded successfully.\n",
      "WARNING:absl:The audio at (/Volumes/BigChongusF/Datasets/Huggingface/gadme_v1/data/downloads/extracted/c05b01b23568feda718271d2aa149124fd50d510bd99663cbd8752481054e53b/data/xeno-canto/north_america/actitis_macularius/XC139725.ogg / 1) could not be loaded (audio_too_short). The exception was (no_exception)\n",
      "WARNING:absl:Audio loaded successfully.\n"
     ]
    },
    {
     "name": "stdout",
     "output_type": "stream",
     "text": [
      "Handling zonotrichia_leucophrys/XC535280.ogg\n"
     ]
    },
    {
     "name": "stderr",
     "output_type": "stream",
     "text": [
      "  5%|▌         | 1089/21650 [04:45<1:31:17,  3.75it/s]WARNING:absl:Audio loaded successfully.\n"
     ]
    },
    {
     "name": "stdout",
     "output_type": "stream",
     "text": [
      "Handling leiothlypis_celata/XC225381.ogg\n"
     ]
    },
    {
     "name": "stderr",
     "output_type": "stream",
     "text": [
      "  5%|▌         | 1090/21650 [04:45<1:38:03,  3.49it/s]WARNING:absl:Audio loaded successfully.\n",
      "  5%|▌         | 1091/21650 [04:45<1:27:58,  3.90it/s]WARNING:absl:Audio loaded successfully.\n"
     ]
    },
    {
     "name": "stdout",
     "output_type": "stream",
     "text": [
      "Handling poecile_gambeli/XC71784.ogg\n",
      "Handling anas_platyrhynchos/XC23521.ogg\n"
     ]
    },
    {
     "name": "stderr",
     "output_type": "stream",
     "text": [
      "WARNING:absl:Audio loaded successfully.\n",
      "  5%|▌         | 1093/21650 [04:45<1:08:10,  5.03it/s]WARNING:absl:Audio loaded successfully.\n"
     ]
    },
    {
     "name": "stdout",
     "output_type": "stream",
     "text": [
      "Handling junco_hyemalis/XC206100.ogg\n",
      "Handling junco_hyemalis/XC657208.ogg\n",
      "Handling zonotrichia_leucophrys/XC798837.ogg\n"
     ]
    },
    {
     "name": "stderr",
     "output_type": "stream",
     "text": [
      "WARNING:absl:Audio loaded successfully.\n",
      "  5%|▌         | 1095/21650 [04:46<1:00:32,  5.66it/s]WARNING:absl:Audio loaded successfully.\n",
      "WARNING:absl:Audio loaded successfully.\n"
     ]
    },
    {
     "name": "stdout",
     "output_type": "stream",
     "text": [
      "Handling catharus_guttatus/XC353544.ogg\n",
      "Handling anas_platyrhynchos/XC392206.ogg\n"
     ]
    },
    {
     "name": "stderr",
     "output_type": "stream",
     "text": [
      "  5%|▌         | 1097/21650 [04:46<1:10:18,  4.87it/s]WARNING:absl:Audio loaded successfully.\n",
      "  5%|▌         | 1098/21650 [04:46<1:07:36,  5.07it/s]WARNING:absl:Audio loaded successfully.\n"
     ]
    },
    {
     "name": "stdout",
     "output_type": "stream",
     "text": [
      "Handling junco_hyemalis/XC289053.ogg\n",
      "Handling zonotrichia_leucophrys/XC750611.ogg\n"
     ]
    },
    {
     "name": "stderr",
     "output_type": "stream",
     "text": [
      "WARNING:absl:Audio loaded successfully.\n",
      "WARNING:absl:The audio at (/Volumes/BigChongusF/Datasets/Huggingface/gadme_v1/data/downloads/extracted/325835456a8f001ee2744ae1ed11bf9ada9af130981030ef2b1da7cae54cbffe/data/xeno-canto/north_america/passerella_iliaca/XC367582.ogg / 0) could not be loaded (audio_too_short). The exception was (no_exception)\n",
      "WARNING:absl:Audio loaded successfully.\n"
     ]
    },
    {
     "name": "stdout",
     "output_type": "stream",
     "text": [
      "Handling turdus_migratorius/XC295837.ogg\n"
     ]
    },
    {
     "name": "stderr",
     "output_type": "stream",
     "text": [
      "  5%|▌         | 1101/21650 [04:47<55:09,  6.21it/s]  WARNING:absl:Audio loaded successfully.\n"
     ]
    },
    {
     "name": "stdout",
     "output_type": "stream",
     "text": [
      "Handling zonotrichia_leucophrys/XC236241.ogg\n"
     ]
    },
    {
     "name": "stderr",
     "output_type": "stream",
     "text": [
      "  5%|▌         | 1102/21650 [04:47<1:00:04,  5.70it/s]WARNING:absl:Audio loaded successfully.\n",
      "WARNING:absl:Audio loaded successfully.\n"
     ]
    },
    {
     "name": "stdout",
     "output_type": "stream",
     "text": [
      "Handling turdus_migratorius/XC353500.ogg\n",
      "Handling setophaga_coronata/XC384561.ogg\n"
     ]
    },
    {
     "name": "stderr",
     "output_type": "stream",
     "text": [
      "  5%|▌         | 1104/21650 [04:47<56:05,  6.10it/s]  WARNING:absl:Audio loaded successfully.\n",
      "WARNING:absl:The audio at (/Volumes/BigChongusF/Datasets/Huggingface/gadme_v1/data/downloads/extracted/2bce4b9a431bfaabea14c251131c45f38745678853f058a2b2f6b863156d4d60/data/xeno-canto/north_america/catharus_guttatus/XC139635.ogg / 0) could not be loaded (audio_too_short). The exception was (no_exception)\n",
      "WARNING:absl:Audio loaded successfully.\n"
     ]
    },
    {
     "name": "stdout",
     "output_type": "stream",
     "text": [
      "Handling catharus_guttatus/XC691467.ogg\n"
     ]
    },
    {
     "name": "stderr",
     "output_type": "stream",
     "text": [
      "  5%|▌         | 1106/21650 [04:48<1:26:14,  3.97it/s]WARNING:absl:Audio loaded successfully.\n",
      "WARNING:absl:Audio loaded successfully.\n"
     ]
    },
    {
     "name": "stdout",
     "output_type": "stream",
     "text": [
      "Handling zonotrichia_leucophrys/XC535281.ogg\n",
      "Handling catharus_guttatus/XC576845.ogg\n"
     ]
    },
    {
     "name": "stderr",
     "output_type": "stream",
     "text": [
      "  5%|▌         | 1108/21650 [04:48<1:16:34,  4.47it/s]WARNING:absl:Audio loaded successfully.\n"
     ]
    },
    {
     "name": "stdout",
     "output_type": "stream",
     "text": [
      "Handling zonotrichia_leucophrys/XC637919.ogg\n"
     ]
    },
    {
     "name": "stderr",
     "output_type": "stream",
     "text": [
      "  5%|▌         | 1109/21650 [04:49<1:16:48,  4.46it/s]WARNING:absl:Audio loaded successfully.\n",
      "WARNING:absl:Audio loaded successfully.\n",
      "  5%|▌         | 1111/21650 [04:49<1:01:22,  5.58it/s]"
     ]
    },
    {
     "name": "stdout",
     "output_type": "stream",
     "text": [
      "Handling vireo_gilvus/XC169024.ogg\n",
      "Handling junco_hyemalis/XC14233.ogg\n",
      "Handling zonotrichia_leucophrys/XC316001.ogg\n"
     ]
    },
    {
     "name": "stderr",
     "output_type": "stream",
     "text": [
      "WARNING:absl:Audio loaded successfully.\n",
      "WARNING:absl:The audio at (/Volumes/BigChongusF/Datasets/Huggingface/gadme_v1/data/downloads/extracted/81e1b796790f26dbc25ae8fbe4e7b2707eea32146a66d4954952be1661457843/data/xeno-canto/north_america/leiothlypis_celata/XC195920.ogg / 4) could not be loaded (audio_too_short). The exception was (no_exception)\n",
      "WARNING:absl:Audio loaded successfully.\n",
      "WARNING:absl:The audio at (/Volumes/BigChongusF/Datasets/Huggingface/gadme_v1/data/downloads/extracted/fe7299e15948488b29d8dce00dd9046e4485a0408a2ac57eab49bb5b0d7b39e2/data/xeno-canto/north_america/haemorhous_cassinii/XC418276.ogg / 33) could not be loaded (audio_too_short). The exception was (no_exception)\n",
      "WARNING:absl:Audio loaded successfully.\n",
      "WARNING:absl:The audio at (/Volumes/BigChongusF/Datasets/Huggingface/gadme_v1/data/downloads/extracted/98abf88c43673ba8815287f519e7fd3afff386504e64afb04778689c24fd08c9/data/xeno-canto/north_america/nucifraga_columbiana/XC448839.ogg / 2) could not be loaded (audio_too_short). The exception was (no_exception)\n",
      "WARNING:absl:Audio loaded successfully.\n",
      "  5%|▌         | 1115/21650 [04:49<57:28,  5.96it/s]  WARNING:absl:Audio loaded successfully.\n",
      "WARNING:absl:Audio loaded successfully.\n"
     ]
    },
    {
     "name": "stdout",
     "output_type": "stream",
     "text": [
      "Handling haemorhous_cassinii/XC336948.ogg\n",
      "Handling leiothlypis_celata/XC360344.ogg\n"
     ]
    },
    {
     "name": "stderr",
     "output_type": "stream",
     "text": [
      "  5%|▌         | 1117/21650 [04:50<51:37,  6.63it/s]WARNING:absl:Audio loaded successfully.\n",
      "WARNING:absl:Audio loaded successfully.\n",
      "  5%|▌         | 1119/21650 [04:50<45:12,  7.57it/s]WARNING:absl:Audio loaded successfully.\n",
      "WARNING:absl:The audio at (/Volumes/BigChongusF/Datasets/Huggingface/gadme_v1/data/downloads/extracted/c654a2fa7284c6b9ad2b65fb7d03c399719d51032c53323567e62583eb09dd11/data/xeno-canto/north_america/setophaga_coronata/XC138296.ogg / 0) could not be loaded (audio_too_short). The exception was (no_exception)\n"
     ]
    },
    {
     "name": "stdout",
     "output_type": "stream",
     "text": [
      "Handling anas_platyrhynchos/XC252166.ogg\n",
      "Handling junco_hyemalis/XC14233.ogg\n",
      "Handling anas_platyrhynchos/XC776862.ogg\n"
     ]
    },
    {
     "name": "stderr",
     "output_type": "stream",
     "text": [
      "WARNING:absl:Audio loaded successfully.\n",
      "  5%|▌         | 1121/21650 [04:50<42:30,  8.05it/s]WARNING:absl:Audio loaded successfully.\n",
      "  5%|▌         | 1122/21650 [04:50<43:16,  7.91it/s]WARNING:absl:Audio loaded successfully.\n",
      "WARNING:absl:The audio at (/Volumes/BigChongusF/Datasets/Huggingface/gadme_v1/data/downloads/extracted/7c313317d9bce50ea88db0b3d3672870e262462cefb5c130892cba54b586da3d/data/xeno-canto/north_america/salpinctes_obsoletus/XC147488.ogg / 10) could not be loaded (audio_too_short). The exception was (no_exception)\n",
      "WARNING:absl:Audio loaded successfully.\n"
     ]
    },
    {
     "name": "stdout",
     "output_type": "stream",
     "text": [
      "Handling haemorhous_cassinii/XC551505.ogg\n",
      "Handling anas_platyrhynchos/XC53854.ogg\n"
     ]
    },
    {
     "name": "stderr",
     "output_type": "stream",
     "text": [
      "  5%|▌         | 1124/21650 [04:50<38:39,  8.85it/s]WARNING:absl:Audio loaded successfully.\n"
     ]
    },
    {
     "name": "stdout",
     "output_type": "stream",
     "text": [
      "Handling junco_hyemalis/XC58547.ogg\n"
     ]
    },
    {
     "name": "stderr",
     "output_type": "stream",
     "text": [
      "  5%|▌         | 1125/21650 [04:51<1:00:57,  5.61it/s]WARNING:absl:Audio loaded successfully.\n"
     ]
    },
    {
     "name": "stdout",
     "output_type": "stream",
     "text": [
      "Handling vireo_gilvus/XC323462.ogg\n"
     ]
    },
    {
     "name": "stderr",
     "output_type": "stream",
     "text": [
      "  5%|▌         | 1126/21650 [04:51<1:12:32,  4.71it/s]WARNING:absl:Audio loaded successfully.\n",
      "WARNING:absl:The audio at (/Volumes/BigChongusF/Datasets/Huggingface/gadme_v1/data/downloads/extracted/3c91bd3b848ef81521ad069a8fa6ac2fcacb937635fd0a9971a11200269ae1f7/data/xeno-canto/europe/anas_platyrhynchos/XC723181.ogg / 23) could not be loaded (audio_too_short). The exception was (no_exception)\n",
      "WARNING:absl:Audio loaded successfully.\n",
      "  5%|▌         | 1128/21650 [04:51<53:23,  6.41it/s]  WARNING:absl:Audio loaded successfully.\n"
     ]
    },
    {
     "name": "stdout",
     "output_type": "stream",
     "text": [
      "Handling junco_hyemalis/XC125079.ogg\n",
      "Handling poecile_gambeli/XC619846.ogg\n"
     ]
    },
    {
     "name": "stderr",
     "output_type": "stream",
     "text": [
      "  5%|▌         | 1129/21650 [04:51<56:53,  6.01it/s]WARNING:absl:Audio loaded successfully.\n",
      "WARNING:absl:Audio loaded successfully.\n"
     ]
    },
    {
     "name": "stdout",
     "output_type": "stream",
     "text": [
      "Handling zonotrichia_leucophrys/XC111751.ogg\n",
      "Handling catharus_guttatus/XC66033.ogg\n"
     ]
    },
    {
     "name": "stderr",
     "output_type": "stream",
     "text": [
      "  5%|▌         | 1131/21650 [04:52<1:00:13,  5.68it/s]WARNING:absl:Audio loaded successfully.\n"
     ]
    },
    {
     "name": "stdout",
     "output_type": "stream",
     "text": [
      "Handling anthus_rubescens/XC111040.ogg\n"
     ]
    },
    {
     "name": "stderr",
     "output_type": "stream",
     "text": [
      "  5%|▌         | 1132/21650 [04:52<1:10:07,  4.88it/s]WARNING:absl:Audio loaded successfully.\n",
      "WARNING:absl:The audio at (/Volumes/BigChongusF/Datasets/Huggingface/gadme_v1/data/downloads/extracted/81e1b796790f26dbc25ae8fbe4e7b2707eea32146a66d4954952be1661457843/data/xeno-canto/north_america/leiothlypis_celata/XC178855.ogg / 1) could not be loaded (audio_too_short). The exception was (no_exception)\n",
      "WARNING:absl:Audio loaded successfully.\n",
      "  5%|▌         | 1134/21650 [04:52<53:58,  6.34it/s]  "
     ]
    },
    {
     "name": "stdout",
     "output_type": "stream",
     "text": [
      "Handling junco_hyemalis/XC269055.ogg\n",
      "Handling anas_platyrhynchos/XC464843.ogg\n"
     ]
    },
    {
     "name": "stderr",
     "output_type": "stream",
     "text": [
      "WARNING:absl:Audio loaded successfully.\n",
      "  5%|▌         | 1135/21650 [04:53<1:10:18,  4.86it/s]WARNING:absl:Audio loaded successfully.\n"
     ]
    },
    {
     "name": "stdout",
     "output_type": "stream",
     "text": [
      "Handling anas_platyrhynchos/XC26968.ogg\n"
     ]
    },
    {
     "name": "stderr",
     "output_type": "stream",
     "text": [
      "  5%|▌         | 1136/21650 [04:53<1:19:19,  4.31it/s]WARNING:absl:Audio loaded successfully.\n"
     ]
    },
    {
     "name": "stdout",
     "output_type": "stream",
     "text": [
      "Handling colaptes_auratus/XC268467.ogg\n"
     ]
    },
    {
     "name": "stderr",
     "output_type": "stream",
     "text": [
      "  5%|▌         | 1137/21650 [04:54<2:12:47,  2.57it/s]WARNING:absl:Audio loaded successfully.\n",
      "  5%|▌         | 1138/21650 [04:54<1:51:28,  3.07it/s]WARNING:absl:Audio loaded successfully.\n"
     ]
    },
    {
     "name": "stdout",
     "output_type": "stream",
     "text": [
      "Handling anas_platyrhynchos/XC706427.ogg\n",
      "Handling colaptes_auratus/XC537971.ogg\n"
     ]
    },
    {
     "name": "stderr",
     "output_type": "stream",
     "text": [
      "  5%|▌         | 1139/21650 [04:54<1:40:27,  3.40it/s]WARNING:absl:Audio loaded successfully.\n",
      "  5%|▌         | 1140/21650 [04:54<1:31:12,  3.75it/s]"
     ]
    },
    {
     "name": "stdout",
     "output_type": "stream",
     "text": [
      "Handling poecile_gambeli/XC362897.ogg\n",
      "Handling turdus_migratorius/XC666135.ogg\n"
     ]
    },
    {
     "name": "stderr",
     "output_type": "stream",
     "text": [
      "WARNING:absl:Audio loaded successfully.\n",
      "WARNING:absl:Audio loaded successfully.\n",
      "WARNING:absl:The audio at (/Volumes/BigChongusF/Datasets/Huggingface/gadme_v1/data/downloads/extracted/3944287c00a98d3d9edcb7467992ad5fbf2cebeec4c9e389027ef676be012aef/data/xeno-canto/north_america/poecile_gambeli/XC224189.ogg / 2) could not be loaded (audio_too_short). The exception was (no_exception)\n",
      "WARNING:absl:Audio loaded successfully.\n"
     ]
    },
    {
     "name": "stdout",
     "output_type": "stream",
     "text": [
      "Handling poecile_gambeli/XC479762.ogg\n"
     ]
    },
    {
     "name": "stderr",
     "output_type": "stream",
     "text": [
      "  5%|▌         | 1143/21650 [04:55<1:40:33,  3.40it/s]WARNING:absl:Audio loaded successfully.\n"
     ]
    },
    {
     "name": "stdout",
     "output_type": "stream",
     "text": [
      "Handling zonotrichia_leucophrys/XC156740.ogg\n"
     ]
    },
    {
     "name": "stderr",
     "output_type": "stream",
     "text": [
      "  5%|▌         | 1144/21650 [04:56<1:47:32,  3.18it/s]WARNING:absl:Audio loaded successfully.\n",
      "WARNING:absl:The audio at (/Volumes/BigChongusF/Datasets/Huggingface/gadme_v1/data/downloads/extracted/81e1b796790f26dbc25ae8fbe4e7b2707eea32146a66d4954952be1661457843/data/xeno-canto/north_america/leiothlypis_celata/XC76459.ogg / 0) could not be loaded (audio_too_short). The exception was (no_exception)\n",
      "WARNING:absl:Audio loaded successfully.\n",
      "WARNING:absl:Audio loaded successfully.\n",
      "WARNING:absl:The audio at (/Volumes/BigChongusF/Datasets/Huggingface/gadme_v1/data/downloads/extracted/fac58f85f06876ff8f6cab02102aac36e733cd077a257f05b209b05f983d3ecc/data/xeno-canto/north_america/vireo_gilvus/XC188386.ogg / 0) could not be loaded (audio_too_short). The exception was (no_exception)\n",
      "  5%|▌         | 1147/21650 [04:56<1:02:33,  5.46it/s]WARNING:absl:Audio loaded successfully.\n",
      "WARNING:absl:The audio at (/Volumes/BigChongusF/Datasets/Huggingface/gadme_v1/data/downloads/extracted/fac58f85f06876ff8f6cab02102aac36e733cd077a257f05b209b05f983d3ecc/data/xeno-canto/north_america/vireo_gilvus/XC246741.ogg / 2) could not be loaded (audio_too_short). The exception was (no_exception)\n",
      "WARNING:absl:Audio loaded successfully.\n",
      "WARNING:absl:The audio at (/Volumes/BigChongusF/Datasets/Huggingface/gadme_v1/data/downloads/extracted/073c60ddd38d94c33b508dc82a0cf640bc20d68d3ed6bf2f63e35e8019957dd9/data/xeno-canto/north_america/zonotrichia_leucophrys/XC465610.ogg / 0) could not be loaded (audio_too_short). The exception was (no_exception)\n",
      "WARNING:absl:Audio loaded successfully.\n"
     ]
    },
    {
     "name": "stdout",
     "output_type": "stream",
     "text": [
      "Handling salpinctes_obsoletus/XC205786.ogg\n",
      "Handling salpinctes_obsoletus/XC451711.ogg\n"
     ]
    },
    {
     "name": "stderr",
     "output_type": "stream",
     "text": [
      "  5%|▌         | 1150/21650 [04:56<58:05,  5.88it/s]  WARNING:absl:Audio loaded successfully.\n",
      "WARNING:absl:Audio loaded successfully.\n"
     ]
    },
    {
     "name": "stdout",
     "output_type": "stream",
     "text": [
      "Handling turdus_migratorius/XC165303.ogg\n",
      "Handling salpinctes_obsoletus/XC247515.ogg\n"
     ]
    },
    {
     "name": "stderr",
     "output_type": "stream",
     "text": [
      "  5%|▌         | 1152/21650 [04:57<53:46,  6.35it/s]WARNING:absl:Audio loaded successfully.\n",
      "  5%|▌         | 1153/21650 [04:57<53:23,  6.40it/s]"
     ]
    },
    {
     "name": "stdout",
     "output_type": "stream",
     "text": [
      "Handling zonotrichia_leucophrys/XC610641.ogg\n",
      "Handling colaptes_auratus/XC476943.ogg\n"
     ]
    },
    {
     "name": "stderr",
     "output_type": "stream",
     "text": [
      "WARNING:absl:Audio loaded successfully.\n",
      "  5%|▌         | 1154/21650 [04:57<1:07:14,  5.08it/s]WARNING:absl:Audio loaded successfully.\n",
      "  5%|▌         | 1155/21650 [04:57<1:07:03,  5.09it/s]"
     ]
    },
    {
     "name": "stdout",
     "output_type": "stream",
     "text": [
      "Handling turdus_migratorius/XC574476.ogg\n",
      "Handling junco_hyemalis/XC638300.ogg\n"
     ]
    },
    {
     "name": "stderr",
     "output_type": "stream",
     "text": [
      "WARNING:absl:Audio loaded successfully.\n",
      "WARNING:absl:Audio loaded successfully.\n",
      "  5%|▌         | 1157/21650 [04:58<57:49,  5.91it/s]  "
     ]
    },
    {
     "name": "stdout",
     "output_type": "stream",
     "text": [
      "Handling leiothlypis_celata/XC156970.ogg\n",
      "Handling catharus_guttatus/XC14209.ogg\n"
     ]
    },
    {
     "name": "stderr",
     "output_type": "stream",
     "text": [
      "WARNING:absl:Audio loaded successfully.\n",
      "  5%|▌         | 1158/21650 [04:58<53:57,  6.33it/s]WARNING:absl:Audio loaded successfully.\n",
      "  5%|▌         | 1159/21650 [04:58<49:53,  6.85it/s]"
     ]
    },
    {
     "name": "stdout",
     "output_type": "stream",
     "text": [
      "Handling anas_platyrhynchos/XC453105.ogg\n",
      "Handling junco_hyemalis/XC159865.ogg\n"
     ]
    },
    {
     "name": "stderr",
     "output_type": "stream",
     "text": [
      "WARNING:absl:Audio loaded successfully.\n",
      "  5%|▌         | 1160/21650 [04:58<1:27:15,  3.91it/s]WARNING:absl:Audio loaded successfully.\n",
      "WARNING:absl:The audio at (/Volumes/BigChongusF/Datasets/Huggingface/gadme_v1/data/downloads/extracted/cd49b3631d04d3feff17b776f29f4fc3d66002b528c452baf906c78c1580d75a/data/xeno-canto/north_america/setophaga_coronata/XC389496.ogg / 56) could not be loaded (audio_too_short). The exception was (no_exception)\n",
      "WARNING:absl:Audio loaded successfully.\n",
      "  5%|▌         | 1162/21650 [04:58<58:17,  5.86it/s]  WARNING:absl:Audio loaded successfully.\n"
     ]
    },
    {
     "name": "stdout",
     "output_type": "stream",
     "text": [
      "Handling junco_hyemalis/XC111225.ogg\n",
      "Handling junco_hyemalis/XC408768.ogg\n",
      "Handling zonotrichia_leucophrys/XC16994.ogg\n"
     ]
    },
    {
     "name": "stderr",
     "output_type": "stream",
     "text": [
      "WARNING:absl:Audio loaded successfully.\n",
      "  5%|▌         | 1164/21650 [04:59<1:03:07,  5.41it/s]WARNING:absl:Audio loaded successfully.\n"
     ]
    },
    {
     "name": "stdout",
     "output_type": "stream",
     "text": [
      "Handling turdus_migratorius/XC103059.ogg\n"
     ]
    },
    {
     "name": "stderr",
     "output_type": "stream",
     "text": [
      "  5%|▌         | 1165/21650 [04:59<1:04:21,  5.31it/s]WARNING:absl:Audio loaded successfully.\n",
      "WARNING:absl:The audio at (/Volumes/BigChongusF/Datasets/Huggingface/gadme_v1/data/downloads/extracted/2bce4b9a431bfaabea14c251131c45f38745678853f058a2b2f6b863156d4d60/data/xeno-canto/north_america/catharus_guttatus/XC70485.ogg / 8) could not be loaded (audio_too_short). The exception was (no_exception)\n",
      "WARNING:absl:Audio loaded successfully.\n"
     ]
    },
    {
     "name": "stdout",
     "output_type": "stream",
     "text": [
      "Handling poecile_gambeli/XC71766.ogg\n"
     ]
    },
    {
     "name": "stderr",
     "output_type": "stream",
     "text": [
      "  5%|▌         | 1167/21650 [04:59<56:56,  6.00it/s]  WARNING:absl:Audio loaded successfully.\n",
      "WARNING:absl:The audio at (/Volumes/BigChongusF/Datasets/Huggingface/gadme_v1/data/downloads/extracted/4ab7290c70f503dcf8a7a57aec1f76e52b2b64a87cdc69bddff95b3855268e15/data/xeno-canto/north_america/turdus_migratorius/XC800046.ogg / 12) could not be loaded (audio_too_short). The exception was (no_exception)\n",
      "WARNING:absl:Audio loaded successfully.\n"
     ]
    },
    {
     "name": "stdout",
     "output_type": "stream",
     "text": [
      "Handling turdus_migratorius/XC320724.ogg\n"
     ]
    },
    {
     "name": "stderr",
     "output_type": "stream",
     "text": [
      "  5%|▌         | 1169/21650 [05:00<52:36,  6.49it/s]WARNING:absl:Audio loaded successfully.\n",
      "WARNING:absl:Audio loaded successfully.\n"
     ]
    },
    {
     "name": "stdout",
     "output_type": "stream",
     "text": [
      "Handling zonotrichia_leucophrys/XC159310.ogg\n",
      "Handling vireo_gilvus/XC378576.ogg\n"
     ]
    },
    {
     "name": "stderr",
     "output_type": "stream",
     "text": [
      "  5%|▌         | 1171/21650 [05:00<55:27,  6.15it/s]WARNING:absl:Audio loaded successfully.\n",
      "WARNING:absl:The audio at (/Volumes/BigChongusF/Datasets/Huggingface/gadme_v1/data/downloads/extracted/cd49b3631d04d3feff17b776f29f4fc3d66002b528c452baf906c78c1580d75a/data/xeno-canto/north_america/setophaga_coronata/XC699484.ogg / 0) could not be loaded (audio_too_short). The exception was (no_exception)\n",
      "WARNING:absl:Audio loaded successfully.\n"
     ]
    },
    {
     "name": "stdout",
     "output_type": "stream",
     "text": [
      "Handling vireo_gilvus/XC137086.ogg\n"
     ]
    },
    {
     "name": "stderr",
     "output_type": "stream",
     "text": [
      "  5%|▌         | 1173/21650 [05:00<1:06:25,  5.14it/s]WARNING:absl:Audio loaded successfully.\n",
      "WARNING:absl:Audio loaded successfully.\n"
     ]
    },
    {
     "name": "stdout",
     "output_type": "stream",
     "text": [
      "Handling salpinctes_obsoletus/XC381603.ogg\n",
      "Handling euphagus_cyanocephalus/XC41858.ogg\n"
     ]
    },
    {
     "name": "stderr",
     "output_type": "stream",
     "text": [
      "  5%|▌         | 1175/21650 [05:01<56:47,  6.01it/s]  WARNING:absl:Audio loaded successfully.\n",
      "WARNING:absl:Audio loaded successfully.\n",
      "WARNING:absl:The audio at (/Volumes/BigChongusF/Datasets/Huggingface/gadme_v1/data/downloads/extracted/c05b01b23568feda718271d2aa149124fd50d510bd99663cbd8752481054e53b/data/xeno-canto/europe/anas_platyrhynchos/XC296266.ogg / 0) could not be loaded (audio_too_short). The exception was (no_exception)\n",
      "WARNING:absl:Audio loaded successfully.\n",
      "WARNING:absl:The audio at (/Volumes/BigChongusF/Datasets/Huggingface/gadme_v1/data/downloads/extracted/98abf88c43673ba8815287f519e7fd3afff386504e64afb04778689c24fd08c9/data/xeno-canto/north_america/nucifraga_columbiana/XC451195.ogg / 37) could not be loaded (audio_too_short). The exception was (no_exception)\n",
      "WARNING:absl:Audio loaded successfully.\n",
      "WARNING:absl:The audio at (/Volumes/BigChongusF/Datasets/Huggingface/gadme_v1/data/downloads/extracted/17216070f80a410ede3b3b9d5be7d7b46383bb2a629699cc6296c19d2a1c3e34/data/xeno-canto/north_america/turdus_migratorius/XC323307.ogg / 12) could not be loaded (audio_too_short). The exception was (no_exception)\n",
      "  5%|▌         | 1179/21650 [05:01<34:13,  9.97it/s]WARNING:absl:Audio loaded successfully.\n",
      "WARNING:absl:The audio at (/Volumes/BigChongusF/Datasets/Huggingface/gadme_v1/data/downloads/extracted/2bce4b9a431bfaabea14c251131c45f38745678853f058a2b2f6b863156d4d60/data/xeno-canto/north_america/catharus_guttatus/XC351970.ogg / 0) could not be loaded (audio_too_short). The exception was (no_exception)\n",
      "WARNING:absl:Audio loaded successfully.\n"
     ]
    },
    {
     "name": "stdout",
     "output_type": "stream",
     "text": [
      "Handling empidonax_oberholseri/XC124642.ogg\n",
      "Handling poecile_gambeli/XC294704.ogg\n"
     ]
    },
    {
     "name": "stderr",
     "output_type": "stream",
     "text": [
      "  5%|▌         | 1181/21650 [05:01<41:47,  8.16it/s]WARNING:absl:Audio loaded successfully.\n",
      "WARNING:absl:The audio at (/Volumes/BigChongusF/Datasets/Huggingface/gadme_v1/data/downloads/extracted/7c313317d9bce50ea88db0b3d3672870e262462cefb5c130892cba54b586da3d/data/xeno-canto/north_america/salpinctes_obsoletus/XC315328.ogg / 0) could not be loaded (audio_too_short). The exception was (no_exception)\n",
      "WARNING:absl:Audio loaded successfully.\n"
     ]
    },
    {
     "name": "stdout",
     "output_type": "stream",
     "text": [
      "Handling vireo_gilvus/XC206067.ogg\n"
     ]
    },
    {
     "name": "stderr",
     "output_type": "stream",
     "text": [
      "  5%|▌         | 1183/21650 [05:01<42:34,  8.01it/s]WARNING:absl:Audio loaded successfully.\n",
      "WARNING:absl:The audio at (/Volumes/BigChongusF/Datasets/Huggingface/gadme_v1/data/downloads/extracted/657bb7ca7e00d187968c3a3fed754f2f43eea8c80f8b9290f46e2ef76a629ca6/data/xeno-canto/north_america/zonotrichia_leucophrys/XC14283.ogg / 0) could not be loaded (audio_too_short). The exception was (no_exception)\n",
      "WARNING:absl:Audio loaded successfully.\n",
      "  5%|▌         | 1185/21650 [05:02<38:22,  8.89it/s]"
     ]
    },
    {
     "name": "stdout",
     "output_type": "stream",
     "text": [
      "Handling poecile_gambeli/XC221629.ogg\n",
      "Handling anas_platyrhynchos/XC357023.ogg\n"
     ]
    },
    {
     "name": "stderr",
     "output_type": "stream",
     "text": [
      "WARNING:absl:Audio loaded successfully.\n",
      "WARNING:absl:Audio loaded successfully.\n"
     ]
    },
    {
     "name": "stdout",
     "output_type": "stream",
     "text": [
      "Handling zonotrichia_leucophrys/XC237362.ogg\n"
     ]
    },
    {
     "name": "stderr",
     "output_type": "stream",
     "text": [
      "  5%|▌         | 1187/21650 [05:02<1:02:17,  5.48it/s]WARNING:absl:Audio loaded successfully.\n"
     ]
    },
    {
     "name": "stdout",
     "output_type": "stream",
     "text": [
      "Handling sialia_currucoides/XC294915.ogg\n"
     ]
    },
    {
     "name": "stderr",
     "output_type": "stream",
     "text": [
      "  5%|▌         | 1188/21650 [05:03<1:07:20,  5.06it/s]WARNING:absl:Audio loaded successfully.\n",
      "WARNING:absl:The audio at (/Volumes/BigChongusF/Datasets/Huggingface/gadme_v1/data/downloads/extracted/cd49b3631d04d3feff17b776f29f4fc3d66002b528c452baf906c78c1580d75a/data/xeno-canto/north_america/setophaga_coronata/XC703702.ogg / 0) could not be loaded (audio_too_short). The exception was (no_exception)\n",
      "WARNING:absl:Audio loaded successfully.\n",
      "WARNING:absl:Audio loaded successfully.\n",
      "WARNING:absl:The audio at (/Volumes/BigChongusF/Datasets/Huggingface/gadme_v1/data/downloads/extracted/cd49b3631d04d3feff17b776f29f4fc3d66002b528c452baf906c78c1580d75a/data/xeno-canto/north_america/setophaga_coronata/XC546873.ogg / 0) could not be loaded (audio_too_short). The exception was (no_exception)\n",
      "  6%|▌         | 1191/21650 [05:03<44:10,  7.72it/s]  WARNING:absl:Audio loaded successfully.\n"
     ]
    },
    {
     "name": "stdout",
     "output_type": "stream",
     "text": [
      "Handling euphagus_cyanocephalus/XC482018.ogg\n",
      "Handling vireo_gilvus/XC193234.ogg\n"
     ]
    },
    {
     "name": "stderr",
     "output_type": "stream",
     "text": [
      "WARNING:absl:Audio loaded successfully.\n"
     ]
    },
    {
     "name": "stdout",
     "output_type": "stream",
     "text": [
      "Handling vireo_gilvus/XC120202.ogg\n"
     ]
    },
    {
     "name": "stderr",
     "output_type": "stream",
     "text": [
      "  6%|▌         | 1193/21650 [05:03<55:28,  6.15it/s]WARNING:absl:Audio loaded successfully.\n"
     ]
    },
    {
     "name": "stdout",
     "output_type": "stream",
     "text": [
      "Handling turdus_migratorius/XC164441.ogg\n",
      "Handling vireo_gilvus/XC105673.ogg\n"
     ]
    },
    {
     "name": "stderr",
     "output_type": "stream",
     "text": [
      "WARNING:absl:Audio loaded successfully.\n",
      "  6%|▌         | 1195/21650 [05:03<52:40,  6.47it/s]WARNING:absl:Audio loaded successfully.\n"
     ]
    },
    {
     "name": "stdout",
     "output_type": "stream",
     "text": [
      "Handling setophaga_petechia/XC755647.ogg\n"
     ]
    },
    {
     "name": "stderr",
     "output_type": "stream",
     "text": [
      "  6%|▌         | 1196/21650 [05:04<1:05:42,  5.19it/s]WARNING:absl:Audio loaded successfully.\n",
      "WARNING:absl:The audio at (/Volumes/BigChongusF/Datasets/Huggingface/gadme_v1/data/downloads/extracted/7999bb6a56b81320289f187fda8208243d41e6e50dd9ca49b75ab67670f0f4cd/data/xeno-canto/north_america/junco_hyemalis/XC234347.ogg / 0) could not be loaded (audio_too_short). The exception was (no_exception)\n",
      "WARNING:absl:Audio loaded successfully.\n"
     ]
    },
    {
     "name": "stdout",
     "output_type": "stream",
     "text": [
      "Handling nucifraga_columbiana/XC14214.ogg\n"
     ]
    },
    {
     "name": "stderr",
     "output_type": "stream",
     "text": [
      "  6%|▌         | 1198/21650 [05:04<58:06,  5.87it/s]  WARNING:absl:Audio loaded successfully.\n"
     ]
    },
    {
     "name": "stdout",
     "output_type": "stream",
     "text": [
      "Handling catharus_guttatus/XC381530.ogg\n"
     ]
    },
    {
     "name": "stderr",
     "output_type": "stream",
     "text": [
      "  6%|▌         | 1199/21650 [05:04<1:00:14,  5.66it/s]WARNING:absl:Audio loaded successfully.\n"
     ]
    },
    {
     "name": "stdout",
     "output_type": "stream",
     "text": [
      "Handling setophaga_petechia/XC112968.ogg\n"
     ]
    },
    {
     "name": "stderr",
     "output_type": "stream",
     "text": [
      "  6%|▌         | 1200/21650 [05:05<1:08:45,  4.96it/s]WARNING:absl:Audio loaded successfully.\n",
      "WARNING:absl:The audio at (/Volumes/BigChongusF/Datasets/Huggingface/gadme_v1/data/downloads/extracted/d145e8851ba4925920daf81a23e20f777cd5b92fd94d310de6aa4a44c03ba695/data/xeno-canto/north_america/vireo_gilvus/XC582235.ogg / 0) could not be loaded (audio_too_short). The exception was (no_exception)\n",
      "WARNING:absl:Audio loaded successfully.\n"
     ]
    },
    {
     "name": "stdout",
     "output_type": "stream",
     "text": [
      "Handling junco_hyemalis/XC535135.ogg\n"
     ]
    },
    {
     "name": "stderr",
     "output_type": "stream",
     "text": [
      "  6%|▌         | 1202/21650 [05:05<1:03:28,  5.37it/s]WARNING:absl:Audio loaded successfully.\n",
      "  6%|▌         | 1203/21650 [05:05<1:03:19,  5.38it/s]"
     ]
    },
    {
     "name": "stdout",
     "output_type": "stream",
     "text": [
      "Handling junco_hyemalis/XC627564.ogg\n",
      "Handling anas_platyrhynchos/XC436930.ogg\n"
     ]
    },
    {
     "name": "stderr",
     "output_type": "stream",
     "text": [
      "WARNING:absl:Audio loaded successfully.\n",
      "  6%|▌         | 1204/21650 [05:05<1:05:04,  5.24it/s]"
     ]
    },
    {
     "name": "stdout",
     "output_type": "stream",
     "text": [
      "Handling setophaga_petechia/XC451099.ogg\n"
     ]
    },
    {
     "name": "stderr",
     "output_type": "stream",
     "text": [
      "WARNING:absl:Audio loaded successfully.\n",
      "  6%|▌         | 1205/21650 [05:07<3:51:34,  1.47it/s]WARNING:absl:Audio loaded successfully.\n",
      "WARNING:absl:The audio at (/Volumes/BigChongusF/Datasets/Huggingface/gadme_v1/data/downloads/extracted/81e1b796790f26dbc25ae8fbe4e7b2707eea32146a66d4954952be1661457843/data/xeno-canto/north_america/leiothlypis_celata/XC158987.ogg / 3) could not be loaded (audio_too_short). The exception was (no_exception)\n",
      "WARNING:absl:Audio loaded successfully.\n"
     ]
    },
    {
     "name": "stdout",
     "output_type": "stream",
     "text": [
      "Handling catharus_guttatus/XC159794.ogg\n"
     ]
    },
    {
     "name": "stderr",
     "output_type": "stream",
     "text": [
      "  6%|▌         | 1207/21650 [05:08<2:41:47,  2.11it/s]WARNING:absl:Audio loaded successfully.\n"
     ]
    },
    {
     "name": "stdout",
     "output_type": "stream",
     "text": [
      "Handling poecile_gambeli/XC368641.ogg\n",
      "Handling zonotrichia_leucophrys/XC192244.ogg\n"
     ]
    },
    {
     "name": "stderr",
     "output_type": "stream",
     "text": [
      "  6%|▌         | 1208/21650 [05:08<2:20:19,  2.43it/s]WARNING:absl:Audio loaded successfully.\n",
      "WARNING:absl:The audio at (/Volumes/BigChongusF/Datasets/Huggingface/gadme_v1/data/downloads/extracted/fac58f85f06876ff8f6cab02102aac36e733cd077a257f05b209b05f983d3ecc/data/xeno-canto/north_america/vireo_gilvus/XC1197.ogg / 0) could not be loaded (audio_too_short). The exception was (no_exception)\n",
      "WARNING:absl:Audio loaded successfully.\n",
      "  6%|▌         | 1210/21650 [05:08<1:51:15,  3.06it/s]WARNING:absl:Audio loaded successfully.\n",
      "  6%|▌         | 1211/21650 [05:09<1:40:17,  3.40it/s]"
     ]
    },
    {
     "name": "stdout",
     "output_type": "stream",
     "text": [
      "Handling turdus_migratorius/XC535251.ogg\n",
      "Handling leiothlypis_celata/XC639461.ogg\n"
     ]
    },
    {
     "name": "stderr",
     "output_type": "stream",
     "text": [
      "WARNING:absl:Audio loaded successfully.\n",
      "  6%|▌         | 1212/21650 [05:09<2:28:22,  2.30it/s]WARNING:absl:Audio loaded successfully.\n"
     ]
    },
    {
     "name": "stdout",
     "output_type": "stream",
     "text": [
      "Handling anas_platyrhynchos/XC394593.ogg\n"
     ]
    },
    {
     "name": "stderr",
     "output_type": "stream",
     "text": [
      "  6%|▌         | 1213/21650 [05:10<3:10:20,  1.79it/s]WARNING:absl:Audio loaded successfully.\n",
      "WARNING:absl:The audio at (/Volumes/BigChongusF/Datasets/Huggingface/gadme_v1/data/downloads/extracted/3944287c00a98d3d9edcb7467992ad5fbf2cebeec4c9e389027ef676be012aef/data/xeno-canto/north_america/poecile_gambeli/XC368641.ogg / 66) could not be loaded (audio_too_short). The exception was (no_exception)\n",
      "WARNING:absl:Audio loaded successfully.\n"
     ]
    },
    {
     "name": "stdout",
     "output_type": "stream",
     "text": [
      "Handling anas_platyrhynchos/XC557295.ogg\n"
     ]
    },
    {
     "name": "stderr",
     "output_type": "stream",
     "text": [
      "  6%|▌         | 1215/21650 [05:11<2:33:28,  2.22it/s]WARNING:absl:Audio loaded successfully.\n"
     ]
    },
    {
     "name": "stdout",
     "output_type": "stream",
     "text": [
      "Handling turdus_migratorius/XC103571.ogg\n"
     ]
    },
    {
     "name": "stderr",
     "output_type": "stream",
     "text": [
      "  6%|▌         | 1216/21650 [05:12<2:45:08,  2.06it/s]WARNING:absl:Audio loaded successfully.\n"
     ]
    },
    {
     "name": "stdout",
     "output_type": "stream",
     "text": [
      "Handling junco_hyemalis/XC487483.ogg\n"
     ]
    },
    {
     "name": "stderr",
     "output_type": "stream",
     "text": [
      "  6%|▌         | 1217/21650 [05:12<2:55:47,  1.94it/s]WARNING:absl:Audio loaded successfully.\n",
      "WARNING:absl:The audio at (/Volumes/BigChongusF/Datasets/Huggingface/gadme_v1/data/downloads/extracted/81e1b796790f26dbc25ae8fbe4e7b2707eea32146a66d4954952be1661457843/data/xeno-canto/north_america/leiothlypis_celata/XC727533.ogg / 2) could not be loaded (audio_too_short). The exception was (no_exception)\n",
      "WARNING:absl:Audio loaded successfully.\n",
      "  6%|▌         | 1219/21650 [05:12<1:54:16,  2.98it/s]WARNING:absl:Audio loaded successfully.\n"
     ]
    },
    {
     "name": "stdout",
     "output_type": "stream",
     "text": [
      "Handling junco_hyemalis/XC483708.ogg\n",
      "Handling catharus_guttatus/XC748365.ogg\n"
     ]
    },
    {
     "name": "stderr",
     "output_type": "stream",
     "text": [
      "  6%|▌         | 1220/21650 [05:13<1:38:18,  3.46it/s]WARNING:absl:Audio loaded successfully.\n"
     ]
    },
    {
     "name": "stdout",
     "output_type": "stream",
     "text": [
      "Handling catharus_guttatus/XC557068.ogg\n"
     ]
    },
    {
     "name": "stderr",
     "output_type": "stream",
     "text": [
      "  6%|▌         | 1221/21650 [05:13<1:53:36,  3.00it/s]WARNING:absl:Audio loaded successfully.\n",
      "WARNING:absl:Audio loaded successfully.\n"
     ]
    },
    {
     "name": "stdout",
     "output_type": "stream",
     "text": [
      "Handling vireo_gilvus/XC613103.ogg\n",
      "Handling turdus_migratorius/XC510857.ogg\n"
     ]
    },
    {
     "name": "stderr",
     "output_type": "stream",
     "text": [
      "  6%|▌         | 1223/21650 [05:13<1:32:08,  3.69it/s]WARNING:absl:Audio loaded successfully.\n"
     ]
    },
    {
     "name": "stdout",
     "output_type": "stream",
     "text": [
      "Handling catharus_guttatus/XC384428.ogg\n"
     ]
    },
    {
     "name": "stderr",
     "output_type": "stream",
     "text": [
      "  6%|▌         | 1224/21650 [05:14<1:35:56,  3.55it/s]WARNING:absl:Audio loaded successfully.\n"
     ]
    },
    {
     "name": "stdout",
     "output_type": "stream",
     "text": [
      "Handling vireo_gilvus/XC189074.ogg\n"
     ]
    },
    {
     "name": "stderr",
     "output_type": "stream",
     "text": [
      "  6%|▌         | 1225/21650 [05:15<2:33:11,  2.22it/s]WARNING:absl:Audio loaded successfully.\n"
     ]
    },
    {
     "name": "stdout",
     "output_type": "stream",
     "text": [
      "Handling turdus_migratorius/XC678672.ogg\n"
     ]
    },
    {
     "name": "stderr",
     "output_type": "stream",
     "text": [
      "  6%|▌         | 1226/21650 [05:15<2:20:17,  2.43it/s]WARNING:absl:Audio loaded successfully.\n",
      "  6%|▌         | 1227/21650 [05:15<1:52:52,  3.02it/s]WARNING:absl:Audio loaded successfully.\n",
      "WARNING:absl:The audio at (/Volumes/BigChongusF/Datasets/Huggingface/gadme_v1/data/downloads/extracted/4ab7290c70f503dcf8a7a57aec1f76e52b2b64a87cdc69bddff95b3855268e15/data/xeno-canto/north_america/turdus_migratorius/XC171881.ogg / 1) could not be loaded (audio_too_short). The exception was (no_exception)\n",
      "WARNING:absl:Audio loaded successfully.\n"
     ]
    },
    {
     "name": "stdout",
     "output_type": "stream",
     "text": [
      "Handling junco_hyemalis/XC14482.ogg\n",
      "Handling poecile_gambeli/XC514866.ogg\n"
     ]
    },
    {
     "name": "stderr",
     "output_type": "stream",
     "text": [
      "  6%|▌         | 1229/21650 [05:15<1:13:30,  4.63it/s]WARNING:absl:Audio loaded successfully.\n",
      "WARNING:absl:The audio at (/Volumes/BigChongusF/Datasets/Huggingface/gadme_v1/data/downloads/extracted/50ee574c5ac7bd04862bf48084e734a9dfb53f6b0bb7e1c7ba86103dd405ec12/data/xeno-canto/north_america/junco_hyemalis/XC571056.ogg / 0) could not be loaded (audio_too_short). The exception was (no_exception)\n",
      "WARNING:absl:Audio loaded successfully.\n",
      "WARNING:absl:The audio at (/Volumes/BigChongusF/Datasets/Huggingface/gadme_v1/data/downloads/extracted/11822cb7774f0c8fc8baf7b5f803ac199e8389f4e7915de926ef11f732fc0c36/data/xeno-canto/north_america/catharus_guttatus/XC65362.ogg / 26) could not be loaded (audio_too_short). The exception was (no_exception)\n",
      "WARNING:absl:Audio loaded successfully.\n",
      "  6%|▌         | 1232/21650 [05:15<44:56,  7.57it/s]  WARNING:absl:Audio loaded successfully.\n"
     ]
    },
    {
     "name": "stdout",
     "output_type": "stream",
     "text": [
      "Handling turdus_migratorius/XC482331.ogg\n",
      "Handling anthus_rubescens/XC277590.ogg\n"
     ]
    },
    {
     "name": "stderr",
     "output_type": "stream",
     "text": [
      "WARNING:absl:Audio loaded successfully.\n"
     ]
    },
    {
     "name": "stdout",
     "output_type": "stream",
     "text": [
      "Handling leiothlypis_celata/XC626746.ogg\n"
     ]
    },
    {
     "name": "stderr",
     "output_type": "stream",
     "text": [
      "  6%|▌         | 1234/21650 [05:16<56:39,  6.01it/s]WARNING:absl:Audio loaded successfully.\n",
      "WARNING:absl:The audio at (/Volumes/BigChongusF/Datasets/Huggingface/gadme_v1/data/downloads/extracted/3944287c00a98d3d9edcb7467992ad5fbf2cebeec4c9e389027ef676be012aef/data/xeno-canto/north_america/poecile_gambeli/XC514866.ogg / 1) could not be loaded (audio_too_short). The exception was (no_exception)\n",
      "WARNING:absl:Audio loaded successfully.\n"
     ]
    },
    {
     "name": "stdout",
     "output_type": "stream",
     "text": [
      "Handling junco_hyemalis/XC605845.ogg\n"
     ]
    },
    {
     "name": "stderr",
     "output_type": "stream",
     "text": [
      "  6%|▌         | 1236/21650 [05:16<53:17,  6.39it/s]WARNING:absl:Audio loaded successfully.\n",
      "  6%|▌         | 1237/21650 [05:16<53:54,  6.31it/s]WARNING:absl:Audio loaded successfully.\n",
      "WARNING:absl:The audio at (/Volumes/BigChongusF/Datasets/Huggingface/gadme_v1/data/downloads/extracted/50ee574c5ac7bd04862bf48084e734a9dfb53f6b0bb7e1c7ba86103dd405ec12/data/xeno-canto/north_america/junco_hyemalis/XC408651.ogg / 1) could not be loaded (audio_too_short). The exception was (no_exception)\n"
     ]
    },
    {
     "name": "stdout",
     "output_type": "stream",
     "text": [
      "Handling junco_hyemalis/XC567924.ogg\n",
      "Handling passerella_iliaca/XC339642.ogg\n"
     ]
    },
    {
     "name": "stderr",
     "output_type": "stream",
     "text": [
      "WARNING:absl:Audio loaded successfully.\n",
      "  6%|▌         | 1239/21650 [05:16<49:49,  6.83it/s]WARNING:absl:Audio loaded successfully.\n",
      "WARNING:absl:Audio loaded successfully.\n"
     ]
    },
    {
     "name": "stdout",
     "output_type": "stream",
     "text": [
      "Handling passerella_iliaca/XC89169.ogg\n",
      "Handling zonotrichia_leucophrys/XC511337.ogg\n"
     ]
    },
    {
     "name": "stderr",
     "output_type": "stream",
     "text": [
      "  6%|▌         | 1241/21650 [05:17<48:30,  7.01it/s]WARNING:absl:Audio loaded successfully.\n"
     ]
    },
    {
     "name": "stdout",
     "output_type": "stream",
     "text": [
      "Handling turdus_migratorius/XC374685.ogg\n"
     ]
    },
    {
     "name": "stderr",
     "output_type": "stream",
     "text": [
      "  6%|▌         | 1242/21650 [05:17<1:12:02,  4.72it/s]WARNING:absl:Audio loaded successfully.\n",
      "WARNING:absl:The audio at (/Volumes/BigChongusF/Datasets/Huggingface/gadme_v1/data/downloads/extracted/fac58f85f06876ff8f6cab02102aac36e733cd077a257f05b209b05f983d3ecc/data/xeno-canto/north_america/vireo_gilvus/XC102968.ogg / 0) could not be loaded (audio_too_short). The exception was (no_exception)\n",
      "WARNING:absl:Audio loaded successfully.\n"
     ]
    },
    {
     "name": "stdout",
     "output_type": "stream",
     "text": [
      "Handling empidonax_oberholseri/XC110017.ogg\n"
     ]
    },
    {
     "name": "stderr",
     "output_type": "stream",
     "text": [
      "  6%|▌         | 1244/21650 [05:17<1:00:27,  5.63it/s]WARNING:absl:Audio loaded successfully.\n",
      "WARNING:absl:The audio at (/Volumes/BigChongusF/Datasets/Huggingface/gadme_v1/data/downloads/extracted/e68da0013aa2de07a892cea4436ef4f05bf18dc840e506a49e4934fad311632a/data/xeno-canto/north_america/junco_hyemalis/XC52404.ogg / 1) could not be loaded (audio_too_short). The exception was (no_exception)\n",
      "WARNING:absl:Audio loaded successfully.\n"
     ]
    },
    {
     "name": "stdout",
     "output_type": "stream",
     "text": [
      "Handling colaptes_auratus/XC124485.ogg\n"
     ]
    },
    {
     "name": "stderr",
     "output_type": "stream",
     "text": [
      "  6%|▌         | 1246/21650 [05:18<52:47,  6.44it/s]  WARNING:absl:Audio loaded successfully.\n"
     ]
    },
    {
     "name": "stdout",
     "output_type": "stream",
     "text": [
      "Handling anas_platyrhynchos/XC556906.ogg\n"
     ]
    },
    {
     "name": "stderr",
     "output_type": "stream",
     "text": [
      "  6%|▌         | 1247/21650 [05:18<1:05:20,  5.20it/s]WARNING:absl:Audio loaded successfully.\n",
      "WARNING:absl:The audio at (/Volumes/BigChongusF/Datasets/Huggingface/gadme_v1/data/downloads/extracted/2bce4b9a431bfaabea14c251131c45f38745678853f058a2b2f6b863156d4d60/data/xeno-canto/north_america/catharus_guttatus/XC72226.ogg / 2) could not be loaded (audio_too_short). The exception was (no_exception)\n",
      "WARNING:absl:Audio loaded successfully.\n",
      "  6%|▌         | 1249/21650 [05:18<50:26,  6.74it/s]  "
     ]
    },
    {
     "name": "stdout",
     "output_type": "stream",
     "text": [
      "Handling zonotrichia_leucophrys/XC637919.ogg\n",
      "Handling zonotrichia_leucophrys/XC559266.ogg\n"
     ]
    },
    {
     "name": "stderr",
     "output_type": "stream",
     "text": [
      "WARNING:absl:Audio loaded successfully.\n",
      "  6%|▌         | 1250/21650 [05:19<1:26:33,  3.93it/s]WARNING:absl:Audio loaded successfully.\n",
      "WARNING:absl:The audio at (/Volumes/BigChongusF/Datasets/Huggingface/gadme_v1/data/downloads/extracted/657bb7ca7e00d187968c3a3fed754f2f43eea8c80f8b9290f46e2ef76a629ca6/data/xeno-canto/north_america/zonotrichia_leucophrys/XC159660.ogg / 14) could not be loaded (audio_too_short). The exception was (no_exception)\n",
      "WARNING:absl:Audio loaded successfully.\n",
      "WARNING:absl:The audio at (/Volumes/BigChongusF/Datasets/Huggingface/gadme_v1/data/downloads/extracted/073c60ddd38d94c33b508dc82a0cf640bc20d68d3ed6bf2f63e35e8019957dd9/data/xeno-canto/north_america/zonotrichia_leucophrys/XC156765.ogg / 1) could not be loaded (audio_too_short). The exception was (no_exception)\n",
      "WARNING:absl:Audio loaded successfully.\n",
      "  6%|▌         | 1253/21650 [05:19<55:31,  6.12it/s]  "
     ]
    },
    {
     "name": "stdout",
     "output_type": "stream",
     "text": [
      "Handling nucifraga_columbiana/XC629536.ogg\n",
      "Handling vireo_gilvus/XC261425.ogg\n"
     ]
    },
    {
     "name": "stderr",
     "output_type": "stream",
     "text": [
      "WARNING:absl:Audio loaded successfully.\n",
      "  6%|▌         | 1254/21650 [05:19<55:43,  6.10it/s]WARNING:absl:Audio loaded successfully.\n"
     ]
    },
    {
     "name": "stdout",
     "output_type": "stream",
     "text": [
      "Handling leiothlypis_celata/XC749775.ogg\n"
     ]
    },
    {
     "name": "stderr",
     "output_type": "stream",
     "text": [
      "  6%|▌         | 1255/21650 [05:19<1:03:00,  5.39it/s]WARNING:absl:Audio loaded successfully.\n",
      "WARNING:absl:The audio at (/Volumes/BigChongusF/Datasets/Huggingface/gadme_v1/data/downloads/extracted/ec613fac723ec2b148b37e696a540c4078e291087c8525c0be0e654266f29161/data/xeno-canto/north_america/colaptes_auratus/XC136134.ogg / 0) could not be loaded (audio_too_short). The exception was (no_exception)\n",
      "WARNING:absl:Audio loaded successfully.\n"
     ]
    },
    {
     "name": "stdout",
     "output_type": "stream",
     "text": [
      "Handling euphagus_cyanocephalus/XC749858.ogg\n"
     ]
    },
    {
     "name": "stderr",
     "output_type": "stream",
     "text": [
      "  6%|▌         | 1257/21650 [05:20<55:18,  6.14it/s]  WARNING:absl:Audio loaded successfully.\n",
      "WARNING:absl:Audio loaded successfully.\n",
      "WARNING:absl:The audio at (/Volumes/BigChongusF/Datasets/Huggingface/gadme_v1/data/downloads/extracted/81e1b796790f26dbc25ae8fbe4e7b2707eea32146a66d4954952be1661457843/data/xeno-canto/north_america/leiothlypis_celata/XC728538.ogg / 0) could not be loaded (audio_too_short). The exception was (no_exception)\n",
      "WARNING:absl:Audio loaded successfully.\n",
      "WARNING:absl:The audio at (/Volumes/BigChongusF/Datasets/Huggingface/gadme_v1/data/downloads/extracted/e68da0013aa2de07a892cea4436ef4f05bf18dc840e506a49e4934fad311632a/data/xeno-canto/north_america/junco_hyemalis/XC171280.ogg / 3) could not be loaded (audio_too_short). The exception was (no_exception)\n",
      "WARNING:absl:Audio loaded successfully.\n",
      "  6%|▌         | 1261/21650 [05:20<34:53,  9.74it/s]WARNING:absl:Audio loaded successfully.\n",
      "WARNING:absl:The audio at (/Volumes/BigChongusF/Datasets/Huggingface/gadme_v1/data/downloads/extracted/311d741def45c8db5627f28a29fb12fae011eadb4408d855d15c5dbda8c53dd4/data/xeno-canto/north_america/setophaga_petechia/XC448204.ogg / 1) could not be loaded (audio_too_short). The exception was (no_exception)\n"
     ]
    },
    {
     "name": "stdout",
     "output_type": "stream",
     "text": [
      "Handling haemorhous_cassinii/XC218070.ogg\n",
      "Handling junco_hyemalis/XC76620.ogg\n",
      "Handling leiothlypis_celata/XC369967.ogg\n"
     ]
    },
    {
     "name": "stderr",
     "output_type": "stream",
     "text": [
      "WARNING:absl:Audio loaded successfully.\n",
      "  6%|▌         | 1263/21650 [05:20<31:53, 10.65it/s]WARNING:absl:Audio loaded successfully.\n"
     ]
    },
    {
     "name": "stdout",
     "output_type": "stream",
     "text": [
      "Handling catharus_guttatus/XC601488.ogg\n"
     ]
    },
    {
     "name": "stderr",
     "output_type": "stream",
     "text": [
      "WARNING:absl:Audio loaded successfully.\n",
      "  6%|▌         | 1265/21650 [05:20<37:45,  9.00it/s]WARNING:absl:Audio loaded successfully.\n",
      "WARNING:absl:Audio loaded successfully.\n"
     ]
    },
    {
     "name": "stdout",
     "output_type": "stream",
     "text": [
      "Handling salpinctes_obsoletus/XC21742.ogg\n",
      "Handling anas_platyrhynchos/XC739538.ogg\n",
      "Handling euphagus_cyanocephalus/XC800770.ogg\n"
     ]
    },
    {
     "name": "stderr",
     "output_type": "stream",
     "text": [
      "  6%|▌         | 1267/21650 [05:21<49:52,  6.81it/s]WARNING:absl:Audio loaded successfully.\n",
      "WARNING:absl:Audio loaded successfully.\n"
     ]
    },
    {
     "name": "stdout",
     "output_type": "stream",
     "text": [
      "Handling setophaga_petechia/XC368048.ogg\n",
      "Handling anas_platyrhynchos/XC123501.ogg\n"
     ]
    },
    {
     "name": "stderr",
     "output_type": "stream",
     "text": [
      "  6%|▌         | 1269/21650 [05:21<49:14,  6.90it/s]WARNING:absl:Audio loaded successfully.\n"
     ]
    },
    {
     "name": "stdout",
     "output_type": "stream",
     "text": [
      "Handling leiothlypis_celata/XC464187.ogg\n"
     ]
    },
    {
     "name": "stderr",
     "output_type": "stream",
     "text": [
      "  6%|▌         | 1270/21650 [05:21<52:55,  6.42it/s]WARNING:absl:Audio loaded successfully.\n"
     ]
    },
    {
     "name": "stdout",
     "output_type": "stream",
     "text": [
      "Handling leiothlypis_celata/XC497024.ogg\n"
     ]
    },
    {
     "name": "stderr",
     "output_type": "stream",
     "text": [
      "  6%|▌         | 1271/21650 [05:22<1:00:09,  5.65it/s]WARNING:absl:Audio loaded successfully.\n",
      "WARNING:absl:The audio at (/Volumes/BigChongusF/Datasets/Huggingface/gadme_v1/data/downloads/extracted/07a0b04bf9aec2ea5a8729ad6f8ea501c8a851d0f53829912550f376789b18e0/data/xeno-canto/north_america/vireo_gilvus/XC806076.ogg / 0) could not be loaded (audio_too_short). The exception was (no_exception)\n",
      "WARNING:absl:Audio loaded successfully.\n"
     ]
    },
    {
     "name": "stdout",
     "output_type": "stream",
     "text": [
      "Handling leiothlypis_celata/XC497024.ogg\n"
     ]
    },
    {
     "name": "stderr",
     "output_type": "stream",
     "text": [
      "  6%|▌         | 1273/21650 [05:22<1:02:44,  5.41it/s]WARNING:absl:Audio loaded successfully.\n"
     ]
    },
    {
     "name": "stdout",
     "output_type": "stream",
     "text": [
      "Handling catharus_guttatus/XC65366.ogg\n"
     ]
    },
    {
     "name": "stderr",
     "output_type": "stream",
     "text": [
      "  6%|▌         | 1274/21650 [05:22<1:09:48,  4.86it/s]WARNING:absl:Audio loaded successfully.\n",
      "WARNING:absl:The audio at (/Volumes/BigChongusF/Datasets/Huggingface/gadme_v1/data/downloads/extracted/311d741def45c8db5627f28a29fb12fae011eadb4408d855d15c5dbda8c53dd4/data/xeno-canto/north_america/setophaga_petechia/XC274400.ogg / 1) could not be loaded (audio_too_short). The exception was (no_exception)\n",
      "WARNING:absl:Audio loaded successfully.\n",
      "WARNING:absl:The audio at (/Volumes/BigChongusF/Datasets/Huggingface/gadme_v1/data/downloads/extracted/073c60ddd38d94c33b508dc82a0cf640bc20d68d3ed6bf2f63e35e8019957dd9/data/xeno-canto/north_america/zonotrichia_leucophrys/XC611723.ogg / 1) could not be loaded (audio_too_short). The exception was (no_exception)\n",
      "WARNING:absl:Audio loaded successfully.\n"
     ]
    },
    {
     "name": "stdout",
     "output_type": "stream",
     "text": [
      "Handling zonotrichia_leucophrys/XC185539.ogg\n"
     ]
    },
    {
     "name": "stderr",
     "output_type": "stream",
     "text": [
      "  6%|▌         | 1277/21650 [05:23<55:41,  6.10it/s]  WARNING:absl:Audio loaded successfully.\n",
      "WARNING:absl:Audio loaded successfully.\n"
     ]
    },
    {
     "name": "stdout",
     "output_type": "stream",
     "text": [
      "Handling haemorhous_cassinii/XC365853.ogg\n",
      "Handling actitis_macularius/XC154789.ogg\n"
     ]
    },
    {
     "name": "stderr",
     "output_type": "stream",
     "text": [
      "  6%|▌         | 1279/21650 [05:23<55:48,  6.08it/s]WARNING:absl:Audio loaded successfully.\n",
      "  6%|▌         | 1280/21650 [05:23<54:09,  6.27it/s]WARNING:absl:Audio loaded successfully.\n",
      "WARNING:absl:The audio at (/Volumes/BigChongusF/Datasets/Huggingface/gadme_v1/data/downloads/extracted/311d741def45c8db5627f28a29fb12fae011eadb4408d855d15c5dbda8c53dd4/data/xeno-canto/north_america/leiothlypis_celata/XC182397.ogg / 0) could not be loaded (audio_too_short). The exception was (no_exception)\n",
      "WARNING:absl:Audio loaded successfully.\n"
     ]
    },
    {
     "name": "stdout",
     "output_type": "stream",
     "text": [
      "Handling turdus_migratorius/XC174155.ogg\n",
      "Handling turdus_migratorius/XC749773.ogg\n"
     ]
    },
    {
     "name": "stderr",
     "output_type": "stream",
     "text": [
      "  6%|▌         | 1282/21650 [05:23<45:50,  7.40it/s]WARNING:absl:Audio loaded successfully.\n",
      "  6%|▌         | 1283/21650 [05:23<49:04,  6.92it/s]"
     ]
    },
    {
     "name": "stdout",
     "output_type": "stream",
     "text": [
      "Handling junco_hyemalis/XC107854.ogg\n",
      "Handling colaptes_auratus/XC314603.ogg\n"
     ]
    },
    {
     "name": "stderr",
     "output_type": "stream",
     "text": [
      "WARNING:absl:Audio loaded successfully.\n",
      "  6%|▌         | 1284/21650 [05:24<48:55,  6.94it/s]"
     ]
    },
    {
     "name": "stdout",
     "output_type": "stream",
     "text": [
      "Handling actitis_macularius/XC644889.ogg\n"
     ]
    },
    {
     "name": "stderr",
     "output_type": "stream",
     "text": [
      "WARNING:absl:Audio loaded successfully.\n",
      "  6%|▌         | 1285/21650 [05:25<2:22:49,  2.38it/s]WARNING:absl:Audio loaded successfully.\n"
     ]
    },
    {
     "name": "stdout",
     "output_type": "stream",
     "text": [
      "Handling salpinctes_obsoletus/XC459768.ogg\n"
     ]
    },
    {
     "name": "stderr",
     "output_type": "stream",
     "text": [
      "  6%|▌         | 1286/21650 [05:25<2:08:11,  2.65it/s]WARNING:absl:Audio loaded successfully.\n",
      "  6%|▌         | 1287/21650 [05:25<1:48:25,  3.13it/s]WARNING:absl:Audio loaded successfully.\n"
     ]
    },
    {
     "name": "stdout",
     "output_type": "stream",
     "text": [
      "Handling nucifraga_columbiana/XC451195.ogg\n",
      "Handling catharus_guttatus/XC89670.ogg\n"
     ]
    },
    {
     "name": "stderr",
     "output_type": "stream",
     "text": [
      "WARNING:absl:Audio loaded successfully.\n"
     ]
    },
    {
     "name": "stdout",
     "output_type": "stream",
     "text": [
      "Handling junco_hyemalis/XC420400.ogg\n"
     ]
    },
    {
     "name": "stderr",
     "output_type": "stream",
     "text": [
      "  6%|▌         | 1289/21650 [05:26<1:31:05,  3.73it/s]WARNING:absl:Audio loaded successfully.\n"
     ]
    },
    {
     "name": "stdout",
     "output_type": "stream",
     "text": [
      "Handling empidonax_oberholseri/XC653497.ogg\n"
     ]
    },
    {
     "name": "stderr",
     "output_type": "stream",
     "text": [
      "  6%|▌         | 1290/21650 [05:26<1:25:54,  3.95it/s]WARNING:absl:Audio loaded successfully.\n",
      "WARNING:absl:The audio at (/Volumes/BigChongusF/Datasets/Huggingface/gadme_v1/data/downloads/extracted/e68da0013aa2de07a892cea4436ef4f05bf18dc840e506a49e4934fad311632a/data/xeno-canto/north_america/junco_hyemalis/XC159751.ogg / 22) could not be loaded (audio_too_short). The exception was (no_exception)\n",
      "WARNING:absl:Audio loaded successfully.\n",
      "WARNING:absl:The audio at (/Volumes/BigChongusF/Datasets/Huggingface/gadme_v1/data/downloads/extracted/11822cb7774f0c8fc8baf7b5f803ac199e8389f4e7915de926ef11f732fc0c36/data/xeno-canto/north_america/catharus_guttatus/XC714375.ogg / 0) could not be loaded (audio_too_short). The exception was (no_exception)\n",
      "WARNING:absl:Audio loaded successfully.\n",
      "WARNING:absl:The audio at (/Volumes/BigChongusF/Datasets/Huggingface/gadme_v1/data/downloads/extracted/cd49b3631d04d3feff17b776f29f4fc3d66002b528c452baf906c78c1580d75a/data/xeno-canto/north_america/setophaga_coronata/XC137572.ogg / 1) could not be loaded (audio_too_short). The exception was (no_exception)\n",
      "WARNING:absl:Audio loaded successfully.\n"
     ]
    },
    {
     "name": "stdout",
     "output_type": "stream",
     "text": [
      "Handling anas_platyrhynchos/XC625701.ogg\n"
     ]
    },
    {
     "name": "stderr",
     "output_type": "stream",
     "text": [
      "  6%|▌         | 1294/21650 [05:26<47:25,  7.15it/s]  WARNING:absl:Audio loaded successfully.\n"
     ]
    },
    {
     "name": "stdout",
     "output_type": "stream",
     "text": [
      "Handling vireo_gilvus/XC582237.ogg\n"
     ]
    },
    {
     "name": "stderr",
     "output_type": "stream",
     "text": [
      "  6%|▌         | 1295/21650 [05:27<1:30:47,  3.74it/s]WARNING:absl:Audio loaded successfully.\n",
      "WARNING:absl:Audio loaded successfully.\n"
     ]
    },
    {
     "name": "stdout",
     "output_type": "stream",
     "text": [
      "Handling empidonax_oberholseri/XC561890.ogg\n",
      "Handling vireo_gilvus/XC142119.ogg\n"
     ]
    },
    {
     "name": "stderr",
     "output_type": "stream",
     "text": [
      "  6%|▌         | 1297/21650 [05:27<1:27:17,  3.89it/s]WARNING:absl:Audio loaded successfully.\n",
      "WARNING:absl:The audio at (/Volumes/BigChongusF/Datasets/Huggingface/gadme_v1/data/downloads/extracted/c654a2fa7284c6b9ad2b65fb7d03c399719d51032c53323567e62583eb09dd11/data/xeno-canto/north_america/setophaga_coronata/XC590065.ogg / 0) could not be loaded (audio_too_short). The exception was (no_exception)\n",
      "WARNING:absl:Audio loaded successfully.\n"
     ]
    },
    {
     "name": "stdout",
     "output_type": "stream",
     "text": [
      "Handling poecile_gambeli/XC622764.ogg\n"
     ]
    },
    {
     "name": "stderr",
     "output_type": "stream",
     "text": [
      "  6%|▌         | 1299/21650 [05:28<1:10:26,  4.82it/s]WARNING:absl:Audio loaded successfully.\n",
      "WARNING:absl:The audio at (/Volumes/BigChongusF/Datasets/Huggingface/gadme_v1/data/downloads/extracted/3944287c00a98d3d9edcb7467992ad5fbf2cebeec4c9e389027ef676be012aef/data/xeno-canto/north_america/poecile_gambeli/XC292277.ogg / 1) could not be loaded (audio_too_short). The exception was (no_exception)\n",
      "WARNING:absl:Audio loaded successfully.\n",
      "WARNING:absl:The audio at (/Volumes/BigChongusF/Datasets/Huggingface/gadme_v1/data/downloads/extracted/2787f00abeaf0eed0548a1da772af8f8e1d065bd692ccac7a5a3940d0e41d546/data/xeno-canto/north_america/turdus_migratorius/XC322931.ogg / 25) could not be loaded (audio_too_short). The exception was (no_exception)\n",
      "WARNING:absl:Audio loaded successfully.\n"
     ]
    },
    {
     "name": "stdout",
     "output_type": "stream",
     "text": [
      "Handling junco_hyemalis/XC159984.ogg\n"
     ]
    },
    {
     "name": "stderr",
     "output_type": "stream",
     "text": [
      "  6%|▌         | 1302/21650 [05:28<1:15:17,  4.50it/s]WARNING:absl:Audio loaded successfully.\n",
      "  6%|▌         | 1303/21650 [05:29<1:13:12,  4.63it/s]WARNING:absl:Audio loaded successfully.\n"
     ]
    },
    {
     "name": "stdout",
     "output_type": "stream",
     "text": [
      "Handling vireo_gilvus/XC615198.ogg\n",
      "Handling anas_platyrhynchos/XC786133.ogg\n"
     ]
    },
    {
     "name": "stderr",
     "output_type": "stream",
     "text": [
      "WARNING:absl:Audio loaded successfully.\n"
     ]
    },
    {
     "name": "stdout",
     "output_type": "stream",
     "text": [
      "Handling anas_platyrhynchos/XC464872.ogg\n"
     ]
    },
    {
     "name": "stderr",
     "output_type": "stream",
     "text": [
      "  6%|▌         | 1305/21650 [05:29<1:04:21,  5.27it/s]WARNING:absl:Audio loaded successfully.\n",
      "WARNING:absl:The audio at (/Volumes/BigChongusF/Datasets/Huggingface/gadme_v1/data/downloads/extracted/33e4b5dac1f3e336b57bc91d4b4ff764b4ae70d484a82c7bdbeb5ac37d235324/data/xeno-canto/europe/anas_platyrhynchos/XC688512.ogg / 18) could not be loaded (audio_too_short). The exception was (no_exception)\n",
      "WARNING:absl:Audio loaded successfully.\n"
     ]
    },
    {
     "name": "stdout",
     "output_type": "stream",
     "text": [
      "Handling anas_platyrhynchos/XC779861.ogg\n"
     ]
    },
    {
     "name": "stderr",
     "output_type": "stream",
     "text": [
      "  6%|▌         | 1307/21650 [05:29<58:26,  5.80it/s]  WARNING:absl:Audio loaded successfully.\n",
      "WARNING:absl:Audio loaded successfully.\n",
      "WARNING:absl:The audio at (/Volumes/BigChongusF/Datasets/Huggingface/gadme_v1/data/downloads/extracted/81e1b796790f26dbc25ae8fbe4e7b2707eea32146a66d4954952be1661457843/data/xeno-canto/north_america/leiothlypis_celata/XC484158.ogg / 27) could not be loaded (audio_too_short). The exception was (no_exception)\n",
      "WARNING:absl:Audio loaded successfully.\n",
      "WARNING:absl:The audio at (/Volumes/BigChongusF/Datasets/Huggingface/gadme_v1/data/downloads/extracted/c05b01b23568feda718271d2aa149124fd50d510bd99663cbd8752481054e53b/data/xeno-canto/north_america/actitis_macularius/XC139725.ogg / 1) could not be loaded (audio_too_short). The exception was (no_exception)\n"
     ]
    },
    {
     "name": "stdout",
     "output_type": "stream",
     "text": [
      "Handling catharus_guttatus/XC351970.ogg\n",
      "Handling anas_platyrhynchos/XC773994.ogg\n"
     ]
    },
    {
     "name": "stderr",
     "output_type": "stream",
     "text": [
      "WARNING:absl:Audio loaded successfully.\n",
      "  6%|▌         | 1311/21650 [05:30<1:07:56,  4.99it/s]WARNING:absl:Audio loaded successfully.\n"
     ]
    },
    {
     "name": "stdout",
     "output_type": "stream",
     "text": [
      "Handling passerella_iliaca/XC70110.ogg\n"
     ]
    },
    {
     "name": "stderr",
     "output_type": "stream",
     "text": [
      "  6%|▌         | 1312/21650 [05:31<1:29:58,  3.77it/s]WARNING:absl:Audio loaded successfully.\n"
     ]
    },
    {
     "name": "stdout",
     "output_type": "stream",
     "text": [
      "Handling empidonax_oberholseri/XC195888.ogg\n"
     ]
    },
    {
     "name": "stderr",
     "output_type": "stream",
     "text": [
      "  6%|▌         | 1313/21650 [05:31<1:49:03,  3.11it/s]WARNING:absl:Audio loaded successfully.\n",
      "WARNING:absl:Audio loaded successfully.\n"
     ]
    },
    {
     "name": "stdout",
     "output_type": "stream",
     "text": [
      "Handling salpinctes_obsoletus/XC585926.ogg\n",
      "Handling euphagus_cyanocephalus/XC312529.ogg\n"
     ]
    },
    {
     "name": "stderr",
     "output_type": "stream",
     "text": [
      "  6%|▌         | 1315/21650 [05:32<1:40:36,  3.37it/s]WARNING:absl:Audio loaded successfully.\n",
      "WARNING:absl:Audio loaded successfully.\n",
      "WARNING:absl:Audio loaded successfully.\n",
      "WARNING:absl:The audio at (/Volumes/BigChongusF/Datasets/Huggingface/gadme_v1/data/downloads/extracted/3944287c00a98d3d9edcb7467992ad5fbf2cebeec4c9e389027ef676be012aef/data/xeno-canto/north_america/poecile_gambeli/XC153882.ogg / 1) could not be loaded (audio_too_short). The exception was (no_exception)\n",
      "WARNING:absl:Audio loaded successfully.\n",
      "  6%|▌         | 1319/21650 [05:32<59:40,  5.68it/s]  WARNING:absl:Audio loaded successfully.\n"
     ]
    },
    {
     "name": "stdout",
     "output_type": "stream",
     "text": [
      "Handling nucifraga_columbiana/XC597745.ogg\n",
      "Handling vireo_gilvus/XC368288.ogg\n",
      "Handling anas_platyrhynchos/XC597129.ogg\n",
      "Handling junco_hyemalis/XC720921.ogg\n"
     ]
    },
    {
     "name": "stderr",
     "output_type": "stream",
     "text": [
      "WARNING:absl:The audio at (/Volumes/BigChongusF/Datasets/Huggingface/gadme_v1/data/downloads/extracted/fac58f85f06876ff8f6cab02102aac36e733cd077a257f05b209b05f983d3ecc/data/xeno-canto/north_america/vireo_gilvus/XC550438.ogg / 1) could not be loaded (audio_too_short). The exception was (no_exception)\n",
      "WARNING:absl:Audio loaded successfully.\n",
      "WARNING:absl:The audio at (/Volumes/BigChongusF/Datasets/Huggingface/gadme_v1/data/downloads/extracted/4ab7290c70f503dcf8a7a57aec1f76e52b2b64a87cdc69bddff95b3855268e15/data/xeno-canto/north_america/turdus_migratorius/XC164441.ogg / 57) could not be loaded (audio_too_short). The exception was (no_exception)\n",
      "WARNING:absl:Audio loaded successfully.\n",
      "  6%|▌         | 1322/21650 [05:32<45:48,  7.40it/s]WARNING:absl:Audio loaded successfully.\n",
      "WARNING:absl:Audio loaded successfully.\n"
     ]
    },
    {
     "name": "stdout",
     "output_type": "stream",
     "text": [
      "Handling leiothlypis_celata/XC808323.ogg\n",
      "Handling anas_platyrhynchos/XC466043.ogg\n"
     ]
    },
    {
     "name": "stderr",
     "output_type": "stream",
     "text": [
      "  6%|▌         | 1324/21650 [05:32<44:20,  7.64it/s]WARNING:absl:Audio loaded successfully.\n"
     ]
    },
    {
     "name": "stdout",
     "output_type": "stream",
     "text": [
      "Handling catharus_guttatus/XC277922.ogg\n"
     ]
    },
    {
     "name": "stderr",
     "output_type": "stream",
     "text": [
      "WARNING:absl:Audio loaded successfully.\n"
     ]
    },
    {
     "name": "stdout",
     "output_type": "stream",
     "text": [
      "Handling leiothlypis_celata/XC412846.ogg\n"
     ]
    },
    {
     "name": "stderr",
     "output_type": "stream",
     "text": [
      "  6%|▌         | 1326/21650 [05:33<1:14:54,  4.52it/s]WARNING:absl:Audio loaded successfully.\n",
      "WARNING:absl:The audio at (/Volumes/BigChongusF/Datasets/Huggingface/gadme_v1/data/downloads/extracted/3c91bd3b848ef81521ad069a8fa6ac2fcacb937635fd0a9971a11200269ae1f7/data/xeno-canto/europe/anas_platyrhynchos/XC705891.ogg / 3) could not be loaded (audio_too_short). The exception was (no_exception)\n",
      "WARNING:absl:Audio loaded successfully.\n"
     ]
    },
    {
     "name": "stdout",
     "output_type": "stream",
     "text": [
      "Handling turdus_migratorius/XC351879.ogg\n"
     ]
    },
    {
     "name": "stderr",
     "output_type": "stream",
     "text": [
      "  6%|▌         | 1328/21650 [05:34<1:09:37,  4.86it/s]WARNING:absl:Audio loaded successfully.\n",
      "  6%|▌         | 1329/21650 [05:34<1:07:10,  5.04it/s]WARNING:absl:Audio loaded successfully.\n"
     ]
    },
    {
     "name": "stdout",
     "output_type": "stream",
     "text": [
      "Handling nucifraga_columbiana/XC145721.ogg\n",
      "Handling passerella_iliaca/XC407934.ogg\n"
     ]
    },
    {
     "name": "stderr",
     "output_type": "stream",
     "text": [
      "  6%|▌         | 1330/21650 [05:34<1:10:14,  4.82it/s]WARNING:absl:Audio loaded successfully.\n",
      "WARNING:absl:The audio at (/Volumes/BigChongusF/Datasets/Huggingface/gadme_v1/data/downloads/extracted/81e1b796790f26dbc25ae8fbe4e7b2707eea32146a66d4954952be1661457843/data/xeno-canto/north_america/leiothlypis_celata/XC225348.ogg / 2) could not be loaded (audio_too_short). The exception was (no_exception)\n",
      "WARNING:absl:Audio loaded successfully.\n",
      "WARNING:absl:Audio loaded successfully.\n"
     ]
    },
    {
     "name": "stdout",
     "output_type": "stream",
     "text": [
      "Handling poecile_gambeli/XC195618.ogg\n",
      "Handling anas_platyrhynchos/XC720573.ogg\n"
     ]
    },
    {
     "name": "stderr",
     "output_type": "stream",
     "text": [
      "  6%|▌         | 1333/21650 [05:34<50:08,  6.75it/s]  WARNING:absl:Audio loaded successfully.\n",
      "  6%|▌         | 1334/21650 [05:34<49:02,  6.90it/s]WARNING:absl:Audio loaded successfully.\n"
     ]
    },
    {
     "name": "stdout",
     "output_type": "stream",
     "text": [
      "Handling junco_hyemalis/XC218787.ogg\n",
      "Handling nucifraga_columbiana/XC105327.ogg\n"
     ]
    },
    {
     "name": "stderr",
     "output_type": "stream",
     "text": [
      "  6%|▌         | 1335/21650 [05:35<55:15,  6.13it/s]WARNING:absl:Audio loaded successfully.\n",
      "WARNING:absl:Audio loaded successfully.\n",
      "WARNING:absl:Audio loaded successfully.\n"
     ]
    },
    {
     "name": "stdout",
     "output_type": "stream",
     "text": [
      "Handling leiothlypis_celata/XC756346.ogg\n",
      "Handling anas_platyrhynchos/XC408845.ogg\n",
      "Handling zonotrichia_leucophrys/XC237740.ogg\n"
     ]
    },
    {
     "name": "stderr",
     "output_type": "stream",
     "text": [
      "  6%|▌         | 1338/21650 [05:35<47:25,  7.14it/s]"
     ]
    },
    {
     "name": "stdout",
     "output_type": "stream",
     "text": [
      "Handling turdus_migratorius/XC351877.ogg\n"
     ]
    },
    {
     "name": "stderr",
     "output_type": "stream",
     "text": [
      "WARNING:absl:Audio loaded successfully.\n",
      "  6%|▌         | 1339/21650 [05:41<7:10:42,  1.27s/it]WARNING:absl:Audio loaded successfully.\n",
      "WARNING:absl:Audio loaded successfully.\n"
     ]
    },
    {
     "name": "stdout",
     "output_type": "stream",
     "text": [
      "Handling catharus_guttatus/XC700531.ogg\n",
      "Handling anas_platyrhynchos/XC495826.ogg\n"
     ]
    },
    {
     "name": "stderr",
     "output_type": "stream",
     "text": [
      "  6%|▌         | 1341/21650 [05:42<5:11:23,  1.09it/s]WARNING:absl:Audio loaded successfully.\n",
      "WARNING:absl:Audio loaded successfully.\n",
      "  6%|▌         | 1343/21650 [05:42<3:36:39,  1.56it/s]WARNING:absl:Audio loaded successfully.\n",
      "WARNING:absl:The audio at (/Volumes/BigChongusF/Datasets/Huggingface/gadme_v1/data/downloads/extracted/3944287c00a98d3d9edcb7467992ad5fbf2cebeec4c9e389027ef676be012aef/data/xeno-canto/north_america/salpinctes_obsoletus/XC620784.ogg / 23) could not be loaded (audio_too_short). The exception was (no_exception)\n",
      "WARNING:absl:Audio loaded successfully.\n"
     ]
    },
    {
     "name": "stdout",
     "output_type": "stream",
     "text": [
      "Handling junco_hyemalis/XC571058.ogg\n",
      "Handling nucifraga_columbiana/XC612666.ogg\n",
      "Handling zonotrichia_leucophrys/XC349732.ogg\n"
     ]
    },
    {
     "name": "stderr",
     "output_type": "stream",
     "text": [
      "  6%|▌         | 1345/21650 [05:42<2:36:23,  2.16it/s]WARNING:absl:Audio loaded successfully.\n"
     ]
    },
    {
     "name": "stdout",
     "output_type": "stream",
     "text": [
      "Handling haemorhous_cassinii/XC564616.ogg\n"
     ]
    },
    {
     "name": "stderr",
     "output_type": "stream",
     "text": [
      "  6%|▌         | 1346/21650 [05:42<2:20:12,  2.41it/s]WARNING:absl:Audio loaded successfully.\n",
      "  6%|▌         | 1347/21650 [05:43<1:59:37,  2.83it/s]WARNING:absl:Audio loaded successfully.\n"
     ]
    },
    {
     "name": "stdout",
     "output_type": "stream",
     "text": [
      "Handling passerella_iliaca/XC408354.ogg\n",
      "Handling junco_hyemalis/XC20829.ogg\n"
     ]
    },
    {
     "name": "stderr",
     "output_type": "stream",
     "text": [
      "  6%|▌         | 1348/21650 [05:43<1:42:47,  3.29it/s]WARNING:absl:Audio loaded successfully.\n",
      "  6%|▌         | 1349/21650 [05:43<1:28:14,  3.83it/s]WARNING:absl:Audio loaded successfully.\n"
     ]
    },
    {
     "name": "stdout",
     "output_type": "stream",
     "text": [
      "Handling turdus_migratorius/XC338199.ogg\n",
      "Handling vireo_gilvus/XC733271.ogg\n"
     ]
    },
    {
     "name": "stderr",
     "output_type": "stream",
     "text": [
      "  6%|▌         | 1350/21650 [05:43<1:16:09,  4.44it/s]WARNING:absl:Audio loaded successfully.\n"
     ]
    },
    {
     "name": "stdout",
     "output_type": "stream",
     "text": [
      "Handling setophaga_coronata/XC59122.ogg\n"
     ]
    },
    {
     "name": "stderr",
     "output_type": "stream",
     "text": [
      "  6%|▌         | 1351/21650 [05:44<2:01:17,  2.79it/s]WARNING:absl:Audio loaded successfully.\n",
      "  6%|▌         | 1352/21650 [05:44<1:39:42,  3.39it/s]WARNING:absl:Audio loaded successfully.\n",
      "WARNING:absl:The audio at (/Volumes/BigChongusF/Datasets/Huggingface/gadme_v1/data/downloads/extracted/7999bb6a56b81320289f187fda8208243d41e6e50dd9ca49b75ab67670f0f4cd/data/xeno-canto/north_america/junco_hyemalis/XC183582.ogg / 27) could not be loaded (audio_too_short). The exception was (no_exception)\n",
      "WARNING:absl:Audio loaded successfully.\n"
     ]
    },
    {
     "name": "stdout",
     "output_type": "stream",
     "text": [
      "Handling vireo_gilvus/XC321777.ogg\n",
      "Handling passerella_iliaca/XC513674.ogg\n"
     ]
    },
    {
     "name": "stderr",
     "output_type": "stream",
     "text": [
      "  6%|▋         | 1354/21650 [05:44<1:09:42,  4.85it/s]WARNING:absl:Audio loaded successfully.\n",
      "  6%|▋         | 1355/21650 [05:44<1:06:11,  5.11it/s]"
     ]
    },
    {
     "name": "stdout",
     "output_type": "stream",
     "text": [
      "Handling haemorhous_cassinii/XC551502.ogg\n",
      "Handling junco_hyemalis/XC72001.ogg\n"
     ]
    },
    {
     "name": "stderr",
     "output_type": "stream",
     "text": [
      "WARNING:absl:Audio loaded successfully.\n",
      "  6%|▋         | 1356/21650 [05:44<1:06:35,  5.08it/s]WARNING:absl:Audio loaded successfully.\n",
      "WARNING:absl:The audio at (/Volumes/BigChongusF/Datasets/Huggingface/gadme_v1/data/downloads/extracted/3d85f3c0a899f9d3cbe3db58b54d5391856ba30e3a4e013b856bbac6ef8521eb/data/xeno-canto/north_america/leiothlypis_celata/XC325270.ogg / 1) could not be loaded (audio_too_short). The exception was (no_exception)\n",
      "WARNING:absl:Audio loaded successfully.\n",
      "WARNING:absl:Audio loaded successfully.\n"
     ]
    },
    {
     "name": "stdout",
     "output_type": "stream",
     "text": [
      "Handling passerella_iliaca/XC787586.ogg\n",
      "Handling passerella_iliaca/XC307663.ogg\n"
     ]
    },
    {
     "name": "stderr",
     "output_type": "stream",
     "text": [
      "  6%|▋         | 1359/21650 [05:45<53:08,  6.36it/s]  WARNING:absl:Audio loaded successfully.\n"
     ]
    },
    {
     "name": "stdout",
     "output_type": "stream",
     "text": [
      "Handling catharus_guttatus/XC52448.ogg\n"
     ]
    },
    {
     "name": "stderr",
     "output_type": "stream",
     "text": [
      "  6%|▋         | 1360/21650 [05:45<58:20,  5.80it/s]WARNING:absl:Audio loaded successfully.\n",
      "WARNING:absl:The audio at (/Volumes/BigChongusF/Datasets/Huggingface/gadme_v1/data/downloads/extracted/17216070f80a410ede3b3b9d5be7d7b46383bb2a629699cc6296c19d2a1c3e34/data/xeno-canto/north_america/turdus_migratorius/XC160283.ogg / 0) could not be loaded (audio_too_short). The exception was (no_exception)\n",
      "WARNING:absl:Audio loaded successfully.\n"
     ]
    },
    {
     "name": "stdout",
     "output_type": "stream",
     "text": [
      "Handling salpinctes_obsoletus/XC139877.ogg\n"
     ]
    },
    {
     "name": "stderr",
     "output_type": "stream",
     "text": [
      "  6%|▋         | 1362/21650 [05:45<56:57,  5.94it/s]WARNING:absl:Audio loaded successfully.\n",
      "  6%|▋         | 1363/21650 [05:45<54:46,  6.17it/s]WARNING:absl:Audio loaded successfully.\n"
     ]
    },
    {
     "name": "stdout",
     "output_type": "stream",
     "text": [
      "Handling zonotrichia_leucophrys/XC102953.ogg\n",
      "Handling poecile_gambeli/XC292277.ogg\n"
     ]
    },
    {
     "name": "stderr",
     "output_type": "stream",
     "text": [
      "  6%|▋         | 1364/21650 [05:46<1:01:05,  5.53it/s]WARNING:absl:Audio loaded successfully.\n",
      "WARNING:absl:The audio at (/Volumes/BigChongusF/Datasets/Huggingface/gadme_v1/data/downloads/extracted/ec613fac723ec2b148b37e696a540c4078e291087c8525c0be0e654266f29161/data/xeno-canto/north_america/colaptes_auratus/XC354614.ogg / 3) could not be loaded (audio_too_short). The exception was (no_exception)\n",
      "WARNING:absl:Audio loaded successfully.\n",
      "WARNING:absl:The audio at (/Volumes/BigChongusF/Datasets/Huggingface/gadme_v1/data/downloads/extracted/e68da0013aa2de07a892cea4436ef4f05bf18dc840e506a49e4934fad311632a/data/xeno-canto/north_america/zonotrichia_leucophrys/XC420274.ogg / 36) could not be loaded (audio_too_short). The exception was (no_exception)\n",
      "WARNING:absl:Audio loaded successfully.\n"
     ]
    },
    {
     "name": "stdout",
     "output_type": "stream",
     "text": [
      "Handling junco_hyemalis/XC146594.ogg\n"
     ]
    },
    {
     "name": "stderr",
     "output_type": "stream",
     "text": [
      "  6%|▋         | 1367/21650 [05:46<1:00:37,  5.58it/s]WARNING:absl:Audio loaded successfully.\n"
     ]
    },
    {
     "name": "stdout",
     "output_type": "stream",
     "text": [
      "Handling vireo_gilvus/XC182016.ogg\n"
     ]
    },
    {
     "name": "stderr",
     "output_type": "stream",
     "text": [
      "  6%|▋         | 1368/21650 [05:46<1:03:06,  5.36it/s]WARNING:absl:Audio loaded successfully.\n",
      "  6%|▋         | 1369/21650 [05:46<58:18,  5.80it/s]  WARNING:absl:Audio loaded successfully.\n"
     ]
    },
    {
     "name": "stdout",
     "output_type": "stream",
     "text": [
      "Handling turdus_migratorius/XC728269.ogg\n",
      "Handling leiothlypis_celata/XC561363.ogg\n"
     ]
    },
    {
     "name": "stderr",
     "output_type": "stream",
     "text": [
      "  6%|▋         | 1370/21650 [05:47<1:03:41,  5.31it/s]WARNING:absl:Audio loaded successfully.\n"
     ]
    },
    {
     "name": "stdout",
     "output_type": "stream",
     "text": [
      "Handling passerella_iliaca/XC381921.ogg\n"
     ]
    },
    {
     "name": "stderr",
     "output_type": "stream",
     "text": [
      "  6%|▋         | 1371/21650 [05:47<1:07:29,  5.01it/s]WARNING:absl:Audio loaded successfully.\n"
     ]
    },
    {
     "name": "stdout",
     "output_type": "stream",
     "text": [
      "Handling catharus_guttatus/XC149585.ogg\n"
     ]
    },
    {
     "name": "stderr",
     "output_type": "stream",
     "text": [
      "  6%|▋         | 1372/21650 [05:47<1:24:36,  3.99it/s]WARNING:absl:Audio loaded successfully.\n",
      "  6%|▋         | 1373/21650 [05:48<1:15:59,  4.45it/s]"
     ]
    },
    {
     "name": "stdout",
     "output_type": "stream",
     "text": [
      "Handling salpinctes_obsoletus/XC233378.ogg\n",
      "Handling zonotrichia_leucophrys/XC156487.ogg\n"
     ]
    },
    {
     "name": "stderr",
     "output_type": "stream",
     "text": [
      "WARNING:absl:Audio loaded successfully.\n",
      "  6%|▋         | 1374/21650 [05:48<1:49:00,  3.10it/s]WARNING:absl:Audio loaded successfully.\n",
      "WARNING:absl:The audio at (/Volumes/BigChongusF/Datasets/Huggingface/gadme_v1/data/downloads/extracted/3c91bd3b848ef81521ad069a8fa6ac2fcacb937635fd0a9971a11200269ae1f7/data/xeno-canto/europe/anas_platyrhynchos/XC501151.ogg / 0) could not be loaded (audio_too_short). The exception was (no_exception)\n",
      "WARNING:absl:Audio loaded successfully.\n",
      "WARNING:absl:Audio loaded successfully.\n"
     ]
    },
    {
     "name": "stdout",
     "output_type": "stream",
     "text": [
      "Handling catharus_guttatus/XC558329.ogg\n",
      "Handling setophaga_coronata/XC165035.ogg\n"
     ]
    },
    {
     "name": "stderr",
     "output_type": "stream",
     "text": [
      "  6%|▋         | 1377/21650 [05:48<1:06:27,  5.08it/s]WARNING:absl:Audio loaded successfully.\n"
     ]
    },
    {
     "name": "stdout",
     "output_type": "stream",
     "text": [
      "Handling turdus_migratorius/XC543354.ogg\n"
     ]
    },
    {
     "name": "stderr",
     "output_type": "stream",
     "text": [
      "  6%|▋         | 1378/21650 [05:49<1:35:10,  3.55it/s]WARNING:absl:Audio loaded successfully.\n",
      "WARNING:absl:Audio loaded successfully.\n"
     ]
    },
    {
     "name": "stdout",
     "output_type": "stream",
     "text": [
      "Handling passerella_iliaca/XC267729.ogg\n",
      "Handling vireo_gilvus/XC323238.ogg\n"
     ]
    },
    {
     "name": "stderr",
     "output_type": "stream",
     "text": [
      "  6%|▋         | 1380/21650 [05:50<1:44:39,  3.23it/s]WARNING:absl:Audio loaded successfully.\n"
     ]
    },
    {
     "name": "stdout",
     "output_type": "stream",
     "text": [
      "Handling anas_platyrhynchos/XC557295.ogg\n"
     ]
    },
    {
     "name": "stderr",
     "output_type": "stream",
     "text": [
      "  6%|▋         | 1381/21650 [05:50<1:48:23,  3.12it/s]WARNING:absl:Audio loaded successfully.\n"
     ]
    },
    {
     "name": "stdout",
     "output_type": "stream",
     "text": [
      "Handling catharus_guttatus/XC605597.ogg\n"
     ]
    },
    {
     "name": "stderr",
     "output_type": "stream",
     "text": [
      "  6%|▋         | 1382/21650 [05:50<1:46:27,  3.17it/s]WARNING:absl:Audio loaded successfully.\n"
     ]
    },
    {
     "name": "stdout",
     "output_type": "stream",
     "text": [
      "Handling junco_hyemalis/XC362230.ogg\n"
     ]
    },
    {
     "name": "stderr",
     "output_type": "stream",
     "text": [
      "  6%|▋         | 1383/21650 [05:51<1:44:38,  3.23it/s]WARNING:absl:Audio loaded successfully.\n",
      "WARNING:absl:The audio at (/Volumes/BigChongusF/Datasets/Huggingface/gadme_v1/data/downloads/extracted/c654a2fa7284c6b9ad2b65fb7d03c399719d51032c53323567e62583eb09dd11/data/xeno-canto/north_america/catharus_guttatus/XC630705.ogg / 0) could not be loaded (audio_too_short). The exception was (no_exception)\n",
      "WARNING:absl:Audio loaded successfully.\n",
      "WARNING:absl:The audio at (/Volumes/BigChongusF/Datasets/Huggingface/gadme_v1/data/downloads/extracted/98abf88c43673ba8815287f519e7fd3afff386504e64afb04778689c24fd08c9/data/xeno-canto/north_america/vireo_gilvus/XC159456.ogg / 0) could not be loaded (audio_too_short). The exception was (no_exception)\n",
      "WARNING:absl:Audio loaded successfully.\n",
      "WARNING:absl:The audio at (/Volumes/BigChongusF/Datasets/Huggingface/gadme_v1/data/downloads/extracted/3c91bd3b848ef81521ad069a8fa6ac2fcacb937635fd0a9971a11200269ae1f7/data/xeno-canto/north_america/anas_platyrhynchos/XC329537.ogg / 0) could not be loaded (audio_too_short). The exception was (no_exception)\n",
      "WARNING:absl:Audio loaded successfully.\n",
      "WARNING:absl:Audio loaded successfully.\n"
     ]
    },
    {
     "name": "stdout",
     "output_type": "stream",
     "text": [
      "Handling setophaga_coronata/XC13585.ogg\n",
      "Handling anas_platyrhynchos/XC698288.ogg\n"
     ]
    },
    {
     "name": "stderr",
     "output_type": "stream",
     "text": [
      "  6%|▋         | 1388/21650 [05:51<50:23,  6.70it/s]  WARNING:absl:Audio loaded successfully.\n"
     ]
    },
    {
     "name": "stdout",
     "output_type": "stream",
     "text": [
      "Handling poecile_gambeli/XC71787.ogg\n"
     ]
    },
    {
     "name": "stderr",
     "output_type": "stream",
     "text": [
      "  6%|▋         | 1389/21650 [05:51<54:33,  6.19it/s]WARNING:absl:Audio loaded successfully.\n",
      "  6%|▋         | 1390/21650 [05:51<54:47,  6.16it/s]WARNING:absl:Audio loaded successfully.\n",
      "WARNING:absl:The audio at (/Volumes/BigChongusF/Datasets/Huggingface/gadme_v1/data/downloads/extracted/657bb7ca7e00d187968c3a3fed754f2f43eea8c80f8b9290f46e2ef76a629ca6/data/xeno-canto/north_america/zonotrichia_leucophrys/XC661934.ogg / 1) could not be loaded (audio_too_short). The exception was (no_exception)\n"
     ]
    },
    {
     "name": "stdout",
     "output_type": "stream",
     "text": [
      "Handling zonotrichia_leucophrys/XC201525.ogg\n",
      "Handling turdus_migratorius/XC138712.ogg\n"
     ]
    },
    {
     "name": "stderr",
     "output_type": "stream",
     "text": [
      "WARNING:absl:Audio loaded successfully.\n",
      "  6%|▋         | 1392/21650 [05:52<1:01:40,  5.47it/s]WARNING:absl:Audio loaded successfully.\n"
     ]
    },
    {
     "name": "stdout",
     "output_type": "stream",
     "text": [
      "Handling junco_hyemalis/XC192496.ogg\n"
     ]
    },
    {
     "name": "stderr",
     "output_type": "stream",
     "text": [
      "  6%|▋         | 1393/21650 [05:52<1:04:06,  5.27it/s]WARNING:absl:Audio loaded successfully.\n",
      "  6%|▋         | 1394/21650 [05:52<1:01:51,  5.46it/s]WARNING:absl:Audio loaded successfully.\n"
     ]
    },
    {
     "name": "stdout",
     "output_type": "stream",
     "text": [
      "Handling zonotrichia_leucophrys/XC373772.ogg\n",
      "Handling junco_hyemalis/XC663743.ogg\n"
     ]
    },
    {
     "name": "stderr",
     "output_type": "stream",
     "text": [
      "WARNING:absl:Audio loaded successfully.\n",
      "  6%|▋         | 1396/21650 [05:52<47:17,  7.14it/s]  WARNING:absl:Audio loaded successfully.\n"
     ]
    },
    {
     "name": "stdout",
     "output_type": "stream",
     "text": [
      "Handling catharus_guttatus/XC95321.ogg\n",
      "Handling setophaga_petechia/XC572468.ogg\n"
     ]
    },
    {
     "name": "stderr",
     "output_type": "stream",
     "text": [
      "  6%|▋         | 1397/21650 [05:52<46:09,  7.31it/s]WARNING:absl:Audio loaded successfully.\n"
     ]
    },
    {
     "name": "stdout",
     "output_type": "stream",
     "text": [
      "Handling turdus_migratorius/XC187308.ogg\n"
     ]
    },
    {
     "name": "stderr",
     "output_type": "stream",
     "text": [
      "  6%|▋         | 1398/21650 [05:53<1:08:46,  4.91it/s]WARNING:absl:Audio loaded successfully.\n",
      "  6%|▋         | 1399/21650 [05:53<1:01:55,  5.45it/s]"
     ]
    },
    {
     "name": "stdout",
     "output_type": "stream",
     "text": [
      "Handling turdus_migratorius/XC711105.ogg\n",
      "Handling junco_hyemalis/XC159661.ogg\n"
     ]
    },
    {
     "name": "stderr",
     "output_type": "stream",
     "text": [
      "WARNING:absl:Audio loaded successfully.\n",
      "  6%|▋         | 1400/21650 [05:54<1:36:42,  3.49it/s]WARNING:absl:Audio loaded successfully.\n",
      "WARNING:absl:The audio at (/Volumes/BigChongusF/Datasets/Huggingface/gadme_v1/data/downloads/extracted/c05b01b23568feda718271d2aa149124fd50d510bd99663cbd8752481054e53b/data/xeno-canto/north_america/actitis_macularius/XC101578.ogg / 2) could not be loaded (audio_too_short). The exception was (no_exception)\n",
      "WARNING:absl:Audio loaded successfully.\n"
     ]
    },
    {
     "name": "stdout",
     "output_type": "stream",
     "text": [
      "Handling vireo_gilvus/XC575834.ogg\n"
     ]
    },
    {
     "name": "stderr",
     "output_type": "stream",
     "text": [
      "  6%|▋         | 1402/21650 [05:54<1:25:10,  3.96it/s]WARNING:absl:Audio loaded successfully.\n",
      "WARNING:absl:Audio loaded successfully.\n"
     ]
    },
    {
     "name": "stdout",
     "output_type": "stream",
     "text": [
      "Handling colaptes_auratus/XC780172.ogg\n",
      "Handling colaptes_auratus/XC503106.ogg\n"
     ]
    },
    {
     "name": "stderr",
     "output_type": "stream",
     "text": [
      "  6%|▋         | 1404/21650 [05:54<1:18:09,  4.32it/s]WARNING:absl:Audio loaded successfully.\n"
     ]
    },
    {
     "name": "stdout",
     "output_type": "stream",
     "text": [
      "Handling setophaga_coronata/XC644175.ogg\n"
     ]
    },
    {
     "name": "stderr",
     "output_type": "stream",
     "text": [
      "  6%|▋         | 1405/21650 [05:55<2:17:34,  2.45it/s]WARNING:absl:Audio loaded successfully.\n"
     ]
    },
    {
     "name": "stdout",
     "output_type": "stream",
     "text": [
      "Handling passerella_iliaca/XC89170.ogg\n"
     ]
    },
    {
     "name": "stderr",
     "output_type": "stream",
     "text": [
      "  6%|▋         | 1406/21650 [05:56<2:20:04,  2.41it/s]WARNING:absl:Audio loaded successfully.\n",
      "WARNING:absl:The audio at (/Volumes/BigChongusF/Datasets/Huggingface/gadme_v1/data/downloads/extracted/33e4b5dac1f3e336b57bc91d4b4ff764b4ae70d484a82c7bdbeb5ac37d235324/data/xeno-canto/europe/anas_platyrhynchos/XC678423.ogg / 23) could not be loaded (audio_too_short). The exception was (no_exception)\n",
      "WARNING:absl:Audio loaded successfully.\n",
      "WARNING:absl:The audio at (/Volumes/BigChongusF/Datasets/Huggingface/gadme_v1/data/downloads/extracted/c05b01b23568feda718271d2aa149124fd50d510bd99663cbd8752481054e53b/data/xeno-canto/south_america/anas_platyrhynchos/XC23524.ogg / 2) could not be loaded (audio_too_short). The exception was (no_exception)\n",
      "WARNING:absl:Audio loaded successfully.\n"
     ]
    },
    {
     "name": "stdout",
     "output_type": "stream",
     "text": [
      "Handling vireo_gilvus/XC137086.ogg\n"
     ]
    },
    {
     "name": "stderr",
     "output_type": "stream",
     "text": [
      "  7%|▋         | 1409/21650 [05:56<1:24:16,  4.00it/s]WARNING:absl:Audio loaded successfully.\n"
     ]
    },
    {
     "name": "stdout",
     "output_type": "stream",
     "text": [
      "Handling turdus_migratorius/XC456750.ogg\n"
     ]
    },
    {
     "name": "stderr",
     "output_type": "stream",
     "text": [
      "  7%|▋         | 1410/21650 [05:56<1:23:35,  4.04it/s]WARNING:absl:Audio loaded successfully.\n",
      "WARNING:absl:Audio loaded successfully.\n",
      "WARNING:absl:Audio loaded successfully.\n"
     ]
    },
    {
     "name": "stdout",
     "output_type": "stream",
     "text": [
      "Handling poecile_gambeli/XC350701.ogg\n",
      "Handling anthus_rubescens/XC524252.ogg\n",
      "Handling anas_platyrhynchos/XC134139.ogg\n"
     ]
    },
    {
     "name": "stderr",
     "output_type": "stream",
     "text": [
      "  7%|▋         | 1413/21650 [05:57<1:06:42,  5.06it/s]WARNING:absl:Audio loaded successfully.\n",
      "WARNING:absl:The audio at (/Volumes/BigChongusF/Datasets/Huggingface/gadme_v1/data/downloads/extracted/3d85f3c0a899f9d3cbe3db58b54d5391856ba30e3a4e013b856bbac6ef8521eb/data/xeno-canto/north_america/euphagus_cyanocephalus/XC325225.ogg / 0) could not be loaded (audio_too_short). The exception was (no_exception)\n",
      "WARNING:absl:Audio loaded successfully.\n"
     ]
    },
    {
     "name": "stdout",
     "output_type": "stream",
     "text": [
      "Handling nucifraga_columbiana/XC294260.ogg\n"
     ]
    },
    {
     "name": "stderr",
     "output_type": "stream",
     "text": [
      "  7%|▋         | 1415/21650 [05:57<59:54,  5.63it/s]  WARNING:absl:Audio loaded successfully.\n",
      "WARNING:absl:The audio at (/Volumes/BigChongusF/Datasets/Huggingface/gadme_v1/data/downloads/extracted/657bb7ca7e00d187968c3a3fed754f2f43eea8c80f8b9290f46e2ef76a629ca6/data/xeno-canto/north_america/zonotrichia_leucophrys/XC159001.ogg / 1) could not be loaded (audio_too_short). The exception was (no_exception)\n",
      "WARNING:absl:Audio loaded successfully.\n"
     ]
    },
    {
     "name": "stdout",
     "output_type": "stream",
     "text": [
      "Handling salpinctes_obsoletus/XC229178.ogg\n"
     ]
    },
    {
     "name": "stderr",
     "output_type": "stream",
     "text": [
      "  7%|▋         | 1417/21650 [05:57<1:05:54,  5.12it/s]WARNING:absl:Audio loaded successfully.\n",
      "WARNING:absl:Audio loaded successfully.\n",
      "WARNING:absl:The audio at (/Volumes/BigChongusF/Datasets/Huggingface/gadme_v1/data/downloads/extracted/11822cb7774f0c8fc8baf7b5f803ac199e8389f4e7915de926ef11f732fc0c36/data/xeno-canto/north_america/catharus_guttatus/XC122005.ogg / 0) could not be loaded (audio_too_short). The exception was (no_exception)\n",
      "  7%|▋         | 1419/21650 [05:58<51:18,  6.57it/s]  WARNING:absl:Audio loaded successfully.\n"
     ]
    },
    {
     "name": "stdout",
     "output_type": "stream",
     "text": [
      "Handling zonotrichia_leucophrys/XC102953.ogg\n",
      "Handling turdus_migratorius/XC418265.ogg\n"
     ]
    },
    {
     "name": "stderr",
     "output_type": "stream",
     "text": [
      "  7%|▋         | 1420/21650 [05:58<1:01:05,  5.52it/s]WARNING:absl:Audio loaded successfully.\n",
      "  7%|▋         | 1421/21650 [05:58<59:19,  5.68it/s]  WARNING:absl:Audio loaded successfully.\n"
     ]
    },
    {
     "name": "stdout",
     "output_type": "stream",
     "text": [
      "Handling turdus_migratorius/XC322884.ogg\n",
      "Handling turdus_migratorius/XC785958.ogg\n"
     ]
    },
    {
     "name": "stderr",
     "output_type": "stream",
     "text": [
      "  7%|▋         | 1422/21650 [05:58<57:32,  5.86it/s]WARNING:absl:Audio loaded successfully.\n"
     ]
    },
    {
     "name": "stdout",
     "output_type": "stream",
     "text": [
      "Handling actitis_macularius/XC606782.ogg\n"
     ]
    },
    {
     "name": "stderr",
     "output_type": "stream",
     "text": [
      "  7%|▋         | 1423/21650 [05:59<1:16:54,  4.38it/s]WARNING:absl:Audio loaded successfully.\n",
      "WARNING:absl:The audio at (/Volumes/BigChongusF/Datasets/Huggingface/gadme_v1/data/downloads/extracted/dacdc79178259381ae33610c1ac23ba786c77733201335d4d00617669efb593c/data/xeno-canto/north_america/vireo_gilvus/XC423318.ogg / 19) could not be loaded (audio_too_short). The exception was (no_exception)\n",
      "WARNING:absl:Audio loaded successfully.\n",
      "  7%|▋         | 1425/21650 [05:59<55:15,  6.10it/s]  WARNING:absl:Audio loaded successfully.\n"
     ]
    },
    {
     "name": "stdout",
     "output_type": "stream",
     "text": [
      "Handling vireo_gilvus/XC254947.ogg\n",
      "Handling salpinctes_obsoletus/XC368057.ogg\n"
     ]
    },
    {
     "name": "stderr",
     "output_type": "stream",
     "text": [
      "  7%|▋         | 1426/21650 [05:59<57:23,  5.87it/s]WARNING:absl:Audio loaded successfully.\n",
      "WARNING:absl:The audio at (/Volumes/BigChongusF/Datasets/Huggingface/gadme_v1/data/downloads/extracted/3d85f3c0a899f9d3cbe3db58b54d5391856ba30e3a4e013b856bbac6ef8521eb/data/xeno-canto/north_america/euphagus_cyanocephalus/XC113814.ogg / 2) could not be loaded (audio_too_short). The exception was (no_exception)\n",
      "WARNING:absl:Audio loaded successfully.\n",
      "WARNING:absl:The audio at (/Volumes/BigChongusF/Datasets/Huggingface/gadme_v1/data/downloads/extracted/50ee574c5ac7bd04862bf48084e734a9dfb53f6b0bb7e1c7ba86103dd405ec12/data/xeno-canto/north_america/junco_hyemalis/XC481214.ogg / 0) could not be loaded (audio_too_short). The exception was (no_exception)\n",
      "WARNING:absl:Audio loaded successfully.\n",
      "WARNING:absl:Audio loaded successfully.\n"
     ]
    },
    {
     "name": "stdout",
     "output_type": "stream",
     "text": [
      "Handling leiothlypis_celata/XC124486.ogg\n",
      "Handling anthus_rubescens/XC358857.ogg\n"
     ]
    },
    {
     "name": "stderr",
     "output_type": "stream",
     "text": [
      "  7%|▋         | 1430/21650 [05:59<38:53,  8.67it/s]WARNING:absl:Audio loaded successfully.\n",
      "  7%|▋         | 1431/21650 [05:59<40:42,  8.28it/s]"
     ]
    },
    {
     "name": "stdout",
     "output_type": "stream",
     "text": [
      "Handling passerella_iliaca/XC785409.ogg\n",
      "Handling actitis_macularius/XC690395.ogg\n"
     ]
    },
    {
     "name": "stderr",
     "output_type": "stream",
     "text": [
      "WARNING:absl:Audio loaded successfully.\n",
      "  7%|▋         | 1432/21650 [06:00<1:02:15,  5.41it/s]WARNING:absl:Audio loaded successfully.\n",
      "WARNING:absl:The audio at (/Volumes/BigChongusF/Datasets/Huggingface/gadme_v1/data/downloads/extracted/c654a2fa7284c6b9ad2b65fb7d03c399719d51032c53323567e62583eb09dd11/data/xeno-canto/north_america/setophaga_coronata/XC177841.ogg / 0) could not be loaded (audio_too_short). The exception was (no_exception)\n",
      "WARNING:absl:Audio loaded successfully.\n"
     ]
    },
    {
     "name": "stdout",
     "output_type": "stream",
     "text": [
      "Handling turdus_migratorius/XC569292.ogg\n"
     ]
    },
    {
     "name": "stderr",
     "output_type": "stream",
     "text": [
      "  7%|▋         | 1434/21650 [06:00<1:00:32,  5.57it/s]WARNING:absl:Audio loaded successfully.\n"
     ]
    },
    {
     "name": "stdout",
     "output_type": "stream",
     "text": [
      "Handling junco_hyemalis/XC571059.ogg\n"
     ]
    },
    {
     "name": "stderr",
     "output_type": "stream",
     "text": [
      "  7%|▋         | 1435/21650 [06:01<1:22:26,  4.09it/s]WARNING:absl:Audio loaded successfully.\n",
      "WARNING:absl:Audio loaded successfully.\n"
     ]
    },
    {
     "name": "stdout",
     "output_type": "stream",
     "text": [
      "Handling catharus_guttatus/XC135614.ogg\n",
      "Handling nucifraga_columbiana/XC451198.ogg\n"
     ]
    },
    {
     "name": "stderr",
     "output_type": "stream",
     "text": [
      "  7%|▋         | 1437/21650 [06:01<1:05:27,  5.15it/s]WARNING:absl:Audio loaded successfully.\n",
      "WARNING:absl:Audio loaded successfully.\n",
      "  7%|▋         | 1439/21650 [06:01<53:27,  6.30it/s]  "
     ]
    },
    {
     "name": "stdout",
     "output_type": "stream",
     "text": [
      "Handling colaptes_auratus/XC708962.ogg\n",
      "Handling turdus_migratorius/XC585692.ogg\n",
      "Handling junco_hyemalis/XC408651.ogg\n"
     ]
    },
    {
     "name": "stderr",
     "output_type": "stream",
     "text": [
      "WARNING:absl:Audio loaded successfully.\n",
      "  7%|▋         | 1440/21650 [06:01<56:18,  5.98it/s]WARNING:absl:Audio loaded successfully.\n",
      "WARNING:absl:The audio at (/Volumes/BigChongusF/Datasets/Huggingface/gadme_v1/data/downloads/extracted/17216070f80a410ede3b3b9d5be7d7b46383bb2a629699cc6296c19d2a1c3e34/data/xeno-canto/north_america/turdus_migratorius/XC325132.ogg / 0) could not be loaded (audio_too_short). The exception was (no_exception)\n",
      "WARNING:absl:Audio loaded successfully.\n"
     ]
    },
    {
     "name": "stdout",
     "output_type": "stream",
     "text": [
      "Handling junco_hyemalis/XC79076.ogg\n"
     ]
    },
    {
     "name": "stderr",
     "output_type": "stream",
     "text": [
      "  7%|▋         | 1442/21650 [06:02<1:41:51,  3.31it/s]WARNING:absl:Audio loaded successfully.\n"
     ]
    },
    {
     "name": "stdout",
     "output_type": "stream",
     "text": [
      "Handling vireo_gilvus/XC401112.ogg\n"
     ]
    },
    {
     "name": "stderr",
     "output_type": "stream",
     "text": [
      "  7%|▋         | 1443/21650 [06:03<1:46:37,  3.16it/s]WARNING:absl:Audio loaded successfully.\n",
      "WARNING:absl:Audio loaded successfully.\n"
     ]
    },
    {
     "name": "stdout",
     "output_type": "stream",
     "text": [
      "Handling zonotrichia_leucophrys/XC681427.ogg\n",
      "Handling setophaga_petechia/XC451093.ogg\n"
     ]
    },
    {
     "name": "stderr",
     "output_type": "stream",
     "text": [
      "  7%|▋         | 1445/21650 [06:03<1:20:32,  4.18it/s]WARNING:absl:Audio loaded successfully.\n",
      "  7%|▋         | 1446/21650 [06:03<1:12:12,  4.66it/s]WARNING:absl:Audio loaded successfully.\n"
     ]
    },
    {
     "name": "stdout",
     "output_type": "stream",
     "text": [
      "Handling junco_hyemalis/XC327747.ogg\n",
      "Handling salpinctes_obsoletus/XC232517.ogg\n"
     ]
    },
    {
     "name": "stderr",
     "output_type": "stream",
     "text": [
      "  7%|▋         | 1447/21650 [06:03<1:18:42,  4.28it/s]WARNING:absl:Audio loaded successfully.\n"
     ]
    },
    {
     "name": "stdout",
     "output_type": "stream",
     "text": [
      "Handling turdus_migratorius/XC187409.ogg\n"
     ]
    },
    {
     "name": "stderr",
     "output_type": "stream",
     "text": [
      "  7%|▋         | 1448/21650 [06:04<1:44:40,  3.22it/s]WARNING:absl:Audio loaded successfully.\n",
      "WARNING:absl:Audio loaded successfully.\n"
     ]
    },
    {
     "name": "stdout",
     "output_type": "stream",
     "text": [
      "Handling vireo_gilvus/XC137595.ogg\n",
      "Handling nucifraga_columbiana/XC389275.ogg\n"
     ]
    },
    {
     "name": "stderr",
     "output_type": "stream",
     "text": [
      "  7%|▋         | 1450/21650 [06:04<1:17:34,  4.34it/s]WARNING:absl:Audio loaded successfully.\n",
      "WARNING:absl:The audio at (/Volumes/BigChongusF/Datasets/Huggingface/gadme_v1/data/downloads/extracted/cd49b3631d04d3feff17b776f29f4fc3d66002b528c452baf906c78c1580d75a/data/xeno-canto/north_america/setophaga_coronata/XC135918.ogg / 22) could not be loaded (audio_too_short). The exception was (no_exception)\n",
      "WARNING:absl:Audio loaded successfully.\n"
     ]
    },
    {
     "name": "stdout",
     "output_type": "stream",
     "text": [
      "Handling vireo_gilvus/XC738282.ogg\n"
     ]
    },
    {
     "name": "stderr",
     "output_type": "stream",
     "text": [
      "  7%|▋         | 1452/21650 [06:05<1:42:47,  3.27it/s]WARNING:absl:Audio loaded successfully.\n",
      "WARNING:absl:The audio at (/Volumes/BigChongusF/Datasets/Huggingface/gadme_v1/data/downloads/extracted/311d741def45c8db5627f28a29fb12fae011eadb4408d855d15c5dbda8c53dd4/data/xeno-canto/north_america/setophaga_petechia/XC284446.ogg / 9) could not be loaded (audio_too_short). The exception was (no_exception)\n",
      "WARNING:absl:Audio loaded successfully.\n"
     ]
    },
    {
     "name": "stdout",
     "output_type": "stream",
     "text": [
      "Handling empidonax_oberholseri/XC748347.ogg\n"
     ]
    },
    {
     "name": "stderr",
     "output_type": "stream",
     "text": [
      "  7%|▋         | 1454/21650 [06:05<1:28:14,  3.81it/s]WARNING:absl:Audio loaded successfully.\n",
      "WARNING:absl:Audio loaded successfully.\n",
      "  7%|▋         | 1456/21650 [06:05<1:05:15,  5.16it/s]WARNING:absl:Audio loaded successfully.\n"
     ]
    },
    {
     "name": "stdout",
     "output_type": "stream",
     "text": [
      "Handling turdus_migratorius/XC313963.ogg\n",
      "Handling colaptes_auratus/XC454067.ogg\n",
      "Handling colaptes_auratus/XC297480.ogg\n"
     ]
    },
    {
     "name": "stderr",
     "output_type": "stream",
     "text": [
      "  7%|▋         | 1457/21650 [06:06<1:05:32,  5.13it/s]WARNING:absl:Audio loaded successfully.\n",
      "WARNING:absl:The audio at (/Volumes/BigChongusF/Datasets/Huggingface/gadme_v1/data/downloads/extracted/3c91bd3b848ef81521ad069a8fa6ac2fcacb937635fd0a9971a11200269ae1f7/data/xeno-canto/europe/anas_platyrhynchos/XC777648.ogg / 24) could not be loaded (audio_too_short). The exception was (no_exception)\n",
      "WARNING:absl:Audio loaded successfully.\n"
     ]
    },
    {
     "name": "stdout",
     "output_type": "stream",
     "text": [
      "Handling passerella_iliaca/XC381922.ogg\n"
     ]
    },
    {
     "name": "stderr",
     "output_type": "stream",
     "text": [
      "  7%|▋         | 1459/21650 [06:06<1:27:42,  3.84it/s]WARNING:absl:Audio loaded successfully.\n"
     ]
    },
    {
     "name": "stdout",
     "output_type": "stream",
     "text": [
      "Handling turdus_migratorius/XC164121.ogg\n"
     ]
    },
    {
     "name": "stderr",
     "output_type": "stream",
     "text": [
      "  7%|▋         | 1460/21650 [06:07<1:33:18,  3.61it/s]WARNING:absl:Audio loaded successfully.\n"
     ]
    },
    {
     "name": "stdout",
     "output_type": "stream",
     "text": [
      "Handling catharus_guttatus/XC715748.ogg\n",
      "Handling catharus_guttatus/XC277707.ogg\n"
     ]
    },
    {
     "name": "stderr",
     "output_type": "stream",
     "text": [
      "WARNING:absl:Audio loaded successfully.\n",
      "  7%|▋         | 1462/21650 [06:08<1:46:21,  3.16it/s]WARNING:absl:Audio loaded successfully.\n",
      "WARNING:absl:The audio at (/Volumes/BigChongusF/Datasets/Huggingface/gadme_v1/data/downloads/extracted/073c60ddd38d94c33b508dc82a0cf640bc20d68d3ed6bf2f63e35e8019957dd9/data/xeno-canto/north_america/zonotrichia_leucophrys/XC324382.ogg / 0) could not be loaded (audio_too_short). The exception was (no_exception)\n",
      "WARNING:absl:Audio loaded successfully.\n"
     ]
    },
    {
     "name": "stdout",
     "output_type": "stream",
     "text": [
      "Handling junco_hyemalis/XC735829.ogg\n"
     ]
    },
    {
     "name": "stderr",
     "output_type": "stream",
     "text": [
      "  7%|▋         | 1464/21650 [06:08<1:38:59,  3.40it/s]WARNING:absl:Audio loaded successfully.\n"
     ]
    },
    {
     "name": "stdout",
     "output_type": "stream",
     "text": [
      "Handling catharus_guttatus/XC327754.ogg\n"
     ]
    },
    {
     "name": "stderr",
     "output_type": "stream",
     "text": [
      "  7%|▋         | 1465/21650 [06:09<1:54:18,  2.94it/s]WARNING:absl:Audio loaded successfully.\n",
      "WARNING:absl:The audio at (/Volumes/BigChongusF/Datasets/Huggingface/gadme_v1/data/downloads/extracted/3c91bd3b848ef81521ad069a8fa6ac2fcacb937635fd0a9971a11200269ae1f7/data/xeno-canto/north_america/anas_platyrhynchos/XC218558.ogg / 0) could not be loaded (audio_too_short). The exception was (no_exception)\n",
      "WARNING:absl:Audio loaded successfully.\n"
     ]
    },
    {
     "name": "stdout",
     "output_type": "stream",
     "text": [
      "Handling zonotrichia_leucophrys/XC322832.ogg\n"
     ]
    },
    {
     "name": "stderr",
     "output_type": "stream",
     "text": [
      "  7%|▋         | 1467/21650 [06:09<1:28:01,  3.82it/s]WARNING:absl:Audio loaded successfully.\n",
      "  7%|▋         | 1468/21650 [06:09<1:22:17,  4.09it/s]"
     ]
    },
    {
     "name": "stdout",
     "output_type": "stream",
     "text": [
      "Handling salpinctes_obsoletus/XC196938.ogg\n",
      "Handling passerella_iliaca/XC601032.ogg\n"
     ]
    },
    {
     "name": "stderr",
     "output_type": "stream",
     "text": [
      "WARNING:absl:Audio loaded successfully.\n",
      "  7%|▋         | 1469/21650 [06:09<1:28:26,  3.80it/s]WARNING:absl:Audio loaded successfully.\n",
      "WARNING:absl:The audio at (/Volumes/BigChongusF/Datasets/Huggingface/gadme_v1/data/downloads/extracted/cd49b3631d04d3feff17b776f29f4fc3d66002b528c452baf906c78c1580d75a/data/xeno-canto/north_america/setophaga_coronata/XC30789.ogg / 10) could not be loaded (audio_too_short). The exception was (no_exception)\n",
      "WARNING:absl:Audio loaded successfully.\n",
      "WARNING:absl:The audio at (/Volumes/BigChongusF/Datasets/Huggingface/gadme_v1/data/downloads/extracted/50ee574c5ac7bd04862bf48084e734a9dfb53f6b0bb7e1c7ba86103dd405ec12/data/xeno-canto/north_america/junco_hyemalis/XC475740.ogg / 1) could not be loaded (audio_too_short). The exception was (no_exception)\n",
      "WARNING:absl:Audio loaded successfully.\n",
      "WARNING:absl:The audio at (/Volumes/BigChongusF/Datasets/Huggingface/gadme_v1/data/downloads/extracted/7c313317d9bce50ea88db0b3d3672870e262462cefb5c130892cba54b586da3d/data/xeno-canto/north_america/salpinctes_obsoletus/XC368643.ogg / 0) could not be loaded (audio_too_short). The exception was (no_exception)\n",
      "WARNING:absl:Audio loaded successfully.\n",
      "  7%|▋         | 1473/21650 [06:10<47:44,  7.04it/s]  "
     ]
    },
    {
     "name": "stdout",
     "output_type": "stream",
     "text": [
      "Handling vireo_gilvus/XC419787.ogg\n",
      "Handling haemorhous_cassinii/XC13886.ogg\n"
     ]
    },
    {
     "name": "stderr",
     "output_type": "stream",
     "text": [
      "WARNING:absl:Audio loaded successfully.\n",
      "WARNING:absl:The audio at (/Volumes/BigChongusF/Datasets/Huggingface/gadme_v1/data/downloads/extracted/98abf88c43673ba8815287f519e7fd3afff386504e64afb04778689c24fd08c9/data/xeno-canto/north_america/vireo_gilvus/XC321965.ogg / 3) could not be loaded (audio_too_short). The exception was (no_exception)\n",
      "WARNING:absl:Audio loaded successfully.\n",
      "  7%|▋         | 1475/21650 [06:10<48:46,  6.89it/s]WARNING:absl:Audio loaded successfully.\n",
      "WARNING:absl:Audio loaded successfully.\n"
     ]
    },
    {
     "name": "stdout",
     "output_type": "stream",
     "text": [
      "Handling vireo_gilvus/XC182016.ogg\n",
      "Handling anas_platyrhynchos/XC644630.ogg\n"
     ]
    },
    {
     "name": "stderr",
     "output_type": "stream",
     "text": [
      "  7%|▋         | 1477/21650 [06:10<1:04:34,  5.21it/s]WARNING:absl:Audio loaded successfully.\n",
      "WARNING:absl:The audio at (/Volumes/BigChongusF/Datasets/Huggingface/gadme_v1/data/downloads/extracted/11822cb7774f0c8fc8baf7b5f803ac199e8389f4e7915de926ef11f732fc0c36/data/xeno-canto/north_america/setophaga_coronata/XC319369.ogg / 1) could not be loaded (audio_too_short). The exception was (no_exception)\n",
      "WARNING:absl:Audio loaded successfully.\n",
      "WARNING:absl:Audio loaded successfully.\n",
      "  7%|▋         | 1480/21650 [06:11<44:44,  7.51it/s]  WARNING:absl:Audio loaded successfully.\n"
     ]
    },
    {
     "name": "stdout",
     "output_type": "stream",
     "text": [
      "Handling turdus_migratorius/XC574484.ogg\n",
      "Handling junco_hyemalis/XC382749.ogg\n",
      "Handling zonotrichia_leucophrys/XC54716.ogg\n"
     ]
    },
    {
     "name": "stderr",
     "output_type": "stream",
     "text": [
      "WARNING:absl:Audio loaded successfully.\n",
      "  7%|▋         | 1482/21650 [06:11<49:14,  6.83it/s]"
     ]
    },
    {
     "name": "stdout",
     "output_type": "stream",
     "text": [
      "Handling poecile_gambeli/XC350729.ogg\n",
      "Handling turdus_migratorius/XC187308.ogg\n"
     ]
    },
    {
     "name": "stderr",
     "output_type": "stream",
     "text": [
      "WARNING:absl:Audio loaded successfully.\n",
      "WARNING:absl:Audio loaded successfully.\n"
     ]
    },
    {
     "name": "stdout",
     "output_type": "stream",
     "text": [
      "Handling zonotrichia_leucophrys/XC776577.ogg\n"
     ]
    },
    {
     "name": "stderr",
     "output_type": "stream",
     "text": [
      "  7%|▋         | 1484/21650 [06:13<2:17:07,  2.45it/s]WARNING:absl:Audio loaded successfully.\n",
      "WARNING:absl:Audio loaded successfully.\n",
      "WARNING:absl:Audio loaded successfully.\n",
      "WARNING:absl:The audio at (/Volumes/BigChongusF/Datasets/Huggingface/gadme_v1/data/downloads/extracted/e68da0013aa2de07a892cea4436ef4f05bf18dc840e506a49e4934fad311632a/data/xeno-canto/north_america/zonotrichia_leucophrys/XC656355.ogg / 0) could not be loaded (audio_too_short). The exception was (no_exception)\n",
      "  7%|▋         | 1487/21650 [06:13<1:30:33,  3.71it/s]WARNING:absl:Audio loaded successfully.\n",
      "WARNING:absl:The audio at (/Volumes/BigChongusF/Datasets/Huggingface/gadme_v1/data/downloads/extracted/ada15457cc2a05bc400bb7409cbc22ad2f43c290ca6a05bf824bb875476f852c/data/xeno-canto/north_america/junco_hyemalis/XC561763.ogg / 0) could not be loaded (audio_too_short). The exception was (no_exception)\n"
     ]
    },
    {
     "name": "stdout",
     "output_type": "stream",
     "text": [
      "Handling setophaga_petechia/XC407647.ogg\n",
      "Handling euphagus_cyanocephalus/XC159768.ogg\n",
      "Handling turdus_migratorius/XC13649.ogg\n"
     ]
    },
    {
     "name": "stderr",
     "output_type": "stream",
     "text": [
      "WARNING:absl:Audio loaded successfully.\n",
      "  7%|▋         | 1489/21650 [06:14<1:30:45,  3.70it/s]WARNING:absl:Audio loaded successfully.\n",
      "WARNING:absl:Audio loaded successfully.\n",
      "WARNING:absl:The audio at (/Volumes/BigChongusF/Datasets/Huggingface/gadme_v1/data/downloads/extracted/3944287c00a98d3d9edcb7467992ad5fbf2cebeec4c9e389027ef676be012aef/data/xeno-canto/north_america/poecile_gambeli/XC783562.ogg / 14) could not be loaded (audio_too_short). The exception was (no_exception)\n",
      "WARNING:absl:Audio loaded successfully.\n"
     ]
    },
    {
     "name": "stdout",
     "output_type": "stream",
     "text": [
      "Handling passerella_iliaca/XC467697.ogg\n",
      "Handling setophaga_petechia/XC535221.ogg\n"
     ]
    },
    {
     "name": "stderr",
     "output_type": "stream",
     "text": [
      "  7%|▋         | 1492/21650 [06:14<1:12:27,  4.64it/s]WARNING:absl:Audio loaded successfully.\n"
     ]
    },
    {
     "name": "stdout",
     "output_type": "stream",
     "text": [
      "Handling anas_platyrhynchos/XC735576.ogg\n"
     ]
    },
    {
     "name": "stderr",
     "output_type": "stream",
     "text": [
      "WARNING:absl:Audio loaded successfully.\n",
      "  7%|▋         | 1494/21650 [06:15<1:18:20,  4.29it/s]WARNING:absl:Audio loaded successfully.\n",
      "WARNING:absl:Audio loaded successfully.\n",
      "WARNING:absl:The audio at (/Volumes/BigChongusF/Datasets/Huggingface/gadme_v1/data/downloads/extracted/c8c29167330b38826de4c1aa93e6bc223fc787ef2bb38599f8079bac7568f894/data/xeno-canto/north_america/haemorhous_cassinii/XC21834.ogg / 2) could not be loaded (audio_too_short). The exception was (no_exception)\n",
      "WARNING:absl:Audio loaded successfully.\n"
     ]
    },
    {
     "name": "stdout",
     "output_type": "stream",
     "text": [
      "Handling zonotrichia_leucophrys/XC111746.ogg\n",
      "Handling turdus_migratorius/XC385843.ogg\n",
      "Handling anas_platyrhynchos/XC805014.ogg\n"
     ]
    },
    {
     "name": "stderr",
     "output_type": "stream",
     "text": [
      "  7%|▋         | 1497/21650 [06:15<59:02,  5.69it/s]  WARNING:absl:Audio loaded successfully.\n"
     ]
    },
    {
     "name": "stdout",
     "output_type": "stream",
     "text": [
      "Handling anas_platyrhynchos/XC706433.ogg\n"
     ]
    },
    {
     "name": "stderr",
     "output_type": "stream",
     "text": [
      "  7%|▋         | 1498/21650 [06:15<1:06:41,  5.04it/s]WARNING:absl:Audio loaded successfully.\n",
      "WARNING:absl:Audio loaded successfully.\n"
     ]
    },
    {
     "name": "stdout",
     "output_type": "stream",
     "text": [
      "Handling turdus_migratorius/XC466479.ogg\n",
      "Handling salpinctes_obsoletus/XC312756.ogg\n"
     ]
    },
    {
     "name": "stderr",
     "output_type": "stream",
     "text": [
      "  7%|▋         | 1500/21650 [06:15<57:39,  5.83it/s]  WARNING:absl:Audio loaded successfully.\n",
      "  7%|▋         | 1501/21650 [06:16<55:01,  6.10it/s]WARNING:absl:Audio loaded successfully.\n",
      "WARNING:absl:The audio at (/Volumes/BigChongusF/Datasets/Huggingface/gadme_v1/data/downloads/extracted/e68da0013aa2de07a892cea4436ef4f05bf18dc840e506a49e4934fad311632a/data/xeno-canto/north_america/zonotrichia_leucophrys/XC565001.ogg / 31) could not be loaded (audio_too_short). The exception was (no_exception)\n",
      "WARNING:absl:Audio loaded successfully.\n"
     ]
    },
    {
     "name": "stdout",
     "output_type": "stream",
     "text": [
      "Handling catharus_guttatus/XC381117.ogg\n",
      "Handling anthus_rubescens/XC267501.ogg\n"
     ]
    },
    {
     "name": "stderr",
     "output_type": "stream",
     "text": [
      "WARNING:absl:Audio loaded successfully.\n",
      "  7%|▋         | 1504/21650 [06:16<44:03,  7.62it/s]WARNING:absl:Audio loaded successfully.\n"
     ]
    },
    {
     "name": "stdout",
     "output_type": "stream",
     "text": [
      "Handling catharus_guttatus/XC14208.ogg\n",
      "Handling nucifraga_columbiana/XC373515.ogg\n"
     ]
    },
    {
     "name": "stderr",
     "output_type": "stream",
     "text": [
      "  7%|▋         | 1505/21650 [06:16<43:37,  7.70it/s]"
     ]
    },
    {
     "name": "stdout",
     "output_type": "stream",
     "text": [
      "Handling zonotrichia_leucophrys/XC457599.ogg\n"
     ]
    },
    {
     "name": "stderr",
     "output_type": "stream",
     "text": [
      "WARNING:absl:Audio loaded successfully.\n",
      "  7%|▋         | 1506/21650 [06:17<1:59:53,  2.80it/s]WARNING:absl:Audio loaded successfully.\n",
      "WARNING:absl:The audio at (/Volumes/BigChongusF/Datasets/Huggingface/gadme_v1/data/downloads/extracted/c05b01b23568feda718271d2aa149124fd50d510bd99663cbd8752481054e53b/data/xeno-canto/north_america/actitis_macularius/XC391160.ogg / 0) could not be loaded (audio_too_short). The exception was (no_exception)\n",
      "WARNING:absl:Audio loaded successfully.\n",
      "WARNING:absl:Audio loaded successfully.\n",
      "  7%|▋         | 1509/21650 [06:17<1:12:17,  4.64it/s]WARNING:absl:Audio loaded successfully.\n"
     ]
    },
    {
     "name": "stdout",
     "output_type": "stream",
     "text": [
      "Handling colaptes_auratus/XC170551.ogg\n",
      "Handling anas_platyrhynchos/XC354680.ogg\n",
      "Handling passerella_iliaca/XC421834.ogg\n",
      "Handling sialia_currucoides/XC12124.ogg\n"
     ]
    },
    {
     "name": "stderr",
     "output_type": "stream",
     "text": [
      "WARNING:absl:Audio loaded successfully.\n",
      "  7%|▋         | 1511/21650 [06:18<1:32:53,  3.61it/s]WARNING:absl:Audio loaded successfully.\n",
      "WARNING:absl:The audio at (/Volumes/BigChongusF/Datasets/Huggingface/gadme_v1/data/downloads/extracted/33e4b5dac1f3e336b57bc91d4b4ff764b4ae70d484a82c7bdbeb5ac37d235324/data/xeno-canto/europe/anas_platyrhynchos/XC785938.ogg / 0) could not be loaded (audio_too_short). The exception was (no_exception)\n",
      "WARNING:absl:Audio loaded successfully.\n",
      "WARNING:absl:The audio at (/Volumes/BigChongusF/Datasets/Huggingface/gadme_v1/data/downloads/extracted/3c91bd3b848ef81521ad069a8fa6ac2fcacb937635fd0a9971a11200269ae1f7/data/xeno-canto/europe/anas_platyrhynchos/XC142907.ogg / 2) could not be loaded (audio_too_short). The exception was (no_exception)\n",
      "WARNING:absl:Audio loaded successfully.\n",
      "WARNING:absl:The audio at (/Volumes/BigChongusF/Datasets/Huggingface/gadme_v1/data/downloads/extracted/81e1b796790f26dbc25ae8fbe4e7b2707eea32146a66d4954952be1661457843/data/xeno-canto/north_america/leiothlypis_celata/XC731832.ogg / 49) could not be loaded (audio_too_short). The exception was (no_exception)\n",
      "WARNING:absl:Audio loaded successfully.\n",
      "WARNING:absl:The audio at (/Volumes/BigChongusF/Datasets/Huggingface/gadme_v1/data/downloads/extracted/3c91bd3b848ef81521ad069a8fa6ac2fcacb937635fd0a9971a11200269ae1f7/data/xeno-canto/europe/anas_platyrhynchos/XC208506.ogg / 0) could not be loaded (audio_too_short). The exception was (no_exception)\n",
      "WARNING:absl:Audio loaded successfully.\n"
     ]
    },
    {
     "name": "stdout",
     "output_type": "stream",
     "text": [
      "Handling haemorhous_cassinii/XC201398.ogg\n"
     ]
    },
    {
     "name": "stderr",
     "output_type": "stream",
     "text": [
      "  7%|▋         | 1516/21650 [06:18<53:42,  6.25it/s]  WARNING:absl:Audio loaded successfully.\n",
      "WARNING:absl:Audio loaded successfully.\n"
     ]
    },
    {
     "name": "stdout",
     "output_type": "stream",
     "text": [
      "Handling poecile_gambeli/XC362896.ogg\n",
      "Handling junco_hyemalis/XC72923.ogg\n"
     ]
    },
    {
     "name": "stderr",
     "output_type": "stream",
     "text": [
      "  7%|▋         | 1518/21650 [06:19<54:14,  6.19it/s]WARNING:absl:Audio loaded successfully.\n"
     ]
    },
    {
     "name": "stdout",
     "output_type": "stream",
     "text": [
      "Handling leiothlypis_celata/XC195422.ogg\n"
     ]
    },
    {
     "name": "stderr",
     "output_type": "stream",
     "text": [
      "WARNING:absl:Audio loaded successfully.\n",
      "  7%|▋         | 1520/21650 [06:19<57:01,  5.88it/s]WARNING:absl:Audio loaded successfully.\n"
     ]
    },
    {
     "name": "stdout",
     "output_type": "stream",
     "text": [
      "Handling vireo_gilvus/XC423618.ogg\n",
      "Handling catharus_guttatus/XC301214.ogg\n"
     ]
    },
    {
     "name": "stderr",
     "output_type": "stream",
     "text": [
      "  7%|▋         | 1521/21650 [06:19<56:12,  5.97it/s]WARNING:absl:Audio loaded successfully.\n",
      "WARNING:absl:Audio loaded successfully.\n",
      "WARNING:absl:The audio at (/Volumes/BigChongusF/Datasets/Huggingface/gadme_v1/data/downloads/extracted/98abf88c43673ba8815287f519e7fd3afff386504e64afb04778689c24fd08c9/data/xeno-canto/north_america/vireo_gilvus/XC321072.ogg / 92) could not be loaded (audio_too_short). The exception was (no_exception)\n",
      "  7%|▋         | 1523/21650 [06:19<44:37,  7.52it/s]WARNING:absl:Audio loaded successfully.\n"
     ]
    },
    {
     "name": "stdout",
     "output_type": "stream",
     "text": [
      "Handling empidonax_oberholseri/XC680001.ogg\n",
      "Handling salpinctes_obsoletus/XC351164.ogg\n"
     ]
    },
    {
     "name": "stderr",
     "output_type": "stream",
     "text": [
      "WARNING:absl:Audio loaded successfully.\n"
     ]
    },
    {
     "name": "stdout",
     "output_type": "stream",
     "text": [
      "Handling vireo_gilvus/XC672702.ogg\n"
     ]
    },
    {
     "name": "stderr",
     "output_type": "stream",
     "text": [
      "  7%|▋         | 1525/21650 [06:20<1:06:45,  5.02it/s]WARNING:absl:Audio loaded successfully.\n",
      "WARNING:absl:Audio loaded successfully.\n",
      "WARNING:absl:The audio at (/Volumes/BigChongusF/Datasets/Huggingface/gadme_v1/data/downloads/extracted/e68da0013aa2de07a892cea4436ef4f05bf18dc840e506a49e4934fad311632a/data/xeno-canto/north_america/zonotrichia_leucophrys/XC486018.ogg / 98) could not be loaded (audio_too_short). The exception was (no_exception)\n"
     ]
    },
    {
     "name": "stdout",
     "output_type": "stream",
     "text": [
      "Handling anas_platyrhynchos/XC461763.ogg\n",
      "Handling turdus_migratorius/XC107523.ogg\n"
     ]
    },
    {
     "name": "stderr",
     "output_type": "stream",
     "text": [
      "WARNING:absl:Audio loaded successfully.\n",
      "  7%|▋         | 1528/21650 [06:22<1:45:47,  3.17it/s]WARNING:absl:Audio loaded successfully.\n",
      "WARNING:absl:The audio at (/Volumes/BigChongusF/Datasets/Huggingface/gadme_v1/data/downloads/extracted/ada15457cc2a05bc400bb7409cbc22ad2f43c290ca6a05bf824bb875476f852c/data/xeno-canto/north_america/junco_hyemalis/XC444869.ogg / 55) could not be loaded (audio_too_short). The exception was (no_exception)\n",
      "WARNING:absl:Audio loaded successfully.\n",
      "WARNING:absl:The audio at (/Volumes/BigChongusF/Datasets/Huggingface/gadme_v1/data/downloads/extracted/3d85f3c0a899f9d3cbe3db58b54d5391856ba30e3a4e013b856bbac6ef8521eb/data/xeno-canto/north_america/euphagus_cyanocephalus/XC312529.ogg / 3) could not be loaded (audio_too_short). The exception was (no_exception)\n",
      "WARNING:absl:Audio loaded successfully.\n"
     ]
    },
    {
     "name": "stdout",
     "output_type": "stream",
     "text": [
      "Handling salpinctes_obsoletus/XC218673.ogg\n"
     ]
    },
    {
     "name": "stderr",
     "output_type": "stream",
     "text": [
      "  7%|▋         | 1531/21650 [06:22<1:19:46,  4.20it/s]WARNING:absl:Audio loaded successfully.\n",
      "WARNING:absl:Audio loaded successfully.\n"
     ]
    },
    {
     "name": "stdout",
     "output_type": "stream",
     "text": [
      "Handling colaptes_auratus/XC400586.ogg\n",
      "Handling turdus_migratorius/XC423449.ogg\n"
     ]
    },
    {
     "name": "stderr",
     "output_type": "stream",
     "text": [
      "  7%|▋         | 1533/21650 [06:22<1:13:15,  4.58it/s]WARNING:absl:Audio loaded successfully.\n",
      "WARNING:absl:Audio loaded successfully.\n",
      "  7%|▋         | 1535/21650 [06:22<59:37,  5.62it/s]  WARNING:absl:Audio loaded successfully.\n"
     ]
    },
    {
     "name": "stdout",
     "output_type": "stream",
     "text": [
      "Handling anas_platyrhynchos/XC113968.ogg\n",
      "Handling salpinctes_obsoletus/XC229184.ogg\n",
      "Handling empidonax_oberholseri/XC149579.ogg\n"
     ]
    },
    {
     "name": "stderr",
     "output_type": "stream",
     "text": [
      "  7%|▋         | 1536/21650 [06:23<1:03:56,  5.24it/s]WARNING:absl:Audio loaded successfully.\n",
      "WARNING:absl:Audio loaded successfully.\n",
      "  7%|▋         | 1538/21650 [06:23<52:52,  6.34it/s]  "
     ]
    },
    {
     "name": "stdout",
     "output_type": "stream",
     "text": [
      "Handling poecile_gambeli/XC347953.ogg\n",
      "Handling anas_platyrhynchos/XC163618.ogg\n",
      "Handling turdus_migratorius/XC567242.ogg\n"
     ]
    },
    {
     "name": "stderr",
     "output_type": "stream",
     "text": [
      "WARNING:absl:Audio loaded successfully.\n",
      "  7%|▋         | 1539/21650 [06:23<1:12:51,  4.60it/s]WARNING:absl:Audio loaded successfully.\n",
      "WARNING:absl:Audio loaded successfully.\n"
     ]
    },
    {
     "name": "stdout",
     "output_type": "stream",
     "text": [
      "Handling poecile_gambeli/XC350736.ogg\n",
      "Handling anthus_rubescens/XC111041.ogg\n"
     ]
    },
    {
     "name": "stderr",
     "output_type": "stream",
     "text": [
      "  7%|▋         | 1541/21650 [06:24<1:10:57,  4.72it/s]WARNING:absl:Audio loaded successfully.\n",
      "  7%|▋         | 1542/21650 [06:24<1:05:20,  5.13it/s]"
     ]
    },
    {
     "name": "stdout",
     "output_type": "stream",
     "text": [
      "Handling junco_hyemalis/XC157670.ogg\n",
      "Handling setophaga_petechia/XC715443.ogg\n"
     ]
    },
    {
     "name": "stderr",
     "output_type": "stream",
     "text": [
      "WARNING:absl:Audio loaded successfully.\n",
      "  7%|▋         | 1543/21650 [06:25<2:25:02,  2.31it/s]WARNING:absl:Audio loaded successfully.\n"
     ]
    },
    {
     "name": "stdout",
     "output_type": "stream",
     "text": [
      "Handling turdus_migratorius/XC294460.ogg\n"
     ]
    },
    {
     "name": "stderr",
     "output_type": "stream",
     "text": [
      "  7%|▋         | 1544/21650 [06:25<2:13:28,  2.51it/s]WARNING:absl:Audio loaded successfully.\n",
      "WARNING:absl:The audio at (/Volumes/BigChongusF/Datasets/Huggingface/gadme_v1/data/downloads/extracted/33e4b5dac1f3e336b57bc91d4b4ff764b4ae70d484a82c7bdbeb5ac37d235324/data/xeno-canto/europe/anas_platyrhynchos/XC440476.ogg / 16) could not be loaded (audio_too_short). The exception was (no_exception)\n",
      "WARNING:absl:Audio loaded successfully.\n",
      "WARNING:absl:Audio loaded successfully.\n"
     ]
    },
    {
     "name": "stdout",
     "output_type": "stream",
     "text": [
      "Handling junco_hyemalis/XC114667.ogg\n",
      "Handling anas_platyrhynchos/XC708961.ogg\n"
     ]
    },
    {
     "name": "stderr",
     "output_type": "stream",
     "text": [
      "  7%|▋         | 1547/21650 [06:26<1:19:26,  4.22it/s]WARNING:absl:Audio loaded successfully.\n",
      "  7%|▋         | 1548/21650 [06:26<1:10:55,  4.72it/s]WARNING:absl:Audio loaded successfully.\n"
     ]
    },
    {
     "name": "stdout",
     "output_type": "stream",
     "text": [
      "Handling poecile_gambeli/XC221629.ogg\n",
      "Handling salpinctes_obsoletus/XC618343.ogg\n"
     ]
    },
    {
     "name": "stderr",
     "output_type": "stream",
     "text": [
      "  7%|▋         | 1549/21650 [06:26<1:16:38,  4.37it/s]WARNING:absl:Audio loaded successfully.\n"
     ]
    },
    {
     "name": "stdout",
     "output_type": "stream",
     "text": [
      "Handling colaptes_auratus/XC786153.ogg\n"
     ]
    },
    {
     "name": "stderr",
     "output_type": "stream",
     "text": [
      "  7%|▋         | 1550/21650 [06:26<1:23:46,  4.00it/s]WARNING:absl:Audio loaded successfully.\n",
      "  7%|▋         | 1551/21650 [06:27<1:15:18,  4.45it/s]WARNING:absl:Audio loaded successfully.\n",
      "WARNING:absl:The audio at (/Volumes/BigChongusF/Datasets/Huggingface/gadme_v1/data/downloads/extracted/c8c29167330b38826de4c1aa93e6bc223fc787ef2bb38599f8079bac7568f894/data/xeno-canto/north_america/haemorhous_cassinii/XC550999.ogg / 1) could not be loaded (audio_too_short). The exception was (no_exception)\n"
     ]
    },
    {
     "name": "stdout",
     "output_type": "stream",
     "text": [
      "Handling catharus_guttatus/XC487056.ogg\n",
      "Handling poecile_gambeli/XC224189.ogg\n"
     ]
    },
    {
     "name": "stderr",
     "output_type": "stream",
     "text": [
      "WARNING:absl:Audio loaded successfully.\n",
      "  7%|▋         | 1553/21650 [06:28<2:22:21,  2.35it/s]WARNING:absl:Audio loaded successfully.\n",
      "WARNING:absl:Audio loaded successfully.\n"
     ]
    },
    {
     "name": "stdout",
     "output_type": "stream",
     "text": [
      "Handling zonotrichia_leucophrys/XC322702.ogg\n",
      "Handling anas_platyrhynchos/XC709028.ogg\n"
     ]
    },
    {
     "name": "stderr",
     "output_type": "stream",
     "text": [
      "  7%|▋         | 1555/21650 [06:29<2:15:37,  2.47it/s]WARNING:absl:Audio loaded successfully.\n",
      "  7%|▋         | 1556/21650 [06:29<1:55:30,  2.90it/s]WARNING:absl:Audio loaded successfully.\n",
      "WARNING:absl:The audio at (/Volumes/BigChongusF/Datasets/Huggingface/gadme_v1/data/downloads/extracted/3c91bd3b848ef81521ad069a8fa6ac2fcacb937635fd0a9971a11200269ae1f7/data/xeno-canto/europe/anas_platyrhynchos/XC630299.ogg / 0) could not be loaded (audio_too_short). The exception was (no_exception)\n",
      "WARNING:absl:Audio loaded successfully.\n"
     ]
    },
    {
     "name": "stdout",
     "output_type": "stream",
     "text": [
      "Handling junco_hyemalis/XC195804.ogg\n",
      "Handling zonotrichia_leucophrys/XC54713.ogg\n"
     ]
    },
    {
     "name": "stderr",
     "output_type": "stream",
     "text": [
      "  7%|▋         | 1558/21650 [06:29<1:25:05,  3.94it/s]WARNING:absl:Audio loaded successfully.\n",
      "WARNING:absl:Audio loaded successfully.\n"
     ]
    },
    {
     "name": "stdout",
     "output_type": "stream",
     "text": [
      "Handling catharus_guttatus/XC72223.ogg\n",
      "Handling leiothlypis_celata/XC708584.ogg\n"
     ]
    },
    {
     "name": "stderr",
     "output_type": "stream",
     "text": [
      "  7%|▋         | 1560/21650 [06:29<1:18:30,  4.26it/s]WARNING:absl:Audio loaded successfully.\n",
      "WARNING:absl:Audio loaded successfully.\n"
     ]
    },
    {
     "name": "stdout",
     "output_type": "stream",
     "text": [
      "Handling turdus_migratorius/XC205803.ogg\n",
      "Handling poecile_gambeli/XC71780.ogg\n"
     ]
    },
    {
     "name": "stderr",
     "output_type": "stream",
     "text": [
      "  7%|▋         | 1562/21650 [06:30<1:12:05,  4.64it/s]WARNING:absl:Audio loaded successfully.\n",
      "  7%|▋         | 1563/21650 [06:30<1:04:55,  5.16it/s]WARNING:absl:Audio loaded successfully.\n"
     ]
    },
    {
     "name": "stdout",
     "output_type": "stream",
     "text": [
      "Handling leiothlypis_celata/XC422820.ogg\n",
      "Handling junco_hyemalis/XC125080.ogg\n"
     ]
    },
    {
     "name": "stderr",
     "output_type": "stream",
     "text": [
      "  7%|▋         | 1564/21650 [06:30<1:29:25,  3.74it/s]WARNING:absl:Audio loaded successfully.\n",
      "WARNING:absl:Audio loaded successfully.\n"
     ]
    },
    {
     "name": "stdout",
     "output_type": "stream",
     "text": [
      "Handling turdus_migratorius/XC446462.ogg\n",
      "Handling anas_platyrhynchos/XC710488.ogg\n"
     ]
    },
    {
     "name": "stderr",
     "output_type": "stream",
     "text": [
      "  7%|▋         | 1566/21650 [06:31<1:27:32,  3.82it/s]WARNING:absl:Audio loaded successfully.\n",
      "WARNING:absl:Audio loaded successfully.\n"
     ]
    },
    {
     "name": "stdout",
     "output_type": "stream",
     "text": [
      "Handling haemorhous_cassinii/XC71817.ogg\n",
      "Handling nucifraga_columbiana/XC325014.ogg\n"
     ]
    },
    {
     "name": "stderr",
     "output_type": "stream",
     "text": [
      "  7%|▋         | 1568/21650 [06:31<1:13:32,  4.55it/s]WARNING:absl:Audio loaded successfully.\n",
      "  7%|▋         | 1569/21650 [06:31<1:06:56,  5.00it/s]WARNING:absl:Audio loaded successfully.\n"
     ]
    },
    {
     "name": "stdout",
     "output_type": "stream",
     "text": [
      "Handling catharus_guttatus/XC206099.ogg\n",
      "Handling euphagus_cyanocephalus/XC350052.ogg\n"
     ]
    },
    {
     "name": "stderr",
     "output_type": "stream",
     "text": [
      "  7%|▋         | 1570/21650 [06:32<1:12:41,  4.60it/s]WARNING:absl:Audio loaded successfully.\n",
      "  7%|▋         | 1571/21650 [06:32<1:07:19,  4.97it/s]WARNING:absl:Audio loaded successfully.\n",
      "WARNING:absl:The audio at (/Volumes/BigChongusF/Datasets/Huggingface/gadme_v1/data/downloads/extracted/fac58f85f06876ff8f6cab02102aac36e733cd077a257f05b209b05f983d3ecc/data/xeno-canto/north_america/vireo_gilvus/XC18697.ogg / 0) could not be loaded (audio_too_short). The exception was (no_exception)\n"
     ]
    },
    {
     "name": "stdout",
     "output_type": "stream",
     "text": [
      "Handling catharus_guttatus/XC175229.ogg\n",
      "Handling zonotrichia_leucophrys/XC99572.ogg\n"
     ]
    },
    {
     "name": "stderr",
     "output_type": "stream",
     "text": [
      "WARNING:absl:Audio loaded successfully.\n",
      "  7%|▋         | 1573/21650 [06:32<1:28:52,  3.76it/s]WARNING:absl:Audio loaded successfully.\n",
      "  7%|▋         | 1574/21650 [06:33<1:18:15,  4.28it/s]WARNING:absl:Audio loaded successfully.\n"
     ]
    },
    {
     "name": "stdout",
     "output_type": "stream",
     "text": [
      "Handling colaptes_auratus/XC160134.ogg\n",
      "Handling junco_hyemalis/XC497023.ogg\n"
     ]
    },
    {
     "name": "stderr",
     "output_type": "stream",
     "text": [
      "  7%|▋         | 1575/21650 [06:33<1:24:21,  3.97it/s]WARNING:absl:Audio loaded successfully.\n",
      "WARNING:absl:Audio loaded successfully.\n",
      "  7%|▋         | 1577/21650 [06:33<1:01:54,  5.40it/s]"
     ]
    },
    {
     "name": "stdout",
     "output_type": "stream",
     "text": [
      "Handling salpinctes_obsoletus/XC698480.ogg\n",
      "Handling turdus_migratorius/XC292294.ogg\n",
      "Handling junco_hyemalis/XC20831.ogg\n"
     ]
    },
    {
     "name": "stderr",
     "output_type": "stream",
     "text": [
      "WARNING:absl:Audio loaded successfully.\n",
      "  7%|▋         | 1578/21650 [06:33<1:11:44,  4.66it/s]WARNING:absl:Audio loaded successfully.\n",
      "WARNING:absl:Audio loaded successfully.\n"
     ]
    },
    {
     "name": "stdout",
     "output_type": "stream",
     "text": [
      "Handling catharus_guttatus/XC72220.ogg\n",
      "Handling anas_platyrhynchos/XC358493.ogg\n"
     ]
    },
    {
     "name": "stderr",
     "output_type": "stream",
     "text": [
      "  7%|▋         | 1580/21650 [06:34<1:02:29,  5.35it/s]WARNING:absl:Audio loaded successfully.\n",
      "WARNING:absl:Audio loaded successfully.\n",
      "WARNING:absl:The audio at (/Volumes/BigChongusF/Datasets/Huggingface/gadme_v1/data/downloads/extracted/3c91bd3b848ef81521ad069a8fa6ac2fcacb937635fd0a9971a11200269ae1f7/data/xeno-canto/europe/anas_platyrhynchos/XC588654.ogg / 26) could not be loaded (audio_too_short). The exception was (no_exception)\n",
      "WARNING:absl:Audio loaded successfully.\n"
     ]
    },
    {
     "name": "stdout",
     "output_type": "stream",
     "text": [
      "Handling empidonax_oberholseri/XC315616.ogg\n",
      "Handling catharus_guttatus/XC139639.ogg\n"
     ]
    },
    {
     "name": "stderr",
     "output_type": "stream",
     "text": [
      "  7%|▋         | 1583/21650 [06:34<55:05,  6.07it/s]  WARNING:absl:Audio loaded successfully.\n",
      "WARNING:absl:Audio loaded successfully.\n",
      "WARNING:absl:The audio at (/Volumes/BigChongusF/Datasets/Huggingface/gadme_v1/data/downloads/extracted/3c91bd3b848ef81521ad069a8fa6ac2fcacb937635fd0a9971a11200269ae1f7/data/xeno-canto/europe/anas_platyrhynchos/XC776862.ogg / 25) could not be loaded (audio_too_short). The exception was (no_exception)\n",
      "WARNING:absl:Audio loaded successfully.\n"
     ]
    },
    {
     "name": "stdout",
     "output_type": "stream",
     "text": [
      "Handling vireo_gilvus/XC195842.ogg\n",
      "Handling haemorhous_cassinii/XC736569.ogg\n"
     ]
    },
    {
     "name": "stderr",
     "output_type": "stream",
     "text": [
      "  7%|▋         | 1586/21650 [06:34<44:04,  7.59it/s]WARNING:absl:Audio loaded successfully.\n",
      "WARNING:absl:The audio at (/Volumes/BigChongusF/Datasets/Huggingface/gadme_v1/data/downloads/extracted/33e4b5dac1f3e336b57bc91d4b4ff764b4ae70d484a82c7bdbeb5ac37d235324/data/xeno-canto/europe/anas_platyrhynchos/XC669910.ogg / 1) could not be loaded (audio_too_short). The exception was (no_exception)\n",
      "WARNING:absl:Audio loaded successfully.\n"
     ]
    },
    {
     "name": "stdout",
     "output_type": "stream",
     "text": [
      "Handling setophaga_petechia/XC210419.ogg\n"
     ]
    },
    {
     "name": "stderr",
     "output_type": "stream",
     "text": [
      "  7%|▋         | 1588/21650 [06:35<57:54,  5.77it/s]WARNING:absl:Audio loaded successfully.\n"
     ]
    },
    {
     "name": "stdout",
     "output_type": "stream",
     "text": [
      "Handling salpinctes_obsoletus/XC299264.ogg\n"
     ]
    },
    {
     "name": "stderr",
     "output_type": "stream",
     "text": [
      "  7%|▋         | 1589/21650 [06:36<1:41:31,  3.29it/s]WARNING:absl:Audio loaded successfully.\n",
      "WARNING:absl:Audio loaded successfully.\n",
      "WARNING:absl:The audio at (/Volumes/BigChongusF/Datasets/Huggingface/gadme_v1/data/downloads/extracted/e68da0013aa2de07a892cea4436ef4f05bf18dc840e506a49e4934fad311632a/data/xeno-canto/north_america/zonotrichia_leucophrys/XC322831.ogg / 47) could not be loaded (audio_too_short). The exception was (no_exception)\n",
      "WARNING:absl:Audio loaded successfully.\n",
      "WARNING:absl:The audio at (/Volumes/BigChongusF/Datasets/Huggingface/gadme_v1/data/downloads/extracted/33e4b5dac1f3e336b57bc91d4b4ff764b4ae70d484a82c7bdbeb5ac37d235324/data/xeno-canto/europe/anas_platyrhynchos/XC629654.ogg / 3) could not be loaded (audio_too_short). The exception was (no_exception)\n"
     ]
    },
    {
     "name": "stdout",
     "output_type": "stream",
     "text": [
      "Handling catharus_guttatus/XC348961.ogg\n",
      "Handling colaptes_auratus/XC89181.ogg\n"
     ]
    },
    {
     "name": "stderr",
     "output_type": "stream",
     "text": [
      "WARNING:absl:Audio loaded successfully.\n",
      "  7%|▋         | 1593/21650 [06:37<1:21:22,  4.11it/s]WARNING:absl:Audio loaded successfully.\n"
     ]
    },
    {
     "name": "stdout",
     "output_type": "stream",
     "text": [
      "Handling turdus_migratorius/XC630759.ogg\n"
     ]
    },
    {
     "name": "stderr",
     "output_type": "stream",
     "text": [
      "  7%|▋         | 1594/21650 [06:37<1:34:03,  3.55it/s]WARNING:absl:Audio loaded successfully.\n",
      "  7%|▋         | 1595/21650 [06:37<1:27:34,  3.82it/s]WARNING:absl:Audio loaded successfully.\n"
     ]
    },
    {
     "name": "stdout",
     "output_type": "stream",
     "text": [
      "Handling setophaga_petechia/XC777010.ogg\n",
      "Handling zonotrichia_leucophrys/XC616855.ogg\n"
     ]
    },
    {
     "name": "stderr",
     "output_type": "stream",
     "text": [
      "  7%|▋         | 1596/21650 [06:37<1:17:34,  4.31it/s]WARNING:absl:Audio loaded successfully.\n",
      "  7%|▋         | 1597/21650 [06:37<1:09:35,  4.80it/s]WARNING:absl:Audio loaded successfully.\n"
     ]
    },
    {
     "name": "stdout",
     "output_type": "stream",
     "text": [
      "Handling poecile_gambeli/XC227276.ogg\n",
      "Handling turdus_migratorius/XC409609.ogg\n"
     ]
    },
    {
     "name": "stderr",
     "output_type": "stream",
     "text": [
      "  7%|▋         | 1598/21650 [06:38<1:18:25,  4.26it/s]WARNING:absl:Audio loaded successfully.\n",
      "WARNING:absl:The audio at (/Volumes/BigChongusF/Datasets/Huggingface/gadme_v1/data/downloads/extracted/07a0b04bf9aec2ea5a8729ad6f8ea501c8a851d0f53829912550f376789b18e0/data/xeno-canto/north_america/empidonax_oberholseri/XC123850.ogg / 130) could not be loaded (audio_too_short). The exception was (no_exception)\n",
      "WARNING:absl:Audio loaded successfully.\n",
      "WARNING:absl:The audio at (/Volumes/BigChongusF/Datasets/Huggingface/gadme_v1/data/downloads/extracted/50ee574c5ac7bd04862bf48084e734a9dfb53f6b0bb7e1c7ba86103dd405ec12/data/xeno-canto/north_america/junco_hyemalis/XC563632.ogg / 11) could not be loaded (audio_too_short). The exception was (no_exception)\n",
      "WARNING:absl:Audio loaded successfully.\n",
      "  7%|▋         | 1601/21650 [06:38<44:44,  7.47it/s]  WARNING:absl:Audio loaded successfully.\n"
     ]
    },
    {
     "name": "stdout",
     "output_type": "stream",
     "text": [
      "Handling turdus_migratorius/XC165287.ogg\n",
      "Handling actitis_macularius/XC755638.ogg\n"
     ]
    },
    {
     "name": "stderr",
     "output_type": "stream",
     "text": [
      "WARNING:absl:Audio loaded successfully.\n",
      "WARNING:absl:The audio at (/Volumes/BigChongusF/Datasets/Huggingface/gadme_v1/data/downloads/extracted/3c91bd3b848ef81521ad069a8fa6ac2fcacb937635fd0a9971a11200269ae1f7/data/xeno-canto/europe/anas_platyrhynchos/XC644434.ogg / 0) could not be loaded (audio_too_short). The exception was (no_exception)\n",
      "  7%|▋         | 1603/21650 [06:38<40:13,  8.31it/s]WARNING:absl:Audio loaded successfully.\n",
      "WARNING:absl:Audio loaded successfully.\n"
     ]
    },
    {
     "name": "stdout",
     "output_type": "stream",
     "text": [
      "Handling setophaga_coronata/XC611251.ogg\n",
      "Handling salpinctes_obsoletus/XC482695.ogg\n"
     ]
    },
    {
     "name": "stderr",
     "output_type": "stream",
     "text": [
      "  7%|▋         | 1605/21650 [06:38<38:38,  8.65it/s]WARNING:absl:Audio loaded successfully.\n"
     ]
    },
    {
     "name": "stdout",
     "output_type": "stream",
     "text": [
      "Handling passerella_iliaca/XC416062.ogg\n"
     ]
    },
    {
     "name": "stderr",
     "output_type": "stream",
     "text": [
      "WARNING:absl:Audio loaded successfully.\n",
      "  7%|▋         | 1607/21650 [06:39<52:45,  6.33it/s]WARNING:absl:Audio loaded successfully.\n"
     ]
    },
    {
     "name": "stdout",
     "output_type": "stream",
     "text": [
      "Handling turdus_migratorius/XC189057.ogg\n",
      "Handling turdus_migratorius/XC791176.ogg\n"
     ]
    },
    {
     "name": "stderr",
     "output_type": "stream",
     "text": [
      "  7%|▋         | 1608/21650 [06:39<55:04,  6.06it/s]WARNING:absl:Audio loaded successfully.\n"
     ]
    },
    {
     "name": "stdout",
     "output_type": "stream",
     "text": [
      "Handling anthus_rubescens/XC277511.ogg\n"
     ]
    },
    {
     "name": "stderr",
     "output_type": "stream",
     "text": [
      "  7%|▋         | 1609/21650 [06:39<1:08:16,  4.89it/s]WARNING:absl:Audio loaded successfully.\n",
      "WARNING:absl:The audio at (/Volumes/BigChongusF/Datasets/Huggingface/gadme_v1/data/downloads/extracted/2bce4b9a431bfaabea14c251131c45f38745678853f058a2b2f6b863156d4d60/data/xeno-canto/north_america/catharus_guttatus/XC353690.ogg / 2) could not be loaded (audio_too_short). The exception was (no_exception)\n",
      "WARNING:absl:Audio loaded successfully.\n"
     ]
    },
    {
     "name": "stdout",
     "output_type": "stream",
     "text": [
      "Handling catharus_guttatus/XC149586.ogg\n",
      "Handling anas_platyrhynchos/XC463188.ogg\n"
     ]
    },
    {
     "name": "stderr",
     "output_type": "stream",
     "text": [
      "WARNING:absl:Audio loaded successfully.\n",
      "  7%|▋         | 1612/21650 [06:40<1:29:15,  3.74it/s]WARNING:absl:Audio loaded successfully.\n",
      "WARNING:absl:Audio loaded successfully.\n",
      "  7%|▋         | 1614/21650 [06:41<1:10:51,  4.71it/s]WARNING:absl:Audio loaded successfully.\n",
      "WARNING:absl:The audio at (/Volumes/BigChongusF/Datasets/Huggingface/gadme_v1/data/downloads/extracted/3d85f3c0a899f9d3cbe3db58b54d5391856ba30e3a4e013b856bbac6ef8521eb/data/xeno-canto/north_america/leiothlypis_celata/XC302646.ogg / 37) could not be loaded (audio_too_short). The exception was (no_exception)\n"
     ]
    },
    {
     "name": "stdout",
     "output_type": "stream",
     "text": [
      "Handling salpinctes_obsoletus/XC451709.ogg\n",
      "Handling zonotrichia_leucophrys/XC639166.ogg\n",
      "Handling vireo_gilvus/XC188510.ogg\n"
     ]
    },
    {
     "name": "stderr",
     "output_type": "stream",
     "text": [
      "WARNING:absl:Audio loaded successfully.\n",
      "  7%|▋         | 1616/21650 [06:41<1:02:09,  5.37it/s]WARNING:absl:Audio loaded successfully.\n",
      "WARNING:absl:Audio loaded successfully.\n",
      "WARNING:absl:Audio loaded successfully.\n"
     ]
    },
    {
     "name": "stdout",
     "output_type": "stream",
     "text": [
      "Handling poecile_gambeli/XC71783.ogg\n",
      "Handling empidonax_oberholseri/XC123854.ogg\n",
      "Handling anas_platyrhynchos/XC450270.ogg\n"
     ]
    },
    {
     "name": "stderr",
     "output_type": "stream",
     "text": [
      "  7%|▋         | 1619/21650 [06:41<48:42,  6.86it/s]  WARNING:absl:Audio loaded successfully.\n"
     ]
    },
    {
     "name": "stdout",
     "output_type": "stream",
     "text": [
      "Handling setophaga_petechia/XC201975.ogg\n"
     ]
    },
    {
     "name": "stderr",
     "output_type": "stream",
     "text": [
      "  7%|▋         | 1620/21650 [06:42<1:05:57,  5.06it/s]WARNING:absl:Audio loaded successfully.\n"
     ]
    },
    {
     "name": "stdout",
     "output_type": "stream",
     "text": [
      "Handling zonotrichia_leucophrys/XC99572.ogg\n"
     ]
    },
    {
     "name": "stderr",
     "output_type": "stream",
     "text": [
      "  7%|▋         | 1621/21650 [06:42<1:11:16,  4.68it/s]WARNING:absl:Audio loaded successfully.\n",
      "WARNING:absl:Audio loaded successfully.\n"
     ]
    },
    {
     "name": "stdout",
     "output_type": "stream",
     "text": [
      "Handling vireo_gilvus/XC190062.ogg\n",
      "Handling leiothlypis_celata/XC406264.ogg\n"
     ]
    },
    {
     "name": "stderr",
     "output_type": "stream",
     "text": [
      "  7%|▋         | 1623/21650 [06:42<58:59,  5.66it/s]  WARNING:absl:Audio loaded successfully.\n",
      "WARNING:absl:Audio loaded successfully.\n",
      "  8%|▊         | 1625/21650 [06:42<49:15,  6.78it/s]"
     ]
    },
    {
     "name": "stdout",
     "output_type": "stream",
     "text": [
      "Handling turdus_migratorius/XC564545.ogg\n",
      "Handling setophaga_petechia/XC335045.ogg\n",
      "Handling junco_hyemalis/XC324192.ogg\n"
     ]
    },
    {
     "name": "stderr",
     "output_type": "stream",
     "text": [
      "WARNING:absl:Audio loaded successfully.\n",
      "  8%|▊         | 1626/21650 [06:42<49:35,  6.73it/s]WARNING:absl:Audio loaded successfully.\n",
      "WARNING:absl:Audio loaded successfully.\n",
      "  8%|▊         | 1628/21650 [06:43<40:30,  8.24it/s]WARNING:absl:Audio loaded successfully.\n"
     ]
    },
    {
     "name": "stdout",
     "output_type": "stream",
     "text": [
      "Handling catharus_guttatus/XC373818.ogg\n",
      "Handling catharus_guttatus/XC211199.ogg\n",
      "Handling vireo_gilvus/XC181406.ogg\n"
     ]
    },
    {
     "name": "stderr",
     "output_type": "stream",
     "text": [
      "  8%|▊         | 1629/21650 [06:43<46:10,  7.23it/s]WARNING:absl:Audio loaded successfully.\n",
      "  8%|▊         | 1630/21650 [06:43<47:11,  7.07it/s]WARNING:absl:Audio loaded successfully.\n"
     ]
    },
    {
     "name": "stdout",
     "output_type": "stream",
     "text": [
      "Handling junco_hyemalis/XC149907.ogg\n",
      "Handling vireo_gilvus/XC803999.ogg\n"
     ]
    },
    {
     "name": "stderr",
     "output_type": "stream",
     "text": [
      "  8%|▊         | 1631/21650 [06:43<44:14,  7.54it/s]WARNING:absl:Audio loaded successfully.\n"
     ]
    },
    {
     "name": "stdout",
     "output_type": "stream",
     "text": [
      "Handling anas_platyrhynchos/XC583969.ogg\n"
     ]
    },
    {
     "name": "stderr",
     "output_type": "stream",
     "text": [
      "  8%|▊         | 1632/21650 [06:44<2:09:01,  2.59it/s]WARNING:absl:Audio loaded successfully.\n",
      "  8%|▊         | 1633/21650 [06:44<1:45:23,  3.17it/s]WARNING:absl:Audio loaded successfully.\n"
     ]
    },
    {
     "name": "stdout",
     "output_type": "stream",
     "text": [
      "Handling catharus_guttatus/XC351969.ogg\n",
      "Handling turdus_migratorius/XC342493.ogg\n"
     ]
    },
    {
     "name": "stderr",
     "output_type": "stream",
     "text": [
      "WARNING:absl:Audio loaded successfully.\n",
      "WARNING:absl:The audio at (/Volumes/BigChongusF/Datasets/Huggingface/gadme_v1/data/downloads/extracted/3d85f3c0a899f9d3cbe3db58b54d5391856ba30e3a4e013b856bbac6ef8521eb/data/xeno-canto/north_america/leiothlypis_celata/XC416080.ogg / 0) could not be loaded (audio_too_short). The exception was (no_exception)\n",
      "WARNING:absl:Audio loaded successfully.\n",
      "  8%|▊         | 1636/21650 [06:44<1:04:30,  5.17it/s]"
     ]
    },
    {
     "name": "stdout",
     "output_type": "stream",
     "text": [
      "Handling catharus_guttatus/XC353692.ogg\n",
      "Handling anas_platyrhynchos/XC99980.ogg\n"
     ]
    },
    {
     "name": "stderr",
     "output_type": "stream",
     "text": [
      "WARNING:absl:Audio loaded successfully.\n",
      "  8%|▊         | 1637/21650 [06:45<1:11:13,  4.68it/s]WARNING:absl:Audio loaded successfully.\n",
      "WARNING:absl:Audio loaded successfully.\n",
      "  8%|▊         | 1639/21650 [06:45<52:48,  6.32it/s]  WARNING:absl:Audio loaded successfully.\n",
      "WARNING:absl:The audio at (/Volumes/BigChongusF/Datasets/Huggingface/gadme_v1/data/downloads/extracted/07a0b04bf9aec2ea5a8729ad6f8ea501c8a851d0f53829912550f376789b18e0/data/xeno-canto/north_america/empidonax_oberholseri/XC482173.ogg / 32) could not be loaded (audio_too_short). The exception was (no_exception)\n",
      "WARNING:absl:Audio loaded successfully.\n"
     ]
    },
    {
     "name": "stdout",
     "output_type": "stream",
     "text": [
      "Handling vireo_gilvus/XC324999.ogg\n",
      "Handling junco_hyemalis/XC408651.ogg\n",
      "Handling nucifraga_columbiana/XC574408.ogg\n"
     ]
    },
    {
     "name": "stderr",
     "output_type": "stream",
     "text": [
      "  8%|▊         | 1641/21650 [06:45<45:57,  7.26it/s]WARNING:absl:Audio loaded successfully.\n"
     ]
    },
    {
     "name": "stdout",
     "output_type": "stream",
     "text": [
      "Handling zonotrichia_leucophrys/XC253837.ogg\n"
     ]
    },
    {
     "name": "stderr",
     "output_type": "stream",
     "text": [
      "  8%|▊         | 1642/21650 [06:46<1:16:27,  4.36it/s]WARNING:absl:Audio loaded successfully.\n"
     ]
    },
    {
     "name": "stdout",
     "output_type": "stream",
     "text": [
      "Handling passerella_iliaca/XC433433.ogg\n"
     ]
    },
    {
     "name": "stderr",
     "output_type": "stream",
     "text": [
      "  8%|▊         | 1643/21650 [06:46<1:22:57,  4.02it/s]WARNING:absl:Audio loaded successfully.\n",
      "  8%|▊         | 1644/21650 [06:46<1:12:12,  4.62it/s]WARNING:absl:Audio loaded successfully.\n"
     ]
    },
    {
     "name": "stdout",
     "output_type": "stream",
     "text": [
      "Handling catharus_guttatus/XC299851.ogg\n",
      "Handling poecile_gambeli/XC448733.ogg\n"
     ]
    },
    {
     "name": "stderr",
     "output_type": "stream",
     "text": [
      "  8%|▊         | 1645/21650 [06:46<1:23:58,  3.97it/s]WARNING:absl:Audio loaded successfully.\n",
      "  8%|▊         | 1646/21650 [06:47<1:12:34,  4.59it/s]"
     ]
    },
    {
     "name": "stdout",
     "output_type": "stream",
     "text": [
      "Handling zonotrichia_leucophrys/XC158954.ogg\n",
      "Handling catharus_guttatus/XC582382.ogg\n"
     ]
    },
    {
     "name": "stderr",
     "output_type": "stream",
     "text": [
      "WARNING:absl:Audio loaded successfully.\n",
      "  8%|▊         | 1647/21650 [06:47<2:10:40,  2.55it/s]WARNING:absl:Audio loaded successfully.\n",
      "WARNING:absl:Audio loaded successfully.\n"
     ]
    },
    {
     "name": "stdout",
     "output_type": "stream",
     "text": [
      "Handling turdus_migratorius/XC574482.ogg\n",
      "Handling setophaga_petechia/XC497901.ogg\n"
     ]
    },
    {
     "name": "stderr",
     "output_type": "stream",
     "text": [
      "  8%|▊         | 1649/21650 [06:48<1:33:02,  3.58it/s]WARNING:absl:Audio loaded successfully.\n",
      "WARNING:absl:Audio loaded successfully.\n",
      "WARNING:absl:The audio at (/Volumes/BigChongusF/Datasets/Huggingface/gadme_v1/data/downloads/extracted/2bce4b9a431bfaabea14c251131c45f38745678853f058a2b2f6b863156d4d60/data/xeno-canto/north_america/catharus_guttatus/XC72218.ogg / 1) could not be loaded (audio_too_short). The exception was (no_exception)\n",
      "  8%|▊         | 1651/21650 [06:48<1:03:38,  5.24it/s]WARNING:absl:Audio loaded successfully.\n",
      "WARNING:absl:Audio loaded successfully.\n"
     ]
    },
    {
     "name": "stdout",
     "output_type": "stream",
     "text": [
      "Handling junco_hyemalis/XC159661.ogg\n",
      "Handling salpinctes_obsoletus/XC599355.ogg\n",
      "Handling colaptes_auratus/XC330758.ogg\n",
      "Handling salpinctes_obsoletus/XC109272.ogg\n"
     ]
    },
    {
     "name": "stderr",
     "output_type": "stream",
     "text": [
      "WARNING:absl:Audio loaded successfully.\n",
      "  8%|▊         | 1654/21650 [06:48<46:01,  7.24it/s]  WARNING:absl:Audio loaded successfully.\n",
      "WARNING:absl:The audio at (/Volumes/BigChongusF/Datasets/Huggingface/gadme_v1/data/downloads/extracted/fac58f85f06876ff8f6cab02102aac36e733cd077a257f05b209b05f983d3ecc/data/xeno-canto/north_america/vireo_gilvus/XC1197.ogg / 0) could not be loaded (audio_too_short). The exception was (no_exception)\n",
      "WARNING:absl:Audio loaded successfully.\n",
      "WARNING:absl:The audio at (/Volumes/BigChongusF/Datasets/Huggingface/gadme_v1/data/downloads/extracted/c654a2fa7284c6b9ad2b65fb7d03c399719d51032c53323567e62583eb09dd11/data/xeno-canto/north_america/catharus_guttatus/XC630705.ogg / 0) could not be loaded (audio_too_short). The exception was (no_exception)\n",
      "WARNING:absl:Audio loaded successfully.\n",
      "WARNING:absl:The audio at (/Volumes/BigChongusF/Datasets/Huggingface/gadme_v1/data/downloads/extracted/4fb52febc9ddf975fdb63222180f988dd27c8c7cb7b968eda935c6020ef0e853/data/xeno-canto/north_america/anthus_rubescens/XC188038.ogg / 26) could not be loaded (audio_too_short). The exception was (no_exception)\n",
      "WARNING:absl:Audio loaded successfully.\n"
     ]
    },
    {
     "name": "stdout",
     "output_type": "stream",
     "text": [
      "Handling vireo_gilvus/XC418280.ogg\n"
     ]
    },
    {
     "name": "stderr",
     "output_type": "stream",
     "text": [
      "  8%|▊         | 1658/21650 [06:49<45:22,  7.34it/s]WARNING:absl:Audio loaded successfully.\n"
     ]
    },
    {
     "name": "stdout",
     "output_type": "stream",
     "text": [
      "Handling poecile_gambeli/XC267932.ogg\n"
     ]
    },
    {
     "name": "stderr",
     "output_type": "stream",
     "text": [
      "  8%|▊         | 1659/21650 [06:50<1:23:56,  3.97it/s]WARNING:absl:Audio loaded successfully.\n",
      "  8%|▊         | 1660/21650 [06:50<1:20:49,  4.12it/s]"
     ]
    },
    {
     "name": "stdout",
     "output_type": "stream",
     "text": [
      "Handling catharus_guttatus/XC323236.ogg\n",
      "Handling catharus_guttatus/XC205937.ogg\n"
     ]
    },
    {
     "name": "stderr",
     "output_type": "stream",
     "text": [
      "WARNING:absl:Audio loaded successfully.\n",
      "WARNING:absl:Audio loaded successfully.\n",
      "  8%|▊         | 1662/21650 [06:50<1:10:17,  4.74it/s]"
     ]
    },
    {
     "name": "stdout",
     "output_type": "stream",
     "text": [
      "Handling setophaga_petechia/XC121473.ogg\n",
      "Handling salpinctes_obsoletus/XC509558.ogg\n"
     ]
    },
    {
     "name": "stderr",
     "output_type": "stream",
     "text": [
      "WARNING:absl:Audio loaded successfully.\n",
      "  8%|▊         | 1663/21650 [06:50<1:05:09,  5.11it/s]WARNING:absl:Audio loaded successfully.\n",
      "WARNING:absl:The audio at (/Volumes/BigChongusF/Datasets/Huggingface/gadme_v1/data/downloads/extracted/3c91bd3b848ef81521ad069a8fa6ac2fcacb937635fd0a9971a11200269ae1f7/data/xeno-canto/north_america/anas_platyrhynchos/XC536894.ogg / 0) could not be loaded (audio_too_short). The exception was (no_exception)\n",
      "WARNING:absl:Audio loaded successfully.\n",
      "  8%|▊         | 1665/21650 [06:50<49:15,  6.76it/s]  WARNING:absl:Audio loaded successfully.\n",
      "WARNING:absl:The audio at (/Volumes/BigChongusF/Datasets/Huggingface/gadme_v1/data/downloads/extracted/4fb52febc9ddf975fdb63222180f988dd27c8c7cb7b968eda935c6020ef0e853/data/xeno-canto/asia/anthus_rubescens/XC395155.ogg / 0) could not be loaded (audio_too_short). The exception was (no_exception)\n",
      "WARNING:absl:Audio loaded successfully.\n",
      "WARNING:absl:The audio at (/Volumes/BigChongusF/Datasets/Huggingface/gadme_v1/data/downloads/extracted/ec613fac723ec2b148b37e696a540c4078e291087c8525c0be0e654266f29161/data/xeno-canto/north_america/colaptes_auratus/XC737157.ogg / 3) could not be loaded (audio_too_short). The exception was (no_exception)\n",
      "WARNING:absl:Audio loaded successfully.\n"
     ]
    },
    {
     "name": "stdout",
     "output_type": "stream",
     "text": [
      "Handling leiothlypis_celata/XC192892.ogg\n",
      "Handling anthus_rubescens/XC210758.ogg\n",
      "Handling anas_platyrhynchos/XC648250.ogg\n"
     ]
    },
    {
     "name": "stderr",
     "output_type": "stream",
     "text": [
      "WARNING:absl:Audio loaded successfully.\n",
      "  8%|▊         | 1669/21650 [06:50<33:48,  9.85it/s]WARNING:absl:Audio loaded successfully.\n"
     ]
    },
    {
     "name": "stdout",
     "output_type": "stream",
     "text": [
      "Handling catharus_guttatus/XC750448.ogg\n"
     ]
    },
    {
     "name": "stderr",
     "output_type": "stream",
     "text": [
      "WARNING:absl:Audio loaded successfully.\n",
      "  8%|▊         | 1671/21650 [06:51<49:35,  6.71it/s]WARNING:absl:Audio loaded successfully.\n",
      "WARNING:absl:The audio at (/Volumes/BigChongusF/Datasets/Huggingface/gadme_v1/data/downloads/extracted/33e4b5dac1f3e336b57bc91d4b4ff764b4ae70d484a82c7bdbeb5ac37d235324/data/xeno-canto/europe/anas_platyrhynchos/XC730554.ogg / 10) could not be loaded (audio_too_short). The exception was (no_exception)\n",
      "WARNING:absl:Audio loaded successfully.\n",
      "WARNING:absl:The audio at (/Volumes/BigChongusF/Datasets/Huggingface/gadme_v1/data/downloads/extracted/50ee574c5ac7bd04862bf48084e734a9dfb53f6b0bb7e1c7ba86103dd405ec12/data/xeno-canto/north_america/junco_hyemalis/XC408664.ogg / 0) could not be loaded (audio_too_short). The exception was (no_exception)\n",
      "WARNING:absl:Audio loaded successfully.\n"
     ]
    },
    {
     "name": "stdout",
     "output_type": "stream",
     "text": [
      "Handling haemorhous_cassinii/XC71820.ogg\n",
      "Handling anas_platyrhynchos/XC635041.ogg\n"
     ]
    },
    {
     "name": "stderr",
     "output_type": "stream",
     "text": [
      "  8%|▊         | 1674/21650 [06:51<42:29,  7.84it/s]"
     ]
    },
    {
     "name": "stdout",
     "output_type": "stream",
     "text": [
      "Handling leiothlypis_celata/XC353689.ogg\n"
     ]
    },
    {
     "name": "stderr",
     "output_type": "stream",
     "text": [
      "WARNING:absl:Audio loaded successfully.\n",
      "WARNING:absl:Audio loaded successfully.\n"
     ]
    },
    {
     "name": "stdout",
     "output_type": "stream",
     "text": [
      "Handling junco_hyemalis/XC535136.ogg\n"
     ]
    },
    {
     "name": "stderr",
     "output_type": "stream",
     "text": [
      "  8%|▊         | 1676/21650 [06:53<1:53:58,  2.92it/s]WARNING:absl:Audio loaded successfully.\n"
     ]
    },
    {
     "name": "stdout",
     "output_type": "stream",
     "text": [
      "Handling vireo_gilvus/XC762163.ogg\n"
     ]
    },
    {
     "name": "stderr",
     "output_type": "stream",
     "text": [
      "  8%|▊         | 1677/21650 [06:54<1:50:52,  3.00it/s]WARNING:absl:Audio loaded successfully.\n",
      "WARNING:absl:The audio at (/Volumes/BigChongusF/Datasets/Huggingface/gadme_v1/data/downloads/extracted/3c91bd3b848ef81521ad069a8fa6ac2fcacb937635fd0a9971a11200269ae1f7/data/xeno-canto/europe/anas_platyrhynchos/XC685836.ogg / 3) could not be loaded (audio_too_short). The exception was (no_exception)\n",
      "WARNING:absl:Audio loaded successfully.\n",
      "WARNING:absl:The audio at (/Volumes/BigChongusF/Datasets/Huggingface/gadme_v1/data/downloads/extracted/ada15457cc2a05bc400bb7409cbc22ad2f43c290ca6a05bf824bb875476f852c/data/xeno-canto/north_america/junco_hyemalis/XC368497.ogg / 0) could not be loaded (audio_too_short). The exception was (no_exception)\n",
      "WARNING:absl:Audio loaded successfully.\n",
      "  8%|▊         | 1680/21650 [06:54<1:12:59,  4.56it/s]"
     ]
    },
    {
     "name": "stdout",
     "output_type": "stream",
     "text": [
      "Handling junco_hyemalis/XC605343.ogg\n",
      "Handling turdus_migratorius/XC160563.ogg\n"
     ]
    },
    {
     "name": "stderr",
     "output_type": "stream",
     "text": [
      "WARNING:absl:Audio loaded successfully.\n",
      "WARNING:absl:Audio loaded successfully.\n",
      "  8%|▊         | 1682/21650 [06:55<2:15:05,  2.46it/s]"
     ]
    },
    {
     "name": "stdout",
     "output_type": "stream",
     "text": [
      "Handling catharus_guttatus/XC159794.ogg\n",
      "Handling empidonax_oberholseri/XC769231.ogg\n"
     ]
    },
    {
     "name": "stderr",
     "output_type": "stream",
     "text": [
      "WARNING:absl:Audio loaded successfully.\n",
      "  8%|▊         | 1683/21650 [06:56<2:23:59,  2.31it/s]WARNING:absl:Audio loaded successfully.\n",
      "WARNING:absl:The audio at (/Volumes/BigChongusF/Datasets/Huggingface/gadme_v1/data/downloads/extracted/cd49b3631d04d3feff17b776f29f4fc3d66002b528c452baf906c78c1580d75a/data/xeno-canto/north_america/setophaga_coronata/XC59122.ogg / 1) could not be loaded (audio_too_short). The exception was (no_exception)\n",
      "WARNING:absl:Audio loaded successfully.\n"
     ]
    },
    {
     "name": "stdout",
     "output_type": "stream",
     "text": [
      "Handling leiothlypis_celata/XC157770.ogg\n"
     ]
    },
    {
     "name": "stderr",
     "output_type": "stream",
     "text": [
      "  8%|▊         | 1685/21650 [06:57<2:14:05,  2.48it/s]WARNING:absl:Audio loaded successfully.\n"
     ]
    },
    {
     "name": "stdout",
     "output_type": "stream",
     "text": [
      "Handling vireo_gilvus/XC323676.ogg\n"
     ]
    },
    {
     "name": "stderr",
     "output_type": "stream",
     "text": [
      "  8%|▊         | 1686/21650 [06:57<2:15:04,  2.46it/s]WARNING:absl:Audio loaded successfully.\n",
      "  8%|▊         | 1687/21650 [06:57<1:55:12,  2.89it/s]WARNING:absl:Audio loaded successfully.\n",
      "WARNING:absl:The audio at (/Volumes/BigChongusF/Datasets/Huggingface/gadme_v1/data/downloads/extracted/3d85f3c0a899f9d3cbe3db58b54d5391856ba30e3a4e013b856bbac6ef8521eb/data/xeno-canto/north_america/euphagus_cyanocephalus/XC104520.ogg / 13) could not be loaded (audio_too_short). The exception was (no_exception)\n",
      "WARNING:absl:Audio loaded successfully.\n"
     ]
    },
    {
     "name": "stdout",
     "output_type": "stream",
     "text": [
      "Handling empidonax_oberholseri/XC205923.ogg\n",
      "Handling setophaga_coronata/XC159690.ogg\n"
     ]
    },
    {
     "name": "stderr",
     "output_type": "stream",
     "text": [
      "  8%|▊         | 1689/21650 [06:57<1:21:54,  4.06it/s]WARNING:absl:Audio loaded successfully.\n",
      "WARNING:absl:Audio loaded successfully.\n",
      "  8%|▊         | 1691/21650 [06:58<59:35,  5.58it/s]  "
     ]
    },
    {
     "name": "stdout",
     "output_type": "stream",
     "text": [
      "Handling poecile_gambeli/XC513714.ogg\n",
      "Handling anas_platyrhynchos/XC508333.ogg\n",
      "Handling anas_platyrhynchos/XC634632.ogg\n"
     ]
    },
    {
     "name": "stderr",
     "output_type": "stream",
     "text": [
      "WARNING:absl:Audio loaded successfully.\n",
      "WARNING:absl:Audio loaded successfully.\n",
      "WARNING:absl:The audio at (/Volumes/BigChongusF/Datasets/Huggingface/gadme_v1/data/downloads/extracted/c05b01b23568feda718271d2aa149124fd50d510bd99663cbd8752481054e53b/data/xeno-canto/north_america/actitis_macularius/XC271728.ogg / 0) could not be loaded (audio_too_short). The exception was (no_exception)\n",
      "  8%|▊         | 1693/21650 [06:58<1:08:24,  4.86it/s]WARNING:absl:Audio loaded successfully.\n"
     ]
    },
    {
     "name": "stdout",
     "output_type": "stream",
     "text": [
      "Handling junco_hyemalis/XC195781.ogg\n"
     ]
    },
    {
     "name": "stderr",
     "output_type": "stream",
     "text": [
      "  8%|▊         | 1694/21650 [06:59<2:02:48,  2.71it/s]WARNING:absl:Audio loaded successfully.\n",
      "  8%|▊         | 1695/21650 [06:59<1:49:33,  3.04it/s]WARNING:absl:Audio loaded successfully.\n",
      "WARNING:absl:The audio at (/Volumes/BigChongusF/Datasets/Huggingface/gadme_v1/data/downloads/extracted/c05b01b23568feda718271d2aa149124fd50d510bd99663cbd8752481054e53b/data/xeno-canto/north_america/actitis_macularius/XC109327.ogg / 0) could not be loaded (audio_too_short). The exception was (no_exception)\n",
      "WARNING:absl:Audio loaded successfully.\n",
      "WARNING:absl:The audio at (/Volumes/BigChongusF/Datasets/Huggingface/gadme_v1/data/downloads/extracted/d145e8851ba4925920daf81a23e20f777cd5b92fd94d310de6aa4a44c03ba695/data/xeno-canto/north_america/vireo_gilvus/XC325131.ogg / 1) could not be loaded (audio_too_short). The exception was (no_exception)\n"
     ]
    },
    {
     "name": "stdout",
     "output_type": "stream",
     "text": [
      "Handling colaptes_auratus/XC561464.ogg\n",
      "Handling passerella_iliaca/XC535170.ogg\n"
     ]
    },
    {
     "name": "stderr",
     "output_type": "stream",
     "text": [
      "WARNING:absl:Audio loaded successfully.\n",
      "  8%|▊         | 1698/21650 [07:00<1:23:59,  3.96it/s]WARNING:absl:Audio loaded successfully.\n"
     ]
    },
    {
     "name": "stdout",
     "output_type": "stream",
     "text": [
      "Handling anas_platyrhynchos/XC459630.ogg\n"
     ]
    },
    {
     "name": "stderr",
     "output_type": "stream",
     "text": [
      "  8%|▊         | 1699/21650 [07:00<1:32:21,  3.60it/s]WARNING:absl:Audio loaded successfully.\n"
     ]
    },
    {
     "name": "stdout",
     "output_type": "stream",
     "text": [
      "Handling euphagus_cyanocephalus/XC159782.ogg\n",
      "Handling anas_platyrhynchos/XC717933.ogg\n"
     ]
    },
    {
     "name": "stderr",
     "output_type": "stream",
     "text": [
      "WARNING:absl:Audio loaded successfully.\n",
      "  8%|▊         | 1701/21650 [07:02<2:32:20,  2.18it/s]WARNING:absl:Audio loaded successfully.\n"
     ]
    },
    {
     "name": "stdout",
     "output_type": "stream",
     "text": [
      "Handling passerella_iliaca/XC267723.ogg\n"
     ]
    },
    {
     "name": "stderr",
     "output_type": "stream",
     "text": [
      "  8%|▊         | 1702/21650 [07:02<2:27:55,  2.25it/s]WARNING:absl:Audio loaded successfully.\n",
      "WARNING:absl:The audio at (/Volumes/BigChongusF/Datasets/Huggingface/gadme_v1/data/downloads/extracted/657bb7ca7e00d187968c3a3fed754f2f43eea8c80f8b9290f46e2ef76a629ca6/data/xeno-canto/north_america/zonotrichia_leucophrys/XC679071.ogg / 0) could not be loaded (audio_too_short). The exception was (no_exception)\n",
      "WARNING:absl:Audio loaded successfully.\n",
      "WARNING:absl:Audio loaded successfully.\n"
     ]
    },
    {
     "name": "stdout",
     "output_type": "stream",
     "text": [
      "Handling junco_hyemalis/XC628047.ogg\n",
      "Handling poecile_gambeli/XC322285.ogg\n"
     ]
    },
    {
     "name": "stderr",
     "output_type": "stream",
     "text": [
      "  8%|▊         | 1705/21650 [07:03<1:38:23,  3.38it/s]WARNING:absl:Audio loaded successfully.\n",
      "  8%|▊         | 1706/21650 [07:03<1:27:05,  3.82it/s]WARNING:absl:Audio loaded successfully.\n"
     ]
    },
    {
     "name": "stdout",
     "output_type": "stream",
     "text": [
      "Handling junco_hyemalis/XC776032.ogg\n",
      "Handling junco_hyemalis/XC663743.ogg\n"
     ]
    },
    {
     "name": "stderr",
     "output_type": "stream",
     "text": [
      "  8%|▊         | 1707/21650 [07:03<1:23:32,  3.98it/s]WARNING:absl:Audio loaded successfully.\n",
      "WARNING:absl:Audio loaded successfully.\n"
     ]
    },
    {
     "name": "stdout",
     "output_type": "stream",
     "text": [
      "Handling setophaga_coronata/XC391468.ogg\n",
      "Handling anas_platyrhynchos/XC267183.ogg\n"
     ]
    },
    {
     "name": "stderr",
     "output_type": "stream",
     "text": [
      "  8%|▊         | 1709/21650 [07:03<1:19:20,  4.19it/s]WARNING:absl:Audio loaded successfully.\n",
      "WARNING:absl:The audio at (/Volumes/BigChongusF/Datasets/Huggingface/gadme_v1/data/downloads/extracted/a96403d40c322662ebeb3491a302e2c51400c2d2021ddf36a2ee48c75eff8848/data/xeno-canto/north_america/catharus_guttatus/XC448793.ogg / 5) could not be loaded (audio_too_short). The exception was (no_exception)\n",
      "WARNING:absl:Audio loaded successfully.\n",
      "  8%|▊         | 1711/21650 [07:03<58:47,  5.65it/s]  WARNING:absl:Audio loaded successfully.\n",
      "WARNING:absl:The audio at (/Volumes/BigChongusF/Datasets/Huggingface/gadme_v1/data/downloads/extracted/81e1b796790f26dbc25ae8fbe4e7b2707eea32146a66d4954952be1661457843/data/xeno-canto/north_america/leiothlypis_celata/XC160274.ogg / 0) could not be loaded (audio_too_short). The exception was (no_exception)\n",
      "WARNING:absl:Audio loaded successfully.\n"
     ]
    },
    {
     "name": "stdout",
     "output_type": "stream",
     "text": [
      "Handling setophaga_coronata/XC269067.ogg\n",
      "Handling zonotrichia_leucophrys/XC611725.ogg\n"
     ]
    },
    {
     "name": "stderr",
     "output_type": "stream",
     "text": [
      "  8%|▊         | 1713/21650 [07:04<46:57,  7.08it/s]WARNING:absl:Audio loaded successfully.\n",
      "WARNING:absl:Audio loaded successfully.\n",
      "WARNING:absl:The audio at (/Volumes/BigChongusF/Datasets/Huggingface/gadme_v1/data/downloads/extracted/98abf88c43673ba8815287f519e7fd3afff386504e64afb04778689c24fd08c9/data/xeno-canto/north_america/poecile_gambeli/XC748154.ogg / 0) could not be loaded (audio_too_short). The exception was (no_exception)\n",
      "  8%|▊         | 1715/21650 [07:04<37:20,  8.90it/s]WARNING:absl:Audio loaded successfully.\n"
     ]
    },
    {
     "name": "stdout",
     "output_type": "stream",
     "text": [
      "Handling setophaga_coronata/XC269068.ogg\n",
      "Handling turdus_migratorius/XC228297.ogg\n"
     ]
    },
    {
     "name": "stderr",
     "output_type": "stream",
     "text": [
      "WARNING:absl:Audio loaded successfully.\n",
      "WARNING:absl:The audio at (/Volumes/BigChongusF/Datasets/Huggingface/gadme_v1/data/downloads/extracted/fac58f85f06876ff8f6cab02102aac36e733cd077a257f05b209b05f983d3ecc/data/xeno-canto/north_america/vireo_gilvus/XC70017.ogg / 3) could not be loaded (audio_too_short). The exception was (no_exception)\n",
      "  8%|▊         | 1717/21650 [07:04<37:47,  8.79it/s]WARNING:absl:Audio loaded successfully.\n"
     ]
    },
    {
     "name": "stdout",
     "output_type": "stream",
     "text": [
      "Handling poecile_gambeli/XC622764.ogg\n"
     ]
    },
    {
     "name": "stderr",
     "output_type": "stream",
     "text": [
      "WARNING:absl:Audio loaded successfully.\n"
     ]
    },
    {
     "name": "stdout",
     "output_type": "stream",
     "text": [
      "Handling zonotrichia_leucophrys/XC445849.ogg\n"
     ]
    },
    {
     "name": "stderr",
     "output_type": "stream",
     "text": [
      "  8%|▊         | 1719/21650 [07:04<53:42,  6.19it/s]WARNING:absl:Audio loaded successfully.\n",
      "WARNING:absl:The audio at (/Volumes/BigChongusF/Datasets/Huggingface/gadme_v1/data/downloads/extracted/3d85f3c0a899f9d3cbe3db58b54d5391856ba30e3a4e013b856bbac6ef8521eb/data/xeno-canto/north_america/leiothlypis_celata/XC808325.ogg / 12) could not be loaded (audio_too_short). The exception was (no_exception)\n",
      "WARNING:absl:Audio loaded successfully.\n"
     ]
    },
    {
     "name": "stdout",
     "output_type": "stream",
     "text": [
      "Handling vireo_gilvus/XC190063.ogg\n"
     ]
    },
    {
     "name": "stderr",
     "output_type": "stream",
     "text": [
      "  8%|▊         | 1721/21650 [07:05<55:49,  5.95it/s]WARNING:absl:Audio loaded successfully.\n",
      "WARNING:absl:The audio at (/Volumes/BigChongusF/Datasets/Huggingface/gadme_v1/data/downloads/extracted/7c313317d9bce50ea88db0b3d3672870e262462cefb5c130892cba54b586da3d/data/xeno-canto/north_america/sialia_currucoides/XC253329.ogg / 5) could not be loaded (audio_too_short). The exception was (no_exception)\n",
      "WARNING:absl:Audio loaded successfully.\n"
     ]
    },
    {
     "name": "stdout",
     "output_type": "stream",
     "text": [
      "Handling junco_hyemalis/XC367068.ogg\n"
     ]
    },
    {
     "name": "stderr",
     "output_type": "stream",
     "text": [
      "  8%|▊         | 1723/21650 [07:05<49:18,  6.74it/s]WARNING:absl:Audio loaded successfully.\n"
     ]
    },
    {
     "name": "stdout",
     "output_type": "stream",
     "text": [
      "Handling haemorhous_cassinii/XC564616.ogg\n"
     ]
    },
    {
     "name": "stderr",
     "output_type": "stream",
     "text": [
      "  8%|▊         | 1724/21650 [07:05<1:03:30,  5.23it/s]"
     ]
    },
    {
     "name": "stdout",
     "output_type": "stream",
     "text": [
      "Handling vireo_gilvus/XC552551.ogg\n"
     ]
    },
    {
     "name": "stderr",
     "output_type": "stream",
     "text": [
      "WARNING:absl:Audio loaded successfully.\n",
      "  8%|▊         | 1725/21650 [07:07<2:13:23,  2.49it/s]WARNING:absl:Audio loaded successfully.\n",
      "WARNING:absl:Audio loaded successfully.\n",
      "WARNING:absl:The audio at (/Volumes/BigChongusF/Datasets/Huggingface/gadme_v1/data/downloads/extracted/c05b01b23568feda718271d2aa149124fd50d510bd99663cbd8752481054e53b/data/xeno-canto/europe/anas_platyrhynchos/XC138603.ogg / 2) could not be loaded (audio_too_short). The exception was (no_exception)\n",
      "WARNING:absl:Audio loaded successfully.\n",
      "WARNING:absl:The audio at (/Volumes/BigChongusF/Datasets/Huggingface/gadme_v1/data/downloads/extracted/81e1b796790f26dbc25ae8fbe4e7b2707eea32146a66d4954952be1661457843/data/xeno-canto/north_america/leiothlypis_celata/XC157623.ogg / 0) could not be loaded (audio_too_short). The exception was (no_exception)\n",
      "WARNING:absl:Audio loaded successfully.\n"
     ]
    },
    {
     "name": "stdout",
     "output_type": "stream",
     "text": [
      "Handling turdus_migratorius/XC282248.ogg\n",
      "Handling empidonax_oberholseri/XC193117.ogg\n"
     ]
    },
    {
     "name": "stderr",
     "output_type": "stream",
     "text": [
      "  8%|▊         | 1729/21650 [07:07<1:18:23,  4.24it/s]WARNING:absl:Audio loaded successfully.\n"
     ]
    },
    {
     "name": "stdout",
     "output_type": "stream",
     "text": [
      "Handling empidonax_oberholseri/XC564587.ogg\n"
     ]
    },
    {
     "name": "stderr",
     "output_type": "stream",
     "text": [
      "  8%|▊         | 1730/21650 [07:08<1:43:38,  3.20it/s]WARNING:absl:Audio loaded successfully.\n",
      "  8%|▊         | 1731/21650 [07:08<1:32:08,  3.60it/s]WARNING:absl:Audio loaded successfully.\n",
      "WARNING:absl:The audio at (/Volumes/BigChongusF/Datasets/Huggingface/gadme_v1/data/downloads/extracted/3944287c00a98d3d9edcb7467992ad5fbf2cebeec4c9e389027ef676be012aef/data/xeno-canto/north_america/poecile_gambeli/XC71781.ogg / 0) could not be loaded (audio_too_short). The exception was (no_exception)\n",
      "WARNING:absl:Audio loaded successfully.\n"
     ]
    },
    {
     "name": "stdout",
     "output_type": "stream",
     "text": [
      "Handling leiothlypis_celata/XC225384.ogg\n",
      "Handling turdus_migratorius/XC131877.ogg\n"
     ]
    },
    {
     "name": "stderr",
     "output_type": "stream",
     "text": [
      "  8%|▊         | 1733/21650 [07:08<1:15:06,  4.42it/s]WARNING:absl:Audio loaded successfully.\n",
      "WARNING:absl:The audio at (/Volumes/BigChongusF/Datasets/Huggingface/gadme_v1/data/downloads/extracted/7c313317d9bce50ea88db0b3d3672870e262462cefb5c130892cba54b586da3d/data/xeno-canto/north_america/sialia_currucoides/XC12124.ogg / 11) could not be loaded (audio_too_short). The exception was (no_exception)\n",
      "WARNING:absl:Audio loaded successfully.\n"
     ]
    },
    {
     "name": "stdout",
     "output_type": "stream",
     "text": [
      "Handling anas_platyrhynchos/XC431626.ogg\n"
     ]
    },
    {
     "name": "stderr",
     "output_type": "stream",
     "text": [
      "  8%|▊         | 1735/21650 [07:08<1:12:35,  4.57it/s]WARNING:absl:Audio loaded successfully.\n",
      "  8%|▊         | 1736/21650 [07:09<1:06:01,  5.03it/s]WARNING:absl:Audio loaded successfully.\n",
      "WARNING:absl:The audio at (/Volumes/BigChongusF/Datasets/Huggingface/gadme_v1/data/downloads/extracted/33e4b5dac1f3e336b57bc91d4b4ff764b4ae70d484a82c7bdbeb5ac37d235324/data/xeno-canto/europe/anas_platyrhynchos/XC699240.ogg / 0) could not be loaded (audio_too_short). The exception was (no_exception)\n",
      "WARNING:absl:Audio loaded successfully.\n",
      "WARNING:absl:The audio at (/Volumes/BigChongusF/Datasets/Huggingface/gadme_v1/data/downloads/extracted/fe7299e15948488b29d8dce00dd9046e4485a0408a2ac57eab49bb5b0d7b39e2/data/xeno-canto/north_america/haemorhous_cassinii/XC107872.ogg / 44) could not be loaded (audio_too_short). The exception was (no_exception)\n",
      "WARNING:absl:Audio loaded successfully.\n"
     ]
    },
    {
     "name": "stdout",
     "output_type": "stream",
     "text": [
      "Handling junco_hyemalis/XC111222.ogg\n",
      "Handling actitis_macularius/XC139790.ogg\n"
     ]
    },
    {
     "name": "stderr",
     "output_type": "stream",
     "text": [
      "  8%|▊         | 1739/21650 [07:09<48:37,  6.82it/s]  WARNING:absl:Audio loaded successfully.\n"
     ]
    },
    {
     "name": "stdout",
     "output_type": "stream",
     "text": [
      "Handling leiothlypis_celata/XC441353.ogg\n"
     ]
    },
    {
     "name": "stderr",
     "output_type": "stream",
     "text": [
      "  8%|▊         | 1740/21650 [07:10<1:28:20,  3.76it/s]WARNING:absl:Audio loaded successfully.\n"
     ]
    },
    {
     "name": "stdout",
     "output_type": "stream",
     "text": [
      "Handling haemorhous_cassinii/XC551507.ogg\n"
     ]
    },
    {
     "name": "stderr",
     "output_type": "stream",
     "text": [
      "  8%|▊         | 1741/21650 [07:11<2:10:46,  2.54it/s]WARNING:absl:Audio loaded successfully.\n",
      "WARNING:absl:The audio at (/Volumes/BigChongusF/Datasets/Huggingface/gadme_v1/data/downloads/extracted/7999bb6a56b81320289f187fda8208243d41e6e50dd9ca49b75ab67670f0f4cd/data/xeno-canto/north_america/junco_hyemalis/XC199582.ogg / 3) could not be loaded (audio_too_short). The exception was (no_exception)\n",
      "WARNING:absl:Audio loaded successfully.\n",
      "WARNING:absl:Audio loaded successfully.\n"
     ]
    },
    {
     "name": "stdout",
     "output_type": "stream",
     "text": [
      "Handling sialia_currucoides/XC618577.ogg\n",
      "Handling anas_platyrhynchos/XC760261.ogg\n"
     ]
    },
    {
     "name": "stderr",
     "output_type": "stream",
     "text": [
      "  8%|▊         | 1744/21650 [07:11<1:37:34,  3.40it/s]WARNING:absl:Audio loaded successfully.\n"
     ]
    },
    {
     "name": "stdout",
     "output_type": "stream",
     "text": [
      "Handling turdus_migratorius/XC574490.ogg\n"
     ]
    },
    {
     "name": "stderr",
     "output_type": "stream",
     "text": [
      "  8%|▊         | 1745/21650 [07:12<1:43:35,  3.20it/s]WARNING:absl:Audio loaded successfully.\n"
     ]
    },
    {
     "name": "stdout",
     "output_type": "stream",
     "text": [
      "Handling turdus_migratorius/XC13602.ogg\n"
     ]
    },
    {
     "name": "stderr",
     "output_type": "stream",
     "text": [
      "  8%|▊         | 1746/21650 [07:12<1:49:10,  3.04it/s]WARNING:absl:Audio loaded successfully.\n"
     ]
    },
    {
     "name": "stdout",
     "output_type": "stream",
     "text": [
      "Handling leiothlypis_celata/XC479796.ogg\n",
      "Handling vireo_gilvus/XC395219.ogg\n"
     ]
    },
    {
     "name": "stderr",
     "output_type": "stream",
     "text": [
      "WARNING:absl:Audio loaded successfully.\n",
      "  8%|▊         | 1748/21650 [07:14<3:29:19,  1.58it/s]WARNING:absl:Audio loaded successfully.\n"
     ]
    },
    {
     "name": "stdout",
     "output_type": "stream",
     "text": [
      "Handling turdus_migratorius/XC656426.ogg\n"
     ]
    },
    {
     "name": "stderr",
     "output_type": "stream",
     "text": [
      "  8%|▊         | 1749/21650 [07:15<3:12:48,  1.72it/s]WARNING:absl:Audio loaded successfully.\n",
      "  8%|▊         | 1750/21650 [07:15<2:41:22,  2.06it/s]WARNING:absl:Audio loaded successfully.\n"
     ]
    },
    {
     "name": "stdout",
     "output_type": "stream",
     "text": [
      "Handling vireo_gilvus/XC732317.ogg\n",
      "Handling poecile_gambeli/XC350736.ogg\n"
     ]
    },
    {
     "name": "stderr",
     "output_type": "stream",
     "text": [
      "  8%|▊         | 1751/21650 [07:15<2:11:31,  2.52it/s]WARNING:absl:Audio loaded successfully.\n"
     ]
    },
    {
     "name": "stdout",
     "output_type": "stream",
     "text": [
      "Handling zonotrichia_leucophrys/XC158955.ogg\n"
     ]
    },
    {
     "name": "stderr",
     "output_type": "stream",
     "text": [
      "  8%|▊         | 1752/21650 [07:15<2:11:06,  2.53it/s]WARNING:absl:Audio loaded successfully.\n"
     ]
    },
    {
     "name": "stdout",
     "output_type": "stream",
     "text": [
      "Handling catharus_guttatus/XC149586.ogg\n"
     ]
    },
    {
     "name": "stderr",
     "output_type": "stream",
     "text": [
      "  8%|▊         | 1753/21650 [07:16<1:56:52,  2.84it/s]WARNING:absl:Audio loaded successfully.\n",
      "WARNING:absl:Audio loaded successfully.\n",
      "  8%|▊         | 1755/21650 [07:16<1:15:17,  4.40it/s]WARNING:absl:Audio loaded successfully.\n"
     ]
    },
    {
     "name": "stdout",
     "output_type": "stream",
     "text": [
      "Handling colaptes_auratus/XC789510.ogg\n",
      "Handling anas_platyrhynchos/XC766629.ogg\n",
      "Handling junco_hyemalis/XC111223.ogg\n"
     ]
    },
    {
     "name": "stderr",
     "output_type": "stream",
     "text": [
      "  8%|▊         | 1756/21650 [07:16<1:16:00,  4.36it/s]WARNING:absl:Audio loaded successfully.\n",
      "WARNING:absl:The audio at (/Volumes/BigChongusF/Datasets/Huggingface/gadme_v1/data/downloads/extracted/325835456a8f001ee2744ae1ed11bf9ada9af130981030ef2b1da7cae54cbffe/data/xeno-canto/north_america/passerella_iliaca/XC233975.ogg / 11) could not be loaded (audio_too_short). The exception was (no_exception)\n",
      "WARNING:absl:Audio loaded successfully.\n"
     ]
    },
    {
     "name": "stdout",
     "output_type": "stream",
     "text": [
      "Handling catharus_guttatus/XC138270.ogg\n"
     ]
    },
    {
     "name": "stderr",
     "output_type": "stream",
     "text": [
      "  8%|▊         | 1758/21650 [07:17<1:49:05,  3.04it/s]WARNING:absl:Audio loaded successfully.\n",
      "WARNING:absl:The audio at (/Volumes/BigChongusF/Datasets/Huggingface/gadme_v1/data/downloads/extracted/fac58f85f06876ff8f6cab02102aac36e733cd077a257f05b209b05f983d3ecc/data/xeno-canto/north_america/vireo_gilvus/XC378143.ogg / 0) could not be loaded (audio_too_short). The exception was (no_exception)\n",
      "WARNING:absl:Audio loaded successfully.\n",
      "WARNING:absl:The audio at (/Volumes/BigChongusF/Datasets/Huggingface/gadme_v1/data/downloads/extracted/c05b01b23568feda718271d2aa149124fd50d510bd99663cbd8752481054e53b/data/xeno-canto/north_america/colaptes_auratus/XC776026.ogg / 1) could not be loaded (audio_too_short). The exception was (no_exception)\n",
      "WARNING:absl:Audio loaded successfully.\n",
      "WARNING:absl:Audio loaded successfully.\n",
      "WARNING:absl:The audio at (/Volumes/BigChongusF/Datasets/Huggingface/gadme_v1/data/downloads/extracted/33e4b5dac1f3e336b57bc91d4b4ff764b4ae70d484a82c7bdbeb5ac37d235324/data/xeno-canto/europe/anas_platyrhynchos/XC644229.ogg / 5) could not be loaded (audio_too_short). The exception was (no_exception)\n"
     ]
    },
    {
     "name": "stdout",
     "output_type": "stream",
     "text": [
      "Handling catharus_guttatus/XC65366.ogg\n",
      "Handling anas_platyrhynchos/XC585459.ogg\n"
     ]
    },
    {
     "name": "stderr",
     "output_type": "stream",
     "text": [
      "WARNING:absl:Audio loaded successfully.\n",
      "  8%|▊         | 1763/21650 [07:18<1:12:12,  4.59it/s]WARNING:absl:Audio loaded successfully.\n",
      "WARNING:absl:The audio at (/Volumes/BigChongusF/Datasets/Huggingface/gadme_v1/data/downloads/extracted/3c91bd3b848ef81521ad069a8fa6ac2fcacb937635fd0a9971a11200269ae1f7/data/xeno-canto/europe/anas_platyrhynchos/XC658850.ogg / 0) could not be loaded (audio_too_short). The exception was (no_exception)\n",
      "WARNING:absl:Audio loaded successfully.\n",
      "WARNING:absl:Audio loaded successfully.\n",
      "  8%|▊         | 1766/21650 [07:18<53:05,  6.24it/s]  WARNING:absl:Audio loaded successfully.\n"
     ]
    },
    {
     "name": "stdout",
     "output_type": "stream",
     "text": [
      "Handling anas_platyrhynchos/XC405594.ogg\n",
      "Handling vireo_gilvus/XC107467.ogg\n",
      "Handling turdus_migratorius/XC567613.ogg\n"
     ]
    },
    {
     "name": "stderr",
     "output_type": "stream",
     "text": [
      "WARNING:absl:Audio loaded successfully.\n",
      "  8%|▊         | 1768/21650 [07:18<51:11,  6.47it/s]WARNING:absl:Audio loaded successfully.\n"
     ]
    },
    {
     "name": "stdout",
     "output_type": "stream",
     "text": [
      "Handling vireo_gilvus/XC206069.ogg\n",
      "Handling colaptes_auratus/XC309651.ogg\n"
     ]
    },
    {
     "name": "stderr",
     "output_type": "stream",
     "text": [
      "  8%|▊         | 1769/21650 [07:18<49:58,  6.63it/s]WARNING:absl:Audio loaded successfully.\n",
      "WARNING:absl:The audio at (/Volumes/BigChongusF/Datasets/Huggingface/gadme_v1/data/downloads/extracted/cd49b3631d04d3feff17b776f29f4fc3d66002b528c452baf906c78c1580d75a/data/xeno-canto/north_america/setophaga_coronata/XC703704.ogg / 0) could not be loaded (audio_too_short). The exception was (no_exception)\n",
      "WARNING:absl:Audio loaded successfully.\n",
      "WARNING:absl:The audio at (/Volumes/BigChongusF/Datasets/Huggingface/gadme_v1/data/downloads/extracted/17216070f80a410ede3b3b9d5be7d7b46383bb2a629699cc6296c19d2a1c3e34/data/xeno-canto/north_america/turdus_migratorius/XC165280.ogg / 2) could not be loaded (audio_too_short). The exception was (no_exception)\n",
      "WARNING:absl:Audio loaded successfully.\n",
      "WARNING:absl:The audio at (/Volumes/BigChongusF/Datasets/Huggingface/gadme_v1/data/downloads/extracted/4ab7290c70f503dcf8a7a57aec1f76e52b2b64a87cdc69bddff95b3855268e15/data/xeno-canto/north_america/turdus_migratorius/XC69997.ogg / 4) could not be loaded (audio_too_short). The exception was (no_exception)\n",
      "WARNING:absl:Audio loaded successfully.\n",
      "WARNING:absl:The audio at (/Volumes/BigChongusF/Datasets/Huggingface/gadme_v1/data/downloads/extracted/a96403d40c322662ebeb3491a302e2c51400c2d2021ddf36a2ee48c75eff8848/data/xeno-canto/north_america/catharus_guttatus/XC422831.ogg / 0) could not be loaded (audio_too_short). The exception was (no_exception)\n",
      "WARNING:absl:Audio loaded successfully.\n"
     ]
    },
    {
     "name": "stdout",
     "output_type": "stream",
     "text": [
      "Handling turdus_migratorius/XC742848.ogg\n"
     ]
    },
    {
     "name": "stderr",
     "output_type": "stream",
     "text": [
      "  8%|▊         | 1774/21650 [07:19<40:03,  8.27it/s]WARNING:absl:Audio loaded successfully.\n"
     ]
    },
    {
     "name": "stdout",
     "output_type": "stream",
     "text": [
      "Handling anas_platyrhynchos/XC590546.ogg\n"
     ]
    },
    {
     "name": "stderr",
     "output_type": "stream",
     "text": [
      "  8%|▊         | 1775/21650 [07:20<1:18:51,  4.20it/s]WARNING:absl:Audio loaded successfully.\n",
      "WARNING:absl:The audio at (/Volumes/BigChongusF/Datasets/Huggingface/gadme_v1/data/downloads/extracted/311d741def45c8db5627f28a29fb12fae011eadb4408d855d15c5dbda8c53dd4/data/xeno-canto/north_america/setophaga_coronata/XC802615.ogg / 0) could not be loaded (audio_too_short). The exception was (no_exception)\n",
      "WARNING:absl:Audio loaded successfully.\n",
      "  8%|▊         | 1777/21650 [07:20<1:03:49,  5.19it/s]WARNING:absl:Audio loaded successfully.\n"
     ]
    },
    {
     "name": "stdout",
     "output_type": "stream",
     "text": [
      "Handling colaptes_auratus/XC161016.ogg\n",
      "Handling setophaga_coronata/XC535213.ogg\n"
     ]
    },
    {
     "name": "stderr",
     "output_type": "stream",
     "text": [
      "  8%|▊         | 1778/21650 [07:20<1:07:36,  4.90it/s]WARNING:absl:Audio loaded successfully.\n"
     ]
    },
    {
     "name": "stdout",
     "output_type": "stream",
     "text": [
      "Handling vireo_gilvus/XC613103.ogg\n"
     ]
    },
    {
     "name": "stderr",
     "output_type": "stream",
     "text": [
      "  8%|▊         | 1779/21650 [07:20<1:21:36,  4.06it/s]WARNING:absl:Audio loaded successfully.\n",
      "WARNING:absl:Audio loaded successfully.\n",
      "WARNING:absl:The audio at (/Volumes/BigChongusF/Datasets/Huggingface/gadme_v1/data/downloads/extracted/073c60ddd38d94c33b508dc82a0cf640bc20d68d3ed6bf2f63e35e8019957dd9/data/xeno-canto/north_america/zonotrichia_leucophrys/XC326866.ogg / 38) could not be loaded (audio_too_short). The exception was (no_exception)\n",
      "WARNING:absl:Audio loaded successfully.\n",
      "  8%|▊         | 1782/21650 [07:21<52:16,  6.33it/s]  WARNING:absl:Audio loaded successfully.\n"
     ]
    },
    {
     "name": "stdout",
     "output_type": "stream",
     "text": [
      "Handling turdus_migratorius/XC165303.ogg\n",
      "Handling zonotrichia_leucophrys/XC477062.ogg\n",
      "Handling anas_platyrhynchos/XC304006.ogg\n"
     ]
    },
    {
     "name": "stderr",
     "output_type": "stream",
     "text": [
      "WARNING:absl:Audio loaded successfully.\n"
     ]
    },
    {
     "name": "stdout",
     "output_type": "stream",
     "text": [
      "Handling passerella_iliaca/XC322833.ogg\n"
     ]
    },
    {
     "name": "stderr",
     "output_type": "stream",
     "text": [
      "  8%|▊         | 1784/21650 [07:21<55:39,  5.95it/s]WARNING:absl:Audio loaded successfully.\n",
      "  8%|▊         | 1785/21650 [07:21<55:34,  5.96it/s]"
     ]
    },
    {
     "name": "stdout",
     "output_type": "stream",
     "text": [
      "Handling vireo_gilvus/XC323678.ogg\n",
      "Handling catharus_guttatus/XC139640.ogg\n"
     ]
    },
    {
     "name": "stderr",
     "output_type": "stream",
     "text": [
      "WARNING:absl:Audio loaded successfully.\n",
      "  8%|▊         | 1786/21650 [07:22<1:33:38,  3.54it/s]WARNING:absl:Audio loaded successfully.\n",
      "  8%|▊         | 1787/21650 [07:22<1:20:58,  4.09it/s]"
     ]
    },
    {
     "name": "stdout",
     "output_type": "stream",
     "text": [
      "Handling turdus_migratorius/XC253844.ogg\n",
      "Handling catharus_guttatus/XC700530.ogg\n"
     ]
    },
    {
     "name": "stderr",
     "output_type": "stream",
     "text": [
      "WARNING:absl:Audio loaded successfully.\n",
      "  8%|▊         | 1788/21650 [07:23<1:46:08,  3.12it/s]WARNING:absl:Audio loaded successfully.\n",
      "  8%|▊         | 1789/21650 [07:23<1:31:40,  3.61it/s]"
     ]
    },
    {
     "name": "stdout",
     "output_type": "stream",
     "text": [
      "Handling passerella_iliaca/XC608351.ogg\n",
      "Handling anas_platyrhynchos/XC782920.ogg\n"
     ]
    },
    {
     "name": "stderr",
     "output_type": "stream",
     "text": [
      "WARNING:absl:Audio loaded successfully.\n",
      "  8%|▊         | 1790/21650 [07:23<1:47:21,  3.08it/s]WARNING:absl:Audio loaded successfully.\n",
      "WARNING:absl:Audio loaded successfully.\n"
     ]
    },
    {
     "name": "stdout",
     "output_type": "stream",
     "text": [
      "Handling zonotrichia_leucophrys/XC560847.ogg\n",
      "Handling euphagus_cyanocephalus/XC453916.ogg\n"
     ]
    },
    {
     "name": "stderr",
     "output_type": "stream",
     "text": [
      "  8%|▊         | 1792/21650 [07:23<1:19:25,  4.17it/s]WARNING:absl:Audio loaded successfully.\n",
      "WARNING:absl:The audio at (/Volumes/BigChongusF/Datasets/Huggingface/gadme_v1/data/downloads/extracted/311d741def45c8db5627f28a29fb12fae011eadb4408d855d15c5dbda8c53dd4/data/xeno-canto/north_america/leiothlypis_celata/XC159618.ogg / 0) could not be loaded (audio_too_short). The exception was (no_exception)\n",
      "WARNING:absl:Audio loaded successfully.\n",
      "  8%|▊         | 1794/21650 [07:24<59:48,  5.53it/s]  WARNING:absl:Audio loaded successfully.\n",
      "WARNING:absl:The audio at (/Volumes/BigChongusF/Datasets/Huggingface/gadme_v1/data/downloads/extracted/dacdc79178259381ae33610c1ac23ba786c77733201335d4d00617669efb593c/data/xeno-canto/north_america/vireo_gilvus/XC807068.ogg / 99) could not be loaded (audio_too_short). The exception was (no_exception)\n"
     ]
    },
    {
     "name": "stdout",
     "output_type": "stream",
     "text": [
      "Handling zonotrichia_leucophrys/XC323010.ogg\n",
      "Handling anas_platyrhynchos/XC603346.ogg\n"
     ]
    },
    {
     "name": "stderr",
     "output_type": "stream",
     "text": [
      "WARNING:absl:Audio loaded successfully.\n",
      "  8%|▊         | 1796/21650 [07:24<46:41,  7.09it/s]WARNING:absl:Audio loaded successfully.\n",
      "  8%|▊         | 1797/21650 [07:24<45:39,  7.25it/s]WARNING:absl:Audio loaded successfully.\n"
     ]
    },
    {
     "name": "stdout",
     "output_type": "stream",
     "text": [
      "Handling setophaga_petechia/XC274401.ogg\n",
      "Handling euphagus_cyanocephalus/XC186652.ogg\n"
     ]
    },
    {
     "name": "stderr",
     "output_type": "stream",
     "text": [
      "  8%|▊         | 1798/21650 [07:24<1:02:22,  5.30it/s]WARNING:absl:Audio loaded successfully.\n",
      "  8%|▊         | 1799/21650 [07:24<59:37,  5.55it/s]  WARNING:absl:Audio loaded successfully.\n"
     ]
    },
    {
     "name": "stdout",
     "output_type": "stream",
     "text": [
      "Handling anas_platyrhynchos/XC262842.ogg\n",
      "Handling empidonax_oberholseri/XC572789.ogg\n"
     ]
    },
    {
     "name": "stderr",
     "output_type": "stream",
     "text": [
      "  8%|▊         | 1800/21650 [07:24<57:02,  5.80it/s]WARNING:absl:Audio loaded successfully.\n",
      "  8%|▊         | 1801/21650 [07:25<56:01,  5.90it/s]WARNING:absl:Audio loaded successfully.\n"
     ]
    },
    {
     "name": "stdout",
     "output_type": "stream",
     "text": [
      "Handling zonotrichia_leucophrys/XC616620.ogg\n",
      "Handling junco_hyemalis/XC206101.ogg\n"
     ]
    },
    {
     "name": "stderr",
     "output_type": "stream",
     "text": [
      "WARNING:absl:Audio loaded successfully.\n"
     ]
    },
    {
     "name": "stdout",
     "output_type": "stream",
     "text": [
      "Handling junco_hyemalis/XC269029.ogg\n"
     ]
    },
    {
     "name": "stderr",
     "output_type": "stream",
     "text": [
      "  8%|▊         | 1803/21650 [07:25<1:03:48,  5.18it/s]WARNING:absl:Audio loaded successfully.\n"
     ]
    },
    {
     "name": "stdout",
     "output_type": "stream",
     "text": [
      "Handling turdus_migratorius/XC165297.ogg\n"
     ]
    },
    {
     "name": "stderr",
     "output_type": "stream",
     "text": [
      "  8%|▊         | 1804/21650 [07:25<1:12:40,  4.55it/s]WARNING:absl:Audio loaded successfully.\n"
     ]
    },
    {
     "name": "stdout",
     "output_type": "stream",
     "text": [
      "Handling zonotrichia_leucophrys/XC325117.ogg\n"
     ]
    },
    {
     "name": "stderr",
     "output_type": "stream",
     "text": [
      "  8%|▊         | 1805/21650 [07:26<1:36:48,  3.42it/s]WARNING:absl:Audio loaded successfully.\n"
     ]
    },
    {
     "name": "stdout",
     "output_type": "stream",
     "text": [
      "Handling passerella_iliaca/XC189063.ogg\n"
     ]
    },
    {
     "name": "stderr",
     "output_type": "stream",
     "text": [
      "  8%|▊         | 1806/21650 [07:26<1:29:03,  3.71it/s]WARNING:absl:Audio loaded successfully.\n"
     ]
    },
    {
     "name": "stdout",
     "output_type": "stream",
     "text": [
      "Handling turdus_migratorius/XC174155.ogg\n"
     ]
    },
    {
     "name": "stderr",
     "output_type": "stream",
     "text": [
      "  8%|▊         | 1807/21650 [07:26<1:34:41,  3.49it/s]WARNING:absl:Audio loaded successfully.\n"
     ]
    },
    {
     "name": "stdout",
     "output_type": "stream",
     "text": [
      "Handling passerella_iliaca/XC562186.ogg\n"
     ]
    },
    {
     "name": "stderr",
     "output_type": "stream",
     "text": [
      "  8%|▊         | 1808/21650 [07:27<2:19:24,  2.37it/s]WARNING:absl:Audio loaded successfully.\n",
      "WARNING:absl:Audio loaded successfully.\n"
     ]
    },
    {
     "name": "stdout",
     "output_type": "stream",
     "text": [
      "Handling turdus_migratorius/XC160477.ogg\n",
      "Handling anas_platyrhynchos/XC324042.ogg\n"
     ]
    },
    {
     "name": "stderr",
     "output_type": "stream",
     "text": [
      "  8%|▊         | 1810/21650 [07:27<1:39:05,  3.34it/s]WARNING:absl:Audio loaded successfully.\n",
      "WARNING:absl:The audio at (/Volumes/BigChongusF/Datasets/Huggingface/gadme_v1/data/downloads/extracted/81e1b796790f26dbc25ae8fbe4e7b2707eea32146a66d4954952be1661457843/data/xeno-canto/north_america/leiothlypis_celata/XC381545.ogg / 13) could not be loaded (audio_too_short). The exception was (no_exception)\n",
      "WARNING:absl:Audio loaded successfully.\n",
      "WARNING:absl:Audio loaded successfully.\n",
      "  8%|▊         | 1813/21650 [07:28<56:52,  5.81it/s]  WARNING:absl:Audio loaded successfully.\n",
      "WARNING:absl:The audio at (/Volumes/BigChongusF/Datasets/Huggingface/gadme_v1/data/downloads/extracted/c654a2fa7284c6b9ad2b65fb7d03c399719d51032c53323567e62583eb09dd11/data/xeno-canto/north_america/setophaga_coronata/XC190949.ogg / 55) could not be loaded (audio_too_short). The exception was (no_exception)\n",
      "WARNING:absl:Audio loaded successfully.\n"
     ]
    },
    {
     "name": "stdout",
     "output_type": "stream",
     "text": [
      "Handling catharus_guttatus/XC601486.ogg\n",
      "Handling actitis_macularius/XC53496.ogg\n",
      "Handling actitis_macularius/XC54424.ogg\n"
     ]
    },
    {
     "name": "stderr",
     "output_type": "stream",
     "text": [
      "  8%|▊         | 1815/21650 [07:28<45:44,  7.23it/s]WARNING:absl:Audio loaded successfully.\n",
      "WARNING:absl:Audio loaded successfully.\n",
      "WARNING:absl:The audio at (/Volumes/BigChongusF/Datasets/Huggingface/gadme_v1/data/downloads/extracted/657bb7ca7e00d187968c3a3fed754f2f43eea8c80f8b9290f46e2ef76a629ca6/data/xeno-canto/north_america/zonotrichia_leucophrys/XC759684.ogg / 0) could not be loaded (audio_too_short). The exception was (no_exception)\n",
      "  8%|▊         | 1817/21650 [07:28<38:25,  8.60it/s]WARNING:absl:Audio loaded successfully.\n",
      "WARNING:absl:The audio at (/Volumes/BigChongusF/Datasets/Huggingface/gadme_v1/data/downloads/extracted/17216070f80a410ede3b3b9d5be7d7b46383bb2a629699cc6296c19d2a1c3e34/data/xeno-canto/north_america/turdus_migratorius/XC324394.ogg / 32) could not be loaded (audio_too_short). The exception was (no_exception)\n"
     ]
    },
    {
     "name": "stdout",
     "output_type": "stream",
     "text": [
      "Handling zonotrichia_leucophrys/XC324382.ogg\n",
      "Handling vireo_gilvus/XC321791.ogg\n"
     ]
    },
    {
     "name": "stderr",
     "output_type": "stream",
     "text": [
      "WARNING:absl:Audio loaded successfully.\n"
     ]
    }
   ],
   "source": [
    "for source_info in tqdm.tqdm(source_infos):\n",
    "    examples = embed_fn.process_new_SourceInfo(source_info=source_info)"
   ]
  },
  {
   "cell_type": "code",
   "execution_count": null,
   "metadata": {},
   "outputs": [
    {
     "name": "stderr",
     "output_type": "stream",
     "text": [
      "  0%|          | 0/21650 [00:00<?, ?it/s]"
     ]
    },
    {
     "name": "stderr",
     "output_type": "stream",
     "text": [
      "WARNING:absl:Audio loaded successfully.\n",
      "WARNING:absl:The audio at (/Volumes/BigChongusF/Datasets/Huggingface/gadme_v1/data/downloads/extracted/c654a2fa7284c6b9ad2b65fb7d03c399719d51032c53323567e62583eb09dd11/data/xeno-canto/north_america/catharus_guttatus/XC691469.ogg / 0) could not be loaded (audio_too_short). The exception was (no_exception)\n",
      "  0%|          | 1/21650 [00:01<11:40:25,  1.94s/it]WARNING:absl:Audio loaded successfully.\n",
      "  0%|          | 1/21650 [00:18<112:10:42, 18.65s/it]"
     ]
    },
    {
     "name": "stdout",
     "output_type": "stream",
     "text": [
      "<class 'dict'>\n"
     ]
    },
    {
     "name": "stderr",
     "output_type": "stream",
     "text": [
      "\n"
     ]
    },
    {
     "ename": "TypeError",
     "evalue": "Parameter to MergeFrom() must be instance of same class: expected tensorflow.core.example.feature_pb2.Feature got tuple.",
     "output_type": "error",
     "traceback": [
      "\u001b[0;31m---------------------------------------------------------------------------\u001b[0m",
      "\u001b[0;31mTypeError\u001b[0m                                 Traceback (most recent call last)",
      "Cell \u001b[0;32mIn[36], line 6\u001b[0m\n\u001b[1;32m      2\u001b[0m \u001b[38;5;28;01mwith\u001b[39;00m tf_examples\u001b[38;5;241m.\u001b[39mEmbeddingsTFRecordMultiWriter(\n\u001b[1;32m      3\u001b[0m     output_dir\u001b[38;5;241m=\u001b[39moutput_dir, num_files\u001b[38;5;241m=\u001b[39mconfig\u001b[38;5;241m.\u001b[39mtf_record_shards) \u001b[38;5;28;01mas\u001b[39;00m file_writer:\n\u001b[1;32m      4\u001b[0m   \u001b[38;5;28;01mfor\u001b[39;00m source_info \u001b[38;5;129;01min\u001b[39;00m tqdm\u001b[38;5;241m.\u001b[39mtqdm(source_infos):\n\u001b[1;32m      5\u001b[0m     \u001b[38;5;66;03m# examples = embed_fn.process(source_info=source_info)\u001b[39;00m\n\u001b[0;32m----> 6\u001b[0m     examples \u001b[38;5;241m=\u001b[39m \u001b[43membed_fn\u001b[49m\u001b[38;5;241;43m.\u001b[39;49m\u001b[43mprocess_new_SourceInfo\u001b[49m\u001b[43m(\u001b[49m\u001b[43msource_info\u001b[49m\u001b[38;5;241;43m=\u001b[39;49m\u001b[43msource_info\u001b[49m\u001b[43m)\u001b[49m\n\u001b[1;32m      7\u001b[0m     \u001b[38;5;28;01mif\u001b[39;00m examples \u001b[38;5;129;01mis\u001b[39;00m \u001b[38;5;28;01mNone\u001b[39;00m:\n\u001b[1;32m      8\u001b[0m       fail \u001b[38;5;241m+\u001b[39m\u001b[38;5;241m=\u001b[39m \u001b[38;5;241m1\u001b[39m\n",
      "File \u001b[0;32m~/Projects/GADME-BaselineResults-BA/src/perch/inference/embed_lib.py:287\u001b[0m, in \u001b[0;36mEmbedFn.process_new_SourceInfo\u001b[0;34m(self, source_info, crop_s)\u001b[0m\n\u001b[1;32m    284\u001b[0m \u001b[38;5;28;01melif\u001b[39;00m \u001b[38;5;28mself\u001b[39m\u001b[38;5;241m.\u001b[39mcrop_s \u001b[38;5;241m>\u001b[39m \u001b[38;5;241m0\u001b[39m:\n\u001b[1;32m    285\u001b[0m   window_size_s \u001b[38;5;241m=\u001b[39m \u001b[38;5;28mself\u001b[39m\u001b[38;5;241m.\u001b[39mcrop_s\n\u001b[0;32m--> 287\u001b[0m \u001b[38;5;28;01mreturn\u001b[39;00m \u001b[38;5;28;43mself\u001b[39;49m\u001b[38;5;241;43m.\u001b[39;49m\u001b[43m_process\u001b[49m\u001b[43m(\u001b[49m\u001b[43msource_info\u001b[49m\u001b[43m,\u001b[49m\u001b[43m \u001b[49m\u001b[43mtimestamp_offset_s\u001b[49m\u001b[43m,\u001b[49m\u001b[43m \u001b[49m\u001b[43mwindow_size_s\u001b[49m\u001b[43m)\u001b[49m\n",
      "File \u001b[0;32m~/Projects/GADME-BaselineResults-BA/src/perch/inference/embed_lib.py:354\u001b[0m, in \u001b[0;36mEmbedFn._process\u001b[0;34m(self, source_info, timestamp_offset_s, window_size_s)\u001b[0m\n\u001b[1;32m    349\u001b[0m   \u001b[38;5;28;01mreturn\u001b[39;00m\n\u001b[1;32m    351\u001b[0m logging\u001b[38;5;241m.\u001b[39minfo(\n\u001b[1;32m    352\u001b[0m     \u001b[38;5;124m'\u001b[39m\u001b[38;5;124m...creating embeddings (\u001b[39m\u001b[38;5;132;01m%s\u001b[39;00m\u001b[38;5;124m / \u001b[39m\u001b[38;5;132;01m%d\u001b[39;00m\u001b[38;5;124m)\u001b[39m\u001b[38;5;124m'\u001b[39m, file_id, timestamp_offset_s\n\u001b[1;32m    353\u001b[0m )\n\u001b[0;32m--> 354\u001b[0m example \u001b[38;5;241m=\u001b[39m \u001b[38;5;28;43mself\u001b[39;49m\u001b[38;5;241;43m.\u001b[39;49m\u001b[43maudio_to_example\u001b[49m\u001b[43m(\u001b[49m\u001b[43mfile_id\u001b[49m\u001b[43m,\u001b[49m\u001b[43m \u001b[49m\u001b[43mtimestamp_offset_s\u001b[49m\u001b[43m,\u001b[49m\u001b[43m \u001b[49m\u001b[43maudio\u001b[49m\u001b[43m)\u001b[49m\n\u001b[1;32m    355\u001b[0m beam\u001b[38;5;241m.\u001b[39mmetrics\u001b[38;5;241m.\u001b[39mMetrics\u001b[38;5;241m.\u001b[39mcounter(\u001b[38;5;124m'\u001b[39m\u001b[38;5;124mbeaminference\u001b[39m\u001b[38;5;124m'\u001b[39m, \u001b[38;5;124m'\u001b[39m\u001b[38;5;124mexamples_processed\u001b[39m\u001b[38;5;124m'\u001b[39m)\u001b[38;5;241m.\u001b[39minc()\n\u001b[1;32m    356\u001b[0m \u001b[38;5;28;01mreturn\u001b[39;00m [example]\n",
      "File \u001b[0;32m~/Projects/GADME-BaselineResults-BA/src/perch/inference/embed_lib.py:265\u001b[0m, in \u001b[0;36mEmbedFn.audio_to_example\u001b[0;34m(self, file_id, timestamp_offset_s, audio)\u001b[0m\n\u001b[1;32m    262\u001b[0m \u001b[38;5;28;01melse\u001b[39;00m:\n\u001b[1;32m    263\u001b[0m   write_logits \u001b[38;5;241m=\u001b[39m \u001b[38;5;28mself\u001b[39m\u001b[38;5;241m.\u001b[39mwrite_logits\n\u001b[0;32m--> 265\u001b[0m example \u001b[38;5;241m=\u001b[39m \u001b[43mtf_examples\u001b[49m\u001b[38;5;241;43m.\u001b[39;49m\u001b[43mmodel_outputs_to_tf_example\u001b[49m\u001b[43m(\u001b[49m\n\u001b[1;32m    266\u001b[0m \u001b[43m    \u001b[49m\u001b[43mmodel_outputs\u001b[49m\u001b[38;5;241;43m=\u001b[39;49m\u001b[43mmodel_outputs\u001b[49m\u001b[43m,\u001b[49m\n\u001b[1;32m    267\u001b[0m \u001b[43m    \u001b[49m\u001b[43mfile_id\u001b[49m\u001b[38;5;241;43m=\u001b[39;49m\u001b[43mfile_id\u001b[49m\u001b[43m,\u001b[49m\n\u001b[1;32m    268\u001b[0m \u001b[43m    \u001b[49m\u001b[43maudio\u001b[49m\u001b[38;5;241;43m=\u001b[39;49m\u001b[43maudio\u001b[49m\u001b[43m,\u001b[49m\n\u001b[1;32m    269\u001b[0m \u001b[43m    \u001b[49m\u001b[43mtimestamp_offset_s\u001b[49m\u001b[38;5;241;43m=\u001b[39;49m\u001b[43mtimestamp_offset_s\u001b[49m\u001b[43m,\u001b[49m\n\u001b[1;32m    270\u001b[0m \u001b[43m    \u001b[49m\u001b[43mwrite_raw_audio\u001b[49m\u001b[38;5;241;43m=\u001b[39;49m\u001b[38;5;28;43mself\u001b[39;49m\u001b[38;5;241;43m.\u001b[39;49m\u001b[43mwrite_raw_audio\u001b[49m\u001b[43m,\u001b[49m\n\u001b[1;32m    271\u001b[0m \u001b[43m    \u001b[49m\u001b[43mwrite_separated_audio\u001b[49m\u001b[38;5;241;43m=\u001b[39;49m\u001b[38;5;28;43mself\u001b[39;49m\u001b[38;5;241;43m.\u001b[39;49m\u001b[43mwrite_separated_audio\u001b[49m\u001b[43m,\u001b[49m\n\u001b[1;32m    272\u001b[0m \u001b[43m    \u001b[49m\u001b[43mwrite_embeddings\u001b[49m\u001b[38;5;241;43m=\u001b[39;49m\u001b[38;5;28;43mself\u001b[39;49m\u001b[38;5;241;43m.\u001b[39;49m\u001b[43mwrite_embeddings\u001b[49m\u001b[43m,\u001b[49m\n\u001b[1;32m    273\u001b[0m \u001b[43m    \u001b[49m\u001b[43mwrite_logits\u001b[49m\u001b[38;5;241;43m=\u001b[39;49m\u001b[43mwrite_logits\u001b[49m\u001b[43m,\u001b[49m\n\u001b[1;32m    274\u001b[0m \u001b[43m\u001b[49m\u001b[43m)\u001b[49m\n\u001b[1;32m    275\u001b[0m \u001b[38;5;28;01mreturn\u001b[39;00m example\n",
      "File \u001b[0;32m~/Projects/GADME-BaselineResults-BA/src/perch/inference/tf_examples.py:173\u001b[0m, in \u001b[0;36mmodel_outputs_to_tf_example\u001b[0;34m(model_outputs, file_id, audio, timestamp_offset_s, write_embeddings, write_logits, write_separated_audio, write_raw_audio)\u001b[0m\n\u001b[1;32m    171\u001b[0m   feature[RAW_AUDIO_SHAPE] \u001b[38;5;241m=\u001b[39m int_feature(audio\u001b[38;5;241m.\u001b[39mshape)\n\u001b[1;32m    172\u001b[0m \u001b[38;5;28mprint\u001b[39m(\u001b[38;5;28mtype\u001b[39m(feature))\n\u001b[0;32m--> 173\u001b[0m ex \u001b[38;5;241m=\u001b[39m tf\u001b[38;5;241m.\u001b[39mtrain\u001b[38;5;241m.\u001b[39mExample(features\u001b[38;5;241m=\u001b[39m\u001b[43mtf\u001b[49m\u001b[38;5;241;43m.\u001b[39;49m\u001b[43mtrain\u001b[49m\u001b[38;5;241;43m.\u001b[39;49m\u001b[43mFeatures\u001b[49m\u001b[43m(\u001b[49m\u001b[43mfeature\u001b[49m\u001b[38;5;241;43m=\u001b[39;49m\u001b[43mfeature\u001b[49m\u001b[43m)\u001b[49m)\n\u001b[1;32m    174\u001b[0m \u001b[38;5;28;01mreturn\u001b[39;00m ex\n",
      "File \u001b[0;32m~/opt/miniconda3/envs/5gadme/lib/python3.10/site-packages/google/protobuf/internal/python_message.py:529\u001b[0m, in \u001b[0;36m_AddInitMethod.<locals>.init\u001b[0;34m(self, **kwargs)\u001b[0m\n\u001b[1;32m    527\u001b[0m \u001b[38;5;28;01mif\u001b[39;00m _IsMessageMapField(field):\n\u001b[1;32m    528\u001b[0m   \u001b[38;5;28;01mfor\u001b[39;00m key \u001b[38;5;129;01min\u001b[39;00m field_value:\n\u001b[0;32m--> 529\u001b[0m     \u001b[43mcopy\u001b[49m\u001b[43m[\u001b[49m\u001b[43mkey\u001b[49m\u001b[43m]\u001b[49m\u001b[38;5;241;43m.\u001b[39;49m\u001b[43mMergeFrom\u001b[49m\u001b[43m(\u001b[49m\u001b[43mfield_value\u001b[49m\u001b[43m[\u001b[49m\u001b[43mkey\u001b[49m\u001b[43m]\u001b[49m\u001b[43m)\u001b[49m\n\u001b[1;32m    530\u001b[0m \u001b[38;5;28;01melse\u001b[39;00m:\n\u001b[1;32m    531\u001b[0m   copy\u001b[38;5;241m.\u001b[39mupdate(field_value)\n",
      "File \u001b[0;32m~/opt/miniconda3/envs/5gadme/lib/python3.10/site-packages/google/protobuf/internal/python_message.py:1311\u001b[0m, in \u001b[0;36m_AddMergeFromMethod.<locals>.MergeFrom\u001b[0;34m(self, msg)\u001b[0m\n\u001b[1;32m   1309\u001b[0m \u001b[38;5;28;01mdef\u001b[39;00m \u001b[38;5;21mMergeFrom\u001b[39m(\u001b[38;5;28mself\u001b[39m, msg):\n\u001b[1;32m   1310\u001b[0m   \u001b[38;5;28;01mif\u001b[39;00m \u001b[38;5;129;01mnot\u001b[39;00m \u001b[38;5;28misinstance\u001b[39m(msg, \u001b[38;5;28mcls\u001b[39m):\n\u001b[0;32m-> 1311\u001b[0m     \u001b[38;5;28;01mraise\u001b[39;00m \u001b[38;5;167;01mTypeError\u001b[39;00m(\n\u001b[1;32m   1312\u001b[0m         \u001b[38;5;124m'\u001b[39m\u001b[38;5;124mParameter to MergeFrom() must be instance of same class: \u001b[39m\u001b[38;5;124m'\u001b[39m\n\u001b[1;32m   1313\u001b[0m         \u001b[38;5;124m'\u001b[39m\u001b[38;5;124mexpected \u001b[39m\u001b[38;5;132;01m%s\u001b[39;00m\u001b[38;5;124m got \u001b[39m\u001b[38;5;132;01m%s\u001b[39;00m\u001b[38;5;124m.\u001b[39m\u001b[38;5;124m'\u001b[39m \u001b[38;5;241m%\u001b[39m (_FullyQualifiedClassName(\u001b[38;5;28mcls\u001b[39m),\n\u001b[1;32m   1314\u001b[0m                                  _FullyQualifiedClassName(msg\u001b[38;5;241m.\u001b[39m\u001b[38;5;18m__class__\u001b[39m)))\n\u001b[1;32m   1316\u001b[0m   \u001b[38;5;28;01massert\u001b[39;00m msg \u001b[38;5;129;01mis\u001b[39;00m \u001b[38;5;129;01mnot\u001b[39;00m \u001b[38;5;28mself\u001b[39m\n\u001b[1;32m   1317\u001b[0m   \u001b[38;5;28mself\u001b[39m\u001b[38;5;241m.\u001b[39m_Modified()\n",
      "\u001b[0;31mTypeError\u001b[0m: Parameter to MergeFrom() must be instance of same class: expected tensorflow.core.example.feature_pb2.Feature got tuple."
     ]
    }
   ],
   "source": [
    "succ, fail = 0,0\n",
    "with tf_examples.EmbeddingsTFRecordMultiWriter(\n",
    "    output_dir=output_dir, num_files=config.tf_record_shards) as file_writer:\n",
    "  for source_info in tqdm.tqdm(source_infos):\n",
    "    # examples = embed_fn.process(source_info=source_info)\n",
    "    examples = embed_fn.process_new_SourceInfo(source_info=source_info)\n",
    "    if examples is None:\n",
    "      fail += 1\n",
    "      continue\n",
    "    for example in examples:\n",
    "      file_writer.write(example.SerializeToString())\n",
    "    succ += 1\n",
    "  file_writer.flush()\n",
    "print(f'\\n\\nSuccessfully processed {succ} source_infos, failed {fail} times.')"
   ]
  }
 ],
 "metadata": {
  "kernelspec": {
   "display_name": "5gadme",
   "language": "python",
   "name": "python3"
  },
  "language_info": {
   "codemirror_mode": {
    "name": "ipython",
    "version": 3
   },
   "file_extension": ".py",
   "mimetype": "text/x-python",
   "name": "python",
   "nbconvert_exporter": "python",
   "pygments_lexer": "ipython3",
   "version": "3.10.13"
  }
 },
 "nbformat": 4,
 "nbformat_minor": 2
}
