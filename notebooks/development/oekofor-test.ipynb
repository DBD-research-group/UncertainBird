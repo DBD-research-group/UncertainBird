{
 "cells": [
  {
   "cell_type": "code",
   "execution_count": 1,
   "id": "f26e979f",
   "metadata": {},
   "outputs": [
    {
     "data": {
      "application/vnd.jupyter.widget-view+json": {
       "model_id": "51e482c9f9904942b5c3763a8167b1f4",
       "version_major": 2,
       "version_minor": 0
      },
      "text/plain": [
       "README.md:   0%|          | 0.00/879 [00:00<?, ?B/s]"
      ]
     },
     "metadata": {},
     "output_type": "display_data"
    },
    {
     "data": {
      "application/vnd.jupyter.widget-view+json": {
       "model_id": "64db4089bbf248b8a286f800ce1e252c",
       "version_major": 2,
       "version_minor": 0
      },
      "text/plain": [
       "OekoforTest.py:   0%|          | 0.00/14.2k [00:00<?, ?B/s]"
      ]
     },
     "metadata": {},
     "output_type": "display_data"
    },
    {
     "name": "stderr",
     "output_type": "stream",
     "text": [
      "Repo card metadata block was not found. Setting CardData to empty.\n"
     ]
    }
   ],
   "source": [
    "from datasets import load_dataset\n",
    "\n",
    "ds = load_dataset(\"DBD-research-group/OekoforTest\", \"WiWa_2019_2020\", trust_remote_code=True, cache_dir=\"/workspace/data_birdset\")\n"
   ]
  },
  {
   "cell_type": "code",
   "execution_count": 2,
   "id": "6070b459",
   "metadata": {},
   "outputs": [
    {
     "data": {
      "text/plain": [
       "dict_keys(['test', 'test_5s'])"
      ]
     },
     "execution_count": 2,
     "metadata": {},
     "output_type": "execute_result"
    }
   ],
   "source": [
    "ds.keys()"
   ]
  },
  {
   "cell_type": "code",
   "execution_count": 3,
   "id": "6025262b",
   "metadata": {},
   "outputs": [
    {
     "name": "stdout",
     "output_type": "stream",
     "text": [
      "['audio', 'filepath', 'start_time', 'end_time', 'low_freq', 'high_freq', 'ebird_code', 'ebird_code_multilabel', 'call_type', 'lat', 'long', 'ebird#call']\n",
      "{'audio': {'bytes': None, 'path': '/home/vscode/.cache/huggingface/hub/datasets--DBD-research-group--OekoforTest/snapshots/cdeb8cedc386c8e745bbf7b850ee440ec68e7ee8/WiWa_2019_2020/extracted/test.tar.gz/SN012_2019_05_11_05_17_33_MaJu_morning.flac'}, 'filepath': '/home/vscode/.cache/huggingface/hub/datasets--DBD-research-group--OekoforTest/snapshots/cdeb8cedc386c8e745bbf7b850ee440ec68e7ee8/WiWa_2019_2020/extracted/test.tar.gz/SN012_2019_05_11_05_17_33_MaJu_morning.flac', 'start_time': 1.82, 'end_time': 3.92, 'low_freq': 1186, 'high_freq': 3385, 'ebird_code': 16, 'ebird_code_multilabel': [16], 'call_type': 'song', 'lat': 49.8873, 'long': 8.7594, 'ebird#call': ['eurbla#song']}\n"
     ]
    }
   ],
   "source": [
    "# print test columns\n",
    "print(ds[\"test\"].column_names)\n",
    "# print one example\n",
    "print(ds[\"test\"][0])"
   ]
  },
  {
   "cell_type": "code",
   "execution_count": 4,
   "id": "990c1f6c",
   "metadata": {},
   "outputs": [
    {
     "name": "stdout",
     "output_type": "stream",
     "text": [
      "['audio', 'filepath', 'start_time', 'end_time', 'low_freq', 'high_freq', 'ebird_code', 'ebird_code_multilabel', 'call_type', 'lat', 'long', 'ebird#call']\n",
      "{'audio': {'bytes': None, 'path': '/home/vscode/.cache/huggingface/hub/datasets--DBD-research-group--OekoforTest/snapshots/cdeb8cedc386c8e745bbf7b850ee440ec68e7ee8/WiWa_2019_2020/extracted/test.tar.gz/SN012_2019_05_11_05_17_33_MaJu_morning.flac'}, 'filepath': '/home/vscode/.cache/huggingface/hub/datasets--DBD-research-group--OekoforTest/snapshots/cdeb8cedc386c8e745bbf7b850ee440ec68e7ee8/WiWa_2019_2020/extracted/test.tar.gz/SN012_2019_05_11_05_17_33_MaJu_morning.flac', 'start_time': 0.0, 'end_time': 5.0, 'low_freq': None, 'high_freq': None, 'ebird_code': None, 'ebird_code_multilabel': [16, 48], 'call_type': None, 'lat': None, 'long': None, 'ebird#call': ['eurbla#song', 'sonthr1#something']}\n"
     ]
    }
   ],
   "source": [
    "# print test columns\n",
    "print(ds[\"test_5s\"].column_names)\n",
    "# print one example\n",
    "print(ds[\"test_5s\"][0])"
   ]
  }
 ],
 "metadata": {
  "kernelspec": {
   "display_name": "uncertainbird",
   "language": "python",
   "name": "python3"
  },
  "language_info": {
   "codemirror_mode": {
    "name": "ipython",
    "version": 3
   },
   "file_extension": ".py",
   "mimetype": "text/x-python",
   "name": "python",
   "nbconvert_exporter": "python",
   "pygments_lexer": "ipython3",
   "version": "3.10.12"
  }
 },
 "nbformat": 4,
 "nbformat_minor": 5
}
